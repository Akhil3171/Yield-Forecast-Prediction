{
 "cells": [
  {
   "cell_type": "markdown",
   "metadata": {},
   "source": [
    "## Building models on the data, which is saved after categorical embedding, standardization and onehot encoding."
   ]
  },
  {
   "cell_type": "code",
   "execution_count": null,
   "metadata": {
    "cell_id": "00000-75062585-4326-4a1e-bd2c-242d7cc7e60b",
    "deepnote_cell_type": "code",
    "deepnote_to_be_reexecuted": false,
    "execution_millis": 1410,
    "execution_start": 1614945399871,
    "source_hash": "74826b86",
    "tags": []
   },
   "outputs": [],
   "source": [
    "import numpy as np\n",
    "import matplotlib.pyplot as plt\n",
    "import seaborn as sns"
   ]
  },
  {
   "cell_type": "code",
   "execution_count": null,
   "metadata": {
    "cell_id": "00001-524ba3fa-6bb8-4ca8-a384-46d0c2fcbadb",
    "deepnote_cell_type": "code",
    "deepnote_to_be_reexecuted": false,
    "execution_millis": 13463,
    "execution_start": 1614945401287,
    "source_hash": "8a6b6409",
    "tags": []
   },
   "outputs": [
    {
     "name": "stdout",
     "output_type": "stream",
     "text": [
      "Collecting xgboost\n",
      "  Downloading xgboost-1.3.3-py3-none-manylinux2010_x86_64.whl (157.5 MB)\n",
      "\u001b[K     |████████████████████████████████| 157.5 MB 86 kB/s \n",
      "\u001b[?25hRequirement already satisfied: scipy in /shared-libs/python3.7/py/lib/python3.7/site-packages (from xgboost) (1.6.1)\n",
      "Requirement already satisfied: numpy in /shared-libs/python3.7/py/lib/python3.7/site-packages (from xgboost) (1.19.5)\n",
      "Installing collected packages: xgboost\n",
      "Successfully installed xgboost-1.3.3\n",
      "\u001b[33mWARNING: You are using pip version 20.1.1; however, version 21.0.1 is available.\n",
      "You should consider upgrading via the '/root/venv/bin/python -m pip install --upgrade pip' command.\u001b[0m\n"
     ]
    }
   ],
   "source": [
    "import pandas as pd\n",
    "from sklearn.metrics import r2_score, mean_squared_error, mean_absolute_error\n",
    "\n",
    "!pip install xgboost\n",
    "from xgboost import XGBRegressor\n",
    "\n",
    "from sklearn.model_selection import GridSearchCV"
   ]
  },
  {
   "cell_type": "code",
   "execution_count": null,
   "metadata": {
    "cell_id": "00002-554c7f88-a1e1-47e4-9347-3ee5e2dc1904",
    "deepnote_cell_type": "code",
    "deepnote_to_be_reexecuted": false,
    "execution_millis": 1573,
    "execution_start": 1614945414757,
    "source_hash": "e2c179ac",
    "tags": []
   },
   "outputs": [
    {
     "name": "stdout",
     "output_type": "stream",
     "text": [
      "demand_supply_25k.csv  test_Embed_10L.csv    X_test_Embed_75K.csv\r\n",
      "demand_supply.xlsx     test_Embed_1L.csv     X_train_Embed_10L.csv\r\n",
      "ing_w_demand.xlsx      test_Embed_25K.csv    X_train_Embed_1L.csv\r\n",
      "Predictions\t       test_Embed_75K.csv    X_train_Embed_25K.csv\r\n",
      "rfr_strategy_25K.csv   X_test_Embed_10L.csv  X_train_Embed_75K.csv\r\n",
      "rfr_strategy_75K.csv   X_test_Embed_1L.csv\r\n",
      "Strategy_25K.ipynb     X_test_Embed_25K.csv\r\n"
     ]
    }
   ],
   "source": [
    "!ls /datasets/final_hack"
   ]
  },
  {
   "cell_type": "code",
   "execution_count": null,
   "metadata": {
    "cell_id": "00003-4fe03478-f544-47e2-904a-41ef513a08bb",
    "deepnote_cell_type": "code",
    "deepnote_to_be_reexecuted": false,
    "execution_millis": 88928,
    "execution_start": 1614945416295,
    "source_hash": "80c77a69",
    "tags": []
   },
   "outputs": [],
   "source": [
    "X_train = pd.read_csv('/datasets/final_hack/X_train_Embed_25K.csv')"
   ]
  },
  {
   "cell_type": "code",
   "execution_count": null,
   "metadata": {
    "cell_id": "00004-7e106582-c295-420c-ab8b-71f407892d05",
    "deepnote_cell_type": "code",
    "deepnote_to_be_reexecuted": false,
    "execution_millis": 51,
    "execution_start": 1614945505289,
    "source_hash": "7c234d23",
    "tags": []
   },
   "outputs": [
    {
     "data": {
      "application/vnd.deepnote.dataframe.v2+json": {
       "column_count": 38,
       "columns": [
        {
         "dtype": "float64",
         "name": "farm_area",
         "stats": {
          "histogram": [
           {
            "bin_end": -0.46283562,
            "bin_start": -0.56283562,
            "count": 0
           },
           {
            "bin_end": -0.36283561999999997,
            "bin_start": -0.46283562,
            "count": 0
           },
           {
            "bin_end": -0.26283561999999994,
            "bin_start": -0.36283561999999997,
            "count": 0
           },
           {
            "bin_end": -0.16283561999999996,
            "bin_start": -0.26283561999999994,
            "count": 0
           },
           {
            "bin_end": -0.06283561999999998,
            "bin_start": -0.16283561999999996,
            "count": 5
           },
           {
            "bin_end": 0.03716438000000011,
            "bin_start": -0.06283561999999998,
            "count": 0
           },
           {
            "bin_end": 0.13716438000000009,
            "bin_start": 0.03716438000000011,
            "count": 0
           },
           {
            "bin_end": 0.23716438000000006,
            "bin_start": 0.13716438000000009,
            "count": 0
           },
           {
            "bin_end": 0.33716438000000004,
            "bin_start": 0.23716438000000006,
            "count": 0
           },
           {
            "bin_end": 0.43716438,
            "bin_start": 0.33716438000000004,
            "count": 0
           }
          ],
          "max": -0.06283562,
          "min": -0.06283562,
          "nan_count": 0,
          "unique_count": 1
         }
        },
        {
         "dtype": "float64",
         "name": "temp_obs",
         "stats": {
          "histogram": [
           {
            "bin_end": -1.12579491,
            "bin_start": -1.3597889,
            "count": 1
           },
           {
            "bin_end": -0.8918009200000001,
            "bin_start": -1.12579491,
            "count": 0
           },
           {
            "bin_end": -0.65780693,
            "bin_start": -0.8918009200000001,
            "count": 1
           },
           {
            "bin_end": -0.42381294,
            "bin_start": -0.65780693,
            "count": 1
           },
           {
            "bin_end": -0.18981895000000004,
            "bin_start": -0.42381294,
            "count": 0
           },
           {
            "bin_end": 0.044175040000000054,
            "bin_start": -0.18981895000000004,
            "count": 0
           },
           {
            "bin_end": 0.27816902999999993,
            "bin_start": 0.044175040000000054,
            "count": 1
           },
           {
            "bin_end": 0.51216302,
            "bin_start": 0.27816902999999993,
            "count": 0
           },
           {
            "bin_end": 0.7461570099999999,
            "bin_start": 0.51216302,
            "count": 0
           },
           {
            "bin_end": 0.980151,
            "bin_start": 0.7461570099999999,
            "count": 1
           }
          ],
          "max": 0.980151,
          "min": -1.3597889,
          "nan_count": 0,
          "unique_count": 5
         }
        },
        {
         "dtype": "float64",
         "name": "wind_direction",
         "stats": {
          "histogram": [
           {
            "bin_end": -1.2188881500000002,
            "bin_start": -1.5440849,
            "count": 3
           },
           {
            "bin_end": -0.8936914,
            "bin_start": -1.2188881500000002,
            "count": 0
           },
           {
            "bin_end": -0.56849465,
            "bin_start": -0.8936914,
            "count": 0
           },
           {
            "bin_end": -0.24329789999999996,
            "bin_start": -0.56849465,
            "count": 0
           },
           {
            "bin_end": 0.08189884999999997,
            "bin_start": -0.24329789999999996,
            "count": 0
           },
           {
            "bin_end": 0.4070956000000001,
            "bin_start": 0.08189884999999997,
            "count": 1
           },
           {
            "bin_end": 0.7322923500000003,
            "bin_start": 0.4070956000000001,
            "count": 0
           },
           {
            "bin_end": 1.0574891000000002,
            "bin_start": 0.7322923500000003,
            "count": 0
           },
           {
            "bin_end": 1.38268585,
            "bin_start": 1.0574891000000002,
            "count": 0
           },
           {
            "bin_end": 1.7078826,
            "bin_start": 1.38268585,
            "count": 1
           }
          ],
          "max": 1.7078826,
          "min": -1.5440849,
          "nan_count": 0,
          "unique_count": 4
         }
        },
        {
         "dtype": "float64",
         "name": "dew_temp",
         "stats": {
          "histogram": [
           {
            "bin_end": -0.88245654,
            "bin_start": -1.1450846,
            "count": 1
           },
           {
            "bin_end": -0.6198284799999999,
            "bin_start": -0.88245654,
            "count": 1
           },
           {
            "bin_end": -0.35720041999999985,
            "bin_start": -0.6198284799999999,
            "count": 0
           },
           {
            "bin_end": -0.09457235999999991,
            "bin_start": -0.35720041999999985,
            "count": 1
           },
           {
            "bin_end": 0.16805570000000003,
            "bin_start": -0.09457235999999991,
            "count": 0
           },
           {
            "bin_end": 0.4306837600000002,
            "bin_start": 0.16805570000000003,
            "count": 0
           },
           {
            "bin_end": 0.6933118200000001,
            "bin_start": 0.4306837600000002,
            "count": 1
           },
           {
            "bin_end": 0.9559398800000001,
            "bin_start": 0.6933118200000001,
            "count": 0
           },
           {
            "bin_end": 1.21856794,
            "bin_start": 0.9559398800000001,
            "count": 0
           },
           {
            "bin_end": 1.481196,
            "bin_start": 1.21856794,
            "count": 1
           }
          ],
          "max": 1.481196,
          "min": -1.1450846,
          "nan_count": 0,
          "unique_count": 5
         }
        },
        {
         "dtype": "float64",
         "name": "pressure_sea_level",
         "stats": {
          "histogram": [
           {
            "bin_end": 0.05694935436,
            "bin_start": 0.0060718004,
            "count": 1
           },
           {
            "bin_end": 0.10782690832,
            "bin_start": 0.05694935436,
            "count": 0
           },
           {
            "bin_end": 0.15870446228,
            "bin_start": 0.10782690832,
            "count": 0
           },
           {
            "bin_end": 0.20958201624,
            "bin_start": 0.15870446228,
            "count": 0
           },
           {
            "bin_end": 0.2604595702,
            "bin_start": 0.20958201624,
            "count": 0
           },
           {
            "bin_end": 0.31133712416000003,
            "bin_start": 0.2604595702,
            "count": 0
           },
           {
            "bin_end": 0.36221467812,
            "bin_start": 0.31133712416000003,
            "count": 0
           },
           {
            "bin_end": 0.41309223208,
            "bin_start": 0.36221467812,
            "count": 0
           },
           {
            "bin_end": 0.46396978604,
            "bin_start": 0.41309223208,
            "count": 0
           },
           {
            "bin_end": 0.51484734,
            "bin_start": 0.46396978604,
            "count": 4
           }
          ],
          "max": 0.51484734,
          "min": 0.0060718004,
          "nan_count": 0,
          "unique_count": 5
         }
        },
        {
         "dtype": "float64",
         "name": "precipitation",
         "stats": {
          "histogram": [
           {
            "bin_end": -0.58255055,
            "bin_start": -0.68255055,
            "count": 0
           },
           {
            "bin_end": -0.48255054999999997,
            "bin_start": -0.58255055,
            "count": 0
           },
           {
            "bin_end": -0.38255054999999993,
            "bin_start": -0.48255054999999997,
            "count": 0
           },
           {
            "bin_end": -0.28255054999999996,
            "bin_start": -0.38255054999999993,
            "count": 0
           },
           {
            "bin_end": -0.18255054999999998,
            "bin_start": -0.28255054999999996,
            "count": 5
           },
           {
            "bin_end": -0.08255054999999989,
            "bin_start": -0.18255054999999998,
            "count": 0
           },
           {
            "bin_end": 0.01744945000000009,
            "bin_start": -0.08255054999999989,
            "count": 0
           },
           {
            "bin_end": 0.11744945000000007,
            "bin_start": 0.01744945000000009,
            "count": 0
           },
           {
            "bin_end": 0.21744945000000004,
            "bin_start": 0.11744945000000007,
            "count": 0
           },
           {
            "bin_end": 0.31744945,
            "bin_start": 0.21744945000000004,
            "count": 0
           }
          ],
          "max": -0.18255055,
          "min": -0.18255055,
          "nan_count": 0,
          "unique_count": 1
         }
        },
        {
         "dtype": "float64",
         "name": "wind_speed",
         "stats": {
          "histogram": [
           {
            "bin_end": -1.21920516,
            "bin_start": -1.4928517,
            "count": 2
           },
           {
            "bin_end": -0.9455586199999999,
            "bin_start": -1.21920516,
            "count": 0
           },
           {
            "bin_end": -0.6719120799999999,
            "bin_start": -0.9455586199999999,
            "count": 0
           },
           {
            "bin_end": -0.3982655399999999,
            "bin_start": -0.6719120799999999,
            "count": 0
           },
           {
            "bin_end": -0.12461899999999981,
            "bin_start": -0.3982655399999999,
            "count": 0
           },
           {
            "bin_end": 0.14902754000000007,
            "bin_start": -0.12461899999999981,
            "count": 1
           },
           {
            "bin_end": 0.42267407999999995,
            "bin_start": 0.14902754000000007,
            "count": 0
           },
           {
            "bin_end": 0.6963206200000001,
            "bin_start": 0.42267407999999995,
            "count": 0
           },
           {
            "bin_end": 0.9699671600000002,
            "bin_start": 0.6963206200000001,
            "count": 0
           },
           {
            "bin_end": 1.2436137,
            "bin_start": 0.9699671600000002,
            "count": 2
           }
          ],
          "max": 1.2436137,
          "min": -1.4928517,
          "nan_count": 0,
          "unique_count": 4
         }
        },
        {
         "dtype": "float64",
         "name": "fid1",
         "stats": {
          "histogram": [
           {
            "bin_end": -0.52819242,
            "bin_start": -0.62819242,
            "count": 0
           },
           {
            "bin_end": -0.42819241999999996,
            "bin_start": -0.52819242,
            "count": 0
           },
           {
            "bin_end": -0.32819241999999993,
            "bin_start": -0.42819241999999996,
            "count": 0
           },
           {
            "bin_end": -0.22819241999999995,
            "bin_start": -0.32819241999999993,
            "count": 0
           },
           {
            "bin_end": -0.12819241999999997,
            "bin_start": -0.22819241999999995,
            "count": 5
           },
           {
            "bin_end": -0.028192419999999885,
            "bin_start": -0.12819241999999997,
            "count": 0
           },
           {
            "bin_end": 0.07180758000000009,
            "bin_start": -0.028192419999999885,
            "count": 0
           },
           {
            "bin_end": 0.17180758000000007,
            "bin_start": 0.07180758000000009,
            "count": 0
           },
           {
            "bin_end": 0.27180758000000005,
            "bin_start": 0.17180758000000007,
            "count": 0
           },
           {
            "bin_end": 0.37180758,
            "bin_start": 0.27180758000000005,
            "count": 0
           }
          ],
          "max": -0.12819242,
          "min": -0.12819242,
          "nan_count": 0,
          "unique_count": 1
         }
        },
        {
         "dtype": "float64",
         "name": "fid2",
         "stats": {
          "histogram": [
           {
            "bin_end": -0.27270221000000006,
            "bin_start": -0.37270221000000003,
            "count": 0
           },
           {
            "bin_end": -0.17270221000000002,
            "bin_start": -0.27270221000000006,
            "count": 0
           },
           {
            "bin_end": -0.07270220999999999,
            "bin_start": -0.17270221000000002,
            "count": 0
           },
           {
            "bin_end": 0.02729778999999999,
            "bin_start": -0.07270220999999999,
            "count": 0
           },
           {
            "bin_end": 0.12729778999999997,
            "bin_start": 0.02729778999999999,
            "count": 0
           },
           {
            "bin_end": 0.22729779000000006,
            "bin_start": 0.12729778999999997,
            "count": 5
           },
           {
            "bin_end": 0.32729779000000003,
            "bin_start": 0.22729779000000006,
            "count": 0
           },
           {
            "bin_end": 0.42729779,
            "bin_start": 0.32729779000000003,
            "count": 0
           },
           {
            "bin_end": 0.52729779,
            "bin_start": 0.42729779,
            "count": 0
           },
           {
            "bin_end": 0.62729779,
            "bin_start": 0.52729779,
            "count": 0
           }
          ],
          "max": 0.12729779,
          "min": 0.12729779,
          "nan_count": 0,
          "unique_count": 1
         }
        },
        {
         "dtype": "float64",
         "name": "fid3",
         "stats": {
          "histogram": [
           {
            "bin_end": -0.91808214,
            "bin_start": -1.01808214,
            "count": 0
           },
           {
            "bin_end": -0.81808214,
            "bin_start": -0.91808214,
            "count": 0
           },
           {
            "bin_end": -0.7180821399999999,
            "bin_start": -0.81808214,
            "count": 0
           },
           {
            "bin_end": -0.61808214,
            "bin_start": -0.7180821399999999,
            "count": 0
           },
           {
            "bin_end": -0.51808214,
            "bin_start": -0.61808214,
            "count": 0
           },
           {
            "bin_end": -0.4180821399999999,
            "bin_start": -0.51808214,
            "count": 5
           },
           {
            "bin_end": -0.3180821399999999,
            "bin_start": -0.4180821399999999,
            "count": 0
           },
           {
            "bin_end": -0.21808213999999992,
            "bin_start": -0.3180821399999999,
            "count": 0
           },
           {
            "bin_end": -0.11808213999999995,
            "bin_start": -0.21808213999999992,
            "count": 0
           },
           {
            "bin_end": -0.01808213999999997,
            "bin_start": -0.11808213999999995,
            "count": 0
           }
          ],
          "max": -0.51808214,
          "min": -0.51808214,
          "nan_count": 0,
          "unique_count": 1
         }
        },
        {
         "dtype": "float64",
         "name": "fid4",
         "stats": {
          "histogram": [
           {
            "bin_end": -1.273044,
            "bin_start": -1.3730440000000002,
            "count": 0
           },
           {
            "bin_end": -1.1730440000000002,
            "bin_start": -1.273044,
            "count": 0
           },
           {
            "bin_end": -1.073044,
            "bin_start": -1.1730440000000002,
            "count": 0
           },
           {
            "bin_end": -0.9730440000000001,
            "bin_start": -1.073044,
            "count": 0
           },
           {
            "bin_end": -0.8730440000000002,
            "bin_start": -0.9730440000000001,
            "count": 0
           },
           {
            "bin_end": -0.7730440000000001,
            "bin_start": -0.8730440000000002,
            "count": 5
           },
           {
            "bin_end": -0.6730440000000001,
            "bin_start": -0.7730440000000001,
            "count": 0
           },
           {
            "bin_end": -0.5730440000000001,
            "bin_start": -0.6730440000000001,
            "count": 0
           },
           {
            "bin_end": -0.47304400000000013,
            "bin_start": -0.5730440000000001,
            "count": 0
           },
           {
            "bin_end": -0.37304400000000004,
            "bin_start": -0.47304400000000013,
            "count": 0
           }
          ],
          "max": -0.873044,
          "min": -0.873044,
          "nan_count": 0,
          "unique_count": 1
         }
        },
        {
         "dtype": "float64",
         "name": "fc1",
         "stats": {
          "histogram": [
           {
            "bin_end": -0.36884298000000004,
            "bin_start": -0.46884298,
            "count": 0
           },
           {
            "bin_end": -0.26884298,
            "bin_start": -0.36884298000000004,
            "count": 0
           },
           {
            "bin_end": -0.16884297999999998,
            "bin_start": -0.26884298,
            "count": 0
           },
           {
            "bin_end": -0.06884298,
            "bin_start": -0.16884297999999998,
            "count": 0
           },
           {
            "bin_end": 0.03115701999999998,
            "bin_start": -0.06884298,
            "count": 0
           },
           {
            "bin_end": 0.13115702000000007,
            "bin_start": 0.03115701999999998,
            "count": 5
           },
           {
            "bin_end": 0.23115702000000005,
            "bin_start": 0.13115702000000007,
            "count": 0
           },
           {
            "bin_end": 0.33115702,
            "bin_start": 0.23115702000000005,
            "count": 0
           },
           {
            "bin_end": 0.43115702,
            "bin_start": 0.33115702,
            "count": 0
           },
           {
            "bin_end": 0.53115702,
            "bin_start": 0.43115702,
            "count": 0
           }
          ],
          "max": 0.03115702,
          "min": 0.03115702,
          "nan_count": 0,
          "unique_count": 1
         }
        },
        {
         "dtype": "float64",
         "name": "fc2",
         "stats": {
          "histogram": [
           {
            "bin_end": -1.003313,
            "bin_start": -1.103313,
            "count": 0
           },
           {
            "bin_end": -0.903313,
            "bin_start": -1.003313,
            "count": 0
           },
           {
            "bin_end": -0.8033129999999999,
            "bin_start": -0.903313,
            "count": 0
           },
           {
            "bin_end": -0.703313,
            "bin_start": -0.8033129999999999,
            "count": 0
           },
           {
            "bin_end": -0.603313,
            "bin_start": -0.703313,
            "count": 0
           },
           {
            "bin_end": -0.5033129999999999,
            "bin_start": -0.603313,
            "count": 5
           },
           {
            "bin_end": -0.4033129999999999,
            "bin_start": -0.5033129999999999,
            "count": 0
           },
           {
            "bin_end": -0.30331299999999994,
            "bin_start": -0.4033129999999999,
            "count": 0
           },
           {
            "bin_end": -0.20331299999999997,
            "bin_start": -0.30331299999999994,
            "count": 0
           },
           {
            "bin_end": -0.10331299999999999,
            "bin_start": -0.20331299999999997,
            "count": 0
           }
          ],
          "max": -0.603313,
          "min": -0.603313,
          "nan_count": 0,
          "unique_count": 1
         }
        },
        {
         "dtype": "float64",
         "name": "Loc1",
         "stats": {
          "histogram": [
           {
            "bin_end": 0.7679900000000001,
            "bin_start": 0.6679900000000001,
            "count": 0
           },
           {
            "bin_end": 0.86799,
            "bin_start": 0.7679900000000001,
            "count": 0
           },
           {
            "bin_end": 0.9679900000000001,
            "bin_start": 0.86799,
            "count": 0
           },
           {
            "bin_end": 1.06799,
            "bin_start": 0.9679900000000001,
            "count": 0
           },
           {
            "bin_end": 1.16799,
            "bin_start": 1.06799,
            "count": 0
           },
           {
            "bin_end": 1.2679900000000002,
            "bin_start": 1.16799,
            "count": 5
           },
           {
            "bin_end": 1.3679900000000003,
            "bin_start": 1.2679900000000002,
            "count": 0
           },
           {
            "bin_end": 1.4679900000000001,
            "bin_start": 1.3679900000000003,
            "count": 0
           },
           {
            "bin_end": 1.56799,
            "bin_start": 1.4679900000000001,
            "count": 0
           },
           {
            "bin_end": 1.66799,
            "bin_start": 1.56799,
            "count": 0
           }
          ],
          "max": 1.16799,
          "min": 1.16799,
          "nan_count": 0,
          "unique_count": 1
         }
        },
        {
         "dtype": "float64",
         "name": "Loc2",
         "stats": {
          "histogram": [
           {
            "bin_end": 0.045631859999999996,
            "bin_start": -0.05436814000000001,
            "count": 0
           },
           {
            "bin_end": 0.14563186,
            "bin_start": 0.045631859999999996,
            "count": 0
           },
           {
            "bin_end": 0.24563186000000004,
            "bin_start": 0.14563186,
            "count": 0
           },
           {
            "bin_end": 0.34563186,
            "bin_start": 0.24563186000000004,
            "count": 0
           },
           {
            "bin_end": 0.44563186,
            "bin_start": 0.34563186,
            "count": 0
           },
           {
            "bin_end": 0.5456318600000001,
            "bin_start": 0.44563186,
            "count": 5
           },
           {
            "bin_end": 0.6456318600000001,
            "bin_start": 0.5456318600000001,
            "count": 0
           },
           {
            "bin_end": 0.74563186,
            "bin_start": 0.6456318600000001,
            "count": 0
           },
           {
            "bin_end": 0.84563186,
            "bin_start": 0.74563186,
            "count": 0
           },
           {
            "bin_end": 0.94563186,
            "bin_start": 0.84563186,
            "count": 0
           }
          ],
          "max": 0.44563186,
          "min": 0.44563186,
          "nan_count": 0,
          "unique_count": 1
         }
        },
        {
         "dtype": "float64",
         "name": "cloud1",
         "stats": {
          "histogram": [
           {
            "bin_end": 0.6851287999999999,
            "bin_start": 0.5851287999999999,
            "count": 0
           },
           {
            "bin_end": 0.7851287999999998,
            "bin_start": 0.6851287999999999,
            "count": 0
           },
           {
            "bin_end": 0.8851287999999999,
            "bin_start": 0.7851287999999998,
            "count": 0
           },
           {
            "bin_end": 0.9851287999999999,
            "bin_start": 0.8851287999999999,
            "count": 0
           },
           {
            "bin_end": 1.0851288,
            "bin_start": 0.9851287999999999,
            "count": 0
           },
           {
            "bin_end": 1.1851288,
            "bin_start": 1.0851288,
            "count": 5
           },
           {
            "bin_end": 1.2851287999999998,
            "bin_start": 1.1851288,
            "count": 0
           },
           {
            "bin_end": 1.3851288,
            "bin_start": 1.2851287999999998,
            "count": 0
           },
           {
            "bin_end": 1.4851288,
            "bin_start": 1.3851288,
            "count": 0
           },
           {
            "bin_end": 1.5851288,
            "bin_start": 1.4851288,
            "count": 0
           }
          ],
          "max": 1.0851288,
          "min": 1.0851288,
          "nan_count": 0,
          "unique_count": 1
         }
        },
        {
         "dtype": "float64",
         "name": "cloud2",
         "stats": {
          "histogram": [
           {
            "bin_end": -1.24654284,
            "bin_start": -1.3465428400000001,
            "count": 0
           },
           {
            "bin_end": -1.1465428400000002,
            "bin_start": -1.24654284,
            "count": 0
           },
           {
            "bin_end": -1.04654284,
            "bin_start": -1.1465428400000002,
            "count": 0
           },
           {
            "bin_end": -0.9465428400000001,
            "bin_start": -1.04654284,
            "count": 0
           },
           {
            "bin_end": -0.8465428400000001,
            "bin_start": -0.9465428400000001,
            "count": 0
           },
           {
            "bin_end": -0.74654284,
            "bin_start": -0.8465428400000001,
            "count": 5
           },
           {
            "bin_end": -0.6465428400000001,
            "bin_start": -0.74654284,
            "count": 0
           },
           {
            "bin_end": -0.5465428400000001,
            "bin_start": -0.6465428400000001,
            "count": 0
           },
           {
            "bin_end": -0.4465428400000001,
            "bin_start": -0.5465428400000001,
            "count": 0
           },
           {
            "bin_end": -0.34654284,
            "bin_start": -0.4465428400000001,
            "count": 0
           }
          ],
          "max": -0.84654284,
          "min": -0.84654284,
          "nan_count": 0,
          "unique_count": 1
         }
        },
        {
         "dtype": "float64",
         "name": "date1",
         "stats": {
          "histogram": [
           {
            "bin_end": -0.78035005,
            "bin_start": -0.88035005,
            "count": 0
           },
           {
            "bin_end": -0.6803500499999999,
            "bin_start": -0.78035005,
            "count": 0
           },
           {
            "bin_end": -0.58035005,
            "bin_start": -0.6803500499999999,
            "count": 0
           },
           {
            "bin_end": -0.48035005,
            "bin_start": -0.58035005,
            "count": 0
           },
           {
            "bin_end": -0.38035005,
            "bin_start": -0.48035005,
            "count": 0
           },
           {
            "bin_end": -0.2803500499999999,
            "bin_start": -0.38035005,
            "count": 5
           },
           {
            "bin_end": -0.18035004999999993,
            "bin_start": -0.2803500499999999,
            "count": 0
           },
           {
            "bin_end": -0.08035004999999995,
            "bin_start": -0.18035004999999993,
            "count": 0
           },
           {
            "bin_end": 0.019649950000000027,
            "bin_start": -0.08035004999999995,
            "count": 0
           },
           {
            "bin_end": 0.11964995,
            "bin_start": 0.019649950000000027,
            "count": 0
           }
          ],
          "max": -0.38035005,
          "min": -0.38035005,
          "nan_count": 0,
          "unique_count": 1
         }
        },
        {
         "dtype": "float64",
         "name": "date2",
         "stats": {
          "histogram": [
           {
            "bin_end": -0.03343692000000001,
            "bin_start": -0.13343692000000001,
            "count": 0
           },
           {
            "bin_end": 0.06656308,
            "bin_start": -0.03343692000000001,
            "count": 0
           },
           {
            "bin_end": 0.16656308000000003,
            "bin_start": 0.06656308,
            "count": 0
           },
           {
            "bin_end": 0.26656308,
            "bin_start": 0.16656308000000003,
            "count": 0
           },
           {
            "bin_end": 0.36656308,
            "bin_start": 0.26656308,
            "count": 0
           },
           {
            "bin_end": 0.4665630800000001,
            "bin_start": 0.36656308,
            "count": 5
           },
           {
            "bin_end": 0.5665630800000001,
            "bin_start": 0.4665630800000001,
            "count": 0
           },
           {
            "bin_end": 0.66656308,
            "bin_start": 0.5665630800000001,
            "count": 0
           },
           {
            "bin_end": 0.7665630800000001,
            "bin_start": 0.66656308,
            "count": 0
           },
           {
            "bin_end": 0.8665630799999999,
            "bin_start": 0.7665630800000001,
            "count": 0
           }
          ],
          "max": 0.36656308,
          "min": 0.36656308,
          "nan_count": 0,
          "unique_count": 1
         }
        },
        {
         "dtype": "float64",
         "name": "hour1",
         "stats": {
          "histogram": [
           {
            "bin_end": -0.44794498000000005,
            "bin_start": -0.54794498,
            "count": 0
           },
           {
            "bin_end": -0.34794498,
            "bin_start": -0.44794498000000005,
            "count": 0
           },
           {
            "bin_end": -0.24794497999999998,
            "bin_start": -0.34794498,
            "count": 0
           },
           {
            "bin_end": -0.14794498,
            "bin_start": -0.24794497999999998,
            "count": 0
           },
           {
            "bin_end": -0.047944980000000026,
            "bin_start": -0.14794498,
            "count": 0
           },
           {
            "bin_end": 0.05205502000000006,
            "bin_start": -0.047944980000000026,
            "count": 5
           },
           {
            "bin_end": 0.15205502000000004,
            "bin_start": 0.05205502000000006,
            "count": 0
           },
           {
            "bin_end": 0.25205502,
            "bin_start": 0.15205502000000004,
            "count": 0
           },
           {
            "bin_end": 0.35205502,
            "bin_start": 0.25205502,
            "count": 0
           },
           {
            "bin_end": 0.45205502,
            "bin_start": 0.35205502,
            "count": 0
           }
          ],
          "max": -0.04794498,
          "min": -0.04794498,
          "nan_count": 0,
          "unique_count": 1
         }
        },
        {
         "dtype": "float64",
         "name": "hour2",
         "stats": {
          "histogram": [
           {
            "bin_end": 0.9476789,
            "bin_start": 0.8476789,
            "count": 0
           },
           {
            "bin_end": 1.0476789,
            "bin_start": 0.9476789,
            "count": 0
           },
           {
            "bin_end": 1.1476789,
            "bin_start": 1.0476789,
            "count": 0
           },
           {
            "bin_end": 1.2476789,
            "bin_start": 1.1476789,
            "count": 0
           },
           {
            "bin_end": 1.3476789,
            "bin_start": 1.2476789,
            "count": 0
           },
           {
            "bin_end": 1.4476789,
            "bin_start": 1.3476789,
            "count": 5
           },
           {
            "bin_end": 1.5476789000000002,
            "bin_start": 1.4476789,
            "count": 0
           },
           {
            "bin_end": 1.6476789,
            "bin_start": 1.5476789000000002,
            "count": 0
           },
           {
            "bin_end": 1.7476789,
            "bin_start": 1.6476789,
            "count": 0
           },
           {
            "bin_end": 1.8476789,
            "bin_start": 1.7476789,
            "count": 0
           }
          ],
          "max": 1.3476789,
          "min": 1.3476789,
          "nan_count": 0,
          "unique_count": 1
         }
        },
        {
         "dtype": "float64",
         "name": "ing_w",
         "stats": {
          "histogram": [
           {
            "bin_end": 0.6,
            "bin_start": 0.5,
            "count": 0
           },
           {
            "bin_end": 0.7,
            "bin_start": 0.6,
            "count": 0
           },
           {
            "bin_end": 0.8,
            "bin_start": 0.7,
            "count": 0
           },
           {
            "bin_end": 0.9,
            "bin_start": 0.8,
            "count": 0
           },
           {
            "bin_end": 1,
            "bin_start": 0.9,
            "count": 0
           },
           {
            "bin_end": 1.1,
            "bin_start": 1,
            "count": 5
           },
           {
            "bin_end": 1.2000000000000002,
            "bin_start": 1.1,
            "count": 0
           },
           {
            "bin_end": 1.3,
            "bin_start": 1.2000000000000002,
            "count": 0
           },
           {
            "bin_end": 1.4,
            "bin_start": 1.3,
            "count": 0
           },
           {
            "bin_end": 1.5,
            "bin_start": 1.4,
            "count": 0
           }
          ],
          "max": 1,
          "min": 1,
          "nan_count": 0,
          "unique_count": 1
         }
        },
        {
         "dtype": "float64",
         "name": "ing_x",
         "stats": {
          "histogram": [
           {
            "bin_end": -0.4,
            "bin_start": -0.5,
            "count": 0
           },
           {
            "bin_end": -0.3,
            "bin_start": -0.4,
            "count": 0
           },
           {
            "bin_end": -0.19999999999999996,
            "bin_start": -0.3,
            "count": 0
           },
           {
            "bin_end": -0.09999999999999998,
            "bin_start": -0.19999999999999996,
            "count": 0
           },
           {
            "bin_end": 0,
            "bin_start": -0.09999999999999998,
            "count": 0
           },
           {
            "bin_end": 0.10000000000000009,
            "bin_start": 0,
            "count": 5
           },
           {
            "bin_end": 0.20000000000000007,
            "bin_start": 0.10000000000000009,
            "count": 0
           },
           {
            "bin_end": 0.30000000000000004,
            "bin_start": 0.20000000000000007,
            "count": 0
           },
           {
            "bin_end": 0.4,
            "bin_start": 0.30000000000000004,
            "count": 0
           },
           {
            "bin_end": 0.5,
            "bin_start": 0.4,
            "count": 0
           }
          ],
          "max": 0,
          "min": 0,
          "nan_count": 0,
          "unique_count": 1
         }
        },
        {
         "dtype": "float64",
         "name": "ing_y",
         "stats": {
          "histogram": [
           {
            "bin_end": -0.4,
            "bin_start": -0.5,
            "count": 0
           },
           {
            "bin_end": -0.3,
            "bin_start": -0.4,
            "count": 0
           },
           {
            "bin_end": -0.19999999999999996,
            "bin_start": -0.3,
            "count": 0
           },
           {
            "bin_end": -0.09999999999999998,
            "bin_start": -0.19999999999999996,
            "count": 0
           },
           {
            "bin_end": 0,
            "bin_start": -0.09999999999999998,
            "count": 0
           },
           {
            "bin_end": 0.10000000000000009,
            "bin_start": 0,
            "count": 5
           },
           {
            "bin_end": 0.20000000000000007,
            "bin_start": 0.10000000000000009,
            "count": 0
           },
           {
            "bin_end": 0.30000000000000004,
            "bin_start": 0.20000000000000007,
            "count": 0
           },
           {
            "bin_end": 0.4,
            "bin_start": 0.30000000000000004,
            "count": 0
           },
           {
            "bin_end": 0.5,
            "bin_start": 0.4,
            "count": 0
           }
          ],
          "max": 0,
          "min": 0,
          "nan_count": 0,
          "unique_count": 1
         }
        },
        {
         "dtype": "float64",
         "name": "ing_z",
         "stats": {
          "histogram": [
           {
            "bin_end": -0.4,
            "bin_start": -0.5,
            "count": 0
           },
           {
            "bin_end": -0.3,
            "bin_start": -0.4,
            "count": 0
           },
           {
            "bin_end": -0.19999999999999996,
            "bin_start": -0.3,
            "count": 0
           },
           {
            "bin_end": -0.09999999999999998,
            "bin_start": -0.19999999999999996,
            "count": 0
           },
           {
            "bin_end": 0,
            "bin_start": -0.09999999999999998,
            "count": 0
           },
           {
            "bin_end": 0.10000000000000009,
            "bin_start": 0,
            "count": 5
           },
           {
            "bin_end": 0.20000000000000007,
            "bin_start": 0.10000000000000009,
            "count": 0
           },
           {
            "bin_end": 0.30000000000000004,
            "bin_start": 0.20000000000000007,
            "count": 0
           },
           {
            "bin_end": 0.4,
            "bin_start": 0.30000000000000004,
            "count": 0
           },
           {
            "bin_end": 0.5,
            "bin_start": 0.4,
            "count": 0
           }
          ],
          "max": 0,
          "min": 0,
          "nan_count": 0,
          "unique_count": 1
         }
        },
        {
         "dtype": "float64",
         "name": "month1",
         "stats": {
          "histogram": [
           {
            "bin_end": 0.1,
            "bin_start": 0,
            "count": 4
           },
           {
            "bin_end": 0.2,
            "bin_start": 0.1,
            "count": 0
           },
           {
            "bin_end": 0.30000000000000004,
            "bin_start": 0.2,
            "count": 0
           },
           {
            "bin_end": 0.4,
            "bin_start": 0.30000000000000004,
            "count": 0
           },
           {
            "bin_end": 0.5,
            "bin_start": 0.4,
            "count": 0
           },
           {
            "bin_end": 0.6000000000000001,
            "bin_start": 0.5,
            "count": 0
           },
           {
            "bin_end": 0.7000000000000001,
            "bin_start": 0.6000000000000001,
            "count": 0
           },
           {
            "bin_end": 0.8,
            "bin_start": 0.7000000000000001,
            "count": 0
           },
           {
            "bin_end": 0.9,
            "bin_start": 0.8,
            "count": 0
           },
           {
            "bin_end": 1,
            "bin_start": 0.9,
            "count": 1
           }
          ],
          "max": 1,
          "min": 0,
          "nan_count": 0,
          "unique_count": 2
         }
        },
        {
         "dtype": "float64",
         "name": "month2",
         "stats": {
          "histogram": [
           {
            "bin_end": -0.4,
            "bin_start": -0.5,
            "count": 0
           },
           {
            "bin_end": -0.3,
            "bin_start": -0.4,
            "count": 0
           },
           {
            "bin_end": -0.19999999999999996,
            "bin_start": -0.3,
            "count": 0
           },
           {
            "bin_end": -0.09999999999999998,
            "bin_start": -0.19999999999999996,
            "count": 0
           },
           {
            "bin_end": 0,
            "bin_start": -0.09999999999999998,
            "count": 0
           },
           {
            "bin_end": 0.10000000000000009,
            "bin_start": 0,
            "count": 5
           },
           {
            "bin_end": 0.20000000000000007,
            "bin_start": 0.10000000000000009,
            "count": 0
           },
           {
            "bin_end": 0.30000000000000004,
            "bin_start": 0.20000000000000007,
            "count": 0
           },
           {
            "bin_end": 0.4,
            "bin_start": 0.30000000000000004,
            "count": 0
           },
           {
            "bin_end": 0.5,
            "bin_start": 0.4,
            "count": 0
           }
          ],
          "max": 0,
          "min": 0,
          "nan_count": 0,
          "unique_count": 1
         }
        },
        {
         "dtype": "float64",
         "name": "month3",
         "stats": {
          "histogram": [
           {
            "bin_end": 0.1,
            "bin_start": 0,
            "count": 4
           },
           {
            "bin_end": 0.2,
            "bin_start": 0.1,
            "count": 0
           },
           {
            "bin_end": 0.30000000000000004,
            "bin_start": 0.2,
            "count": 0
           },
           {
            "bin_end": 0.4,
            "bin_start": 0.30000000000000004,
            "count": 0
           },
           {
            "bin_end": 0.5,
            "bin_start": 0.4,
            "count": 0
           },
           {
            "bin_end": 0.6000000000000001,
            "bin_start": 0.5,
            "count": 0
           },
           {
            "bin_end": 0.7000000000000001,
            "bin_start": 0.6000000000000001,
            "count": 0
           },
           {
            "bin_end": 0.8,
            "bin_start": 0.7000000000000001,
            "count": 0
           },
           {
            "bin_end": 0.9,
            "bin_start": 0.8,
            "count": 0
           },
           {
            "bin_end": 1,
            "bin_start": 0.9,
            "count": 1
           }
          ],
          "max": 1,
          "min": 0,
          "nan_count": 0,
          "unique_count": 2
         }
        },
        {
         "dtype": "float64",
         "name": "month4",
         "stats": {
          "histogram": [
           {
            "bin_end": -0.4,
            "bin_start": -0.5,
            "count": 0
           },
           {
            "bin_end": -0.3,
            "bin_start": -0.4,
            "count": 0
           },
           {
            "bin_end": -0.19999999999999996,
            "bin_start": -0.3,
            "count": 0
           },
           {
            "bin_end": -0.09999999999999998,
            "bin_start": -0.19999999999999996,
            "count": 0
           },
           {
            "bin_end": 0,
            "bin_start": -0.09999999999999998,
            "count": 0
           },
           {
            "bin_end": 0.10000000000000009,
            "bin_start": 0,
            "count": 5
           },
           {
            "bin_end": 0.20000000000000007,
            "bin_start": 0.10000000000000009,
            "count": 0
           },
           {
            "bin_end": 0.30000000000000004,
            "bin_start": 0.20000000000000007,
            "count": 0
           },
           {
            "bin_end": 0.4,
            "bin_start": 0.30000000000000004,
            "count": 0
           },
           {
            "bin_end": 0.5,
            "bin_start": 0.4,
            "count": 0
           }
          ],
          "max": 0,
          "min": 0,
          "nan_count": 0,
          "unique_count": 1
         }
        },
        {
         "dtype": "float64",
         "name": "month5",
         "stats": {
          "histogram": [
           {
            "bin_end": -0.4,
            "bin_start": -0.5,
            "count": 0
           },
           {
            "bin_end": -0.3,
            "bin_start": -0.4,
            "count": 0
           },
           {
            "bin_end": -0.19999999999999996,
            "bin_start": -0.3,
            "count": 0
           },
           {
            "bin_end": -0.09999999999999998,
            "bin_start": -0.19999999999999996,
            "count": 0
           },
           {
            "bin_end": 0,
            "bin_start": -0.09999999999999998,
            "count": 0
           },
           {
            "bin_end": 0.10000000000000009,
            "bin_start": 0,
            "count": 5
           },
           {
            "bin_end": 0.20000000000000007,
            "bin_start": 0.10000000000000009,
            "count": 0
           },
           {
            "bin_end": 0.30000000000000004,
            "bin_start": 0.20000000000000007,
            "count": 0
           },
           {
            "bin_end": 0.4,
            "bin_start": 0.30000000000000004,
            "count": 0
           },
           {
            "bin_end": 0.5,
            "bin_start": 0.4,
            "count": 0
           }
          ],
          "max": 0,
          "min": 0,
          "nan_count": 0,
          "unique_count": 1
         }
        },
        {
         "dtype": "float64",
         "name": "month6",
         "stats": {
          "histogram": [
           {
            "bin_end": -0.4,
            "bin_start": -0.5,
            "count": 0
           },
           {
            "bin_end": -0.3,
            "bin_start": -0.4,
            "count": 0
           },
           {
            "bin_end": -0.19999999999999996,
            "bin_start": -0.3,
            "count": 0
           },
           {
            "bin_end": -0.09999999999999998,
            "bin_start": -0.19999999999999996,
            "count": 0
           },
           {
            "bin_end": 0,
            "bin_start": -0.09999999999999998,
            "count": 0
           },
           {
            "bin_end": 0.10000000000000009,
            "bin_start": 0,
            "count": 5
           },
           {
            "bin_end": 0.20000000000000007,
            "bin_start": 0.10000000000000009,
            "count": 0
           },
           {
            "bin_end": 0.30000000000000004,
            "bin_start": 0.20000000000000007,
            "count": 0
           },
           {
            "bin_end": 0.4,
            "bin_start": 0.30000000000000004,
            "count": 0
           },
           {
            "bin_end": 0.5,
            "bin_start": 0.4,
            "count": 0
           }
          ],
          "max": 0,
          "min": 0,
          "nan_count": 0,
          "unique_count": 1
         }
        },
        {
         "dtype": "float64",
         "name": "month7",
         "stats": {
          "histogram": [
           {
            "bin_end": 0.1,
            "bin_start": 0,
            "count": 4
           },
           {
            "bin_end": 0.2,
            "bin_start": 0.1,
            "count": 0
           },
           {
            "bin_end": 0.30000000000000004,
            "bin_start": 0.2,
            "count": 0
           },
           {
            "bin_end": 0.4,
            "bin_start": 0.30000000000000004,
            "count": 0
           },
           {
            "bin_end": 0.5,
            "bin_start": 0.4,
            "count": 0
           },
           {
            "bin_end": 0.6000000000000001,
            "bin_start": 0.5,
            "count": 0
           },
           {
            "bin_end": 0.7000000000000001,
            "bin_start": 0.6000000000000001,
            "count": 0
           },
           {
            "bin_end": 0.8,
            "bin_start": 0.7000000000000001,
            "count": 0
           },
           {
            "bin_end": 0.9,
            "bin_start": 0.8,
            "count": 0
           },
           {
            "bin_end": 1,
            "bin_start": 0.9,
            "count": 1
           }
          ],
          "max": 1,
          "min": 0,
          "nan_count": 0,
          "unique_count": 2
         }
        },
        {
         "dtype": "float64",
         "name": "month8",
         "stats": {
          "histogram": [
           {
            "bin_end": -0.4,
            "bin_start": -0.5,
            "count": 0
           },
           {
            "bin_end": -0.3,
            "bin_start": -0.4,
            "count": 0
           },
           {
            "bin_end": -0.19999999999999996,
            "bin_start": -0.3,
            "count": 0
           },
           {
            "bin_end": -0.09999999999999998,
            "bin_start": -0.19999999999999996,
            "count": 0
           },
           {
            "bin_end": 0,
            "bin_start": -0.09999999999999998,
            "count": 0
           },
           {
            "bin_end": 0.10000000000000009,
            "bin_start": 0,
            "count": 5
           },
           {
            "bin_end": 0.20000000000000007,
            "bin_start": 0.10000000000000009,
            "count": 0
           },
           {
            "bin_end": 0.30000000000000004,
            "bin_start": 0.20000000000000007,
            "count": 0
           },
           {
            "bin_end": 0.4,
            "bin_start": 0.30000000000000004,
            "count": 0
           },
           {
            "bin_end": 0.5,
            "bin_start": 0.4,
            "count": 0
           }
          ],
          "max": 0,
          "min": 0,
          "nan_count": 0,
          "unique_count": 1
         }
        },
        {
         "dtype": "float64",
         "name": "month9",
         "stats": {
          "histogram": [
           {
            "bin_end": 0.1,
            "bin_start": 0,
            "count": 4
           },
           {
            "bin_end": 0.2,
            "bin_start": 0.1,
            "count": 0
           },
           {
            "bin_end": 0.30000000000000004,
            "bin_start": 0.2,
            "count": 0
           },
           {
            "bin_end": 0.4,
            "bin_start": 0.30000000000000004,
            "count": 0
           },
           {
            "bin_end": 0.5,
            "bin_start": 0.4,
            "count": 0
           },
           {
            "bin_end": 0.6000000000000001,
            "bin_start": 0.5,
            "count": 0
           },
           {
            "bin_end": 0.7000000000000001,
            "bin_start": 0.6000000000000001,
            "count": 0
           },
           {
            "bin_end": 0.8,
            "bin_start": 0.7000000000000001,
            "count": 0
           },
           {
            "bin_end": 0.9,
            "bin_start": 0.8,
            "count": 0
           },
           {
            "bin_end": 1,
            "bin_start": 0.9,
            "count": 1
           }
          ],
          "max": 1,
          "min": 0,
          "nan_count": 0,
          "unique_count": 2
         }
        },
        {
         "dtype": "float64",
         "name": "month10",
         "stats": {
          "histogram": [
           {
            "bin_end": -0.4,
            "bin_start": -0.5,
            "count": 0
           },
           {
            "bin_end": -0.3,
            "bin_start": -0.4,
            "count": 0
           },
           {
            "bin_end": -0.19999999999999996,
            "bin_start": -0.3,
            "count": 0
           },
           {
            "bin_end": -0.09999999999999998,
            "bin_start": -0.19999999999999996,
            "count": 0
           },
           {
            "bin_end": 0,
            "bin_start": -0.09999999999999998,
            "count": 0
           },
           {
            "bin_end": 0.10000000000000009,
            "bin_start": 0,
            "count": 5
           },
           {
            "bin_end": 0.20000000000000007,
            "bin_start": 0.10000000000000009,
            "count": 0
           },
           {
            "bin_end": 0.30000000000000004,
            "bin_start": 0.20000000000000007,
            "count": 0
           },
           {
            "bin_end": 0.4,
            "bin_start": 0.30000000000000004,
            "count": 0
           },
           {
            "bin_end": 0.5,
            "bin_start": 0.4,
            "count": 0
           }
          ],
          "max": 0,
          "min": 0,
          "nan_count": 0,
          "unique_count": 1
         }
        },
        {
         "dtype": "float64",
         "name": "month11",
         "stats": {
          "histogram": [
           {
            "bin_end": 0.1,
            "bin_start": 0,
            "count": 4
           },
           {
            "bin_end": 0.2,
            "bin_start": 0.1,
            "count": 0
           },
           {
            "bin_end": 0.30000000000000004,
            "bin_start": 0.2,
            "count": 0
           },
           {
            "bin_end": 0.4,
            "bin_start": 0.30000000000000004,
            "count": 0
           },
           {
            "bin_end": 0.5,
            "bin_start": 0.4,
            "count": 0
           },
           {
            "bin_end": 0.6000000000000001,
            "bin_start": 0.5,
            "count": 0
           },
           {
            "bin_end": 0.7000000000000001,
            "bin_start": 0.6000000000000001,
            "count": 0
           },
           {
            "bin_end": 0.8,
            "bin_start": 0.7000000000000001,
            "count": 0
           },
           {
            "bin_end": 0.9,
            "bin_start": 0.8,
            "count": 0
           },
           {
            "bin_end": 1,
            "bin_start": 0.9,
            "count": 1
           }
          ],
          "max": 1,
          "min": 0,
          "nan_count": 0,
          "unique_count": 2
         }
        },
        {
         "dtype": "float64",
         "name": "month12",
         "stats": {
          "histogram": [
           {
            "bin_end": -0.4,
            "bin_start": -0.5,
            "count": 0
           },
           {
            "bin_end": -0.3,
            "bin_start": -0.4,
            "count": 0
           },
           {
            "bin_end": -0.19999999999999996,
            "bin_start": -0.3,
            "count": 0
           },
           {
            "bin_end": -0.09999999999999998,
            "bin_start": -0.19999999999999996,
            "count": 0
           },
           {
            "bin_end": 0,
            "bin_start": -0.09999999999999998,
            "count": 0
           },
           {
            "bin_end": 0.10000000000000009,
            "bin_start": 0,
            "count": 5
           },
           {
            "bin_end": 0.20000000000000007,
            "bin_start": 0.10000000000000009,
            "count": 0
           },
           {
            "bin_end": 0.30000000000000004,
            "bin_start": 0.20000000000000007,
            "count": 0
           },
           {
            "bin_end": 0.4,
            "bin_start": 0.30000000000000004,
            "count": 0
           },
           {
            "bin_end": 0.5,
            "bin_start": 0.4,
            "count": 0
           }
          ],
          "max": 0,
          "min": 0,
          "nan_count": 0,
          "unique_count": 1
         }
        },
        {
         "dtype": "float64",
         "name": "yield",
         "stats": {
          "histogram": [
           {
            "bin_end": 67.122,
            "bin_start": 54.8,
            "count": 1
           },
           {
            "bin_end": 79.444,
            "bin_start": 67.122,
            "count": 1
           },
           {
            "bin_end": 91.76599999999999,
            "bin_start": 79.444,
            "count": 0
           },
           {
            "bin_end": 104.088,
            "bin_start": 91.76599999999999,
            "count": 1
           },
           {
            "bin_end": 116.41,
            "bin_start": 104.088,
            "count": 0
           },
           {
            "bin_end": 128.732,
            "bin_start": 116.41,
            "count": 0
           },
           {
            "bin_end": 141.054,
            "bin_start": 128.732,
            "count": 0
           },
           {
            "bin_end": 153.376,
            "bin_start": 141.054,
            "count": 0
           },
           {
            "bin_end": 165.698,
            "bin_start": 153.376,
            "count": 0
           },
           {
            "bin_end": 178.02,
            "bin_start": 165.698,
            "count": 2
           }
          ],
          "max": 178.02,
          "min": 54.8,
          "nan_count": 0,
          "unique_count": 5
         }
        },
        {
         "dtype": "int64",
         "name": "_deepnote_index_column"
        }
       ],
       "row_count": 5,
       "rows_bottom": null,
       "rows_top": [
        {
         "Loc1": 1.16799,
         "Loc2": 0.44563186,
         "_deepnote_index_column": 0,
         "cloud1": 1.0851288,
         "cloud2": -0.84654284,
         "date1": -0.38035005,
         "date2": 0.36656308,
         "dew_temp": -0.26965773,
         "farm_area": -0.06283562,
         "fc1": 0.03115702,
         "fc2": -0.603313,
         "fid1": -0.12819242,
         "fid2": 0.12729779,
         "fid3": -0.51808214,
         "fid4": -0.873044,
         "hour1": -0.04794498,
         "hour2": 1.3476789,
         "ing_w": 1,
         "ing_x": 0,
         "ing_y": 0,
         "ing_z": 0,
         "month1": 0,
         "month10": 0,
         "month11": 1,
         "month12": 0,
         "month2": 0,
         "month3": 0,
         "month4": 0,
         "month5": 0,
         "month6": 0,
         "month7": 0,
         "month8": 0,
         "month9": 0,
         "precipitation": -0.18255055,
         "pressure_sea_level": 0.51484734,
         "temp_obs": -0.6011366,
         "wind_direction": -1.4537524,
         "wind_speed": 1.022931,
         "yield": 54.8
        },
        {
         "Loc1": 1.16799,
         "Loc2": 0.44563186,
         "_deepnote_index_column": 1,
         "cloud1": 1.0851288,
         "cloud2": -0.84654284,
         "date1": -0.38035005,
         "date2": 0.36656308,
         "dew_temp": 1.481196,
         "farm_area": -0.06283562,
         "fc1": 0.03115702,
         "fc2": -0.603313,
         "fid1": -0.12819242,
         "fid2": 0.12729779,
         "fid3": -0.51808214,
         "fid4": -0.873044,
         "hour1": -0.04794498,
         "hour2": 1.3476789,
         "ing_w": 1,
         "ing_x": 0,
         "ing_y": 0,
         "ing_z": 0,
         "month1": 0,
         "month10": 0,
         "month11": 0,
         "month12": 0,
         "month2": 0,
         "month3": 0,
         "month4": 0,
         "month5": 0,
         "month6": 0,
         "month7": 1,
         "month8": 0,
         "month9": 0,
         "precipitation": -0.18255055,
         "pressure_sea_level": 0.0060718004,
         "temp_obs": 0.980151,
         "wind_direction": -1.5440849,
         "wind_speed": -1.4928517,
         "yield": 178.02
        },
        {
         "Loc1": 1.16799,
         "Loc2": 0.44563186,
         "_deepnote_index_column": 2,
         "cloud1": 1.0851288,
         "cloud2": -0.84654284,
         "date1": -0.38035005,
         "date2": 0.36656308,
         "dew_temp": 0.43855277,
         "farm_area": -0.06283562,
         "fc1": 0.03115702,
         "fc2": -0.603313,
         "fid1": -0.12819242,
         "fid2": 0.12729779,
         "fid3": -0.51808214,
         "fid4": -0.873044,
         "hour1": -0.04794498,
         "hour2": 1.3476789,
         "ing_w": 1,
         "ing_x": 0,
         "ing_y": 0,
         "ing_z": 0,
         "month1": 0,
         "month10": 0,
         "month11": 0,
         "month12": 0,
         "month2": 0,
         "month3": 0,
         "month4": 0,
         "month5": 0,
         "month6": 0,
         "month7": 0,
         "month8": 0,
         "month9": 1,
         "precipitation": -0.18255055,
         "pressure_sea_level": 0.48491937,
         "temp_obs": 0.21235807,
         "wind_direction": 0.08189886,
         "wind_speed": 0.09606372,
         "yield": 167.08
        },
        {
         "Loc1": 1.16799,
         "Loc2": 0.44563186,
         "_deepnote_index_column": 3,
         "cloud1": 1.0851288,
         "cloud2": -0.84654284,
         "date1": -0.38035005,
         "date2": 0.36656308,
         "dew_temp": -0.7614706,
         "farm_area": -0.06283562,
         "fc1": 0.03115702,
         "fc2": -0.603313,
         "fid1": -0.12819242,
         "fid2": 0.12729779,
         "fid3": -0.51808214,
         "fid4": -0.873044,
         "hour1": -0.04794498,
         "hour2": 1.3476789,
         "ing_w": 1,
         "ing_x": 0,
         "ing_y": 0,
         "ing_z": 0,
         "month1": 0,
         "month10": 0,
         "month11": 0,
         "month12": 0,
         "month2": 0,
         "month3": 1,
         "month4": 0,
         "month5": 0,
         "month6": 0,
         "month7": 0,
         "month8": 0,
         "month9": 0,
         "precipitation": -0.18255055,
         "pressure_sea_level": 0.4968913,
         "temp_obs": -0.70168084,
         "wind_direction": 1.7078826,
         "wind_speed": 1.2436137,
         "yield": 73.28
        },
        {
         "Loc1": 1.16799,
         "Loc2": 0.44563186,
         "_deepnote_index_column": 4,
         "cloud1": 1.0851288,
         "cloud2": -0.84654284,
         "date1": -0.38035005,
         "date2": 0.36656308,
         "dew_temp": -1.1450846,
         "farm_area": -0.06283562,
         "fc1": 0.03115702,
         "fc2": -0.603313,
         "fid1": -0.12819242,
         "fid2": 0.12729779,
         "fid3": -0.51808214,
         "fid4": -0.873044,
         "hour1": -0.04794498,
         "hour2": 1.3476789,
         "ing_w": 1,
         "ing_x": 0,
         "ing_y": 0,
         "ing_z": 0,
         "month1": 1,
         "month10": 0,
         "month11": 0,
         "month12": 0,
         "month2": 0,
         "month3": 0,
         "month4": 0,
         "month5": 0,
         "month6": 0,
         "month7": 0,
         "month8": 0,
         "month9": 0,
         "precipitation": -0.18255055,
         "pressure_sea_level": 0.47294745,
         "temp_obs": -1.3597889,
         "wind_direction": -1.5440849,
         "wind_speed": -1.4928517,
         "yield": 92.84
        }
       ]
      },
      "text/html": [
       "<div>\n",
       "<style scoped>\n",
       "    .dataframe tbody tr th:only-of-type {\n",
       "        vertical-align: middle;\n",
       "    }\n",
       "\n",
       "    .dataframe tbody tr th {\n",
       "        vertical-align: top;\n",
       "    }\n",
       "\n",
       "    .dataframe thead th {\n",
       "        text-align: right;\n",
       "    }\n",
       "</style>\n",
       "<table border=\"1\" class=\"dataframe\">\n",
       "  <thead>\n",
       "    <tr style=\"text-align: right;\">\n",
       "      <th></th>\n",
       "      <th>farm_area</th>\n",
       "      <th>temp_obs</th>\n",
       "      <th>wind_direction</th>\n",
       "      <th>dew_temp</th>\n",
       "      <th>pressure_sea_level</th>\n",
       "      <th>precipitation</th>\n",
       "      <th>wind_speed</th>\n",
       "      <th>fid1</th>\n",
       "      <th>fid2</th>\n",
       "      <th>fid3</th>\n",
       "      <th>...</th>\n",
       "      <th>month4</th>\n",
       "      <th>month5</th>\n",
       "      <th>month6</th>\n",
       "      <th>month7</th>\n",
       "      <th>month8</th>\n",
       "      <th>month9</th>\n",
       "      <th>month10</th>\n",
       "      <th>month11</th>\n",
       "      <th>month12</th>\n",
       "      <th>yield</th>\n",
       "    </tr>\n",
       "  </thead>\n",
       "  <tbody>\n",
       "    <tr>\n",
       "      <th>0</th>\n",
       "      <td>-0.062836</td>\n",
       "      <td>-0.601137</td>\n",
       "      <td>-1.453752</td>\n",
       "      <td>-0.269658</td>\n",
       "      <td>0.514847</td>\n",
       "      <td>-0.182551</td>\n",
       "      <td>1.022931</td>\n",
       "      <td>-0.128192</td>\n",
       "      <td>0.127298</td>\n",
       "      <td>-0.518082</td>\n",
       "      <td>...</td>\n",
       "      <td>0.0</td>\n",
       "      <td>0.0</td>\n",
       "      <td>0.0</td>\n",
       "      <td>0.0</td>\n",
       "      <td>0.0</td>\n",
       "      <td>0.0</td>\n",
       "      <td>0.0</td>\n",
       "      <td>1.0</td>\n",
       "      <td>0.0</td>\n",
       "      <td>54.80</td>\n",
       "    </tr>\n",
       "    <tr>\n",
       "      <th>1</th>\n",
       "      <td>-0.062836</td>\n",
       "      <td>0.980151</td>\n",
       "      <td>-1.544085</td>\n",
       "      <td>1.481196</td>\n",
       "      <td>0.006072</td>\n",
       "      <td>-0.182551</td>\n",
       "      <td>-1.492852</td>\n",
       "      <td>-0.128192</td>\n",
       "      <td>0.127298</td>\n",
       "      <td>-0.518082</td>\n",
       "      <td>...</td>\n",
       "      <td>0.0</td>\n",
       "      <td>0.0</td>\n",
       "      <td>0.0</td>\n",
       "      <td>1.0</td>\n",
       "      <td>0.0</td>\n",
       "      <td>0.0</td>\n",
       "      <td>0.0</td>\n",
       "      <td>0.0</td>\n",
       "      <td>0.0</td>\n",
       "      <td>178.02</td>\n",
       "    </tr>\n",
       "    <tr>\n",
       "      <th>2</th>\n",
       "      <td>-0.062836</td>\n",
       "      <td>0.212358</td>\n",
       "      <td>0.081899</td>\n",
       "      <td>0.438553</td>\n",
       "      <td>0.484919</td>\n",
       "      <td>-0.182551</td>\n",
       "      <td>0.096064</td>\n",
       "      <td>-0.128192</td>\n",
       "      <td>0.127298</td>\n",
       "      <td>-0.518082</td>\n",
       "      <td>...</td>\n",
       "      <td>0.0</td>\n",
       "      <td>0.0</td>\n",
       "      <td>0.0</td>\n",
       "      <td>0.0</td>\n",
       "      <td>0.0</td>\n",
       "      <td>1.0</td>\n",
       "      <td>0.0</td>\n",
       "      <td>0.0</td>\n",
       "      <td>0.0</td>\n",
       "      <td>167.08</td>\n",
       "    </tr>\n",
       "    <tr>\n",
       "      <th>3</th>\n",
       "      <td>-0.062836</td>\n",
       "      <td>-0.701681</td>\n",
       "      <td>1.707883</td>\n",
       "      <td>-0.761471</td>\n",
       "      <td>0.496891</td>\n",
       "      <td>-0.182551</td>\n",
       "      <td>1.243614</td>\n",
       "      <td>-0.128192</td>\n",
       "      <td>0.127298</td>\n",
       "      <td>-0.518082</td>\n",
       "      <td>...</td>\n",
       "      <td>0.0</td>\n",
       "      <td>0.0</td>\n",
       "      <td>0.0</td>\n",
       "      <td>0.0</td>\n",
       "      <td>0.0</td>\n",
       "      <td>0.0</td>\n",
       "      <td>0.0</td>\n",
       "      <td>0.0</td>\n",
       "      <td>0.0</td>\n",
       "      <td>73.28</td>\n",
       "    </tr>\n",
       "    <tr>\n",
       "      <th>4</th>\n",
       "      <td>-0.062836</td>\n",
       "      <td>-1.359789</td>\n",
       "      <td>-1.544085</td>\n",
       "      <td>-1.145085</td>\n",
       "      <td>0.472947</td>\n",
       "      <td>-0.182551</td>\n",
       "      <td>-1.492852</td>\n",
       "      <td>-0.128192</td>\n",
       "      <td>0.127298</td>\n",
       "      <td>-0.518082</td>\n",
       "      <td>...</td>\n",
       "      <td>0.0</td>\n",
       "      <td>0.0</td>\n",
       "      <td>0.0</td>\n",
       "      <td>0.0</td>\n",
       "      <td>0.0</td>\n",
       "      <td>0.0</td>\n",
       "      <td>0.0</td>\n",
       "      <td>0.0</td>\n",
       "      <td>0.0</td>\n",
       "      <td>92.84</td>\n",
       "    </tr>\n",
       "  </tbody>\n",
       "</table>\n",
       "<p>5 rows × 38 columns</p>\n",
       "</div>"
      ],
      "text/plain": [
       "   farm_area  temp_obs  wind_direction  dew_temp  pressure_sea_level  \\\n",
       "0  -0.062836 -0.601137       -1.453752 -0.269658            0.514847   \n",
       "1  -0.062836  0.980151       -1.544085  1.481196            0.006072   \n",
       "2  -0.062836  0.212358        0.081899  0.438553            0.484919   \n",
       "3  -0.062836 -0.701681        1.707883 -0.761471            0.496891   \n",
       "4  -0.062836 -1.359789       -1.544085 -1.145085            0.472947   \n",
       "\n",
       "   precipitation  wind_speed      fid1      fid2      fid3  ...  month4  \\\n",
       "0      -0.182551    1.022931 -0.128192  0.127298 -0.518082  ...     0.0   \n",
       "1      -0.182551   -1.492852 -0.128192  0.127298 -0.518082  ...     0.0   \n",
       "2      -0.182551    0.096064 -0.128192  0.127298 -0.518082  ...     0.0   \n",
       "3      -0.182551    1.243614 -0.128192  0.127298 -0.518082  ...     0.0   \n",
       "4      -0.182551   -1.492852 -0.128192  0.127298 -0.518082  ...     0.0   \n",
       "\n",
       "   month5  month6  month7  month8  month9  month10  month11  month12   yield  \n",
       "0     0.0     0.0     0.0     0.0     0.0      0.0      1.0      0.0   54.80  \n",
       "1     0.0     0.0     1.0     0.0     0.0      0.0      0.0      0.0  178.02  \n",
       "2     0.0     0.0     0.0     0.0     1.0      0.0      0.0      0.0  167.08  \n",
       "3     0.0     0.0     0.0     0.0     0.0      0.0      0.0      0.0   73.28  \n",
       "4     0.0     0.0     0.0     0.0     0.0      0.0      0.0      0.0   92.84  \n",
       "\n",
       "[5 rows x 38 columns]"
      ]
     },
     "execution_count": 5,
     "metadata": {},
     "output_type": "execute_result"
    }
   ],
   "source": [
    "X_train.head()"
   ]
  },
  {
   "cell_type": "code",
   "execution_count": null,
   "metadata": {
    "cell_id": "00005-17a80a6a-3e60-41d1-bc2d-81ed68d24dde",
    "deepnote_cell_type": "code",
    "deepnote_to_be_reexecuted": false,
    "execution_millis": 7,
    "execution_start": 1614945505334,
    "source_hash": "38f368cd",
    "tags": []
   },
   "outputs": [
    {
     "data": {
      "text/plain": [
       "(15383473, 38)"
      ]
     },
     "execution_count": 6,
     "metadata": {},
     "output_type": "execute_result"
    }
   ],
   "source": [
    "X_train.shape"
   ]
  },
  {
   "cell_type": "code",
   "execution_count": null,
   "metadata": {
    "cell_id": "00006-28391622-5c8a-41ef-895c-abf9c1e113e9",
    "deepnote_cell_type": "code",
    "deepnote_to_be_reexecuted": false,
    "execution_millis": 31375,
    "execution_start": 1614945505335,
    "source_hash": "b0750721",
    "tags": []
   },
   "outputs": [
    {
     "data": {
      "application/vnd.deepnote.dataframe.v2+json": {
       "column_count": 38,
       "columns": [
        {
         "dtype": "float64",
         "name": "farm_area",
         "stats": {
          "histogram": [
           {
            "bin_end": -0.78480135,
            "bin_start": -0.813962,
            "count": 2
           },
           {
            "bin_end": -0.7556406999999999,
            "bin_start": -0.78480135,
            "count": 0
           },
           {
            "bin_end": -0.7264800499999999,
            "bin_start": -0.7556406999999999,
            "count": 0
           },
           {
            "bin_end": -0.6973193999999999,
            "bin_start": -0.7264800499999999,
            "count": 0
           },
           {
            "bin_end": -0.6681587499999999,
            "bin_start": -0.6973193999999999,
            "count": 0
           },
           {
            "bin_end": -0.6389981,
            "bin_start": -0.6681587499999999,
            "count": 0
           },
           {
            "bin_end": -0.60983745,
            "bin_start": -0.6389981,
            "count": 0
           },
           {
            "bin_end": -0.5806768,
            "bin_start": -0.60983745,
            "count": 0
           },
           {
            "bin_end": -0.55151615,
            "bin_start": -0.5806768,
            "count": 0
           },
           {
            "bin_end": -0.5223555,
            "bin_start": -0.55151615,
            "count": 3
           }
          ],
          "max": -0.5223555,
          "min": -0.813962,
          "nan_count": 0,
          "unique_count": 2
         }
        },
        {
         "dtype": "float64",
         "name": "temp_obs",
         "stats": {
          "histogram": [
           {
            "bin_end": -0.21175590999999996,
            "bin_start": -0.4457499,
            "count": 3
           },
           {
            "bin_end": 0.02223808000000005,
            "bin_start": -0.21175590999999996,
            "count": 0
           },
           {
            "bin_end": 0.2562320700000001,
            "bin_start": 0.02223808000000005,
            "count": 0
           },
           {
            "bin_end": 0.4902260600000001,
            "bin_start": 0.2562320700000001,
            "count": 0
           },
           {
            "bin_end": 0.72422005,
            "bin_start": 0.4902260600000001,
            "count": 0
           },
           {
            "bin_end": 0.9582140400000001,
            "bin_start": 0.72422005,
            "count": 0
           },
           {
            "bin_end": 1.19220803,
            "bin_start": 0.9582140400000001,
            "count": 0
           },
           {
            "bin_end": 1.42620202,
            "bin_start": 1.19220803,
            "count": 0
           },
           {
            "bin_end": 1.66019601,
            "bin_start": 1.42620202,
            "count": 0
           },
           {
            "bin_end": 1.89419,
            "bin_start": 1.66019601,
            "count": 2
           }
          ],
          "max": 1.89419,
          "min": -0.4457499,
          "nan_count": 0,
          "unique_count": 3
         }
        },
        {
         "dtype": "float64",
         "name": "wind_direction",
         "stats": {
          "histogram": [
           {
            "bin_end": -1.04725652,
            "bin_start": -1.2730876,
            "count": 2
           },
           {
            "bin_end": -0.8214254400000001,
            "bin_start": -1.04725652,
            "count": 0
           },
           {
            "bin_end": -0.59559436,
            "bin_start": -0.8214254400000001,
            "count": 0
           },
           {
            "bin_end": -0.36976328,
            "bin_start": -0.59559436,
            "count": 0
           },
           {
            "bin_end": -0.14393220000000007,
            "bin_start": -0.36976328,
            "count": 0
           },
           {
            "bin_end": 0.08189888000000001,
            "bin_start": -0.14393220000000007,
            "count": 1
           },
           {
            "bin_end": 0.30772995999999986,
            "bin_start": 0.08189888000000001,
            "count": 0
           },
           {
            "bin_end": 0.5335610399999999,
            "bin_start": 0.30772995999999986,
            "count": 0
           },
           {
            "bin_end": 0.75939212,
            "bin_start": 0.5335610399999999,
            "count": 0
           },
           {
            "bin_end": 0.9852232,
            "bin_start": 0.75939212,
            "count": 2
           }
          ],
          "max": 0.9852232,
          "min": -1.2730876,
          "nan_count": 0,
          "unique_count": 3
         }
        },
        {
         "dtype": "float64",
         "name": "dew_temp",
         "stats": {
          "histogram": [
           {
            "bin_end": -0.300150103,
            "bin_start": -0.48605537,
            "count": 1
           },
           {
            "bin_end": -0.11424483599999996,
            "bin_start": -0.300150103,
            "count": 0
           },
           {
            "bin_end": 0.07166043100000008,
            "bin_start": -0.11424483599999996,
            "count": 0
           },
           {
            "bin_end": 0.25756569800000007,
            "bin_start": 0.07166043100000008,
            "count": 2
           },
           {
            "bin_end": 0.44347096500000005,
            "bin_start": 0.25756569800000007,
            "count": 0
           },
           {
            "bin_end": 0.6293762320000001,
            "bin_start": 0.44347096500000005,
            "count": 0
           },
           {
            "bin_end": 0.815281499,
            "bin_start": 0.6293762320000001,
            "count": 0
           },
           {
            "bin_end": 1.001186766,
            "bin_start": 0.815281499,
            "count": 0
           },
           {
            "bin_end": 1.1870920330000003,
            "bin_start": 1.001186766,
            "count": 0
           },
           {
            "bin_end": 1.3729973,
            "bin_start": 1.1870920330000003,
            "count": 2
           }
          ],
          "max": 1.3729973,
          "min": -0.48605537,
          "nan_count": 0,
          "unique_count": 3
         }
        },
        {
         "dtype": "float64",
         "name": "pressure_sea_level",
         "stats": {
          "histogram": [
           {
            "bin_end": 0.08687513159999999,
            "bin_start": 0.059939954,
            "count": 2
           },
           {
            "bin_end": 0.11381030919999999,
            "bin_start": 0.08687513159999999,
            "count": 0
           },
           {
            "bin_end": 0.14074548679999999,
            "bin_start": 0.11381030919999999,
            "count": 0
           },
           {
            "bin_end": 0.16768066439999998,
            "bin_start": 0.14074548679999999,
            "count": 0
           },
           {
            "bin_end": 0.19461584199999998,
            "bin_start": 0.16768066439999998,
            "count": 0
           },
           {
            "bin_end": 0.22155101959999998,
            "bin_start": 0.19461584199999998,
            "count": 0
           },
           {
            "bin_end": 0.24848619719999998,
            "bin_start": 0.22155101959999998,
            "count": 2
           },
           {
            "bin_end": 0.2754213748,
            "bin_start": 0.24848619719999998,
            "count": 0
           },
           {
            "bin_end": 0.3023565524,
            "bin_start": 0.2754213748,
            "count": 0
           },
           {
            "bin_end": 0.32929173,
            "bin_start": 0.3023565524,
            "count": 1
           }
          ],
          "max": 0.32929173,
          "min": 0.059939954,
          "nan_count": 0,
          "unique_count": 3
         }
        },
        {
         "dtype": "float64",
         "name": "precipitation",
         "stats": {
          "histogram": [
           {
            "bin_end": -0.312282175,
            "bin_start": -0.3266968,
            "count": 2
           },
           {
            "bin_end": -0.29786755,
            "bin_start": -0.312282175,
            "count": 0
           },
           {
            "bin_end": -0.283452925,
            "bin_start": -0.29786755,
            "count": 0
           },
           {
            "bin_end": -0.2690383,
            "bin_start": -0.283452925,
            "count": 0
           },
           {
            "bin_end": -0.254623675,
            "bin_start": -0.2690383,
            "count": 0
           },
           {
            "bin_end": -0.24020905,
            "bin_start": -0.254623675,
            "count": 0
           },
           {
            "bin_end": -0.22579442500000002,
            "bin_start": -0.24020905,
            "count": 0
           },
           {
            "bin_end": -0.2113798,
            "bin_start": -0.22579442500000002,
            "count": 0
           },
           {
            "bin_end": -0.196965175,
            "bin_start": -0.2113798,
            "count": 0
           },
           {
            "bin_end": -0.18255055,
            "bin_start": -0.196965175,
            "count": 3
           }
          ],
          "max": -0.18255055,
          "min": -0.3266968,
          "nan_count": 0,
          "unique_count": 2
         }
        },
        {
         "dtype": "float64",
         "name": "wind_speed",
         "stats": {
          "histogram": [
           {
            "bin_end": -0.455643018,
            "bin_start": -0.56598437,
            "count": 1
           },
           {
            "bin_end": -0.345301666,
            "bin_start": -0.455643018,
            "count": 0
           },
           {
            "bin_end": -0.23496031399999995,
            "bin_start": -0.345301666,
            "count": 0
           },
           {
            "bin_end": -0.12461896199999994,
            "bin_start": -0.23496031399999995,
            "count": 0
           },
           {
            "bin_end": -0.01427760999999994,
            "bin_start": -0.12461896199999994,
            "count": 0
           },
           {
            "bin_end": 0.09606374200000012,
            "bin_start": -0.01427760999999994,
            "count": 0
           },
           {
            "bin_end": 0.20640509400000007,
            "bin_start": 0.09606374200000012,
            "count": 0
           },
           {
            "bin_end": 0.3167464460000001,
            "bin_start": 0.20640509400000007,
            "count": 0
           },
           {
            "bin_end": 0.4270877980000002,
            "bin_start": 0.3167464460000001,
            "count": 0
           },
           {
            "bin_end": 0.53742915,
            "bin_start": 0.4270877980000002,
            "count": 4
           }
          ],
          "max": 0.53742915,
          "min": -0.56598437,
          "nan_count": 0,
          "unique_count": 2
         }
        },
        {
         "dtype": "float64",
         "name": "fid1",
         "stats": {
          "histogram": [
           {
            "bin_end": 0.563380982,
            "bin_start": 0.43571728,
            "count": 3
           },
           {
            "bin_end": 0.691044684,
            "bin_start": 0.563380982,
            "count": 0
           },
           {
            "bin_end": 0.8187083860000001,
            "bin_start": 0.691044684,
            "count": 0
           },
           {
            "bin_end": 0.9463720880000001,
            "bin_start": 0.8187083860000001,
            "count": 0
           },
           {
            "bin_end": 1.07403579,
            "bin_start": 0.9463720880000001,
            "count": 0
           },
           {
            "bin_end": 1.2016994920000001,
            "bin_start": 1.07403579,
            "count": 0
           },
           {
            "bin_end": 1.3293631940000001,
            "bin_start": 1.2016994920000001,
            "count": 0
           },
           {
            "bin_end": 1.4570268960000001,
            "bin_start": 1.3293631940000001,
            "count": 0
           },
           {
            "bin_end": 1.5846905980000001,
            "bin_start": 1.4570268960000001,
            "count": 0
           },
           {
            "bin_end": 1.7123543,
            "bin_start": 1.5846905980000001,
            "count": 2
           }
          ],
          "max": 1.7123543,
          "min": 0.43571728,
          "nan_count": 0,
          "unique_count": 2
         }
        },
        {
         "dtype": "float64",
         "name": "fid2",
         "stats": {
          "histogram": [
           {
            "bin_end": -1.546507444,
            "bin_start": -1.7277428,
            "count": 2
           },
           {
            "bin_end": -1.365272088,
            "bin_start": -1.546507444,
            "count": 0
           },
           {
            "bin_end": -1.184036732,
            "bin_start": -1.365272088,
            "count": 0
           },
           {
            "bin_end": -1.0028013759999999,
            "bin_start": -1.184036732,
            "count": 0
           },
           {
            "bin_end": -0.82156602,
            "bin_start": -1.0028013759999999,
            "count": 0
           },
           {
            "bin_end": -0.6403306639999999,
            "bin_start": -0.82156602,
            "count": 0
           },
           {
            "bin_end": -0.459095308,
            "bin_start": -0.6403306639999999,
            "count": 0
           },
           {
            "bin_end": -0.277859952,
            "bin_start": -0.459095308,
            "count": 0
           },
           {
            "bin_end": -0.09662459600000006,
            "bin_start": -0.277859952,
            "count": 0
           },
           {
            "bin_end": 0.08461076,
            "bin_start": -0.09662459600000006,
            "count": 3
           }
          ],
          "max": 0.08461076,
          "min": -1.7277428,
          "nan_count": 0,
          "unique_count": 2
         }
        },
        {
         "dtype": "float64",
         "name": "fid3",
         "stats": {
          "histogram": [
           {
            "bin_end": -1.046673626,
            "bin_start": -1.1292701,
            "count": 3
           },
           {
            "bin_end": -0.964077152,
            "bin_start": -1.046673626,
            "count": 0
           },
           {
            "bin_end": -0.8814806780000001,
            "bin_start": -0.964077152,
            "count": 0
           },
           {
            "bin_end": -0.798884204,
            "bin_start": -0.8814806780000001,
            "count": 0
           },
           {
            "bin_end": -0.71628773,
            "bin_start": -0.798884204,
            "count": 0
           },
           {
            "bin_end": -0.6336912560000001,
            "bin_start": -0.71628773,
            "count": 0
           },
           {
            "bin_end": -0.5510947820000001,
            "bin_start": -0.6336912560000001,
            "count": 0
           },
           {
            "bin_end": -0.46849830800000003,
            "bin_start": -0.5510947820000001,
            "count": 0
           },
           {
            "bin_end": -0.385901834,
            "bin_start": -0.46849830800000003,
            "count": 0
           },
           {
            "bin_end": -0.30330536,
            "bin_start": -0.385901834,
            "count": 2
           }
          ],
          "max": -0.30330536,
          "min": -1.1292701,
          "nan_count": 0,
          "unique_count": 2
         }
        },
        {
         "dtype": "float64",
         "name": "fid4",
         "stats": {
          "histogram": [
           {
            "bin_end": -0.896845245,
            "bin_start": -0.9110794,
            "count": 3
           },
           {
            "bin_end": -0.8826110899999999,
            "bin_start": -0.896845245,
            "count": 0
           },
           {
            "bin_end": -0.868376935,
            "bin_start": -0.8826110899999999,
            "count": 0
           },
           {
            "bin_end": -0.85414278,
            "bin_start": -0.868376935,
            "count": 0
           },
           {
            "bin_end": -0.839908625,
            "bin_start": -0.85414278,
            "count": 0
           },
           {
            "bin_end": -0.8256744699999999,
            "bin_start": -0.839908625,
            "count": 0
           },
           {
            "bin_end": -0.8114403149999999,
            "bin_start": -0.8256744699999999,
            "count": 0
           },
           {
            "bin_end": -0.79720616,
            "bin_start": -0.8114403149999999,
            "count": 0
           },
           {
            "bin_end": -0.782972005,
            "bin_start": -0.79720616,
            "count": 0
           },
           {
            "bin_end": -0.76873785,
            "bin_start": -0.782972005,
            "count": 2
           }
          ],
          "max": -0.76873785,
          "min": -0.9110794,
          "nan_count": 0,
          "unique_count": 2
         }
        },
        {
         "dtype": "float64",
         "name": "fc1",
         "stats": {
          "histogram": [
           {
            "bin_end": -0.2102068,
            "bin_start": -0.3102068,
            "count": 0
           },
           {
            "bin_end": -0.1102068,
            "bin_start": -0.2102068,
            "count": 0
           },
           {
            "bin_end": -0.01020679999999996,
            "bin_start": -0.1102068,
            "count": 0
           },
           {
            "bin_end": 0.08979320000000002,
            "bin_start": -0.01020679999999996,
            "count": 0
           },
           {
            "bin_end": 0.1897932,
            "bin_start": 0.08979320000000002,
            "count": 0
           },
           {
            "bin_end": 0.2897932000000001,
            "bin_start": 0.1897932,
            "count": 5
           },
           {
            "bin_end": 0.38979320000000006,
            "bin_start": 0.2897932000000001,
            "count": 0
           },
           {
            "bin_end": 0.48979320000000004,
            "bin_start": 0.38979320000000006,
            "count": 0
           },
           {
            "bin_end": 0.5897932,
            "bin_start": 0.48979320000000004,
            "count": 0
           },
           {
            "bin_end": 0.6897932,
            "bin_start": 0.5897932,
            "count": 0
           }
          ],
          "max": 0.1897932,
          "min": 0.1897932,
          "nan_count": 0,
          "unique_count": 1
         }
        },
        {
         "dtype": "float64",
         "name": "fc2",
         "stats": {
          "histogram": [
           {
            "bin_end": 0.03190324000000003,
            "bin_start": -0.06809675999999998,
            "count": 0
           },
           {
            "bin_end": 0.13190324000000003,
            "bin_start": 0.03190324000000003,
            "count": 0
           },
           {
            "bin_end": 0.23190324000000007,
            "bin_start": 0.13190324000000003,
            "count": 0
           },
           {
            "bin_end": 0.33190324000000004,
            "bin_start": 0.23190324000000007,
            "count": 0
           },
           {
            "bin_end": 0.43190324,
            "bin_start": 0.33190324000000004,
            "count": 0
           },
           {
            "bin_end": 0.5319032400000001,
            "bin_start": 0.43190324,
            "count": 5
           },
           {
            "bin_end": 0.6319032400000001,
            "bin_start": 0.5319032400000001,
            "count": 0
           },
           {
            "bin_end": 0.7319032400000001,
            "bin_start": 0.6319032400000001,
            "count": 0
           },
           {
            "bin_end": 0.83190324,
            "bin_start": 0.7319032400000001,
            "count": 0
           },
           {
            "bin_end": 0.93190324,
            "bin_start": 0.83190324,
            "count": 0
           }
          ],
          "max": 0.43190324,
          "min": 0.43190324,
          "nan_count": 0,
          "unique_count": 1
         }
        },
        {
         "dtype": "float64",
         "name": "Loc1",
         "stats": {
          "histogram": [
           {
            "bin_end": 0.7679900000000001,
            "bin_start": 0.6679900000000001,
            "count": 0
           },
           {
            "bin_end": 0.86799,
            "bin_start": 0.7679900000000001,
            "count": 0
           },
           {
            "bin_end": 0.9679900000000001,
            "bin_start": 0.86799,
            "count": 0
           },
           {
            "bin_end": 1.06799,
            "bin_start": 0.9679900000000001,
            "count": 0
           },
           {
            "bin_end": 1.16799,
            "bin_start": 1.06799,
            "count": 0
           },
           {
            "bin_end": 1.2679900000000002,
            "bin_start": 1.16799,
            "count": 5
           },
           {
            "bin_end": 1.3679900000000003,
            "bin_start": 1.2679900000000002,
            "count": 0
           },
           {
            "bin_end": 1.4679900000000001,
            "bin_start": 1.3679900000000003,
            "count": 0
           },
           {
            "bin_end": 1.56799,
            "bin_start": 1.4679900000000001,
            "count": 0
           },
           {
            "bin_end": 1.66799,
            "bin_start": 1.56799,
            "count": 0
           }
          ],
          "max": 1.16799,
          "min": 1.16799,
          "nan_count": 0,
          "unique_count": 1
         }
        },
        {
         "dtype": "float64",
         "name": "Loc2",
         "stats": {
          "histogram": [
           {
            "bin_end": 0.045631859999999996,
            "bin_start": -0.05436814000000001,
            "count": 0
           },
           {
            "bin_end": 0.14563186,
            "bin_start": 0.045631859999999996,
            "count": 0
           },
           {
            "bin_end": 0.24563186000000004,
            "bin_start": 0.14563186,
            "count": 0
           },
           {
            "bin_end": 0.34563186,
            "bin_start": 0.24563186000000004,
            "count": 0
           },
           {
            "bin_end": 0.44563186,
            "bin_start": 0.34563186,
            "count": 0
           },
           {
            "bin_end": 0.5456318600000001,
            "bin_start": 0.44563186,
            "count": 5
           },
           {
            "bin_end": 0.6456318600000001,
            "bin_start": 0.5456318600000001,
            "count": 0
           },
           {
            "bin_end": 0.74563186,
            "bin_start": 0.6456318600000001,
            "count": 0
           },
           {
            "bin_end": 0.84563186,
            "bin_start": 0.74563186,
            "count": 0
           },
           {
            "bin_end": 0.94563186,
            "bin_start": 0.84563186,
            "count": 0
           }
          ],
          "max": 0.44563186,
          "min": 0.44563186,
          "nan_count": 0,
          "unique_count": 1
         }
        },
        {
         "dtype": "float64",
         "name": "cloud1",
         "stats": {
          "histogram": [
           {
            "bin_end": 0.6851287999999999,
            "bin_start": 0.5851287999999999,
            "count": 0
           },
           {
            "bin_end": 0.7851287999999998,
            "bin_start": 0.6851287999999999,
            "count": 0
           },
           {
            "bin_end": 0.8851287999999999,
            "bin_start": 0.7851287999999998,
            "count": 0
           },
           {
            "bin_end": 0.9851287999999999,
            "bin_start": 0.8851287999999999,
            "count": 0
           },
           {
            "bin_end": 1.0851288,
            "bin_start": 0.9851287999999999,
            "count": 0
           },
           {
            "bin_end": 1.1851288,
            "bin_start": 1.0851288,
            "count": 5
           },
           {
            "bin_end": 1.2851287999999998,
            "bin_start": 1.1851288,
            "count": 0
           },
           {
            "bin_end": 1.3851288,
            "bin_start": 1.2851287999999998,
            "count": 0
           },
           {
            "bin_end": 1.4851288,
            "bin_start": 1.3851288,
            "count": 0
           },
           {
            "bin_end": 1.5851288,
            "bin_start": 1.4851288,
            "count": 0
           }
          ],
          "max": 1.0851288,
          "min": 1.0851288,
          "nan_count": 0,
          "unique_count": 1
         }
        },
        {
         "dtype": "float64",
         "name": "cloud2",
         "stats": {
          "histogram": [
           {
            "bin_end": -1.24654284,
            "bin_start": -1.3465428400000001,
            "count": 0
           },
           {
            "bin_end": -1.1465428400000002,
            "bin_start": -1.24654284,
            "count": 0
           },
           {
            "bin_end": -1.04654284,
            "bin_start": -1.1465428400000002,
            "count": 0
           },
           {
            "bin_end": -0.9465428400000001,
            "bin_start": -1.04654284,
            "count": 0
           },
           {
            "bin_end": -0.8465428400000001,
            "bin_start": -0.9465428400000001,
            "count": 0
           },
           {
            "bin_end": -0.74654284,
            "bin_start": -0.8465428400000001,
            "count": 5
           },
           {
            "bin_end": -0.6465428400000001,
            "bin_start": -0.74654284,
            "count": 0
           },
           {
            "bin_end": -0.5465428400000001,
            "bin_start": -0.6465428400000001,
            "count": 0
           },
           {
            "bin_end": -0.4465428400000001,
            "bin_start": -0.5465428400000001,
            "count": 0
           },
           {
            "bin_end": -0.34654284,
            "bin_start": -0.4465428400000001,
            "count": 0
           }
          ],
          "max": -0.84654284,
          "min": -0.84654284,
          "nan_count": 0,
          "unique_count": 1
         }
        },
        {
         "dtype": "float64",
         "name": "date1",
         "stats": {
          "histogram": [
           {
            "bin_end": 0.09673830000000003,
            "bin_start": -0.0032616999999999785,
            "count": 0
           },
           {
            "bin_end": 0.19673830000000003,
            "bin_start": 0.09673830000000003,
            "count": 0
           },
           {
            "bin_end": 0.29673830000000007,
            "bin_start": 0.19673830000000003,
            "count": 0
           },
           {
            "bin_end": 0.39673830000000004,
            "bin_start": 0.29673830000000007,
            "count": 0
           },
           {
            "bin_end": 0.4967383,
            "bin_start": 0.39673830000000004,
            "count": 0
           },
           {
            "bin_end": 0.5967383000000002,
            "bin_start": 0.4967383,
            "count": 5
           },
           {
            "bin_end": 0.6967383,
            "bin_start": 0.5967383000000002,
            "count": 0
           },
           {
            "bin_end": 0.7967383000000001,
            "bin_start": 0.6967383,
            "count": 0
           },
           {
            "bin_end": 0.8967383,
            "bin_start": 0.7967383000000001,
            "count": 0
           },
           {
            "bin_end": 0.9967383000000001,
            "bin_start": 0.8967383,
            "count": 0
           }
          ],
          "max": 0.4967383,
          "min": 0.4967383,
          "nan_count": 0,
          "unique_count": 1
         }
        },
        {
         "dtype": "float64",
         "name": "date2",
         "stats": {
          "histogram": [
           {
            "bin_end": -0.46696614000000003,
            "bin_start": -0.56696614,
            "count": 0
           },
           {
            "bin_end": -0.36696614,
            "bin_start": -0.46696614000000003,
            "count": 0
           },
           {
            "bin_end": -0.26696613999999996,
            "bin_start": -0.36696614,
            "count": 0
           },
           {
            "bin_end": -0.16696613999999999,
            "bin_start": -0.26696613999999996,
            "count": 0
           },
           {
            "bin_end": -0.06696614000000001,
            "bin_start": -0.16696613999999999,
            "count": 0
           },
           {
            "bin_end": 0.03303386000000008,
            "bin_start": -0.06696614000000001,
            "count": 5
           },
           {
            "bin_end": 0.13303386000000006,
            "bin_start": 0.03303386000000008,
            "count": 0
           },
           {
            "bin_end": 0.23303386000000004,
            "bin_start": 0.13303386000000006,
            "count": 0
           },
           {
            "bin_end": 0.33303386,
            "bin_start": 0.23303386000000004,
            "count": 0
           },
           {
            "bin_end": 0.43303386,
            "bin_start": 0.33303386,
            "count": 0
           }
          ],
          "max": -0.06696614,
          "min": -0.06696614,
          "nan_count": 0,
          "unique_count": 1
         }
        },
        {
         "dtype": "float64",
         "name": "hour1",
         "stats": {
          "histogram": [
           {
            "bin_end": 0.04840649999999999,
            "bin_start": -0.051593500000000014,
            "count": 0
           },
           {
            "bin_end": 0.1484065,
            "bin_start": 0.04840649999999999,
            "count": 0
           },
           {
            "bin_end": 0.24840650000000003,
            "bin_start": 0.1484065,
            "count": 0
           },
           {
            "bin_end": 0.3484065,
            "bin_start": 0.24840650000000003,
            "count": 0
           },
           {
            "bin_end": 0.4484065,
            "bin_start": 0.3484065,
            "count": 0
           },
           {
            "bin_end": 0.5484065,
            "bin_start": 0.4484065,
            "count": 5
           },
           {
            "bin_end": 0.6484065000000001,
            "bin_start": 0.5484065,
            "count": 0
           },
           {
            "bin_end": 0.7484065,
            "bin_start": 0.6484065000000001,
            "count": 0
           },
           {
            "bin_end": 0.8484065000000001,
            "bin_start": 0.7484065,
            "count": 0
           },
           {
            "bin_end": 0.9484064999999999,
            "bin_start": 0.8484065000000001,
            "count": 0
           }
          ],
          "max": 0.4484065,
          "min": 0.4484065,
          "nan_count": 0,
          "unique_count": 1
         }
        },
        {
         "dtype": "float64",
         "name": "hour2",
         "stats": {
          "histogram": [
           {
            "bin_end": -1.5650125,
            "bin_start": -1.6650125,
            "count": 0
           },
           {
            "bin_end": -1.4650125,
            "bin_start": -1.5650125,
            "count": 0
           },
           {
            "bin_end": -1.3650125,
            "bin_start": -1.4650125,
            "count": 0
           },
           {
            "bin_end": -1.2650125,
            "bin_start": -1.3650125,
            "count": 0
           },
           {
            "bin_end": -1.1650125,
            "bin_start": -1.2650125,
            "count": 0
           },
           {
            "bin_end": -1.0650125,
            "bin_start": -1.1650125,
            "count": 5
           },
           {
            "bin_end": -0.9650124999999999,
            "bin_start": -1.0650125,
            "count": 0
           },
           {
            "bin_end": -0.8650125,
            "bin_start": -0.9650124999999999,
            "count": 0
           },
           {
            "bin_end": -0.7650125,
            "bin_start": -0.8650125,
            "count": 0
           },
           {
            "bin_end": -0.6650125,
            "bin_start": -0.7650125,
            "count": 0
           }
          ],
          "max": -1.1650125,
          "min": -1.1650125,
          "nan_count": 0,
          "unique_count": 1
         }
        },
        {
         "dtype": "float64",
         "name": "ing_w",
         "stats": {
          "histogram": [
           {
            "bin_end": 0.6,
            "bin_start": 0.5,
            "count": 0
           },
           {
            "bin_end": 0.7,
            "bin_start": 0.6,
            "count": 0
           },
           {
            "bin_end": 0.8,
            "bin_start": 0.7,
            "count": 0
           },
           {
            "bin_end": 0.9,
            "bin_start": 0.8,
            "count": 0
           },
           {
            "bin_end": 1,
            "bin_start": 0.9,
            "count": 0
           },
           {
            "bin_end": 1.1,
            "bin_start": 1,
            "count": 5
           },
           {
            "bin_end": 1.2000000000000002,
            "bin_start": 1.1,
            "count": 0
           },
           {
            "bin_end": 1.3,
            "bin_start": 1.2000000000000002,
            "count": 0
           },
           {
            "bin_end": 1.4,
            "bin_start": 1.3,
            "count": 0
           },
           {
            "bin_end": 1.5,
            "bin_start": 1.4,
            "count": 0
           }
          ],
          "max": 1,
          "min": 1,
          "nan_count": 0,
          "unique_count": 1
         }
        },
        {
         "dtype": "float64",
         "name": "ing_x",
         "stats": {
          "histogram": [
           {
            "bin_end": -0.4,
            "bin_start": -0.5,
            "count": 0
           },
           {
            "bin_end": -0.3,
            "bin_start": -0.4,
            "count": 0
           },
           {
            "bin_end": -0.19999999999999996,
            "bin_start": -0.3,
            "count": 0
           },
           {
            "bin_end": -0.09999999999999998,
            "bin_start": -0.19999999999999996,
            "count": 0
           },
           {
            "bin_end": 0,
            "bin_start": -0.09999999999999998,
            "count": 0
           },
           {
            "bin_end": 0.10000000000000009,
            "bin_start": 0,
            "count": 5
           },
           {
            "bin_end": 0.20000000000000007,
            "bin_start": 0.10000000000000009,
            "count": 0
           },
           {
            "bin_end": 0.30000000000000004,
            "bin_start": 0.20000000000000007,
            "count": 0
           },
           {
            "bin_end": 0.4,
            "bin_start": 0.30000000000000004,
            "count": 0
           },
           {
            "bin_end": 0.5,
            "bin_start": 0.4,
            "count": 0
           }
          ],
          "max": 0,
          "min": 0,
          "nan_count": 0,
          "unique_count": 1
         }
        },
        {
         "dtype": "float64",
         "name": "ing_y",
         "stats": {
          "histogram": [
           {
            "bin_end": -0.4,
            "bin_start": -0.5,
            "count": 0
           },
           {
            "bin_end": -0.3,
            "bin_start": -0.4,
            "count": 0
           },
           {
            "bin_end": -0.19999999999999996,
            "bin_start": -0.3,
            "count": 0
           },
           {
            "bin_end": -0.09999999999999998,
            "bin_start": -0.19999999999999996,
            "count": 0
           },
           {
            "bin_end": 0,
            "bin_start": -0.09999999999999998,
            "count": 0
           },
           {
            "bin_end": 0.10000000000000009,
            "bin_start": 0,
            "count": 5
           },
           {
            "bin_end": 0.20000000000000007,
            "bin_start": 0.10000000000000009,
            "count": 0
           },
           {
            "bin_end": 0.30000000000000004,
            "bin_start": 0.20000000000000007,
            "count": 0
           },
           {
            "bin_end": 0.4,
            "bin_start": 0.30000000000000004,
            "count": 0
           },
           {
            "bin_end": 0.5,
            "bin_start": 0.4,
            "count": 0
           }
          ],
          "max": 0,
          "min": 0,
          "nan_count": 0,
          "unique_count": 1
         }
        },
        {
         "dtype": "float64",
         "name": "ing_z",
         "stats": {
          "histogram": [
           {
            "bin_end": -0.4,
            "bin_start": -0.5,
            "count": 0
           },
           {
            "bin_end": -0.3,
            "bin_start": -0.4,
            "count": 0
           },
           {
            "bin_end": -0.19999999999999996,
            "bin_start": -0.3,
            "count": 0
           },
           {
            "bin_end": -0.09999999999999998,
            "bin_start": -0.19999999999999996,
            "count": 0
           },
           {
            "bin_end": 0,
            "bin_start": -0.09999999999999998,
            "count": 0
           },
           {
            "bin_end": 0.10000000000000009,
            "bin_start": 0,
            "count": 5
           },
           {
            "bin_end": 0.20000000000000007,
            "bin_start": 0.10000000000000009,
            "count": 0
           },
           {
            "bin_end": 0.30000000000000004,
            "bin_start": 0.20000000000000007,
            "count": 0
           },
           {
            "bin_end": 0.4,
            "bin_start": 0.30000000000000004,
            "count": 0
           },
           {
            "bin_end": 0.5,
            "bin_start": 0.4,
            "count": 0
           }
          ],
          "max": 0,
          "min": 0,
          "nan_count": 0,
          "unique_count": 1
         }
        },
        {
         "dtype": "float64",
         "name": "month1",
         "stats": {
          "histogram": [
           {
            "bin_end": -0.4,
            "bin_start": -0.5,
            "count": 0
           },
           {
            "bin_end": -0.3,
            "bin_start": -0.4,
            "count": 0
           },
           {
            "bin_end": -0.19999999999999996,
            "bin_start": -0.3,
            "count": 0
           },
           {
            "bin_end": -0.09999999999999998,
            "bin_start": -0.19999999999999996,
            "count": 0
           },
           {
            "bin_end": 0,
            "bin_start": -0.09999999999999998,
            "count": 0
           },
           {
            "bin_end": 0.10000000000000009,
            "bin_start": 0,
            "count": 5
           },
           {
            "bin_end": 0.20000000000000007,
            "bin_start": 0.10000000000000009,
            "count": 0
           },
           {
            "bin_end": 0.30000000000000004,
            "bin_start": 0.20000000000000007,
            "count": 0
           },
           {
            "bin_end": 0.4,
            "bin_start": 0.30000000000000004,
            "count": 0
           },
           {
            "bin_end": 0.5,
            "bin_start": 0.4,
            "count": 0
           }
          ],
          "max": 0,
          "min": 0,
          "nan_count": 0,
          "unique_count": 1
         }
        },
        {
         "dtype": "float64",
         "name": "month2",
         "stats": {
          "histogram": [
           {
            "bin_end": -0.4,
            "bin_start": -0.5,
            "count": 0
           },
           {
            "bin_end": -0.3,
            "bin_start": -0.4,
            "count": 0
           },
           {
            "bin_end": -0.19999999999999996,
            "bin_start": -0.3,
            "count": 0
           },
           {
            "bin_end": -0.09999999999999998,
            "bin_start": -0.19999999999999996,
            "count": 0
           },
           {
            "bin_end": 0,
            "bin_start": -0.09999999999999998,
            "count": 0
           },
           {
            "bin_end": 0.10000000000000009,
            "bin_start": 0,
            "count": 5
           },
           {
            "bin_end": 0.20000000000000007,
            "bin_start": 0.10000000000000009,
            "count": 0
           },
           {
            "bin_end": 0.30000000000000004,
            "bin_start": 0.20000000000000007,
            "count": 0
           },
           {
            "bin_end": 0.4,
            "bin_start": 0.30000000000000004,
            "count": 0
           },
           {
            "bin_end": 0.5,
            "bin_start": 0.4,
            "count": 0
           }
          ],
          "max": 0,
          "min": 0,
          "nan_count": 0,
          "unique_count": 1
         }
        },
        {
         "dtype": "float64",
         "name": "month3",
         "stats": {
          "histogram": [
           {
            "bin_end": 0.1,
            "bin_start": 0,
            "count": 3
           },
           {
            "bin_end": 0.2,
            "bin_start": 0.1,
            "count": 0
           },
           {
            "bin_end": 0.30000000000000004,
            "bin_start": 0.2,
            "count": 0
           },
           {
            "bin_end": 0.4,
            "bin_start": 0.30000000000000004,
            "count": 0
           },
           {
            "bin_end": 0.5,
            "bin_start": 0.4,
            "count": 0
           },
           {
            "bin_end": 0.6000000000000001,
            "bin_start": 0.5,
            "count": 0
           },
           {
            "bin_end": 0.7000000000000001,
            "bin_start": 0.6000000000000001,
            "count": 0
           },
           {
            "bin_end": 0.8,
            "bin_start": 0.7000000000000001,
            "count": 0
           },
           {
            "bin_end": 0.9,
            "bin_start": 0.8,
            "count": 0
           },
           {
            "bin_end": 1,
            "bin_start": 0.9,
            "count": 2
           }
          ],
          "max": 1,
          "min": 0,
          "nan_count": 0,
          "unique_count": 2
         }
        },
        {
         "dtype": "float64",
         "name": "month4",
         "stats": {
          "histogram": [
           {
            "bin_end": -0.4,
            "bin_start": -0.5,
            "count": 0
           },
           {
            "bin_end": -0.3,
            "bin_start": -0.4,
            "count": 0
           },
           {
            "bin_end": -0.19999999999999996,
            "bin_start": -0.3,
            "count": 0
           },
           {
            "bin_end": -0.09999999999999998,
            "bin_start": -0.19999999999999996,
            "count": 0
           },
           {
            "bin_end": 0,
            "bin_start": -0.09999999999999998,
            "count": 0
           },
           {
            "bin_end": 0.10000000000000009,
            "bin_start": 0,
            "count": 5
           },
           {
            "bin_end": 0.20000000000000007,
            "bin_start": 0.10000000000000009,
            "count": 0
           },
           {
            "bin_end": 0.30000000000000004,
            "bin_start": 0.20000000000000007,
            "count": 0
           },
           {
            "bin_end": 0.4,
            "bin_start": 0.30000000000000004,
            "count": 0
           },
           {
            "bin_end": 0.5,
            "bin_start": 0.4,
            "count": 0
           }
          ],
          "max": 0,
          "min": 0,
          "nan_count": 0,
          "unique_count": 1
         }
        },
        {
         "dtype": "float64",
         "name": "month5",
         "stats": {
          "histogram": [
           {
            "bin_end": -0.4,
            "bin_start": -0.5,
            "count": 0
           },
           {
            "bin_end": -0.3,
            "bin_start": -0.4,
            "count": 0
           },
           {
            "bin_end": -0.19999999999999996,
            "bin_start": -0.3,
            "count": 0
           },
           {
            "bin_end": -0.09999999999999998,
            "bin_start": -0.19999999999999996,
            "count": 0
           },
           {
            "bin_end": 0,
            "bin_start": -0.09999999999999998,
            "count": 0
           },
           {
            "bin_end": 0.10000000000000009,
            "bin_start": 0,
            "count": 5
           },
           {
            "bin_end": 0.20000000000000007,
            "bin_start": 0.10000000000000009,
            "count": 0
           },
           {
            "bin_end": 0.30000000000000004,
            "bin_start": 0.20000000000000007,
            "count": 0
           },
           {
            "bin_end": 0.4,
            "bin_start": 0.30000000000000004,
            "count": 0
           },
           {
            "bin_end": 0.5,
            "bin_start": 0.4,
            "count": 0
           }
          ],
          "max": 0,
          "min": 0,
          "nan_count": 0,
          "unique_count": 1
         }
        },
        {
         "dtype": "float64",
         "name": "month6",
         "stats": {
          "histogram": [
           {
            "bin_end": -0.4,
            "bin_start": -0.5,
            "count": 0
           },
           {
            "bin_end": -0.3,
            "bin_start": -0.4,
            "count": 0
           },
           {
            "bin_end": -0.19999999999999996,
            "bin_start": -0.3,
            "count": 0
           },
           {
            "bin_end": -0.09999999999999998,
            "bin_start": -0.19999999999999996,
            "count": 0
           },
           {
            "bin_end": 0,
            "bin_start": -0.09999999999999998,
            "count": 0
           },
           {
            "bin_end": 0.10000000000000009,
            "bin_start": 0,
            "count": 5
           },
           {
            "bin_end": 0.20000000000000007,
            "bin_start": 0.10000000000000009,
            "count": 0
           },
           {
            "bin_end": 0.30000000000000004,
            "bin_start": 0.20000000000000007,
            "count": 0
           },
           {
            "bin_end": 0.4,
            "bin_start": 0.30000000000000004,
            "count": 0
           },
           {
            "bin_end": 0.5,
            "bin_start": 0.4,
            "count": 0
           }
          ],
          "max": 0,
          "min": 0,
          "nan_count": 0,
          "unique_count": 1
         }
        },
        {
         "dtype": "float64",
         "name": "month7",
         "stats": {
          "histogram": [
           {
            "bin_end": -0.4,
            "bin_start": -0.5,
            "count": 0
           },
           {
            "bin_end": -0.3,
            "bin_start": -0.4,
            "count": 0
           },
           {
            "bin_end": -0.19999999999999996,
            "bin_start": -0.3,
            "count": 0
           },
           {
            "bin_end": -0.09999999999999998,
            "bin_start": -0.19999999999999996,
            "count": 0
           },
           {
            "bin_end": 0,
            "bin_start": -0.09999999999999998,
            "count": 0
           },
           {
            "bin_end": 0.10000000000000009,
            "bin_start": 0,
            "count": 5
           },
           {
            "bin_end": 0.20000000000000007,
            "bin_start": 0.10000000000000009,
            "count": 0
           },
           {
            "bin_end": 0.30000000000000004,
            "bin_start": 0.20000000000000007,
            "count": 0
           },
           {
            "bin_end": 0.4,
            "bin_start": 0.30000000000000004,
            "count": 0
           },
           {
            "bin_end": 0.5,
            "bin_start": 0.4,
            "count": 0
           }
          ],
          "max": 0,
          "min": 0,
          "nan_count": 0,
          "unique_count": 1
         }
        },
        {
         "dtype": "float64",
         "name": "month8",
         "stats": {
          "histogram": [
           {
            "bin_end": 0.1,
            "bin_start": 0,
            "count": 3
           },
           {
            "bin_end": 0.2,
            "bin_start": 0.1,
            "count": 0
           },
           {
            "bin_end": 0.30000000000000004,
            "bin_start": 0.2,
            "count": 0
           },
           {
            "bin_end": 0.4,
            "bin_start": 0.30000000000000004,
            "count": 0
           },
           {
            "bin_end": 0.5,
            "bin_start": 0.4,
            "count": 0
           },
           {
            "bin_end": 0.6000000000000001,
            "bin_start": 0.5,
            "count": 0
           },
           {
            "bin_end": 0.7000000000000001,
            "bin_start": 0.6000000000000001,
            "count": 0
           },
           {
            "bin_end": 0.8,
            "bin_start": 0.7000000000000001,
            "count": 0
           },
           {
            "bin_end": 0.9,
            "bin_start": 0.8,
            "count": 0
           },
           {
            "bin_end": 1,
            "bin_start": 0.9,
            "count": 2
           }
          ],
          "max": 1,
          "min": 0,
          "nan_count": 0,
          "unique_count": 2
         }
        },
        {
         "dtype": "float64",
         "name": "month9",
         "stats": {
          "histogram": [
           {
            "bin_end": -0.4,
            "bin_start": -0.5,
            "count": 0
           },
           {
            "bin_end": -0.3,
            "bin_start": -0.4,
            "count": 0
           },
           {
            "bin_end": -0.19999999999999996,
            "bin_start": -0.3,
            "count": 0
           },
           {
            "bin_end": -0.09999999999999998,
            "bin_start": -0.19999999999999996,
            "count": 0
           },
           {
            "bin_end": 0,
            "bin_start": -0.09999999999999998,
            "count": 0
           },
           {
            "bin_end": 0.10000000000000009,
            "bin_start": 0,
            "count": 5
           },
           {
            "bin_end": 0.20000000000000007,
            "bin_start": 0.10000000000000009,
            "count": 0
           },
           {
            "bin_end": 0.30000000000000004,
            "bin_start": 0.20000000000000007,
            "count": 0
           },
           {
            "bin_end": 0.4,
            "bin_start": 0.30000000000000004,
            "count": 0
           },
           {
            "bin_end": 0.5,
            "bin_start": 0.4,
            "count": 0
           }
          ],
          "max": 0,
          "min": 0,
          "nan_count": 0,
          "unique_count": 1
         }
        },
        {
         "dtype": "float64",
         "name": "month10",
         "stats": {
          "histogram": [
           {
            "bin_end": -0.4,
            "bin_start": -0.5,
            "count": 0
           },
           {
            "bin_end": -0.3,
            "bin_start": -0.4,
            "count": 0
           },
           {
            "bin_end": -0.19999999999999996,
            "bin_start": -0.3,
            "count": 0
           },
           {
            "bin_end": -0.09999999999999998,
            "bin_start": -0.19999999999999996,
            "count": 0
           },
           {
            "bin_end": 0,
            "bin_start": -0.09999999999999998,
            "count": 0
           },
           {
            "bin_end": 0.10000000000000009,
            "bin_start": 0,
            "count": 5
           },
           {
            "bin_end": 0.20000000000000007,
            "bin_start": 0.10000000000000009,
            "count": 0
           },
           {
            "bin_end": 0.30000000000000004,
            "bin_start": 0.20000000000000007,
            "count": 0
           },
           {
            "bin_end": 0.4,
            "bin_start": 0.30000000000000004,
            "count": 0
           },
           {
            "bin_end": 0.5,
            "bin_start": 0.4,
            "count": 0
           }
          ],
          "max": 0,
          "min": 0,
          "nan_count": 0,
          "unique_count": 1
         }
        },
        {
         "dtype": "float64",
         "name": "month11",
         "stats": {
          "histogram": [
           {
            "bin_end": 0.1,
            "bin_start": 0,
            "count": 4
           },
           {
            "bin_end": 0.2,
            "bin_start": 0.1,
            "count": 0
           },
           {
            "bin_end": 0.30000000000000004,
            "bin_start": 0.2,
            "count": 0
           },
           {
            "bin_end": 0.4,
            "bin_start": 0.30000000000000004,
            "count": 0
           },
           {
            "bin_end": 0.5,
            "bin_start": 0.4,
            "count": 0
           },
           {
            "bin_end": 0.6000000000000001,
            "bin_start": 0.5,
            "count": 0
           },
           {
            "bin_end": 0.7000000000000001,
            "bin_start": 0.6000000000000001,
            "count": 0
           },
           {
            "bin_end": 0.8,
            "bin_start": 0.7000000000000001,
            "count": 0
           },
           {
            "bin_end": 0.9,
            "bin_start": 0.8,
            "count": 0
           },
           {
            "bin_end": 1,
            "bin_start": 0.9,
            "count": 1
           }
          ],
          "max": 1,
          "min": 0,
          "nan_count": 0,
          "unique_count": 2
         }
        },
        {
         "dtype": "float64",
         "name": "month12",
         "stats": {
          "histogram": [
           {
            "bin_end": -0.4,
            "bin_start": -0.5,
            "count": 0
           },
           {
            "bin_end": -0.3,
            "bin_start": -0.4,
            "count": 0
           },
           {
            "bin_end": -0.19999999999999996,
            "bin_start": -0.3,
            "count": 0
           },
           {
            "bin_end": -0.09999999999999998,
            "bin_start": -0.19999999999999996,
            "count": 0
           },
           {
            "bin_end": 0,
            "bin_start": -0.09999999999999998,
            "count": 0
           },
           {
            "bin_end": 0.10000000000000009,
            "bin_start": 0,
            "count": 5
           },
           {
            "bin_end": 0.20000000000000007,
            "bin_start": 0.10000000000000009,
            "count": 0
           },
           {
            "bin_end": 0.30000000000000004,
            "bin_start": 0.20000000000000007,
            "count": 0
           },
           {
            "bin_end": 0.4,
            "bin_start": 0.30000000000000004,
            "count": 0
           },
           {
            "bin_end": 0.5,
            "bin_start": 0.4,
            "count": 0
           }
          ],
          "max": 0,
          "min": 0,
          "nan_count": 0,
          "unique_count": 1
         }
        },
        {
         "dtype": "float64",
         "name": "yield",
         "stats": {
          "histogram": [
           {
            "bin_end": 26.866,
            "bin_start": 10.09,
            "count": 2
           },
           {
            "bin_end": 43.641999999999996,
            "bin_start": 26.866,
            "count": 0
           },
           {
            "bin_end": 60.418000000000006,
            "bin_start": 43.641999999999996,
            "count": 0
           },
           {
            "bin_end": 77.194,
            "bin_start": 60.418000000000006,
            "count": 2
           },
           {
            "bin_end": 93.97,
            "bin_start": 77.194,
            "count": 0
           },
           {
            "bin_end": 110.74600000000001,
            "bin_start": 93.97,
            "count": 0
           },
           {
            "bin_end": 127.522,
            "bin_start": 110.74600000000001,
            "count": 0
           },
           {
            "bin_end": 144.298,
            "bin_start": 127.522,
            "count": 0
           },
           {
            "bin_end": 161.074,
            "bin_start": 144.298,
            "count": 0
           },
           {
            "bin_end": 177.85,
            "bin_start": 161.074,
            "count": 1
           }
          ],
          "max": 177.85,
          "min": 10.09,
          "nan_count": 0,
          "unique_count": 5
         }
        },
        {
         "dtype": "int64",
         "name": "_deepnote_index_column"
        }
       ],
       "row_count": 5,
       "rows_bottom": null,
       "rows_top": [
        {
         "Loc1": 1.16799,
         "Loc2": 0.44563186,
         "_deepnote_index_column": 0,
         "cloud1": 1.0851288,
         "cloud2": -0.84654284,
         "date1": 0.4967383,
         "date2": -0.06696614,
         "dew_temp": -0.48605537,
         "farm_area": -0.5223555,
         "fc1": 0.1897932,
         "fc2": 0.43190324,
         "fid1": 0.43571728,
         "fid2": 0.08461076,
         "fid3": -1.1292701,
         "fid4": -0.9110794,
         "hour1": 0.4484065,
         "hour2": -1.1650125,
         "ing_w": 1,
         "ing_x": 0,
         "ing_y": 0,
         "ing_z": 0,
         "month1": 0,
         "month10": 0,
         "month11": 1,
         "month12": 0,
         "month2": 0,
         "month3": 0,
         "month4": 0,
         "month5": 0,
         "month6": 0,
         "month7": 0,
         "month8": 0,
         "month9": 0,
         "precipitation": -0.18255055,
         "pressure_sea_level": 0.32929173,
         "temp_obs": -0.39090762,
         "wind_direction": -0.098766,
         "wind_speed": -0.56598437,
         "yield": 61.72
        },
        {
         "Loc1": 1.16799,
         "Loc2": 0.44563186,
         "_deepnote_index_column": 1,
         "cloud1": 1.0851288,
         "cloud2": -0.84654284,
         "date1": 0.4967383,
         "date2": -0.06696614,
         "dew_temp": 0.16313754,
         "farm_area": -0.5223555,
         "fc1": 0.1897932,
         "fc2": 0.43190324,
         "fid1": 0.43571728,
         "fid2": 0.08461076,
         "fid3": -1.1292701,
         "fid4": -0.9110794,
         "hour1": 0.4484065,
         "hour2": -1.1650125,
         "ing_w": 1,
         "ing_x": 0,
         "ing_y": 0,
         "ing_z": 0,
         "month1": 0,
         "month10": 0,
         "month11": 0,
         "month12": 0,
         "month2": 0,
         "month3": 1,
         "month4": 0,
         "month5": 0,
         "month6": 0,
         "month7": 0,
         "month8": 0,
         "month9": 0,
         "precipitation": -0.3266968,
         "pressure_sea_level": 0.059939954,
         "temp_obs": -0.4457499,
         "wind_direction": -1.2730876,
         "wind_speed": 0.53742915,
         "yield": 66.98
        },
        {
         "Loc1": 1.16799,
         "Loc2": 0.44563186,
         "_deepnote_index_column": 2,
         "cloud1": 1.0851288,
         "cloud2": -0.84654284,
         "date1": 0.4967383,
         "date2": -0.06696614,
         "dew_temp": 1.3729973,
         "farm_area": -0.5223555,
         "fc1": 0.1897932,
         "fc2": 0.43190324,
         "fid1": 0.43571728,
         "fid2": 0.08461076,
         "fid3": -1.1292701,
         "fid4": -0.9110794,
         "hour1": 0.4484065,
         "hour2": -1.1650125,
         "ing_w": 1,
         "ing_x": 0,
         "ing_y": 0,
         "ing_z": 0,
         "month1": 0,
         "month10": 0,
         "month11": 0,
         "month12": 0,
         "month2": 0,
         "month3": 0,
         "month4": 0,
         "month5": 0,
         "month6": 0,
         "month7": 0,
         "month8": 1,
         "month9": 0,
         "precipitation": -0.18255055,
         "pressure_sea_level": 0.22155173,
         "temp_obs": 1.89419,
         "wind_direction": 0.9852232,
         "wind_speed": 0.53742915,
         "yield": 177.85
        },
        {
         "Loc1": 1.16799,
         "Loc2": 0.44563186,
         "_deepnote_index_column": 3,
         "cloud1": 1.0851288,
         "cloud2": -0.84654284,
         "date1": 0.4967383,
         "date2": -0.06696614,
         "dew_temp": 1.3729973,
         "farm_area": -0.813962,
         "fc1": 0.1897932,
         "fc2": 0.43190324,
         "fid1": 1.7123543,
         "fid2": -1.7277428,
         "fid3": -0.30330536,
         "fid4": -0.76873785,
         "hour1": 0.4484065,
         "hour2": -1.1650125,
         "ing_w": 1,
         "ing_x": 0,
         "ing_y": 0,
         "ing_z": 0,
         "month1": 0,
         "month10": 0,
         "month11": 0,
         "month12": 0,
         "month2": 0,
         "month3": 0,
         "month4": 0,
         "month5": 0,
         "month6": 0,
         "month7": 0,
         "month8": 1,
         "month9": 0,
         "precipitation": -0.18255055,
         "pressure_sea_level": 0.22155173,
         "temp_obs": 1.89419,
         "wind_direction": 0.9852232,
         "wind_speed": 0.53742915,
         "yield": 23.22
        },
        {
         "Loc1": 1.16799,
         "Loc2": 0.44563186,
         "_deepnote_index_column": 4,
         "cloud1": 1.0851288,
         "cloud2": -0.84654284,
         "date1": 0.4967383,
         "date2": -0.06696614,
         "dew_temp": 0.16313754,
         "farm_area": -0.813962,
         "fc1": 0.1897932,
         "fc2": 0.43190324,
         "fid1": 1.7123543,
         "fid2": -1.7277428,
         "fid3": -0.30330536,
         "fid4": -0.76873785,
         "hour1": 0.4484065,
         "hour2": -1.1650125,
         "ing_w": 1,
         "ing_x": 0,
         "ing_y": 0,
         "ing_z": 0,
         "month1": 0,
         "month10": 0,
         "month11": 0,
         "month12": 0,
         "month2": 0,
         "month3": 1,
         "month4": 0,
         "month5": 0,
         "month6": 0,
         "month7": 0,
         "month8": 0,
         "month9": 0,
         "precipitation": -0.3266968,
         "pressure_sea_level": 0.059939954,
         "temp_obs": -0.4457499,
         "wind_direction": -1.2730876,
         "wind_speed": 0.53742915,
         "yield": 10.09
        }
       ]
      },
      "text/html": [
       "<div>\n",
       "<style scoped>\n",
       "    .dataframe tbody tr th:only-of-type {\n",
       "        vertical-align: middle;\n",
       "    }\n",
       "\n",
       "    .dataframe tbody tr th {\n",
       "        vertical-align: top;\n",
       "    }\n",
       "\n",
       "    .dataframe thead th {\n",
       "        text-align: right;\n",
       "    }\n",
       "</style>\n",
       "<table border=\"1\" class=\"dataframe\">\n",
       "  <thead>\n",
       "    <tr style=\"text-align: right;\">\n",
       "      <th></th>\n",
       "      <th>farm_area</th>\n",
       "      <th>temp_obs</th>\n",
       "      <th>wind_direction</th>\n",
       "      <th>dew_temp</th>\n",
       "      <th>pressure_sea_level</th>\n",
       "      <th>precipitation</th>\n",
       "      <th>wind_speed</th>\n",
       "      <th>fid1</th>\n",
       "      <th>fid2</th>\n",
       "      <th>fid3</th>\n",
       "      <th>...</th>\n",
       "      <th>month4</th>\n",
       "      <th>month5</th>\n",
       "      <th>month6</th>\n",
       "      <th>month7</th>\n",
       "      <th>month8</th>\n",
       "      <th>month9</th>\n",
       "      <th>month10</th>\n",
       "      <th>month11</th>\n",
       "      <th>month12</th>\n",
       "      <th>yield</th>\n",
       "    </tr>\n",
       "  </thead>\n",
       "  <tbody>\n",
       "    <tr>\n",
       "      <th>0</th>\n",
       "      <td>-0.522355</td>\n",
       "      <td>-0.390908</td>\n",
       "      <td>-0.098766</td>\n",
       "      <td>-0.486055</td>\n",
       "      <td>0.329292</td>\n",
       "      <td>-0.182551</td>\n",
       "      <td>-0.565984</td>\n",
       "      <td>0.435717</td>\n",
       "      <td>0.084611</td>\n",
       "      <td>-1.129270</td>\n",
       "      <td>...</td>\n",
       "      <td>0.0</td>\n",
       "      <td>0.0</td>\n",
       "      <td>0.0</td>\n",
       "      <td>0.0</td>\n",
       "      <td>0.0</td>\n",
       "      <td>0.0</td>\n",
       "      <td>0.0</td>\n",
       "      <td>1.0</td>\n",
       "      <td>0.0</td>\n",
       "      <td>61.72</td>\n",
       "    </tr>\n",
       "    <tr>\n",
       "      <th>1</th>\n",
       "      <td>-0.522355</td>\n",
       "      <td>-0.445750</td>\n",
       "      <td>-1.273088</td>\n",
       "      <td>0.163138</td>\n",
       "      <td>0.059940</td>\n",
       "      <td>-0.326697</td>\n",
       "      <td>0.537429</td>\n",
       "      <td>0.435717</td>\n",
       "      <td>0.084611</td>\n",
       "      <td>-1.129270</td>\n",
       "      <td>...</td>\n",
       "      <td>0.0</td>\n",
       "      <td>0.0</td>\n",
       "      <td>0.0</td>\n",
       "      <td>0.0</td>\n",
       "      <td>0.0</td>\n",
       "      <td>0.0</td>\n",
       "      <td>0.0</td>\n",
       "      <td>0.0</td>\n",
       "      <td>0.0</td>\n",
       "      <td>66.98</td>\n",
       "    </tr>\n",
       "    <tr>\n",
       "      <th>2</th>\n",
       "      <td>-0.522355</td>\n",
       "      <td>1.894190</td>\n",
       "      <td>0.985223</td>\n",
       "      <td>1.372997</td>\n",
       "      <td>0.221552</td>\n",
       "      <td>-0.182551</td>\n",
       "      <td>0.537429</td>\n",
       "      <td>0.435717</td>\n",
       "      <td>0.084611</td>\n",
       "      <td>-1.129270</td>\n",
       "      <td>...</td>\n",
       "      <td>0.0</td>\n",
       "      <td>0.0</td>\n",
       "      <td>0.0</td>\n",
       "      <td>0.0</td>\n",
       "      <td>1.0</td>\n",
       "      <td>0.0</td>\n",
       "      <td>0.0</td>\n",
       "      <td>0.0</td>\n",
       "      <td>0.0</td>\n",
       "      <td>177.85</td>\n",
       "    </tr>\n",
       "    <tr>\n",
       "      <th>3</th>\n",
       "      <td>-0.813962</td>\n",
       "      <td>1.894190</td>\n",
       "      <td>0.985223</td>\n",
       "      <td>1.372997</td>\n",
       "      <td>0.221552</td>\n",
       "      <td>-0.182551</td>\n",
       "      <td>0.537429</td>\n",
       "      <td>1.712354</td>\n",
       "      <td>-1.727743</td>\n",
       "      <td>-0.303305</td>\n",
       "      <td>...</td>\n",
       "      <td>0.0</td>\n",
       "      <td>0.0</td>\n",
       "      <td>0.0</td>\n",
       "      <td>0.0</td>\n",
       "      <td>1.0</td>\n",
       "      <td>0.0</td>\n",
       "      <td>0.0</td>\n",
       "      <td>0.0</td>\n",
       "      <td>0.0</td>\n",
       "      <td>23.22</td>\n",
       "    </tr>\n",
       "    <tr>\n",
       "      <th>4</th>\n",
       "      <td>-0.813962</td>\n",
       "      <td>-0.445750</td>\n",
       "      <td>-1.273088</td>\n",
       "      <td>0.163138</td>\n",
       "      <td>0.059940</td>\n",
       "      <td>-0.326697</td>\n",
       "      <td>0.537429</td>\n",
       "      <td>1.712354</td>\n",
       "      <td>-1.727743</td>\n",
       "      <td>-0.303305</td>\n",
       "      <td>...</td>\n",
       "      <td>0.0</td>\n",
       "      <td>0.0</td>\n",
       "      <td>0.0</td>\n",
       "      <td>0.0</td>\n",
       "      <td>0.0</td>\n",
       "      <td>0.0</td>\n",
       "      <td>0.0</td>\n",
       "      <td>0.0</td>\n",
       "      <td>0.0</td>\n",
       "      <td>10.09</td>\n",
       "    </tr>\n",
       "  </tbody>\n",
       "</table>\n",
       "<p>5 rows × 38 columns</p>\n",
       "</div>"
      ],
      "text/plain": [
       "   farm_area  temp_obs  wind_direction  dew_temp  pressure_sea_level  \\\n",
       "0  -0.522355 -0.390908       -0.098766 -0.486055            0.329292   \n",
       "1  -0.522355 -0.445750       -1.273088  0.163138            0.059940   \n",
       "2  -0.522355  1.894190        0.985223  1.372997            0.221552   \n",
       "3  -0.813962  1.894190        0.985223  1.372997            0.221552   \n",
       "4  -0.813962 -0.445750       -1.273088  0.163138            0.059940   \n",
       "\n",
       "   precipitation  wind_speed      fid1      fid2      fid3  ...  month4  \\\n",
       "0      -0.182551   -0.565984  0.435717  0.084611 -1.129270  ...     0.0   \n",
       "1      -0.326697    0.537429  0.435717  0.084611 -1.129270  ...     0.0   \n",
       "2      -0.182551    0.537429  0.435717  0.084611 -1.129270  ...     0.0   \n",
       "3      -0.182551    0.537429  1.712354 -1.727743 -0.303305  ...     0.0   \n",
       "4      -0.326697    0.537429  1.712354 -1.727743 -0.303305  ...     0.0   \n",
       "\n",
       "   month5  month6  month7  month8  month9  month10  month11  month12   yield  \n",
       "0     0.0     0.0     0.0     0.0     0.0      0.0      1.0      0.0   61.72  \n",
       "1     0.0     0.0     0.0     0.0     0.0      0.0      0.0      0.0   66.98  \n",
       "2     0.0     0.0     0.0     1.0     0.0      0.0      0.0      0.0  177.85  \n",
       "3     0.0     0.0     0.0     1.0     0.0      0.0      0.0      0.0   23.22  \n",
       "4     0.0     0.0     0.0     0.0     0.0      0.0      0.0      0.0   10.09  \n",
       "\n",
       "[5 rows x 38 columns]"
      ]
     },
     "execution_count": 7,
     "metadata": {},
     "output_type": "execute_result"
    }
   ],
   "source": [
    "X_test = pd.read_csv('/datasets/final_hack/X_test_Embed_25K.csv')\n",
    "X_test.head()"
   ]
  },
  {
   "cell_type": "code",
   "execution_count": null,
   "metadata": {
    "cell_id": "00007-80077186-e049-4d9d-aaa8-984a65969160",
    "deepnote_cell_type": "code",
    "deepnote_to_be_reexecuted": false,
    "execution_millis": 13,
    "execution_start": 1614945536697,
    "source_hash": "251bcee5",
    "tags": []
   },
   "outputs": [
    {
     "data": {
      "text/plain": [
       "(5127825, 38)"
      ]
     },
     "execution_count": 8,
     "metadata": {},
     "output_type": "execute_result"
    }
   ],
   "source": [
    "X_test.shape"
   ]
  },
  {
   "cell_type": "code",
   "execution_count": null,
   "metadata": {
    "cell_id": "00008-4d31ce70-97d4-49ba-82fa-21db04d848eb",
    "deepnote_cell_type": "code",
    "deepnote_to_be_reexecuted": false,
    "execution_millis": 0,
    "execution_start": 1614945536698,
    "source_hash": "61352ebf",
    "tags": []
   },
   "outputs": [],
   "source": [
    "y_train = X_train['yield']\n",
    "y_test = X_test['yield']"
   ]
  },
  {
   "cell_type": "code",
   "execution_count": null,
   "metadata": {
    "cell_id": "00009-c46fcefe-6114-47af-b406-e16bedb10815",
    "deepnote_cell_type": "code",
    "deepnote_to_be_reexecuted": false,
    "execution_millis": 0,
    "execution_start": 1614945536699,
    "source_hash": "451fb999",
    "tags": []
   },
   "outputs": [],
   "source": [
    "train_values = y_train.values\n",
    "test_values = y_test.values"
   ]
  },
  {
   "cell_type": "code",
   "execution_count": null,
   "metadata": {
    "cell_id": "00010-8da4d6a5-a5ac-4f0f-a088-5b57b3382b44",
    "deepnote_cell_type": "code",
    "deepnote_to_be_reexecuted": false,
    "execution_millis": 25,
    "execution_start": 1614945536739,
    "source_hash": "b9dc394",
    "tags": []
   },
   "outputs": [
    {
     "data": {
      "text/plain": [
       "0     54.80\n",
       "1    178.02\n",
       "2    167.08\n",
       "3     73.28\n",
       "4     92.84\n",
       "Name: yield, dtype: float64"
      ]
     },
     "execution_count": 11,
     "metadata": {},
     "output_type": "execute_result"
    }
   ],
   "source": [
    "y_train.head()"
   ]
  },
  {
   "cell_type": "code",
   "execution_count": null,
   "metadata": {
    "cell_id": "00011-70db729f-e2e4-40b9-86be-141f025ac2f4",
    "deepnote_cell_type": "code",
    "deepnote_to_be_reexecuted": false,
    "execution_millis": 25,
    "execution_start": 1614945536740,
    "source_hash": "f6a63686",
    "tags": []
   },
   "outputs": [
    {
     "data": {
      "text/plain": [
       "array([ 54.8   , 178.02  , 167.08  , ...,   4.875 ,  48.99  ,  79.3425])"
      ]
     },
     "execution_count": 12,
     "metadata": {},
     "output_type": "execute_result"
    }
   ],
   "source": [
    "train_values"
   ]
  },
  {
   "cell_type": "code",
   "execution_count": null,
   "metadata": {
    "cell_id": "00012-c0729263-6712-47a7-b23e-4c52dbe9dea1",
    "deepnote_cell_type": "code",
    "deepnote_to_be_reexecuted": false,
    "execution_millis": 2,
    "execution_start": 1614945538820,
    "source_hash": "90ce4fb2",
    "tags": []
   },
   "outputs": [],
   "source": [
    "X_train.drop(['yield'], axis = 1, inplace = True)\n",
    "X_test.drop(['yield'], axis = 1, inplace = True)"
   ]
  },
  {
   "cell_type": "code",
   "execution_count": null,
   "metadata": {
    "cell_id": "00013-54cfb1b9-2fff-4e5f-b01f-fa651a17ada4",
    "deepnote_cell_type": "code",
    "deepnote_to_be_reexecuted": false,
    "execution_millis": 104,
    "execution_start": 1614945538824,
    "source_hash": "7c234d23",
    "tags": []
   },
   "outputs": [
    {
     "data": {
      "application/vnd.deepnote.dataframe.v2+json": {
       "column_count": 37,
       "columns": [
        {
         "dtype": "float64",
         "name": "farm_area",
         "stats": {
          "histogram": [
           {
            "bin_end": -0.46283562,
            "bin_start": -0.56283562,
            "count": 0
           },
           {
            "bin_end": -0.36283561999999997,
            "bin_start": -0.46283562,
            "count": 0
           },
           {
            "bin_end": -0.26283561999999994,
            "bin_start": -0.36283561999999997,
            "count": 0
           },
           {
            "bin_end": -0.16283561999999996,
            "bin_start": -0.26283561999999994,
            "count": 0
           },
           {
            "bin_end": -0.06283561999999998,
            "bin_start": -0.16283561999999996,
            "count": 5
           },
           {
            "bin_end": 0.03716438000000011,
            "bin_start": -0.06283561999999998,
            "count": 0
           },
           {
            "bin_end": 0.13716438000000009,
            "bin_start": 0.03716438000000011,
            "count": 0
           },
           {
            "bin_end": 0.23716438000000006,
            "bin_start": 0.13716438000000009,
            "count": 0
           },
           {
            "bin_end": 0.33716438000000004,
            "bin_start": 0.23716438000000006,
            "count": 0
           },
           {
            "bin_end": 0.43716438,
            "bin_start": 0.33716438000000004,
            "count": 0
           }
          ],
          "max": -0.06283562,
          "min": -0.06283562,
          "nan_count": 0,
          "unique_count": 1
         }
        },
        {
         "dtype": "float64",
         "name": "temp_obs",
         "stats": {
          "histogram": [
           {
            "bin_end": -1.12579491,
            "bin_start": -1.3597889,
            "count": 1
           },
           {
            "bin_end": -0.8918009200000001,
            "bin_start": -1.12579491,
            "count": 0
           },
           {
            "bin_end": -0.65780693,
            "bin_start": -0.8918009200000001,
            "count": 1
           },
           {
            "bin_end": -0.42381294,
            "bin_start": -0.65780693,
            "count": 1
           },
           {
            "bin_end": -0.18981895000000004,
            "bin_start": -0.42381294,
            "count": 0
           },
           {
            "bin_end": 0.044175040000000054,
            "bin_start": -0.18981895000000004,
            "count": 0
           },
           {
            "bin_end": 0.27816902999999993,
            "bin_start": 0.044175040000000054,
            "count": 1
           },
           {
            "bin_end": 0.51216302,
            "bin_start": 0.27816902999999993,
            "count": 0
           },
           {
            "bin_end": 0.7461570099999999,
            "bin_start": 0.51216302,
            "count": 0
           },
           {
            "bin_end": 0.980151,
            "bin_start": 0.7461570099999999,
            "count": 1
           }
          ],
          "max": 0.980151,
          "min": -1.3597889,
          "nan_count": 0,
          "unique_count": 5
         }
        },
        {
         "dtype": "float64",
         "name": "wind_direction",
         "stats": {
          "histogram": [
           {
            "bin_end": -1.2188881500000002,
            "bin_start": -1.5440849,
            "count": 3
           },
           {
            "bin_end": -0.8936914,
            "bin_start": -1.2188881500000002,
            "count": 0
           },
           {
            "bin_end": -0.56849465,
            "bin_start": -0.8936914,
            "count": 0
           },
           {
            "bin_end": -0.24329789999999996,
            "bin_start": -0.56849465,
            "count": 0
           },
           {
            "bin_end": 0.08189884999999997,
            "bin_start": -0.24329789999999996,
            "count": 0
           },
           {
            "bin_end": 0.4070956000000001,
            "bin_start": 0.08189884999999997,
            "count": 1
           },
           {
            "bin_end": 0.7322923500000003,
            "bin_start": 0.4070956000000001,
            "count": 0
           },
           {
            "bin_end": 1.0574891000000002,
            "bin_start": 0.7322923500000003,
            "count": 0
           },
           {
            "bin_end": 1.38268585,
            "bin_start": 1.0574891000000002,
            "count": 0
           },
           {
            "bin_end": 1.7078826,
            "bin_start": 1.38268585,
            "count": 1
           }
          ],
          "max": 1.7078826,
          "min": -1.5440849,
          "nan_count": 0,
          "unique_count": 4
         }
        },
        {
         "dtype": "float64",
         "name": "dew_temp",
         "stats": {
          "histogram": [
           {
            "bin_end": -0.88245654,
            "bin_start": -1.1450846,
            "count": 1
           },
           {
            "bin_end": -0.6198284799999999,
            "bin_start": -0.88245654,
            "count": 1
           },
           {
            "bin_end": -0.35720041999999985,
            "bin_start": -0.6198284799999999,
            "count": 0
           },
           {
            "bin_end": -0.09457235999999991,
            "bin_start": -0.35720041999999985,
            "count": 1
           },
           {
            "bin_end": 0.16805570000000003,
            "bin_start": -0.09457235999999991,
            "count": 0
           },
           {
            "bin_end": 0.4306837600000002,
            "bin_start": 0.16805570000000003,
            "count": 0
           },
           {
            "bin_end": 0.6933118200000001,
            "bin_start": 0.4306837600000002,
            "count": 1
           },
           {
            "bin_end": 0.9559398800000001,
            "bin_start": 0.6933118200000001,
            "count": 0
           },
           {
            "bin_end": 1.21856794,
            "bin_start": 0.9559398800000001,
            "count": 0
           },
           {
            "bin_end": 1.481196,
            "bin_start": 1.21856794,
            "count": 1
           }
          ],
          "max": 1.481196,
          "min": -1.1450846,
          "nan_count": 0,
          "unique_count": 5
         }
        },
        {
         "dtype": "float64",
         "name": "pressure_sea_level",
         "stats": {
          "histogram": [
           {
            "bin_end": 0.05694935436,
            "bin_start": 0.0060718004,
            "count": 1
           },
           {
            "bin_end": 0.10782690832,
            "bin_start": 0.05694935436,
            "count": 0
           },
           {
            "bin_end": 0.15870446228,
            "bin_start": 0.10782690832,
            "count": 0
           },
           {
            "bin_end": 0.20958201624,
            "bin_start": 0.15870446228,
            "count": 0
           },
           {
            "bin_end": 0.2604595702,
            "bin_start": 0.20958201624,
            "count": 0
           },
           {
            "bin_end": 0.31133712416000003,
            "bin_start": 0.2604595702,
            "count": 0
           },
           {
            "bin_end": 0.36221467812,
            "bin_start": 0.31133712416000003,
            "count": 0
           },
           {
            "bin_end": 0.41309223208,
            "bin_start": 0.36221467812,
            "count": 0
           },
           {
            "bin_end": 0.46396978604,
            "bin_start": 0.41309223208,
            "count": 0
           },
           {
            "bin_end": 0.51484734,
            "bin_start": 0.46396978604,
            "count": 4
           }
          ],
          "max": 0.51484734,
          "min": 0.0060718004,
          "nan_count": 0,
          "unique_count": 5
         }
        },
        {
         "dtype": "float64",
         "name": "precipitation",
         "stats": {
          "histogram": [
           {
            "bin_end": -0.58255055,
            "bin_start": -0.68255055,
            "count": 0
           },
           {
            "bin_end": -0.48255054999999997,
            "bin_start": -0.58255055,
            "count": 0
           },
           {
            "bin_end": -0.38255054999999993,
            "bin_start": -0.48255054999999997,
            "count": 0
           },
           {
            "bin_end": -0.28255054999999996,
            "bin_start": -0.38255054999999993,
            "count": 0
           },
           {
            "bin_end": -0.18255054999999998,
            "bin_start": -0.28255054999999996,
            "count": 5
           },
           {
            "bin_end": -0.08255054999999989,
            "bin_start": -0.18255054999999998,
            "count": 0
           },
           {
            "bin_end": 0.01744945000000009,
            "bin_start": -0.08255054999999989,
            "count": 0
           },
           {
            "bin_end": 0.11744945000000007,
            "bin_start": 0.01744945000000009,
            "count": 0
           },
           {
            "bin_end": 0.21744945000000004,
            "bin_start": 0.11744945000000007,
            "count": 0
           },
           {
            "bin_end": 0.31744945,
            "bin_start": 0.21744945000000004,
            "count": 0
           }
          ],
          "max": -0.18255055,
          "min": -0.18255055,
          "nan_count": 0,
          "unique_count": 1
         }
        },
        {
         "dtype": "float64",
         "name": "wind_speed",
         "stats": {
          "histogram": [
           {
            "bin_end": -1.21920516,
            "bin_start": -1.4928517,
            "count": 2
           },
           {
            "bin_end": -0.9455586199999999,
            "bin_start": -1.21920516,
            "count": 0
           },
           {
            "bin_end": -0.6719120799999999,
            "bin_start": -0.9455586199999999,
            "count": 0
           },
           {
            "bin_end": -0.3982655399999999,
            "bin_start": -0.6719120799999999,
            "count": 0
           },
           {
            "bin_end": -0.12461899999999981,
            "bin_start": -0.3982655399999999,
            "count": 0
           },
           {
            "bin_end": 0.14902754000000007,
            "bin_start": -0.12461899999999981,
            "count": 1
           },
           {
            "bin_end": 0.42267407999999995,
            "bin_start": 0.14902754000000007,
            "count": 0
           },
           {
            "bin_end": 0.6963206200000001,
            "bin_start": 0.42267407999999995,
            "count": 0
           },
           {
            "bin_end": 0.9699671600000002,
            "bin_start": 0.6963206200000001,
            "count": 0
           },
           {
            "bin_end": 1.2436137,
            "bin_start": 0.9699671600000002,
            "count": 2
           }
          ],
          "max": 1.2436137,
          "min": -1.4928517,
          "nan_count": 0,
          "unique_count": 4
         }
        },
        {
         "dtype": "float64",
         "name": "fid1",
         "stats": {
          "histogram": [
           {
            "bin_end": -0.52819242,
            "bin_start": -0.62819242,
            "count": 0
           },
           {
            "bin_end": -0.42819241999999996,
            "bin_start": -0.52819242,
            "count": 0
           },
           {
            "bin_end": -0.32819241999999993,
            "bin_start": -0.42819241999999996,
            "count": 0
           },
           {
            "bin_end": -0.22819241999999995,
            "bin_start": -0.32819241999999993,
            "count": 0
           },
           {
            "bin_end": -0.12819241999999997,
            "bin_start": -0.22819241999999995,
            "count": 5
           },
           {
            "bin_end": -0.028192419999999885,
            "bin_start": -0.12819241999999997,
            "count": 0
           },
           {
            "bin_end": 0.07180758000000009,
            "bin_start": -0.028192419999999885,
            "count": 0
           },
           {
            "bin_end": 0.17180758000000007,
            "bin_start": 0.07180758000000009,
            "count": 0
           },
           {
            "bin_end": 0.27180758000000005,
            "bin_start": 0.17180758000000007,
            "count": 0
           },
           {
            "bin_end": 0.37180758,
            "bin_start": 0.27180758000000005,
            "count": 0
           }
          ],
          "max": -0.12819242,
          "min": -0.12819242,
          "nan_count": 0,
          "unique_count": 1
         }
        },
        {
         "dtype": "float64",
         "name": "fid2",
         "stats": {
          "histogram": [
           {
            "bin_end": -0.27270221000000006,
            "bin_start": -0.37270221000000003,
            "count": 0
           },
           {
            "bin_end": -0.17270221000000002,
            "bin_start": -0.27270221000000006,
            "count": 0
           },
           {
            "bin_end": -0.07270220999999999,
            "bin_start": -0.17270221000000002,
            "count": 0
           },
           {
            "bin_end": 0.02729778999999999,
            "bin_start": -0.07270220999999999,
            "count": 0
           },
           {
            "bin_end": 0.12729778999999997,
            "bin_start": 0.02729778999999999,
            "count": 0
           },
           {
            "bin_end": 0.22729779000000006,
            "bin_start": 0.12729778999999997,
            "count": 5
           },
           {
            "bin_end": 0.32729779000000003,
            "bin_start": 0.22729779000000006,
            "count": 0
           },
           {
            "bin_end": 0.42729779,
            "bin_start": 0.32729779000000003,
            "count": 0
           },
           {
            "bin_end": 0.52729779,
            "bin_start": 0.42729779,
            "count": 0
           },
           {
            "bin_end": 0.62729779,
            "bin_start": 0.52729779,
            "count": 0
           }
          ],
          "max": 0.12729779,
          "min": 0.12729779,
          "nan_count": 0,
          "unique_count": 1
         }
        },
        {
         "dtype": "float64",
         "name": "fid3",
         "stats": {
          "histogram": [
           {
            "bin_end": -0.91808214,
            "bin_start": -1.01808214,
            "count": 0
           },
           {
            "bin_end": -0.81808214,
            "bin_start": -0.91808214,
            "count": 0
           },
           {
            "bin_end": -0.7180821399999999,
            "bin_start": -0.81808214,
            "count": 0
           },
           {
            "bin_end": -0.61808214,
            "bin_start": -0.7180821399999999,
            "count": 0
           },
           {
            "bin_end": -0.51808214,
            "bin_start": -0.61808214,
            "count": 0
           },
           {
            "bin_end": -0.4180821399999999,
            "bin_start": -0.51808214,
            "count": 5
           },
           {
            "bin_end": -0.3180821399999999,
            "bin_start": -0.4180821399999999,
            "count": 0
           },
           {
            "bin_end": -0.21808213999999992,
            "bin_start": -0.3180821399999999,
            "count": 0
           },
           {
            "bin_end": -0.11808213999999995,
            "bin_start": -0.21808213999999992,
            "count": 0
           },
           {
            "bin_end": -0.01808213999999997,
            "bin_start": -0.11808213999999995,
            "count": 0
           }
          ],
          "max": -0.51808214,
          "min": -0.51808214,
          "nan_count": 0,
          "unique_count": 1
         }
        },
        {
         "dtype": "float64",
         "name": "fid4",
         "stats": {
          "histogram": [
           {
            "bin_end": -1.273044,
            "bin_start": -1.3730440000000002,
            "count": 0
           },
           {
            "bin_end": -1.1730440000000002,
            "bin_start": -1.273044,
            "count": 0
           },
           {
            "bin_end": -1.073044,
            "bin_start": -1.1730440000000002,
            "count": 0
           },
           {
            "bin_end": -0.9730440000000001,
            "bin_start": -1.073044,
            "count": 0
           },
           {
            "bin_end": -0.8730440000000002,
            "bin_start": -0.9730440000000001,
            "count": 0
           },
           {
            "bin_end": -0.7730440000000001,
            "bin_start": -0.8730440000000002,
            "count": 5
           },
           {
            "bin_end": -0.6730440000000001,
            "bin_start": -0.7730440000000001,
            "count": 0
           },
           {
            "bin_end": -0.5730440000000001,
            "bin_start": -0.6730440000000001,
            "count": 0
           },
           {
            "bin_end": -0.47304400000000013,
            "bin_start": -0.5730440000000001,
            "count": 0
           },
           {
            "bin_end": -0.37304400000000004,
            "bin_start": -0.47304400000000013,
            "count": 0
           }
          ],
          "max": -0.873044,
          "min": -0.873044,
          "nan_count": 0,
          "unique_count": 1
         }
        },
        {
         "dtype": "float64",
         "name": "fc1",
         "stats": {
          "histogram": [
           {
            "bin_end": -0.36884298000000004,
            "bin_start": -0.46884298,
            "count": 0
           },
           {
            "bin_end": -0.26884298,
            "bin_start": -0.36884298000000004,
            "count": 0
           },
           {
            "bin_end": -0.16884297999999998,
            "bin_start": -0.26884298,
            "count": 0
           },
           {
            "bin_end": -0.06884298,
            "bin_start": -0.16884297999999998,
            "count": 0
           },
           {
            "bin_end": 0.03115701999999998,
            "bin_start": -0.06884298,
            "count": 0
           },
           {
            "bin_end": 0.13115702000000007,
            "bin_start": 0.03115701999999998,
            "count": 5
           },
           {
            "bin_end": 0.23115702000000005,
            "bin_start": 0.13115702000000007,
            "count": 0
           },
           {
            "bin_end": 0.33115702,
            "bin_start": 0.23115702000000005,
            "count": 0
           },
           {
            "bin_end": 0.43115702,
            "bin_start": 0.33115702,
            "count": 0
           },
           {
            "bin_end": 0.53115702,
            "bin_start": 0.43115702,
            "count": 0
           }
          ],
          "max": 0.03115702,
          "min": 0.03115702,
          "nan_count": 0,
          "unique_count": 1
         }
        },
        {
         "dtype": "float64",
         "name": "fc2",
         "stats": {
          "histogram": [
           {
            "bin_end": -1.003313,
            "bin_start": -1.103313,
            "count": 0
           },
           {
            "bin_end": -0.903313,
            "bin_start": -1.003313,
            "count": 0
           },
           {
            "bin_end": -0.8033129999999999,
            "bin_start": -0.903313,
            "count": 0
           },
           {
            "bin_end": -0.703313,
            "bin_start": -0.8033129999999999,
            "count": 0
           },
           {
            "bin_end": -0.603313,
            "bin_start": -0.703313,
            "count": 0
           },
           {
            "bin_end": -0.5033129999999999,
            "bin_start": -0.603313,
            "count": 5
           },
           {
            "bin_end": -0.4033129999999999,
            "bin_start": -0.5033129999999999,
            "count": 0
           },
           {
            "bin_end": -0.30331299999999994,
            "bin_start": -0.4033129999999999,
            "count": 0
           },
           {
            "bin_end": -0.20331299999999997,
            "bin_start": -0.30331299999999994,
            "count": 0
           },
           {
            "bin_end": -0.10331299999999999,
            "bin_start": -0.20331299999999997,
            "count": 0
           }
          ],
          "max": -0.603313,
          "min": -0.603313,
          "nan_count": 0,
          "unique_count": 1
         }
        },
        {
         "dtype": "float64",
         "name": "Loc1",
         "stats": {
          "histogram": [
           {
            "bin_end": 0.7679900000000001,
            "bin_start": 0.6679900000000001,
            "count": 0
           },
           {
            "bin_end": 0.86799,
            "bin_start": 0.7679900000000001,
            "count": 0
           },
           {
            "bin_end": 0.9679900000000001,
            "bin_start": 0.86799,
            "count": 0
           },
           {
            "bin_end": 1.06799,
            "bin_start": 0.9679900000000001,
            "count": 0
           },
           {
            "bin_end": 1.16799,
            "bin_start": 1.06799,
            "count": 0
           },
           {
            "bin_end": 1.2679900000000002,
            "bin_start": 1.16799,
            "count": 5
           },
           {
            "bin_end": 1.3679900000000003,
            "bin_start": 1.2679900000000002,
            "count": 0
           },
           {
            "bin_end": 1.4679900000000001,
            "bin_start": 1.3679900000000003,
            "count": 0
           },
           {
            "bin_end": 1.56799,
            "bin_start": 1.4679900000000001,
            "count": 0
           },
           {
            "bin_end": 1.66799,
            "bin_start": 1.56799,
            "count": 0
           }
          ],
          "max": 1.16799,
          "min": 1.16799,
          "nan_count": 0,
          "unique_count": 1
         }
        },
        {
         "dtype": "float64",
         "name": "Loc2",
         "stats": {
          "histogram": [
           {
            "bin_end": 0.045631859999999996,
            "bin_start": -0.05436814000000001,
            "count": 0
           },
           {
            "bin_end": 0.14563186,
            "bin_start": 0.045631859999999996,
            "count": 0
           },
           {
            "bin_end": 0.24563186000000004,
            "bin_start": 0.14563186,
            "count": 0
           },
           {
            "bin_end": 0.34563186,
            "bin_start": 0.24563186000000004,
            "count": 0
           },
           {
            "bin_end": 0.44563186,
            "bin_start": 0.34563186,
            "count": 0
           },
           {
            "bin_end": 0.5456318600000001,
            "bin_start": 0.44563186,
            "count": 5
           },
           {
            "bin_end": 0.6456318600000001,
            "bin_start": 0.5456318600000001,
            "count": 0
           },
           {
            "bin_end": 0.74563186,
            "bin_start": 0.6456318600000001,
            "count": 0
           },
           {
            "bin_end": 0.84563186,
            "bin_start": 0.74563186,
            "count": 0
           },
           {
            "bin_end": 0.94563186,
            "bin_start": 0.84563186,
            "count": 0
           }
          ],
          "max": 0.44563186,
          "min": 0.44563186,
          "nan_count": 0,
          "unique_count": 1
         }
        },
        {
         "dtype": "float64",
         "name": "cloud1",
         "stats": {
          "histogram": [
           {
            "bin_end": 0.6851287999999999,
            "bin_start": 0.5851287999999999,
            "count": 0
           },
           {
            "bin_end": 0.7851287999999998,
            "bin_start": 0.6851287999999999,
            "count": 0
           },
           {
            "bin_end": 0.8851287999999999,
            "bin_start": 0.7851287999999998,
            "count": 0
           },
           {
            "bin_end": 0.9851287999999999,
            "bin_start": 0.8851287999999999,
            "count": 0
           },
           {
            "bin_end": 1.0851288,
            "bin_start": 0.9851287999999999,
            "count": 0
           },
           {
            "bin_end": 1.1851288,
            "bin_start": 1.0851288,
            "count": 5
           },
           {
            "bin_end": 1.2851287999999998,
            "bin_start": 1.1851288,
            "count": 0
           },
           {
            "bin_end": 1.3851288,
            "bin_start": 1.2851287999999998,
            "count": 0
           },
           {
            "bin_end": 1.4851288,
            "bin_start": 1.3851288,
            "count": 0
           },
           {
            "bin_end": 1.5851288,
            "bin_start": 1.4851288,
            "count": 0
           }
          ],
          "max": 1.0851288,
          "min": 1.0851288,
          "nan_count": 0,
          "unique_count": 1
         }
        },
        {
         "dtype": "float64",
         "name": "cloud2",
         "stats": {
          "histogram": [
           {
            "bin_end": -1.24654284,
            "bin_start": -1.3465428400000001,
            "count": 0
           },
           {
            "bin_end": -1.1465428400000002,
            "bin_start": -1.24654284,
            "count": 0
           },
           {
            "bin_end": -1.04654284,
            "bin_start": -1.1465428400000002,
            "count": 0
           },
           {
            "bin_end": -0.9465428400000001,
            "bin_start": -1.04654284,
            "count": 0
           },
           {
            "bin_end": -0.8465428400000001,
            "bin_start": -0.9465428400000001,
            "count": 0
           },
           {
            "bin_end": -0.74654284,
            "bin_start": -0.8465428400000001,
            "count": 5
           },
           {
            "bin_end": -0.6465428400000001,
            "bin_start": -0.74654284,
            "count": 0
           },
           {
            "bin_end": -0.5465428400000001,
            "bin_start": -0.6465428400000001,
            "count": 0
           },
           {
            "bin_end": -0.4465428400000001,
            "bin_start": -0.5465428400000001,
            "count": 0
           },
           {
            "bin_end": -0.34654284,
            "bin_start": -0.4465428400000001,
            "count": 0
           }
          ],
          "max": -0.84654284,
          "min": -0.84654284,
          "nan_count": 0,
          "unique_count": 1
         }
        },
        {
         "dtype": "float64",
         "name": "date1",
         "stats": {
          "histogram": [
           {
            "bin_end": -0.78035005,
            "bin_start": -0.88035005,
            "count": 0
           },
           {
            "bin_end": -0.6803500499999999,
            "bin_start": -0.78035005,
            "count": 0
           },
           {
            "bin_end": -0.58035005,
            "bin_start": -0.6803500499999999,
            "count": 0
           },
           {
            "bin_end": -0.48035005,
            "bin_start": -0.58035005,
            "count": 0
           },
           {
            "bin_end": -0.38035005,
            "bin_start": -0.48035005,
            "count": 0
           },
           {
            "bin_end": -0.2803500499999999,
            "bin_start": -0.38035005,
            "count": 5
           },
           {
            "bin_end": -0.18035004999999993,
            "bin_start": -0.2803500499999999,
            "count": 0
           },
           {
            "bin_end": -0.08035004999999995,
            "bin_start": -0.18035004999999993,
            "count": 0
           },
           {
            "bin_end": 0.019649950000000027,
            "bin_start": -0.08035004999999995,
            "count": 0
           },
           {
            "bin_end": 0.11964995,
            "bin_start": 0.019649950000000027,
            "count": 0
           }
          ],
          "max": -0.38035005,
          "min": -0.38035005,
          "nan_count": 0,
          "unique_count": 1
         }
        },
        {
         "dtype": "float64",
         "name": "date2",
         "stats": {
          "histogram": [
           {
            "bin_end": -0.03343692000000001,
            "bin_start": -0.13343692000000001,
            "count": 0
           },
           {
            "bin_end": 0.06656308,
            "bin_start": -0.03343692000000001,
            "count": 0
           },
           {
            "bin_end": 0.16656308000000003,
            "bin_start": 0.06656308,
            "count": 0
           },
           {
            "bin_end": 0.26656308,
            "bin_start": 0.16656308000000003,
            "count": 0
           },
           {
            "bin_end": 0.36656308,
            "bin_start": 0.26656308,
            "count": 0
           },
           {
            "bin_end": 0.4665630800000001,
            "bin_start": 0.36656308,
            "count": 5
           },
           {
            "bin_end": 0.5665630800000001,
            "bin_start": 0.4665630800000001,
            "count": 0
           },
           {
            "bin_end": 0.66656308,
            "bin_start": 0.5665630800000001,
            "count": 0
           },
           {
            "bin_end": 0.7665630800000001,
            "bin_start": 0.66656308,
            "count": 0
           },
           {
            "bin_end": 0.8665630799999999,
            "bin_start": 0.7665630800000001,
            "count": 0
           }
          ],
          "max": 0.36656308,
          "min": 0.36656308,
          "nan_count": 0,
          "unique_count": 1
         }
        },
        {
         "dtype": "float64",
         "name": "hour1",
         "stats": {
          "histogram": [
           {
            "bin_end": -0.44794498000000005,
            "bin_start": -0.54794498,
            "count": 0
           },
           {
            "bin_end": -0.34794498,
            "bin_start": -0.44794498000000005,
            "count": 0
           },
           {
            "bin_end": -0.24794497999999998,
            "bin_start": -0.34794498,
            "count": 0
           },
           {
            "bin_end": -0.14794498,
            "bin_start": -0.24794497999999998,
            "count": 0
           },
           {
            "bin_end": -0.047944980000000026,
            "bin_start": -0.14794498,
            "count": 0
           },
           {
            "bin_end": 0.05205502000000006,
            "bin_start": -0.047944980000000026,
            "count": 5
           },
           {
            "bin_end": 0.15205502000000004,
            "bin_start": 0.05205502000000006,
            "count": 0
           },
           {
            "bin_end": 0.25205502,
            "bin_start": 0.15205502000000004,
            "count": 0
           },
           {
            "bin_end": 0.35205502,
            "bin_start": 0.25205502,
            "count": 0
           },
           {
            "bin_end": 0.45205502,
            "bin_start": 0.35205502,
            "count": 0
           }
          ],
          "max": -0.04794498,
          "min": -0.04794498,
          "nan_count": 0,
          "unique_count": 1
         }
        },
        {
         "dtype": "float64",
         "name": "hour2",
         "stats": {
          "histogram": [
           {
            "bin_end": 0.9476789,
            "bin_start": 0.8476789,
            "count": 0
           },
           {
            "bin_end": 1.0476789,
            "bin_start": 0.9476789,
            "count": 0
           },
           {
            "bin_end": 1.1476789,
            "bin_start": 1.0476789,
            "count": 0
           },
           {
            "bin_end": 1.2476789,
            "bin_start": 1.1476789,
            "count": 0
           },
           {
            "bin_end": 1.3476789,
            "bin_start": 1.2476789,
            "count": 0
           },
           {
            "bin_end": 1.4476789,
            "bin_start": 1.3476789,
            "count": 5
           },
           {
            "bin_end": 1.5476789000000002,
            "bin_start": 1.4476789,
            "count": 0
           },
           {
            "bin_end": 1.6476789,
            "bin_start": 1.5476789000000002,
            "count": 0
           },
           {
            "bin_end": 1.7476789,
            "bin_start": 1.6476789,
            "count": 0
           },
           {
            "bin_end": 1.8476789,
            "bin_start": 1.7476789,
            "count": 0
           }
          ],
          "max": 1.3476789,
          "min": 1.3476789,
          "nan_count": 0,
          "unique_count": 1
         }
        },
        {
         "dtype": "float64",
         "name": "ing_w",
         "stats": {
          "histogram": [
           {
            "bin_end": 0.6,
            "bin_start": 0.5,
            "count": 0
           },
           {
            "bin_end": 0.7,
            "bin_start": 0.6,
            "count": 0
           },
           {
            "bin_end": 0.8,
            "bin_start": 0.7,
            "count": 0
           },
           {
            "bin_end": 0.9,
            "bin_start": 0.8,
            "count": 0
           },
           {
            "bin_end": 1,
            "bin_start": 0.9,
            "count": 0
           },
           {
            "bin_end": 1.1,
            "bin_start": 1,
            "count": 5
           },
           {
            "bin_end": 1.2000000000000002,
            "bin_start": 1.1,
            "count": 0
           },
           {
            "bin_end": 1.3,
            "bin_start": 1.2000000000000002,
            "count": 0
           },
           {
            "bin_end": 1.4,
            "bin_start": 1.3,
            "count": 0
           },
           {
            "bin_end": 1.5,
            "bin_start": 1.4,
            "count": 0
           }
          ],
          "max": 1,
          "min": 1,
          "nan_count": 0,
          "unique_count": 1
         }
        },
        {
         "dtype": "float64",
         "name": "ing_x",
         "stats": {
          "histogram": [
           {
            "bin_end": -0.4,
            "bin_start": -0.5,
            "count": 0
           },
           {
            "bin_end": -0.3,
            "bin_start": -0.4,
            "count": 0
           },
           {
            "bin_end": -0.19999999999999996,
            "bin_start": -0.3,
            "count": 0
           },
           {
            "bin_end": -0.09999999999999998,
            "bin_start": -0.19999999999999996,
            "count": 0
           },
           {
            "bin_end": 0,
            "bin_start": -0.09999999999999998,
            "count": 0
           },
           {
            "bin_end": 0.10000000000000009,
            "bin_start": 0,
            "count": 5
           },
           {
            "bin_end": 0.20000000000000007,
            "bin_start": 0.10000000000000009,
            "count": 0
           },
           {
            "bin_end": 0.30000000000000004,
            "bin_start": 0.20000000000000007,
            "count": 0
           },
           {
            "bin_end": 0.4,
            "bin_start": 0.30000000000000004,
            "count": 0
           },
           {
            "bin_end": 0.5,
            "bin_start": 0.4,
            "count": 0
           }
          ],
          "max": 0,
          "min": 0,
          "nan_count": 0,
          "unique_count": 1
         }
        },
        {
         "dtype": "float64",
         "name": "ing_y",
         "stats": {
          "histogram": [
           {
            "bin_end": -0.4,
            "bin_start": -0.5,
            "count": 0
           },
           {
            "bin_end": -0.3,
            "bin_start": -0.4,
            "count": 0
           },
           {
            "bin_end": -0.19999999999999996,
            "bin_start": -0.3,
            "count": 0
           },
           {
            "bin_end": -0.09999999999999998,
            "bin_start": -0.19999999999999996,
            "count": 0
           },
           {
            "bin_end": 0,
            "bin_start": -0.09999999999999998,
            "count": 0
           },
           {
            "bin_end": 0.10000000000000009,
            "bin_start": 0,
            "count": 5
           },
           {
            "bin_end": 0.20000000000000007,
            "bin_start": 0.10000000000000009,
            "count": 0
           },
           {
            "bin_end": 0.30000000000000004,
            "bin_start": 0.20000000000000007,
            "count": 0
           },
           {
            "bin_end": 0.4,
            "bin_start": 0.30000000000000004,
            "count": 0
           },
           {
            "bin_end": 0.5,
            "bin_start": 0.4,
            "count": 0
           }
          ],
          "max": 0,
          "min": 0,
          "nan_count": 0,
          "unique_count": 1
         }
        },
        {
         "dtype": "float64",
         "name": "ing_z",
         "stats": {
          "histogram": [
           {
            "bin_end": -0.4,
            "bin_start": -0.5,
            "count": 0
           },
           {
            "bin_end": -0.3,
            "bin_start": -0.4,
            "count": 0
           },
           {
            "bin_end": -0.19999999999999996,
            "bin_start": -0.3,
            "count": 0
           },
           {
            "bin_end": -0.09999999999999998,
            "bin_start": -0.19999999999999996,
            "count": 0
           },
           {
            "bin_end": 0,
            "bin_start": -0.09999999999999998,
            "count": 0
           },
           {
            "bin_end": 0.10000000000000009,
            "bin_start": 0,
            "count": 5
           },
           {
            "bin_end": 0.20000000000000007,
            "bin_start": 0.10000000000000009,
            "count": 0
           },
           {
            "bin_end": 0.30000000000000004,
            "bin_start": 0.20000000000000007,
            "count": 0
           },
           {
            "bin_end": 0.4,
            "bin_start": 0.30000000000000004,
            "count": 0
           },
           {
            "bin_end": 0.5,
            "bin_start": 0.4,
            "count": 0
           }
          ],
          "max": 0,
          "min": 0,
          "nan_count": 0,
          "unique_count": 1
         }
        },
        {
         "dtype": "float64",
         "name": "month1",
         "stats": {
          "histogram": [
           {
            "bin_end": 0.1,
            "bin_start": 0,
            "count": 4
           },
           {
            "bin_end": 0.2,
            "bin_start": 0.1,
            "count": 0
           },
           {
            "bin_end": 0.30000000000000004,
            "bin_start": 0.2,
            "count": 0
           },
           {
            "bin_end": 0.4,
            "bin_start": 0.30000000000000004,
            "count": 0
           },
           {
            "bin_end": 0.5,
            "bin_start": 0.4,
            "count": 0
           },
           {
            "bin_end": 0.6000000000000001,
            "bin_start": 0.5,
            "count": 0
           },
           {
            "bin_end": 0.7000000000000001,
            "bin_start": 0.6000000000000001,
            "count": 0
           },
           {
            "bin_end": 0.8,
            "bin_start": 0.7000000000000001,
            "count": 0
           },
           {
            "bin_end": 0.9,
            "bin_start": 0.8,
            "count": 0
           },
           {
            "bin_end": 1,
            "bin_start": 0.9,
            "count": 1
           }
          ],
          "max": 1,
          "min": 0,
          "nan_count": 0,
          "unique_count": 2
         }
        },
        {
         "dtype": "float64",
         "name": "month2",
         "stats": {
          "histogram": [
           {
            "bin_end": -0.4,
            "bin_start": -0.5,
            "count": 0
           },
           {
            "bin_end": -0.3,
            "bin_start": -0.4,
            "count": 0
           },
           {
            "bin_end": -0.19999999999999996,
            "bin_start": -0.3,
            "count": 0
           },
           {
            "bin_end": -0.09999999999999998,
            "bin_start": -0.19999999999999996,
            "count": 0
           },
           {
            "bin_end": 0,
            "bin_start": -0.09999999999999998,
            "count": 0
           },
           {
            "bin_end": 0.10000000000000009,
            "bin_start": 0,
            "count": 5
           },
           {
            "bin_end": 0.20000000000000007,
            "bin_start": 0.10000000000000009,
            "count": 0
           },
           {
            "bin_end": 0.30000000000000004,
            "bin_start": 0.20000000000000007,
            "count": 0
           },
           {
            "bin_end": 0.4,
            "bin_start": 0.30000000000000004,
            "count": 0
           },
           {
            "bin_end": 0.5,
            "bin_start": 0.4,
            "count": 0
           }
          ],
          "max": 0,
          "min": 0,
          "nan_count": 0,
          "unique_count": 1
         }
        },
        {
         "dtype": "float64",
         "name": "month3",
         "stats": {
          "histogram": [
           {
            "bin_end": 0.1,
            "bin_start": 0,
            "count": 4
           },
           {
            "bin_end": 0.2,
            "bin_start": 0.1,
            "count": 0
           },
           {
            "bin_end": 0.30000000000000004,
            "bin_start": 0.2,
            "count": 0
           },
           {
            "bin_end": 0.4,
            "bin_start": 0.30000000000000004,
            "count": 0
           },
           {
            "bin_end": 0.5,
            "bin_start": 0.4,
            "count": 0
           },
           {
            "bin_end": 0.6000000000000001,
            "bin_start": 0.5,
            "count": 0
           },
           {
            "bin_end": 0.7000000000000001,
            "bin_start": 0.6000000000000001,
            "count": 0
           },
           {
            "bin_end": 0.8,
            "bin_start": 0.7000000000000001,
            "count": 0
           },
           {
            "bin_end": 0.9,
            "bin_start": 0.8,
            "count": 0
           },
           {
            "bin_end": 1,
            "bin_start": 0.9,
            "count": 1
           }
          ],
          "max": 1,
          "min": 0,
          "nan_count": 0,
          "unique_count": 2
         }
        },
        {
         "dtype": "float64",
         "name": "month4",
         "stats": {
          "histogram": [
           {
            "bin_end": -0.4,
            "bin_start": -0.5,
            "count": 0
           },
           {
            "bin_end": -0.3,
            "bin_start": -0.4,
            "count": 0
           },
           {
            "bin_end": -0.19999999999999996,
            "bin_start": -0.3,
            "count": 0
           },
           {
            "bin_end": -0.09999999999999998,
            "bin_start": -0.19999999999999996,
            "count": 0
           },
           {
            "bin_end": 0,
            "bin_start": -0.09999999999999998,
            "count": 0
           },
           {
            "bin_end": 0.10000000000000009,
            "bin_start": 0,
            "count": 5
           },
           {
            "bin_end": 0.20000000000000007,
            "bin_start": 0.10000000000000009,
            "count": 0
           },
           {
            "bin_end": 0.30000000000000004,
            "bin_start": 0.20000000000000007,
            "count": 0
           },
           {
            "bin_end": 0.4,
            "bin_start": 0.30000000000000004,
            "count": 0
           },
           {
            "bin_end": 0.5,
            "bin_start": 0.4,
            "count": 0
           }
          ],
          "max": 0,
          "min": 0,
          "nan_count": 0,
          "unique_count": 1
         }
        },
        {
         "dtype": "float64",
         "name": "month5",
         "stats": {
          "histogram": [
           {
            "bin_end": -0.4,
            "bin_start": -0.5,
            "count": 0
           },
           {
            "bin_end": -0.3,
            "bin_start": -0.4,
            "count": 0
           },
           {
            "bin_end": -0.19999999999999996,
            "bin_start": -0.3,
            "count": 0
           },
           {
            "bin_end": -0.09999999999999998,
            "bin_start": -0.19999999999999996,
            "count": 0
           },
           {
            "bin_end": 0,
            "bin_start": -0.09999999999999998,
            "count": 0
           },
           {
            "bin_end": 0.10000000000000009,
            "bin_start": 0,
            "count": 5
           },
           {
            "bin_end": 0.20000000000000007,
            "bin_start": 0.10000000000000009,
            "count": 0
           },
           {
            "bin_end": 0.30000000000000004,
            "bin_start": 0.20000000000000007,
            "count": 0
           },
           {
            "bin_end": 0.4,
            "bin_start": 0.30000000000000004,
            "count": 0
           },
           {
            "bin_end": 0.5,
            "bin_start": 0.4,
            "count": 0
           }
          ],
          "max": 0,
          "min": 0,
          "nan_count": 0,
          "unique_count": 1
         }
        },
        {
         "dtype": "float64",
         "name": "month6",
         "stats": {
          "histogram": [
           {
            "bin_end": -0.4,
            "bin_start": -0.5,
            "count": 0
           },
           {
            "bin_end": -0.3,
            "bin_start": -0.4,
            "count": 0
           },
           {
            "bin_end": -0.19999999999999996,
            "bin_start": -0.3,
            "count": 0
           },
           {
            "bin_end": -0.09999999999999998,
            "bin_start": -0.19999999999999996,
            "count": 0
           },
           {
            "bin_end": 0,
            "bin_start": -0.09999999999999998,
            "count": 0
           },
           {
            "bin_end": 0.10000000000000009,
            "bin_start": 0,
            "count": 5
           },
           {
            "bin_end": 0.20000000000000007,
            "bin_start": 0.10000000000000009,
            "count": 0
           },
           {
            "bin_end": 0.30000000000000004,
            "bin_start": 0.20000000000000007,
            "count": 0
           },
           {
            "bin_end": 0.4,
            "bin_start": 0.30000000000000004,
            "count": 0
           },
           {
            "bin_end": 0.5,
            "bin_start": 0.4,
            "count": 0
           }
          ],
          "max": 0,
          "min": 0,
          "nan_count": 0,
          "unique_count": 1
         }
        },
        {
         "dtype": "float64",
         "name": "month7",
         "stats": {
          "histogram": [
           {
            "bin_end": 0.1,
            "bin_start": 0,
            "count": 4
           },
           {
            "bin_end": 0.2,
            "bin_start": 0.1,
            "count": 0
           },
           {
            "bin_end": 0.30000000000000004,
            "bin_start": 0.2,
            "count": 0
           },
           {
            "bin_end": 0.4,
            "bin_start": 0.30000000000000004,
            "count": 0
           },
           {
            "bin_end": 0.5,
            "bin_start": 0.4,
            "count": 0
           },
           {
            "bin_end": 0.6000000000000001,
            "bin_start": 0.5,
            "count": 0
           },
           {
            "bin_end": 0.7000000000000001,
            "bin_start": 0.6000000000000001,
            "count": 0
           },
           {
            "bin_end": 0.8,
            "bin_start": 0.7000000000000001,
            "count": 0
           },
           {
            "bin_end": 0.9,
            "bin_start": 0.8,
            "count": 0
           },
           {
            "bin_end": 1,
            "bin_start": 0.9,
            "count": 1
           }
          ],
          "max": 1,
          "min": 0,
          "nan_count": 0,
          "unique_count": 2
         }
        },
        {
         "dtype": "float64",
         "name": "month8",
         "stats": {
          "histogram": [
           {
            "bin_end": -0.4,
            "bin_start": -0.5,
            "count": 0
           },
           {
            "bin_end": -0.3,
            "bin_start": -0.4,
            "count": 0
           },
           {
            "bin_end": -0.19999999999999996,
            "bin_start": -0.3,
            "count": 0
           },
           {
            "bin_end": -0.09999999999999998,
            "bin_start": -0.19999999999999996,
            "count": 0
           },
           {
            "bin_end": 0,
            "bin_start": -0.09999999999999998,
            "count": 0
           },
           {
            "bin_end": 0.10000000000000009,
            "bin_start": 0,
            "count": 5
           },
           {
            "bin_end": 0.20000000000000007,
            "bin_start": 0.10000000000000009,
            "count": 0
           },
           {
            "bin_end": 0.30000000000000004,
            "bin_start": 0.20000000000000007,
            "count": 0
           },
           {
            "bin_end": 0.4,
            "bin_start": 0.30000000000000004,
            "count": 0
           },
           {
            "bin_end": 0.5,
            "bin_start": 0.4,
            "count": 0
           }
          ],
          "max": 0,
          "min": 0,
          "nan_count": 0,
          "unique_count": 1
         }
        },
        {
         "dtype": "float64",
         "name": "month9",
         "stats": {
          "histogram": [
           {
            "bin_end": 0.1,
            "bin_start": 0,
            "count": 4
           },
           {
            "bin_end": 0.2,
            "bin_start": 0.1,
            "count": 0
           },
           {
            "bin_end": 0.30000000000000004,
            "bin_start": 0.2,
            "count": 0
           },
           {
            "bin_end": 0.4,
            "bin_start": 0.30000000000000004,
            "count": 0
           },
           {
            "bin_end": 0.5,
            "bin_start": 0.4,
            "count": 0
           },
           {
            "bin_end": 0.6000000000000001,
            "bin_start": 0.5,
            "count": 0
           },
           {
            "bin_end": 0.7000000000000001,
            "bin_start": 0.6000000000000001,
            "count": 0
           },
           {
            "bin_end": 0.8,
            "bin_start": 0.7000000000000001,
            "count": 0
           },
           {
            "bin_end": 0.9,
            "bin_start": 0.8,
            "count": 0
           },
           {
            "bin_end": 1,
            "bin_start": 0.9,
            "count": 1
           }
          ],
          "max": 1,
          "min": 0,
          "nan_count": 0,
          "unique_count": 2
         }
        },
        {
         "dtype": "float64",
         "name": "month10",
         "stats": {
          "histogram": [
           {
            "bin_end": -0.4,
            "bin_start": -0.5,
            "count": 0
           },
           {
            "bin_end": -0.3,
            "bin_start": -0.4,
            "count": 0
           },
           {
            "bin_end": -0.19999999999999996,
            "bin_start": -0.3,
            "count": 0
           },
           {
            "bin_end": -0.09999999999999998,
            "bin_start": -0.19999999999999996,
            "count": 0
           },
           {
            "bin_end": 0,
            "bin_start": -0.09999999999999998,
            "count": 0
           },
           {
            "bin_end": 0.10000000000000009,
            "bin_start": 0,
            "count": 5
           },
           {
            "bin_end": 0.20000000000000007,
            "bin_start": 0.10000000000000009,
            "count": 0
           },
           {
            "bin_end": 0.30000000000000004,
            "bin_start": 0.20000000000000007,
            "count": 0
           },
           {
            "bin_end": 0.4,
            "bin_start": 0.30000000000000004,
            "count": 0
           },
           {
            "bin_end": 0.5,
            "bin_start": 0.4,
            "count": 0
           }
          ],
          "max": 0,
          "min": 0,
          "nan_count": 0,
          "unique_count": 1
         }
        },
        {
         "dtype": "float64",
         "name": "month11",
         "stats": {
          "histogram": [
           {
            "bin_end": 0.1,
            "bin_start": 0,
            "count": 4
           },
           {
            "bin_end": 0.2,
            "bin_start": 0.1,
            "count": 0
           },
           {
            "bin_end": 0.30000000000000004,
            "bin_start": 0.2,
            "count": 0
           },
           {
            "bin_end": 0.4,
            "bin_start": 0.30000000000000004,
            "count": 0
           },
           {
            "bin_end": 0.5,
            "bin_start": 0.4,
            "count": 0
           },
           {
            "bin_end": 0.6000000000000001,
            "bin_start": 0.5,
            "count": 0
           },
           {
            "bin_end": 0.7000000000000001,
            "bin_start": 0.6000000000000001,
            "count": 0
           },
           {
            "bin_end": 0.8,
            "bin_start": 0.7000000000000001,
            "count": 0
           },
           {
            "bin_end": 0.9,
            "bin_start": 0.8,
            "count": 0
           },
           {
            "bin_end": 1,
            "bin_start": 0.9,
            "count": 1
           }
          ],
          "max": 1,
          "min": 0,
          "nan_count": 0,
          "unique_count": 2
         }
        },
        {
         "dtype": "float64",
         "name": "month12",
         "stats": {
          "histogram": [
           {
            "bin_end": -0.4,
            "bin_start": -0.5,
            "count": 0
           },
           {
            "bin_end": -0.3,
            "bin_start": -0.4,
            "count": 0
           },
           {
            "bin_end": -0.19999999999999996,
            "bin_start": -0.3,
            "count": 0
           },
           {
            "bin_end": -0.09999999999999998,
            "bin_start": -0.19999999999999996,
            "count": 0
           },
           {
            "bin_end": 0,
            "bin_start": -0.09999999999999998,
            "count": 0
           },
           {
            "bin_end": 0.10000000000000009,
            "bin_start": 0,
            "count": 5
           },
           {
            "bin_end": 0.20000000000000007,
            "bin_start": 0.10000000000000009,
            "count": 0
           },
           {
            "bin_end": 0.30000000000000004,
            "bin_start": 0.20000000000000007,
            "count": 0
           },
           {
            "bin_end": 0.4,
            "bin_start": 0.30000000000000004,
            "count": 0
           },
           {
            "bin_end": 0.5,
            "bin_start": 0.4,
            "count": 0
           }
          ],
          "max": 0,
          "min": 0,
          "nan_count": 0,
          "unique_count": 1
         }
        },
        {
         "dtype": "int64",
         "name": "_deepnote_index_column"
        }
       ],
       "row_count": 5,
       "rows_bottom": null,
       "rows_top": [
        {
         "Loc1": 1.16799,
         "Loc2": 0.44563186,
         "_deepnote_index_column": 0,
         "cloud1": 1.0851288,
         "cloud2": -0.84654284,
         "date1": -0.38035005,
         "date2": 0.36656308,
         "dew_temp": -0.26965773,
         "farm_area": -0.06283562,
         "fc1": 0.03115702,
         "fc2": -0.603313,
         "fid1": -0.12819242,
         "fid2": 0.12729779,
         "fid3": -0.51808214,
         "fid4": -0.873044,
         "hour1": -0.04794498,
         "hour2": 1.3476789,
         "ing_w": 1,
         "ing_x": 0,
         "ing_y": 0,
         "ing_z": 0,
         "month1": 0,
         "month10": 0,
         "month11": 1,
         "month12": 0,
         "month2": 0,
         "month3": 0,
         "month4": 0,
         "month5": 0,
         "month6": 0,
         "month7": 0,
         "month8": 0,
         "month9": 0,
         "precipitation": -0.18255055,
         "pressure_sea_level": 0.51484734,
         "temp_obs": -0.6011366,
         "wind_direction": -1.4537524,
         "wind_speed": 1.022931
        },
        {
         "Loc1": 1.16799,
         "Loc2": 0.44563186,
         "_deepnote_index_column": 1,
         "cloud1": 1.0851288,
         "cloud2": -0.84654284,
         "date1": -0.38035005,
         "date2": 0.36656308,
         "dew_temp": 1.481196,
         "farm_area": -0.06283562,
         "fc1": 0.03115702,
         "fc2": -0.603313,
         "fid1": -0.12819242,
         "fid2": 0.12729779,
         "fid3": -0.51808214,
         "fid4": -0.873044,
         "hour1": -0.04794498,
         "hour2": 1.3476789,
         "ing_w": 1,
         "ing_x": 0,
         "ing_y": 0,
         "ing_z": 0,
         "month1": 0,
         "month10": 0,
         "month11": 0,
         "month12": 0,
         "month2": 0,
         "month3": 0,
         "month4": 0,
         "month5": 0,
         "month6": 0,
         "month7": 1,
         "month8": 0,
         "month9": 0,
         "precipitation": -0.18255055,
         "pressure_sea_level": 0.0060718004,
         "temp_obs": 0.980151,
         "wind_direction": -1.5440849,
         "wind_speed": -1.4928517
        },
        {
         "Loc1": 1.16799,
         "Loc2": 0.44563186,
         "_deepnote_index_column": 2,
         "cloud1": 1.0851288,
         "cloud2": -0.84654284,
         "date1": -0.38035005,
         "date2": 0.36656308,
         "dew_temp": 0.43855277,
         "farm_area": -0.06283562,
         "fc1": 0.03115702,
         "fc2": -0.603313,
         "fid1": -0.12819242,
         "fid2": 0.12729779,
         "fid3": -0.51808214,
         "fid4": -0.873044,
         "hour1": -0.04794498,
         "hour2": 1.3476789,
         "ing_w": 1,
         "ing_x": 0,
         "ing_y": 0,
         "ing_z": 0,
         "month1": 0,
         "month10": 0,
         "month11": 0,
         "month12": 0,
         "month2": 0,
         "month3": 0,
         "month4": 0,
         "month5": 0,
         "month6": 0,
         "month7": 0,
         "month8": 0,
         "month9": 1,
         "precipitation": -0.18255055,
         "pressure_sea_level": 0.48491937,
         "temp_obs": 0.21235807,
         "wind_direction": 0.08189886,
         "wind_speed": 0.09606372
        },
        {
         "Loc1": 1.16799,
         "Loc2": 0.44563186,
         "_deepnote_index_column": 3,
         "cloud1": 1.0851288,
         "cloud2": -0.84654284,
         "date1": -0.38035005,
         "date2": 0.36656308,
         "dew_temp": -0.7614706,
         "farm_area": -0.06283562,
         "fc1": 0.03115702,
         "fc2": -0.603313,
         "fid1": -0.12819242,
         "fid2": 0.12729779,
         "fid3": -0.51808214,
         "fid4": -0.873044,
         "hour1": -0.04794498,
         "hour2": 1.3476789,
         "ing_w": 1,
         "ing_x": 0,
         "ing_y": 0,
         "ing_z": 0,
         "month1": 0,
         "month10": 0,
         "month11": 0,
         "month12": 0,
         "month2": 0,
         "month3": 1,
         "month4": 0,
         "month5": 0,
         "month6": 0,
         "month7": 0,
         "month8": 0,
         "month9": 0,
         "precipitation": -0.18255055,
         "pressure_sea_level": 0.4968913,
         "temp_obs": -0.70168084,
         "wind_direction": 1.7078826,
         "wind_speed": 1.2436137
        },
        {
         "Loc1": 1.16799,
         "Loc2": 0.44563186,
         "_deepnote_index_column": 4,
         "cloud1": 1.0851288,
         "cloud2": -0.84654284,
         "date1": -0.38035005,
         "date2": 0.36656308,
         "dew_temp": -1.1450846,
         "farm_area": -0.06283562,
         "fc1": 0.03115702,
         "fc2": -0.603313,
         "fid1": -0.12819242,
         "fid2": 0.12729779,
         "fid3": -0.51808214,
         "fid4": -0.873044,
         "hour1": -0.04794498,
         "hour2": 1.3476789,
         "ing_w": 1,
         "ing_x": 0,
         "ing_y": 0,
         "ing_z": 0,
         "month1": 1,
         "month10": 0,
         "month11": 0,
         "month12": 0,
         "month2": 0,
         "month3": 0,
         "month4": 0,
         "month5": 0,
         "month6": 0,
         "month7": 0,
         "month8": 0,
         "month9": 0,
         "precipitation": -0.18255055,
         "pressure_sea_level": 0.47294745,
         "temp_obs": -1.3597889,
         "wind_direction": -1.5440849,
         "wind_speed": -1.4928517
        }
       ]
      },
      "text/html": [
       "<div>\n",
       "<style scoped>\n",
       "    .dataframe tbody tr th:only-of-type {\n",
       "        vertical-align: middle;\n",
       "    }\n",
       "\n",
       "    .dataframe tbody tr th {\n",
       "        vertical-align: top;\n",
       "    }\n",
       "\n",
       "    .dataframe thead th {\n",
       "        text-align: right;\n",
       "    }\n",
       "</style>\n",
       "<table border=\"1\" class=\"dataframe\">\n",
       "  <thead>\n",
       "    <tr style=\"text-align: right;\">\n",
       "      <th></th>\n",
       "      <th>farm_area</th>\n",
       "      <th>temp_obs</th>\n",
       "      <th>wind_direction</th>\n",
       "      <th>dew_temp</th>\n",
       "      <th>pressure_sea_level</th>\n",
       "      <th>precipitation</th>\n",
       "      <th>wind_speed</th>\n",
       "      <th>fid1</th>\n",
       "      <th>fid2</th>\n",
       "      <th>fid3</th>\n",
       "      <th>...</th>\n",
       "      <th>month3</th>\n",
       "      <th>month4</th>\n",
       "      <th>month5</th>\n",
       "      <th>month6</th>\n",
       "      <th>month7</th>\n",
       "      <th>month8</th>\n",
       "      <th>month9</th>\n",
       "      <th>month10</th>\n",
       "      <th>month11</th>\n",
       "      <th>month12</th>\n",
       "    </tr>\n",
       "  </thead>\n",
       "  <tbody>\n",
       "    <tr>\n",
       "      <th>0</th>\n",
       "      <td>-0.062836</td>\n",
       "      <td>-0.601137</td>\n",
       "      <td>-1.453752</td>\n",
       "      <td>-0.269658</td>\n",
       "      <td>0.514847</td>\n",
       "      <td>-0.182551</td>\n",
       "      <td>1.022931</td>\n",
       "      <td>-0.128192</td>\n",
       "      <td>0.127298</td>\n",
       "      <td>-0.518082</td>\n",
       "      <td>...</td>\n",
       "      <td>0.0</td>\n",
       "      <td>0.0</td>\n",
       "      <td>0.0</td>\n",
       "      <td>0.0</td>\n",
       "      <td>0.0</td>\n",
       "      <td>0.0</td>\n",
       "      <td>0.0</td>\n",
       "      <td>0.0</td>\n",
       "      <td>1.0</td>\n",
       "      <td>0.0</td>\n",
       "    </tr>\n",
       "    <tr>\n",
       "      <th>1</th>\n",
       "      <td>-0.062836</td>\n",
       "      <td>0.980151</td>\n",
       "      <td>-1.544085</td>\n",
       "      <td>1.481196</td>\n",
       "      <td>0.006072</td>\n",
       "      <td>-0.182551</td>\n",
       "      <td>-1.492852</td>\n",
       "      <td>-0.128192</td>\n",
       "      <td>0.127298</td>\n",
       "      <td>-0.518082</td>\n",
       "      <td>...</td>\n",
       "      <td>0.0</td>\n",
       "      <td>0.0</td>\n",
       "      <td>0.0</td>\n",
       "      <td>0.0</td>\n",
       "      <td>1.0</td>\n",
       "      <td>0.0</td>\n",
       "      <td>0.0</td>\n",
       "      <td>0.0</td>\n",
       "      <td>0.0</td>\n",
       "      <td>0.0</td>\n",
       "    </tr>\n",
       "    <tr>\n",
       "      <th>2</th>\n",
       "      <td>-0.062836</td>\n",
       "      <td>0.212358</td>\n",
       "      <td>0.081899</td>\n",
       "      <td>0.438553</td>\n",
       "      <td>0.484919</td>\n",
       "      <td>-0.182551</td>\n",
       "      <td>0.096064</td>\n",
       "      <td>-0.128192</td>\n",
       "      <td>0.127298</td>\n",
       "      <td>-0.518082</td>\n",
       "      <td>...</td>\n",
       "      <td>0.0</td>\n",
       "      <td>0.0</td>\n",
       "      <td>0.0</td>\n",
       "      <td>0.0</td>\n",
       "      <td>0.0</td>\n",
       "      <td>0.0</td>\n",
       "      <td>1.0</td>\n",
       "      <td>0.0</td>\n",
       "      <td>0.0</td>\n",
       "      <td>0.0</td>\n",
       "    </tr>\n",
       "    <tr>\n",
       "      <th>3</th>\n",
       "      <td>-0.062836</td>\n",
       "      <td>-0.701681</td>\n",
       "      <td>1.707883</td>\n",
       "      <td>-0.761471</td>\n",
       "      <td>0.496891</td>\n",
       "      <td>-0.182551</td>\n",
       "      <td>1.243614</td>\n",
       "      <td>-0.128192</td>\n",
       "      <td>0.127298</td>\n",
       "      <td>-0.518082</td>\n",
       "      <td>...</td>\n",
       "      <td>1.0</td>\n",
       "      <td>0.0</td>\n",
       "      <td>0.0</td>\n",
       "      <td>0.0</td>\n",
       "      <td>0.0</td>\n",
       "      <td>0.0</td>\n",
       "      <td>0.0</td>\n",
       "      <td>0.0</td>\n",
       "      <td>0.0</td>\n",
       "      <td>0.0</td>\n",
       "    </tr>\n",
       "    <tr>\n",
       "      <th>4</th>\n",
       "      <td>-0.062836</td>\n",
       "      <td>-1.359789</td>\n",
       "      <td>-1.544085</td>\n",
       "      <td>-1.145085</td>\n",
       "      <td>0.472947</td>\n",
       "      <td>-0.182551</td>\n",
       "      <td>-1.492852</td>\n",
       "      <td>-0.128192</td>\n",
       "      <td>0.127298</td>\n",
       "      <td>-0.518082</td>\n",
       "      <td>...</td>\n",
       "      <td>0.0</td>\n",
       "      <td>0.0</td>\n",
       "      <td>0.0</td>\n",
       "      <td>0.0</td>\n",
       "      <td>0.0</td>\n",
       "      <td>0.0</td>\n",
       "      <td>0.0</td>\n",
       "      <td>0.0</td>\n",
       "      <td>0.0</td>\n",
       "      <td>0.0</td>\n",
       "    </tr>\n",
       "  </tbody>\n",
       "</table>\n",
       "<p>5 rows × 37 columns</p>\n",
       "</div>"
      ],
      "text/plain": [
       "   farm_area  temp_obs  wind_direction  dew_temp  pressure_sea_level  \\\n",
       "0  -0.062836 -0.601137       -1.453752 -0.269658            0.514847   \n",
       "1  -0.062836  0.980151       -1.544085  1.481196            0.006072   \n",
       "2  -0.062836  0.212358        0.081899  0.438553            0.484919   \n",
       "3  -0.062836 -0.701681        1.707883 -0.761471            0.496891   \n",
       "4  -0.062836 -1.359789       -1.544085 -1.145085            0.472947   \n",
       "\n",
       "   precipitation  wind_speed      fid1      fid2      fid3  ...  month3  \\\n",
       "0      -0.182551    1.022931 -0.128192  0.127298 -0.518082  ...     0.0   \n",
       "1      -0.182551   -1.492852 -0.128192  0.127298 -0.518082  ...     0.0   \n",
       "2      -0.182551    0.096064 -0.128192  0.127298 -0.518082  ...     0.0   \n",
       "3      -0.182551    1.243614 -0.128192  0.127298 -0.518082  ...     1.0   \n",
       "4      -0.182551   -1.492852 -0.128192  0.127298 -0.518082  ...     0.0   \n",
       "\n",
       "   month4  month5  month6  month7  month8  month9  month10  month11  month12  \n",
       "0     0.0     0.0     0.0     0.0     0.0     0.0      0.0      1.0      0.0  \n",
       "1     0.0     0.0     0.0     1.0     0.0     0.0      0.0      0.0      0.0  \n",
       "2     0.0     0.0     0.0     0.0     0.0     1.0      0.0      0.0      0.0  \n",
       "3     0.0     0.0     0.0     0.0     0.0     0.0      0.0      0.0      0.0  \n",
       "4     0.0     0.0     0.0     0.0     0.0     0.0      0.0      0.0      0.0  \n",
       "\n",
       "[5 rows x 37 columns]"
      ]
     },
     "execution_count": 14,
     "metadata": {},
     "output_type": "execute_result"
    }
   ],
   "source": [
    "X_train.head()"
   ]
  },
  {
   "cell_type": "code",
   "execution_count": null,
   "metadata": {
    "cell_id": "00014-81295b54-7dbe-4c1d-a121-dc51edd97ac9",
    "deepnote_cell_type": "code",
    "deepnote_to_be_reexecuted": false,
    "execution_millis": 48,
    "execution_start": 1614945538937,
    "source_hash": "49813701",
    "tags": []
   },
   "outputs": [
    {
     "data": {
      "application/vnd.deepnote.dataframe.v2+json": {
       "column_count": 8,
       "columns": [
        {
         "dtype": "object",
         "name": "Model",
         "stats": {
          "categories": [],
          "nan_count": 0,
          "unique_count": 0
         }
        },
        {
         "dtype": "object",
         "name": "R-Square",
         "stats": {
          "categories": [],
          "nan_count": 0,
          "unique_count": 0
         }
        },
        {
         "dtype": "object",
         "name": "Train_MSE",
         "stats": {
          "categories": [],
          "nan_count": 0,
          "unique_count": 0
         }
        },
        {
         "dtype": "object",
         "name": "Test_MSE",
         "stats": {
          "categories": [],
          "nan_count": 0,
          "unique_count": 0
         }
        },
        {
         "dtype": "object",
         "name": "Train_RMSE",
         "stats": {
          "categories": [],
          "nan_count": 0,
          "unique_count": 0
         }
        },
        {
         "dtype": "object",
         "name": "Test_RMSE",
         "stats": {
          "categories": [],
          "nan_count": 0,
          "unique_count": 0
         }
        },
        {
         "dtype": "object",
         "name": "Train_MAE",
         "stats": {
          "categories": [],
          "nan_count": 0,
          "unique_count": 0
         }
        },
        {
         "dtype": "object",
         "name": "Test_MAE",
         "stats": {
          "categories": [],
          "nan_count": 0,
          "unique_count": 0
         }
        },
        {
         "dtype": "object",
         "name": "_deepnote_index_column"
        }
       ],
       "row_count": 0,
       "rows_bottom": null,
       "rows_top": []
      },
      "text/html": [
       "<div>\n",
       "<style scoped>\n",
       "    .dataframe tbody tr th:only-of-type {\n",
       "        vertical-align: middle;\n",
       "    }\n",
       "\n",
       "    .dataframe tbody tr th {\n",
       "        vertical-align: top;\n",
       "    }\n",
       "\n",
       "    .dataframe thead th {\n",
       "        text-align: right;\n",
       "    }\n",
       "</style>\n",
       "<table border=\"1\" class=\"dataframe\">\n",
       "  <thead>\n",
       "    <tr style=\"text-align: right;\">\n",
       "      <th></th>\n",
       "      <th>Model</th>\n",
       "      <th>R-Square</th>\n",
       "      <th>Train_MSE</th>\n",
       "      <th>Test_MSE</th>\n",
       "      <th>Train_RMSE</th>\n",
       "      <th>Test_RMSE</th>\n",
       "      <th>Train_MAE</th>\n",
       "      <th>Test_MAE</th>\n",
       "    </tr>\n",
       "  </thead>\n",
       "  <tbody>\n",
       "  </tbody>\n",
       "</table>\n",
       "</div>"
      ],
      "text/plain": [
       "Empty DataFrame\n",
       "Columns: [Model, R-Square, Train_MSE, Test_MSE, Train_RMSE, Test_RMSE, Train_MAE, Test_MAE]\n",
       "Index: []"
      ]
     },
     "execution_count": 15,
     "metadata": {},
     "output_type": "execute_result"
    }
   ],
   "source": [
    "scores = pd.DataFrame(columns=['Model','R-Square','Train_MSE','Test_MSE','Train_RMSE','Test_RMSE','Train_MAE','Test_MAE'])\n",
    "scores"
   ]
  },
  {
   "cell_type": "code",
   "execution_count": null,
   "metadata": {
    "cell_id": "00015-d39d0e64-952e-4064-a5e1-8846bed3f33d",
    "deepnote_cell_type": "code",
    "deepnote_to_be_reexecuted": false,
    "execution_millis": 7,
    "execution_start": 1614945538944,
    "source_hash": "a49cfbc3",
    "tags": []
   },
   "outputs": [],
   "source": [
    "def get_metrics(train_actual,train_predicted,test_actual,test_predicted,model_description, df):\n",
    "    r_square = r2_score(train_actual,train_predicted)\n",
    "    \n",
    "    print(f'R Square: {r_square}')\n",
    "    \n",
    "    train_mse = round(mean_squared_error(train_actual,train_predicted),3)\n",
    "    test_mse = round(mean_squared_error(test_actual,test_predicted),3)\n",
    "    \n",
    "    train_rmse = round(mean_squared_error(train_actual,train_predicted,squared=False),3)\n",
    "    test_rmse = round(mean_squared_error(test_actual,test_predicted,squared=False),3)\n",
    "    \n",
    "    print(f'Train RMSE: {train_rmse}')\n",
    "    print(f'Test RMSE: {test_rmse}')\n",
    "\n",
    "\n",
    "    train_mae = round(mean_absolute_error(train_actual,train_predicted),3)\n",
    "    test_mae = round(mean_absolute_error(test_actual,test_predicted),3)\n",
    "    \n",
    "        \n",
    "    df = df.append(pd.Series([model_description, r_square, train_mse, test_mse, train_rmse, test_rmse, train_mae, test_mae],\\\n",
    "     index = scores.columns),ignore_index=True)\n",
    "    \n",
    "    return df"
   ]
  },
  {
   "cell_type": "markdown",
   "metadata": {
    "cell_id": "00016-f054db4d-18ce-4db0-8790-ae6345bca36b",
    "deepnote_cell_type": "code",
    "deepnote_to_be_reexecuted": false,
    "execution_millis": 0,
    "execution_start": 1614945538962,
    "source_hash": "b623e53d",
    "tags": []
   },
   "source": [
    "### Building Linear Model"
   ]
  },
  {
   "cell_type": "code",
   "execution_count": null,
   "metadata": {
    "cell_id": "00017-6e07d3cd-d714-4b09-b234-192265dcd773",
    "deepnote_cell_type": "code",
    "deepnote_to_be_reexecuted": false,
    "execution_millis": 15814,
    "execution_start": 1614945538963,
    "source_hash": "853c0da5",
    "tags": []
   },
   "outputs": [
    {
     "data": {
      "text/plain": [
       "LinearRegression()"
      ]
     },
     "execution_count": 17,
     "metadata": {},
     "output_type": "execute_result"
    }
   ],
   "source": [
    "from sklearn.linear_model import LinearRegression\n",
    "\n",
    "lm = LinearRegression()\n",
    "lm.fit(X_train,y_train)"
   ]
  },
  {
   "cell_type": "code",
   "execution_count": null,
   "metadata": {
    "cell_id": "00018-c095f8f9-d360-4a7c-8915-5df8dcab244e",
    "deepnote_cell_type": "code",
    "deepnote_to_be_reexecuted": false,
    "execution_millis": 628,
    "execution_start": 1614945554772,
    "source_hash": "61637c9d",
    "tags": []
   },
   "outputs": [],
   "source": [
    "train_predicted = lm.predict(X_train)\n",
    "test_predicted = lm.predict(X_test)"
   ]
  },
  {
   "cell_type": "code",
   "execution_count": null,
   "metadata": {
    "cell_id": "00019-15658ede-c457-4491-affb-2ae8ec7e024f",
    "deepnote_cell_type": "code",
    "deepnote_to_be_reexecuted": false,
    "execution_millis": 539,
    "execution_start": 1614945555409,
    "source_hash": "3dfb439",
    "tags": []
   },
   "outputs": [
    {
     "name": "stdout",
     "output_type": "stream",
     "text": [
      "R Square: 0.2283372125126517\n",
      "Train RMSE: 1340.937\n",
      "Test RMSE: 1344.138\n"
     ]
    },
    {
     "data": {
      "application/vnd.deepnote.dataframe.v2+json": {
       "column_count": 8,
       "columns": [
        {
         "dtype": "object",
         "name": "Model",
         "stats": {
          "categories": [
           {
            "count": 1,
            "name": "LR"
           }
          ],
          "nan_count": 0,
          "unique_count": 1
         }
        },
        {
         "dtype": "float64",
         "name": "R-Square",
         "stats": {
          "histogram": [
           {
            "bin_end": -0.17166278748734828,
            "bin_start": -0.2716627874873483,
            "count": 0
           },
           {
            "bin_end": -0.07166278748734828,
            "bin_start": -0.17166278748734828,
            "count": 0
           },
           {
            "bin_end": 0.028337212512651755,
            "bin_start": -0.07166278748734828,
            "count": 0
           },
           {
            "bin_end": 0.12833721251265173,
            "bin_start": 0.028337212512651755,
            "count": 0
           },
           {
            "bin_end": 0.2283372125126517,
            "bin_start": 0.12833721251265173,
            "count": 0
           },
           {
            "bin_end": 0.3283372125126518,
            "bin_start": 0.2283372125126517,
            "count": 1
           },
           {
            "bin_end": 0.4283372125126518,
            "bin_start": 0.3283372125126518,
            "count": 0
           },
           {
            "bin_end": 0.5283372125126518,
            "bin_start": 0.4283372125126518,
            "count": 0
           },
           {
            "bin_end": 0.6283372125126517,
            "bin_start": 0.5283372125126518,
            "count": 0
           },
           {
            "bin_end": 0.7283372125126517,
            "bin_start": 0.6283372125126517,
            "count": 0
           }
          ],
          "max": 0.2283372125126517,
          "min": 0.2283372125126517,
          "nan_count": 0,
          "unique_count": 1
         }
        },
        {
         "dtype": "float64",
         "name": "Train_MSE",
         "stats": {
          "histogram": [
           {
            "bin_end": 1798111.0520000001,
            "bin_start": 1798110.952,
            "count": 0
           },
           {
            "bin_end": 1798111.152,
            "bin_start": 1798111.0520000001,
            "count": 0
           },
           {
            "bin_end": 1798111.252,
            "bin_start": 1798111.152,
            "count": 0
           },
           {
            "bin_end": 1798111.352,
            "bin_start": 1798111.252,
            "count": 0
           },
           {
            "bin_end": 1798111.452,
            "bin_start": 1798111.352,
            "count": 0
           },
           {
            "bin_end": 1798111.5520000001,
            "bin_start": 1798111.452,
            "count": 1
           },
           {
            "bin_end": 1798111.652,
            "bin_start": 1798111.5520000001,
            "count": 0
           },
           {
            "bin_end": 1798111.752,
            "bin_start": 1798111.652,
            "count": 0
           },
           {
            "bin_end": 1798111.852,
            "bin_start": 1798111.752,
            "count": 0
           },
           {
            "bin_end": 1798111.952,
            "bin_start": 1798111.852,
            "count": 0
           }
          ],
          "max": 1798111.452,
          "min": 1798111.452,
          "nan_count": 0,
          "unique_count": 1
         }
        },
        {
         "dtype": "float64",
         "name": "Test_MSE",
         "stats": {
          "histogram": [
           {
            "bin_end": 1806705.615,
            "bin_start": 1806705.515,
            "count": 0
           },
           {
            "bin_end": 1806705.7149999999,
            "bin_start": 1806705.615,
            "count": 0
           },
           {
            "bin_end": 1806705.815,
            "bin_start": 1806705.7149999999,
            "count": 0
           },
           {
            "bin_end": 1806705.9149999998,
            "bin_start": 1806705.815,
            "count": 0
           },
           {
            "bin_end": 1806706.015,
            "bin_start": 1806705.9149999998,
            "count": 0
           },
           {
            "bin_end": 1806706.115,
            "bin_start": 1806706.015,
            "count": 1
           },
           {
            "bin_end": 1806706.2149999999,
            "bin_start": 1806706.115,
            "count": 0
           },
           {
            "bin_end": 1806706.315,
            "bin_start": 1806706.2149999999,
            "count": 0
           },
           {
            "bin_end": 1806706.4149999998,
            "bin_start": 1806706.315,
            "count": 0
           },
           {
            "bin_end": 1806706.515,
            "bin_start": 1806706.4149999998,
            "count": 0
           }
          ],
          "max": 1806706.015,
          "min": 1806706.015,
          "nan_count": 0,
          "unique_count": 1
         }
        },
        {
         "dtype": "float64",
         "name": "Train_RMSE",
         "stats": {
          "histogram": [
           {
            "bin_end": 1340.5369999999998,
            "bin_start": 1340.437,
            "count": 0
           },
           {
            "bin_end": 1340.637,
            "bin_start": 1340.5369999999998,
            "count": 0
           },
           {
            "bin_end": 1340.7369999999999,
            "bin_start": 1340.637,
            "count": 0
           },
           {
            "bin_end": 1340.837,
            "bin_start": 1340.7369999999999,
            "count": 0
           },
           {
            "bin_end": 1340.937,
            "bin_start": 1340.837,
            "count": 0
           },
           {
            "bin_end": 1341.0369999999998,
            "bin_start": 1340.937,
            "count": 1
           },
           {
            "bin_end": 1341.137,
            "bin_start": 1341.0369999999998,
            "count": 0
           },
           {
            "bin_end": 1341.2369999999999,
            "bin_start": 1341.137,
            "count": 0
           },
           {
            "bin_end": 1341.337,
            "bin_start": 1341.2369999999999,
            "count": 0
           },
           {
            "bin_end": 1341.437,
            "bin_start": 1341.337,
            "count": 0
           }
          ],
          "max": 1340.937,
          "min": 1340.937,
          "nan_count": 0,
          "unique_count": 1
         }
        },
        {
         "dtype": "float64",
         "name": "Test_RMSE",
         "stats": {
          "histogram": [
           {
            "bin_end": 1343.7379999999998,
            "bin_start": 1343.638,
            "count": 0
           },
           {
            "bin_end": 1343.838,
            "bin_start": 1343.7379999999998,
            "count": 0
           },
           {
            "bin_end": 1343.9379999999999,
            "bin_start": 1343.838,
            "count": 0
           },
           {
            "bin_end": 1344.038,
            "bin_start": 1343.9379999999999,
            "count": 0
           },
           {
            "bin_end": 1344.138,
            "bin_start": 1344.038,
            "count": 0
           },
           {
            "bin_end": 1344.2379999999998,
            "bin_start": 1344.138,
            "count": 1
           },
           {
            "bin_end": 1344.338,
            "bin_start": 1344.2379999999998,
            "count": 0
           },
           {
            "bin_end": 1344.4379999999999,
            "bin_start": 1344.338,
            "count": 0
           },
           {
            "bin_end": 1344.538,
            "bin_start": 1344.4379999999999,
            "count": 0
           },
           {
            "bin_end": 1344.638,
            "bin_start": 1344.538,
            "count": 0
           }
          ],
          "max": 1344.138,
          "min": 1344.138,
          "nan_count": 0,
          "unique_count": 1
         }
        },
        {
         "dtype": "float64",
         "name": "Train_MAE",
         "stats": {
          "histogram": [
           {
            "bin_end": 565.325,
            "bin_start": 565.225,
            "count": 0
           },
           {
            "bin_end": 565.4250000000001,
            "bin_start": 565.325,
            "count": 0
           },
           {
            "bin_end": 565.525,
            "bin_start": 565.4250000000001,
            "count": 0
           },
           {
            "bin_end": 565.625,
            "bin_start": 565.525,
            "count": 0
           },
           {
            "bin_end": 565.725,
            "bin_start": 565.625,
            "count": 0
           },
           {
            "bin_end": 565.825,
            "bin_start": 565.725,
            "count": 1
           },
           {
            "bin_end": 565.9250000000001,
            "bin_start": 565.825,
            "count": 0
           },
           {
            "bin_end": 566.025,
            "bin_start": 565.9250000000001,
            "count": 0
           },
           {
            "bin_end": 566.125,
            "bin_start": 566.025,
            "count": 0
           },
           {
            "bin_end": 566.225,
            "bin_start": 566.125,
            "count": 0
           }
          ],
          "max": 565.725,
          "min": 565.725,
          "nan_count": 0,
          "unique_count": 1
         }
        },
        {
         "dtype": "float64",
         "name": "Test_MAE",
         "stats": {
          "histogram": [
           {
            "bin_end": 565.791,
            "bin_start": 565.691,
            "count": 0
           },
           {
            "bin_end": 565.8910000000001,
            "bin_start": 565.791,
            "count": 0
           },
           {
            "bin_end": 565.991,
            "bin_start": 565.8910000000001,
            "count": 0
           },
           {
            "bin_end": 566.091,
            "bin_start": 565.991,
            "count": 0
           },
           {
            "bin_end": 566.191,
            "bin_start": 566.091,
            "count": 0
           },
           {
            "bin_end": 566.291,
            "bin_start": 566.191,
            "count": 1
           },
           {
            "bin_end": 566.3910000000001,
            "bin_start": 566.291,
            "count": 0
           },
           {
            "bin_end": 566.491,
            "bin_start": 566.3910000000001,
            "count": 0
           },
           {
            "bin_end": 566.591,
            "bin_start": 566.491,
            "count": 0
           },
           {
            "bin_end": 566.691,
            "bin_start": 566.591,
            "count": 0
           }
          ],
          "max": 566.191,
          "min": 566.191,
          "nan_count": 0,
          "unique_count": 1
         }
        },
        {
         "dtype": "int64",
         "name": "_deepnote_index_column"
        }
       ],
       "row_count": 1,
       "rows_bottom": null,
       "rows_top": [
        {
         "Model": "LR",
         "R-Square": 0.2283372125126517,
         "Test_MAE": 566.191,
         "Test_MSE": 1806706.015,
         "Test_RMSE": 1344.138,
         "Train_MAE": 565.725,
         "Train_MSE": 1798111.452,
         "Train_RMSE": 1340.937,
         "_deepnote_index_column": 0
        }
       ]
      },
      "text/html": [
       "<div>\n",
       "<style scoped>\n",
       "    .dataframe tbody tr th:only-of-type {\n",
       "        vertical-align: middle;\n",
       "    }\n",
       "\n",
       "    .dataframe tbody tr th {\n",
       "        vertical-align: top;\n",
       "    }\n",
       "\n",
       "    .dataframe thead th {\n",
       "        text-align: right;\n",
       "    }\n",
       "</style>\n",
       "<table border=\"1\" class=\"dataframe\">\n",
       "  <thead>\n",
       "    <tr style=\"text-align: right;\">\n",
       "      <th></th>\n",
       "      <th>Model</th>\n",
       "      <th>R-Square</th>\n",
       "      <th>Train_MSE</th>\n",
       "      <th>Test_MSE</th>\n",
       "      <th>Train_RMSE</th>\n",
       "      <th>Test_RMSE</th>\n",
       "      <th>Train_MAE</th>\n",
       "      <th>Test_MAE</th>\n",
       "    </tr>\n",
       "  </thead>\n",
       "  <tbody>\n",
       "    <tr>\n",
       "      <th>0</th>\n",
       "      <td>LR</td>\n",
       "      <td>0.228337</td>\n",
       "      <td>1798111.452</td>\n",
       "      <td>1806706.015</td>\n",
       "      <td>1340.937</td>\n",
       "      <td>1344.138</td>\n",
       "      <td>565.725</td>\n",
       "      <td>566.191</td>\n",
       "    </tr>\n",
       "  </tbody>\n",
       "</table>\n",
       "</div>"
      ],
      "text/plain": [
       "  Model  R-Square    Train_MSE     Test_MSE  Train_RMSE  Test_RMSE  Train_MAE  \\\n",
       "0    LR  0.228337  1798111.452  1806706.015    1340.937   1344.138    565.725   \n",
       "\n",
       "   Test_MAE  \n",
       "0   566.191  "
      ]
     },
     "execution_count": 19,
     "metadata": {},
     "output_type": "execute_result"
    }
   ],
   "source": [
    "scores = get_metrics(train_values, train_predicted, test_values, test_predicted, \"LR\", scores)\n",
    "scores"
   ]
  },
  {
   "cell_type": "markdown",
   "metadata": {
    "cell_id": "00020-0f376dde-4957-4a7f-a14e-d972d5ae6139",
    "deepnote_cell_type": "code",
    "deepnote_to_be_reexecuted": false,
    "execution_millis": 0,
    "execution_start": 1614945555940,
    "source_hash": "b623e53d",
    "tags": []
   },
   "source": [
    "### Building Decision Tree"
   ]
  },
  {
   "cell_type": "code",
   "execution_count": null,
   "metadata": {
    "cell_id": "00021-4c30150c-ce89-43eb-b63c-5002f3b79fe2",
    "deepnote_cell_type": "code",
    "deepnote_to_be_reexecuted": false,
    "execution_millis": 169076,
    "execution_start": 1614945555943,
    "source_hash": "1fd43c5",
    "tags": []
   },
   "outputs": [
    {
     "data": {
      "text/plain": [
       "DecisionTreeRegressor(ccp_alpha=1, max_depth=10, random_state=340)"
      ]
     },
     "execution_count": 20,
     "metadata": {},
     "output_type": "execute_result"
    }
   ],
   "source": [
    "from sklearn.tree import DecisionTreeRegressor\n",
    "dtr = DecisionTreeRegressor(max_depth=10, criterion= 'mse', random_state= 340, ccp_alpha= 1)\n",
    "dtr.fit(X_train, y_train)"
   ]
  },
  {
   "cell_type": "code",
   "execution_count": null,
   "metadata": {
    "cell_id": "00022-125f4f06-d90c-430b-8270-18254bd6bc8d",
    "deepnote_cell_type": "code",
    "deepnote_to_be_reexecuted": false,
    "execution_millis": 2702,
    "execution_start": 1614945725020,
    "source_hash": "3b5e4a79",
    "tags": []
   },
   "outputs": [],
   "source": [
    "train_predicted = dtr.predict(X_train)\n",
    "test_predicted = dtr.predict(X_test)"
   ]
  },
  {
   "cell_type": "code",
   "execution_count": null,
   "metadata": {
    "cell_id": "00023-66c97287-4ddd-4808-835e-a698d772787d",
    "deepnote_cell_type": "code",
    "deepnote_to_be_reexecuted": false,
    "execution_millis": 512,
    "execution_start": 1614945727725,
    "source_hash": "e7a77042",
    "tags": []
   },
   "outputs": [
    {
     "name": "stdout",
     "output_type": "stream",
     "text": [
      "R Square: 0.8507869301695145\n",
      "Train RMSE: 589.655\n",
      "Test RMSE: 594.42\n"
     ]
    },
    {
     "data": {
      "application/vnd.deepnote.dataframe.v2+json": {
       "column_count": 8,
       "columns": [
        {
         "dtype": "object",
         "name": "Model",
         "stats": {
          "categories": [
           {
            "count": 1,
            "name": "LR"
           },
           {
            "count": 1,
            "name": "DTR"
           }
          ],
          "nan_count": 0,
          "unique_count": 2
         }
        },
        {
         "dtype": "float64",
         "name": "R-Square",
         "stats": {
          "histogram": [
           {
            "bin_end": 0.290582184278338,
            "bin_start": 0.2283372125126517,
            "count": 1
           },
           {
            "bin_end": 0.35282715604402426,
            "bin_start": 0.290582184278338,
            "count": 0
           },
           {
            "bin_end": 0.41507212780971053,
            "bin_start": 0.35282715604402426,
            "count": 0
           },
           {
            "bin_end": 0.4773170995753968,
            "bin_start": 0.41507212780971053,
            "count": 0
           },
           {
            "bin_end": 0.5395620713410831,
            "bin_start": 0.4773170995753968,
            "count": 0
           },
           {
            "bin_end": 0.6018070431067694,
            "bin_start": 0.5395620713410831,
            "count": 0
           },
           {
            "bin_end": 0.6640520148724556,
            "bin_start": 0.6018070431067694,
            "count": 0
           },
           {
            "bin_end": 0.7262969866381419,
            "bin_start": 0.6640520148724556,
            "count": 0
           },
           {
            "bin_end": 0.7885419584038282,
            "bin_start": 0.7262969866381419,
            "count": 0
           },
           {
            "bin_end": 0.8507869301695145,
            "bin_start": 0.7885419584038282,
            "count": 1
           }
          ],
          "max": 0.8507869301695145,
          "min": 0.2283372125126517,
          "nan_count": 0,
          "unique_count": 2
         }
        },
        {
         "dtype": "float64",
         "name": "Train_MSE",
         "stats": {
          "histogram": [
           {
            "bin_end": 492734.82180000003,
            "bin_start": 347692.974,
            "count": 1
           },
           {
            "bin_end": 637776.6696,
            "bin_start": 492734.82180000003,
            "count": 0
           },
           {
            "bin_end": 782818.5174,
            "bin_start": 637776.6696,
            "count": 0
           },
           {
            "bin_end": 927860.3652000001,
            "bin_start": 782818.5174,
            "count": 0
           },
           {
            "bin_end": 1072902.213,
            "bin_start": 927860.3652000001,
            "count": 0
           },
           {
            "bin_end": 1217944.0608,
            "bin_start": 1072902.213,
            "count": 0
           },
           {
            "bin_end": 1362985.9086000002,
            "bin_start": 1217944.0608,
            "count": 0
           },
           {
            "bin_end": 1508027.7564,
            "bin_start": 1362985.9086000002,
            "count": 0
           },
           {
            "bin_end": 1653069.6042000002,
            "bin_start": 1508027.7564,
            "count": 0
           },
           {
            "bin_end": 1798111.452,
            "bin_start": 1653069.6042000002,
            "count": 1
           }
          ],
          "max": 1798111.452,
          "min": 347692.974,
          "nan_count": 0,
          "unique_count": 2
         }
        },
        {
         "dtype": "float64",
         "name": "Test_MSE",
         "stats": {
          "histogram": [
           {
            "bin_end": 498672.38139999995,
            "bin_start": 353335.311,
            "count": 1
           },
           {
            "bin_end": 644009.4517999999,
            "bin_start": 498672.38139999995,
            "count": 0
           },
           {
            "bin_end": 789346.5222,
            "bin_start": 644009.4517999999,
            "count": 0
           },
           {
            "bin_end": 934683.5926,
            "bin_start": 789346.5222,
            "count": 0
           },
           {
            "bin_end": 1080020.663,
            "bin_start": 934683.5926,
            "count": 0
           },
           {
            "bin_end": 1225357.7334,
            "bin_start": 1080020.663,
            "count": 0
           },
           {
            "bin_end": 1370694.8037999999,
            "bin_start": 1225357.7334,
            "count": 0
           },
           {
            "bin_end": 1516031.8742,
            "bin_start": 1370694.8037999999,
            "count": 0
           },
           {
            "bin_end": 1661368.9446,
            "bin_start": 1516031.8742,
            "count": 0
           },
           {
            "bin_end": 1806706.015,
            "bin_start": 1661368.9446,
            "count": 1
           }
          ],
          "max": 1806706.015,
          "min": 353335.311,
          "nan_count": 0,
          "unique_count": 2
         }
        },
        {
         "dtype": "float64",
         "name": "Train_RMSE",
         "stats": {
          "histogram": [
           {
            "bin_end": 664.7832,
            "bin_start": 589.655,
            "count": 1
           },
           {
            "bin_end": 739.9114,
            "bin_start": 664.7832,
            "count": 0
           },
           {
            "bin_end": 815.0396,
            "bin_start": 739.9114,
            "count": 0
           },
           {
            "bin_end": 890.1677999999999,
            "bin_start": 815.0396,
            "count": 0
           },
           {
            "bin_end": 965.2959999999999,
            "bin_start": 890.1677999999999,
            "count": 0
           },
           {
            "bin_end": 1040.4242,
            "bin_start": 965.2959999999999,
            "count": 0
           },
           {
            "bin_end": 1115.5524,
            "bin_start": 1040.4242,
            "count": 0
           },
           {
            "bin_end": 1190.6806,
            "bin_start": 1115.5524,
            "count": 0
           },
           {
            "bin_end": 1265.8087999999998,
            "bin_start": 1190.6806,
            "count": 0
           },
           {
            "bin_end": 1340.937,
            "bin_start": 1265.8087999999998,
            "count": 1
           }
          ],
          "max": 1340.937,
          "min": 589.655,
          "nan_count": 0,
          "unique_count": 2
         }
        },
        {
         "dtype": "float64",
         "name": "Test_RMSE",
         "stats": {
          "histogram": [
           {
            "bin_end": 669.3918,
            "bin_start": 594.42,
            "count": 1
           },
           {
            "bin_end": 744.3635999999999,
            "bin_start": 669.3918,
            "count": 0
           },
           {
            "bin_end": 819.3353999999999,
            "bin_start": 744.3635999999999,
            "count": 0
           },
           {
            "bin_end": 894.3072,
            "bin_start": 819.3353999999999,
            "count": 0
           },
           {
            "bin_end": 969.279,
            "bin_start": 894.3072,
            "count": 0
           },
           {
            "bin_end": 1044.2508,
            "bin_start": 969.279,
            "count": 0
           },
           {
            "bin_end": 1119.2226,
            "bin_start": 1044.2508,
            "count": 0
           },
           {
            "bin_end": 1194.1943999999999,
            "bin_start": 1119.2226,
            "count": 0
           },
           {
            "bin_end": 1269.1662000000001,
            "bin_start": 1194.1943999999999,
            "count": 0
           },
           {
            "bin_end": 1344.138,
            "bin_start": 1269.1662000000001,
            "count": 1
           }
          ],
          "max": 1344.138,
          "min": 594.42,
          "nan_count": 0,
          "unique_count": 2
         }
        },
        {
         "dtype": "float64",
         "name": "Train_MAE",
         "stats": {
          "histogram": [
           {
            "bin_end": 208.5321,
            "bin_start": 168.844,
            "count": 1
           },
           {
            "bin_end": 248.2202,
            "bin_start": 208.5321,
            "count": 0
           },
           {
            "bin_end": 287.9083,
            "bin_start": 248.2202,
            "count": 0
           },
           {
            "bin_end": 327.5964,
            "bin_start": 287.9083,
            "count": 0
           },
           {
            "bin_end": 367.28450000000004,
            "bin_start": 327.5964,
            "count": 0
           },
           {
            "bin_end": 406.97260000000006,
            "bin_start": 367.28450000000004,
            "count": 0
           },
           {
            "bin_end": 446.6607,
            "bin_start": 406.97260000000006,
            "count": 0
           },
           {
            "bin_end": 486.34880000000004,
            "bin_start": 446.6607,
            "count": 0
           },
           {
            "bin_end": 526.0369000000001,
            "bin_start": 486.34880000000004,
            "count": 0
           },
           {
            "bin_end": 565.725,
            "bin_start": 526.0369000000001,
            "count": 1
           }
          ],
          "max": 565.725,
          "min": 168.844,
          "nan_count": 0,
          "unique_count": 2
         }
        },
        {
         "dtype": "float64",
         "name": "Test_MAE",
         "stats": {
          "histogram": [
           {
            "bin_end": 209.0656,
            "bin_start": 169.385,
            "count": 1
           },
           {
            "bin_end": 248.7462,
            "bin_start": 209.0656,
            "count": 0
           },
           {
            "bin_end": 288.4268,
            "bin_start": 248.7462,
            "count": 0
           },
           {
            "bin_end": 328.1074,
            "bin_start": 288.4268,
            "count": 0
           },
           {
            "bin_end": 367.788,
            "bin_start": 328.1074,
            "count": 0
           },
           {
            "bin_end": 407.46860000000004,
            "bin_start": 367.788,
            "count": 0
           },
           {
            "bin_end": 447.1492,
            "bin_start": 407.46860000000004,
            "count": 0
           },
           {
            "bin_end": 486.82980000000003,
            "bin_start": 447.1492,
            "count": 0
           },
           {
            "bin_end": 526.5104000000001,
            "bin_start": 486.82980000000003,
            "count": 0
           },
           {
            "bin_end": 566.191,
            "bin_start": 526.5104000000001,
            "count": 1
           }
          ],
          "max": 566.191,
          "min": 169.385,
          "nan_count": 0,
          "unique_count": 2
         }
        },
        {
         "dtype": "int64",
         "name": "_deepnote_index_column"
        }
       ],
       "row_count": 2,
       "rows_bottom": null,
       "rows_top": [
        {
         "Model": "LR",
         "R-Square": 0.2283372125126517,
         "Test_MAE": 566.191,
         "Test_MSE": 1806706.015,
         "Test_RMSE": 1344.138,
         "Train_MAE": 565.725,
         "Train_MSE": 1798111.452,
         "Train_RMSE": 1340.937,
         "_deepnote_index_column": 0
        },
        {
         "Model": "DTR",
         "R-Square": 0.8507869301695145,
         "Test_MAE": 169.385,
         "Test_MSE": 353335.311,
         "Test_RMSE": 594.42,
         "Train_MAE": 168.844,
         "Train_MSE": 347692.974,
         "Train_RMSE": 589.655,
         "_deepnote_index_column": 1
        }
       ]
      },
      "text/html": [
       "<div>\n",
       "<style scoped>\n",
       "    .dataframe tbody tr th:only-of-type {\n",
       "        vertical-align: middle;\n",
       "    }\n",
       "\n",
       "    .dataframe tbody tr th {\n",
       "        vertical-align: top;\n",
       "    }\n",
       "\n",
       "    .dataframe thead th {\n",
       "        text-align: right;\n",
       "    }\n",
       "</style>\n",
       "<table border=\"1\" class=\"dataframe\">\n",
       "  <thead>\n",
       "    <tr style=\"text-align: right;\">\n",
       "      <th></th>\n",
       "      <th>Model</th>\n",
       "      <th>R-Square</th>\n",
       "      <th>Train_MSE</th>\n",
       "      <th>Test_MSE</th>\n",
       "      <th>Train_RMSE</th>\n",
       "      <th>Test_RMSE</th>\n",
       "      <th>Train_MAE</th>\n",
       "      <th>Test_MAE</th>\n",
       "    </tr>\n",
       "  </thead>\n",
       "  <tbody>\n",
       "    <tr>\n",
       "      <th>0</th>\n",
       "      <td>LR</td>\n",
       "      <td>0.228337</td>\n",
       "      <td>1798111.452</td>\n",
       "      <td>1806706.015</td>\n",
       "      <td>1340.937</td>\n",
       "      <td>1344.138</td>\n",
       "      <td>565.725</td>\n",
       "      <td>566.191</td>\n",
       "    </tr>\n",
       "    <tr>\n",
       "      <th>1</th>\n",
       "      <td>DTR</td>\n",
       "      <td>0.850787</td>\n",
       "      <td>347692.974</td>\n",
       "      <td>353335.311</td>\n",
       "      <td>589.655</td>\n",
       "      <td>594.420</td>\n",
       "      <td>168.844</td>\n",
       "      <td>169.385</td>\n",
       "    </tr>\n",
       "  </tbody>\n",
       "</table>\n",
       "</div>"
      ],
      "text/plain": [
       "  Model  R-Square    Train_MSE     Test_MSE  Train_RMSE  Test_RMSE  Train_MAE  \\\n",
       "0    LR  0.228337  1798111.452  1806706.015    1340.937   1344.138    565.725   \n",
       "1   DTR  0.850787   347692.974   353335.311     589.655    594.420    168.844   \n",
       "\n",
       "   Test_MAE  \n",
       "0   566.191  \n",
       "1   169.385  "
      ]
     },
     "execution_count": 22,
     "metadata": {},
     "output_type": "execute_result"
    }
   ],
   "source": [
    "scores = get_metrics(train_values, train_predicted, test_values, test_predicted, \"DTR\", scores)\n",
    "scores"
   ]
  },
  {
   "cell_type": "code",
   "execution_count": null,
   "metadata": {
    "cell_id": "00024-8c577fc7-ff26-41bb-b3ff-5708fcf64386",
    "deepnote_cell_type": "code",
    "deepnote_to_be_reexecuted": false,
    "execution_millis": 139,
    "execution_start": 1614945728263,
    "source_hash": "30f72ab0",
    "tags": []
   },
   "outputs": [
    {
     "data": {
      "text/plain": [
       "{'ccp_alpha': 1,\n",
       " 'criterion': 'mse',\n",
       " 'max_depth': 10,\n",
       " 'max_features': None,\n",
       " 'max_leaf_nodes': None,\n",
       " 'min_impurity_decrease': 0.0,\n",
       " 'min_impurity_split': None,\n",
       " 'min_samples_leaf': 1,\n",
       " 'min_samples_split': 2,\n",
       " 'min_weight_fraction_leaf': 0.0,\n",
       " 'random_state': 340,\n",
       " 'splitter': 'best'}"
      ]
     },
     "execution_count": 23,
     "metadata": {},
     "output_type": "execute_result"
    }
   ],
   "source": [
    "dtr.get_params()"
   ]
  },
  {
   "cell_type": "markdown",
   "metadata": {},
   "source": [
    "### Feature importances\n",
    "* The importances of a feature are calculated based on the reduction in the impurity (information gain), when that feature is used at a node to split the data."
   ]
  },
  {
   "cell_type": "code",
   "execution_count": null,
   "metadata": {
    "cell_id": "00025-b35321ae-7677-4260-9da0-13fc1775dfb7",
    "deepnote_cell_type": "code",
    "deepnote_to_be_reexecuted": false,
    "execution_millis": 103,
    "execution_start": 1614945728330,
    "source_hash": "5f7a9d56",
    "tags": []
   },
   "outputs": [
    {
     "data": {
      "application/vnd.deepnote.dataframe.v2+json": {
       "column_count": 37,
       "columns": [
        {
         "dtype": "object",
         "name": 0,
         "stats": {
          "categories": [
           {
            "count": 1,
            "name": "fid1"
           },
           {
            "count": 1,
            "name": "0.1563405887613194"
           }
          ],
          "nan_count": 0,
          "unique_count": 2
         }
        },
        {
         "dtype": "object",
         "name": 1,
         "stats": {
          "categories": [
           {
            "count": 1,
            "name": "ing_y"
           },
           {
            "count": 1,
            "name": "0.15479728575254584"
           }
          ],
          "nan_count": 0,
          "unique_count": 2
         }
        },
        {
         "dtype": "object",
         "name": 2,
         "stats": {
          "categories": [
           {
            "count": 1,
            "name": "fid2"
           },
           {
            "count": 1,
            "name": "0.14853927379807155"
           }
          ],
          "nan_count": 0,
          "unique_count": 2
         }
        },
        {
         "dtype": "object",
         "name": 3,
         "stats": {
          "categories": [
           {
            "count": 1,
            "name": "fc1"
           },
           {
            "count": 1,
            "name": "0.12135758266472227"
           }
          ],
          "nan_count": 0,
          "unique_count": 2
         }
        },
        {
         "dtype": "object",
         "name": 4,
         "stats": {
          "categories": [
           {
            "count": 1,
            "name": "fid4"
           },
           {
            "count": 1,
            "name": "0.09339167543617598"
           }
          ],
          "nan_count": 0,
          "unique_count": 2
         }
        },
        {
         "dtype": "object",
         "name": 5,
         "stats": {
          "categories": [
           {
            "count": 1,
            "name": "temp_obs"
           },
           {
            "count": 1,
            "name": "0.07890411484439032"
           }
          ],
          "nan_count": 0,
          "unique_count": 2
         }
        },
        {
         "dtype": "object",
         "name": 6,
         "stats": {
          "categories": [
           {
            "count": 1,
            "name": "Loc1"
           },
           {
            "count": 1,
            "name": "0.07120602440150964"
           }
          ],
          "nan_count": 0,
          "unique_count": 2
         }
        },
        {
         "dtype": "object",
         "name": 7,
         "stats": {
          "categories": [
           {
            "count": 1,
            "name": "ing_w"
           },
           {
            "count": 1,
            "name": "0.06867039855451434"
           }
          ],
          "nan_count": 0,
          "unique_count": 2
         }
        },
        {
         "dtype": "object",
         "name": 8,
         "stats": {
          "categories": [
           {
            "count": 1,
            "name": "fid3"
           },
           {
            "count": 1,
            "name": "0.027141291064087573"
           }
          ],
          "nan_count": 0,
          "unique_count": 2
         }
        },
        {
         "dtype": "object",
         "name": 9,
         "stats": {
          "categories": [
           {
            "count": 1,
            "name": "Loc2"
           },
           {
            "count": 1,
            "name": "0.01492233351776164"
           }
          ],
          "nan_count": 0,
          "unique_count": 2
         }
        },
        {
         "dtype": "object",
         "name": 10,
         "stats": {
          "categories": [
           {
            "count": 1,
            "name": "dew_temp"
           },
           {
            "count": 1,
            "name": "0.013914704542779285"
           }
          ],
          "nan_count": 0,
          "unique_count": 2
         }
        },
        {
         "dtype": "object",
         "name": 11,
         "stats": {
          "categories": [
           {
            "count": 1,
            "name": "farm_area"
           },
           {
            "count": 1,
            "name": "0.012484618649832321"
           }
          ],
          "nan_count": 0,
          "unique_count": 2
         }
        },
        {
         "dtype": "object",
         "name": 12,
         "stats": {
          "categories": [
           {
            "count": 1,
            "name": "ing_x"
           },
           {
            "count": 1,
            "name": "0.00943551407168063"
           }
          ],
          "nan_count": 0,
          "unique_count": 2
         }
        },
        {
         "dtype": "object",
         "name": 13,
         "stats": {
          "categories": [
           {
            "count": 1,
            "name": "month10"
           },
           {
            "count": 1,
            "name": "0.004327022624468483"
           }
          ],
          "nan_count": 0,
          "unique_count": 2
         }
        },
        {
         "dtype": "object",
         "name": 14,
         "stats": {
          "categories": [
           {
            "count": 1,
            "name": "hour1"
           },
           {
            "count": 1,
            "name": "0.004044353902494374"
           }
          ],
          "nan_count": 0,
          "unique_count": 2
         }
        },
        {
         "dtype": "object",
         "name": 15,
         "stats": {
          "categories": [
           {
            "count": 1,
            "name": "month5"
           },
           {
            "count": 1,
            "name": "0.002700456489184396"
           }
          ],
          "nan_count": 0,
          "unique_count": 2
         }
        },
        {
         "dtype": "object",
         "name": 16,
         "stats": {
          "categories": [
           {
            "count": 1,
            "name": "month9"
           },
           {
            "count": 1,
            "name": "0.002631876662662673"
           }
          ],
          "nan_count": 0,
          "unique_count": 2
         }
        },
        {
         "dtype": "object",
         "name": 17,
         "stats": {
          "categories": [
           {
            "count": 1,
            "name": "month4"
           },
           {
            "count": 1,
            "name": "0.0025610588808192064"
           }
          ],
          "nan_count": 0,
          "unique_count": 2
         }
        },
        {
         "dtype": "object",
         "name": 18,
         "stats": {
          "categories": [
           {
            "count": 1,
            "name": "month11"
           },
           {
            "count": 1,
            "name": "0.002068776094092259"
           }
          ],
          "nan_count": 0,
          "unique_count": 2
         }
        },
        {
         "dtype": "object",
         "name": 19,
         "stats": {
          "categories": [
           {
            "count": 1,
            "name": "date1"
           },
           {
            "count": 1,
            "name": "0.0019197109001504733"
           }
          ],
          "nan_count": 0,
          "unique_count": 2
         }
        },
        {
         "dtype": "object",
         "name": 20,
         "stats": {
          "categories": [
           {
            "count": 1,
            "name": "date2"
           },
           {
            "count": 1,
            "name": "0.0014162248899556892"
           }
          ],
          "nan_count": 0,
          "unique_count": 2
         }
        },
        {
         "dtype": "object",
         "name": 21,
         "stats": {
          "categories": [
           {
            "count": 1,
            "name": "precipitation"
           },
           {
            "count": 1,
            "name": "0.0011291302024154816"
           }
          ],
          "nan_count": 0,
          "unique_count": 2
         }
        },
        {
         "dtype": "object",
         "name": 22,
         "stats": {
          "categories": [
           {
            "count": 1,
            "name": "month6"
           },
           {
            "count": 1,
            "name": "0.0011204066205443832"
           }
          ],
          "nan_count": 0,
          "unique_count": 2
         }
        },
        {
         "dtype": "object",
         "name": 23,
         "stats": {
          "categories": [
           {
            "count": 1,
            "name": "fc2"
           },
           {
            "count": 1,
            "name": "0.0010465516348632574"
           }
          ],
          "nan_count": 0,
          "unique_count": 2
         }
        },
        {
         "dtype": "object",
         "name": 24,
         "stats": {
          "categories": [
           {
            "count": 1,
            "name": "month12"
           },
           {
            "count": 1,
            "name": "0.0009650093382669935"
           }
          ],
          "nan_count": 0,
          "unique_count": 2
         }
        },
        {
         "dtype": "object",
         "name": 25,
         "stats": {
          "categories": [
           {
            "count": 1,
            "name": "month3"
           },
           {
            "count": 1,
            "name": "0.0009636913098561411"
           }
          ],
          "nan_count": 0,
          "unique_count": 2
         }
        },
        {
         "dtype": "object",
         "name": 26,
         "stats": {
          "categories": [
           {
            "count": 1,
            "name": "hour2"
           },
           {
            "count": 1,
            "name": "0.00043116746300332523"
           }
          ],
          "nan_count": 0,
          "unique_count": 2
         }
        },
        {
         "dtype": "object",
         "name": 27,
         "stats": {
          "categories": [
           {
            "count": 1,
            "name": "month8"
           },
           {
            "count": 1,
            "name": "0.00036789024933035416"
           }
          ],
          "nan_count": 0,
          "unique_count": 2
         }
        },
        {
         "dtype": "object",
         "name": 28,
         "stats": {
          "categories": [
           {
            "count": 1,
            "name": "ing_z"
           },
           {
            "count": 1,
            "name": "0.00035418435490417133"
           }
          ],
          "nan_count": 0,
          "unique_count": 2
         }
        },
        {
         "dtype": "object",
         "name": 29,
         "stats": {
          "categories": [
           {
            "count": 1,
            "name": "wind_direction"
           },
           {
            "count": 1,
            "name": "0.00025892329525158846"
           }
          ],
          "nan_count": 0,
          "unique_count": 2
         }
        },
        {
         "dtype": "object",
         "name": 30,
         "stats": {
          "categories": [
           {
            "count": 1,
            "name": "pressure_sea_level"
           },
           {
            "count": 1,
            "name": "0.0002342804762546139"
           }
          ],
          "nan_count": 0,
          "unique_count": 2
         }
        },
        {
         "dtype": "object",
         "name": 31,
         "stats": {
          "categories": [
           {
            "count": 1,
            "name": "cloud1"
           },
           {
            "count": 1,
            "name": "0.00014054326770551355"
           }
          ],
          "nan_count": 0,
          "unique_count": 2
         }
        },
        {
         "dtype": "object",
         "name": 32,
         "stats": {
          "categories": [
           {
            "count": 1,
            "name": "wind_speed"
           },
           {
            "count": 1,
            "name": "0.00012112486815651438"
           }
          ],
          "nan_count": 0,
          "unique_count": 2
         }
        },
        {
         "dtype": "object",
         "name": 33,
         "stats": {
          "categories": [
           {
            "count": 1,
            "name": "month2"
           },
           {
            "count": 1,
            "name": "6.159512694760932e-05"
           }
          ],
          "nan_count": 0,
          "unique_count": 2
         }
        },
        {
         "dtype": "object",
         "name": 34,
         "stats": {
          "categories": [
           {
            "count": 1,
            "name": "month7"
           },
           {
            "count": 1,
            "name": "2.98262261648502e-05"
           }
          ],
          "nan_count": 0,
          "unique_count": 2
         }
        },
        {
         "dtype": "object",
         "name": 35,
         "stats": {
          "categories": [
           {
            "count": 1,
            "name": "cloud2"
           },
           {
            "count": 1,
            "name": "7.890631168982013e-07"
           }
          ],
          "nan_count": 0,
          "unique_count": 2
         }
        },
        {
         "dtype": "object",
         "name": 36,
         "stats": {
          "categories": [
           {
            "count": 1,
            "name": "month1"
           },
           {
            "count": 1,
            "name": "0.0"
           }
          ],
          "nan_count": 0,
          "unique_count": 2
         }
        },
        {
         "dtype": "int64",
         "name": "_deepnote_index_column"
        }
       ],
       "row_count": 2,
       "rows_bottom": null,
       "rows_top": [
        {
         "0": "fid1",
         "1": "ing_y",
         "10": "dew_temp",
         "11": "farm_area",
         "12": "ing_x",
         "13": "month10",
         "14": "hour1",
         "15": "month5",
         "16": "month9",
         "17": "month4",
         "18": "month11",
         "19": "date1",
         "2": "fid2",
         "20": "date2",
         "21": "precipitation",
         "22": "month6",
         "23": "fc2",
         "24": "month12",
         "25": "month3",
         "26": "hour2",
         "27": "month8",
         "28": "ing_z",
         "29": "wind_direction",
         "3": "fc1",
         "30": "pressure_sea_level",
         "31": "cloud1",
         "32": "wind_speed",
         "33": "month2",
         "34": "month7",
         "35": "cloud2",
         "36": "month1",
         "4": "fid4",
         "5": "temp_obs",
         "6": "Loc1",
         "7": "ing_w",
         "8": "fid3",
         "9": "Loc2",
         "_deepnote_index_column": 0
        },
        {
         "0": "0.1563405887613194",
         "1": "0.15479728575254584",
         "10": "0.013914704542779285",
         "11": "0.012484618649832321",
         "12": "0.00943551407168063",
         "13": "0.004327022624468483",
         "14": "0.004044353902494374",
         "15": "0.002700456489184396",
         "16": "0.002631876662662673",
         "17": "0.0025610588808192064",
         "18": "0.002068776094092259",
         "19": "0.0019197109001504733",
         "2": "0.14853927379807155",
         "20": "0.0014162248899556892",
         "21": "0.0011291302024154816",
         "22": "0.0011204066205443832",
         "23": "0.0010465516348632574",
         "24": "0.0009650093382669935",
         "25": "0.0009636913098561411",
         "26": "0.00043116746300332523",
         "27": "0.00036789024933035416",
         "28": "0.00035418435490417133",
         "29": "0.00025892329525158846",
         "3": "0.12135758266472227",
         "30": "0.0002342804762546139",
         "31": "0.00014054326770551355",
         "32": "0.00012112486815651438",
         "33": "6.159512694760932e-05",
         "34": "2.98262261648502e-05",
         "35": "7.890631168982013e-07",
         "36": "0.0",
         "4": "0.09339167543617598",
         "5": "0.07890411484439032",
         "6": "0.07120602440150964",
         "7": "0.06867039855451434",
         "8": "0.027141291064087573",
         "9": "0.01492233351776164",
         "_deepnote_index_column": 1
        }
       ]
      },
      "text/html": [
       "<div>\n",
       "<style scoped>\n",
       "    .dataframe tbody tr th:only-of-type {\n",
       "        vertical-align: middle;\n",
       "    }\n",
       "\n",
       "    .dataframe tbody tr th {\n",
       "        vertical-align: top;\n",
       "    }\n",
       "\n",
       "    .dataframe thead th {\n",
       "        text-align: right;\n",
       "    }\n",
       "</style>\n",
       "<table border=\"1\" class=\"dataframe\">\n",
       "  <thead>\n",
       "    <tr style=\"text-align: right;\">\n",
       "      <th></th>\n",
       "      <th>0</th>\n",
       "      <th>1</th>\n",
       "      <th>2</th>\n",
       "      <th>3</th>\n",
       "      <th>4</th>\n",
       "      <th>5</th>\n",
       "      <th>6</th>\n",
       "      <th>7</th>\n",
       "      <th>8</th>\n",
       "      <th>9</th>\n",
       "      <th>...</th>\n",
       "      <th>27</th>\n",
       "      <th>28</th>\n",
       "      <th>29</th>\n",
       "      <th>30</th>\n",
       "      <th>31</th>\n",
       "      <th>32</th>\n",
       "      <th>33</th>\n",
       "      <th>34</th>\n",
       "      <th>35</th>\n",
       "      <th>36</th>\n",
       "    </tr>\n",
       "  </thead>\n",
       "  <tbody>\n",
       "    <tr>\n",
       "      <th>0</th>\n",
       "      <td>fid1</td>\n",
       "      <td>ing_y</td>\n",
       "      <td>fid2</td>\n",
       "      <td>fc1</td>\n",
       "      <td>fid4</td>\n",
       "      <td>temp_obs</td>\n",
       "      <td>Loc1</td>\n",
       "      <td>ing_w</td>\n",
       "      <td>fid3</td>\n",
       "      <td>Loc2</td>\n",
       "      <td>...</td>\n",
       "      <td>month8</td>\n",
       "      <td>ing_z</td>\n",
       "      <td>wind_direction</td>\n",
       "      <td>pressure_sea_level</td>\n",
       "      <td>cloud1</td>\n",
       "      <td>wind_speed</td>\n",
       "      <td>month2</td>\n",
       "      <td>month7</td>\n",
       "      <td>cloud2</td>\n",
       "      <td>month1</td>\n",
       "    </tr>\n",
       "    <tr>\n",
       "      <th>1</th>\n",
       "      <td>0.156341</td>\n",
       "      <td>0.154797</td>\n",
       "      <td>0.148539</td>\n",
       "      <td>0.121358</td>\n",
       "      <td>0.093392</td>\n",
       "      <td>0.078904</td>\n",
       "      <td>0.071206</td>\n",
       "      <td>0.06867</td>\n",
       "      <td>0.027141</td>\n",
       "      <td>0.014922</td>\n",
       "      <td>...</td>\n",
       "      <td>0.000368</td>\n",
       "      <td>0.000354</td>\n",
       "      <td>0.000259</td>\n",
       "      <td>0.000234</td>\n",
       "      <td>0.000141</td>\n",
       "      <td>0.000121</td>\n",
       "      <td>0.000062</td>\n",
       "      <td>0.00003</td>\n",
       "      <td>0.000001</td>\n",
       "      <td>0.0</td>\n",
       "    </tr>\n",
       "  </tbody>\n",
       "</table>\n",
       "<p>2 rows × 37 columns</p>\n",
       "</div>"
      ],
      "text/plain": [
       "         0         1         2         3         4         5         6   \\\n",
       "0      fid1     ing_y      fid2       fc1      fid4  temp_obs      Loc1   \n",
       "1  0.156341  0.154797  0.148539  0.121358  0.093392  0.078904  0.071206   \n",
       "\n",
       "        7         8         9   ...        27        28              29  \\\n",
       "0    ing_w      fid3      Loc2  ...    month8     ing_z  wind_direction   \n",
       "1  0.06867  0.027141  0.014922  ...  0.000368  0.000354        0.000259   \n",
       "\n",
       "                   30        31          32        33       34        35  \\\n",
       "0  pressure_sea_level    cloud1  wind_speed    month2   month7    cloud2   \n",
       "1            0.000234  0.000141    0.000121  0.000062  0.00003  0.000001   \n",
       "\n",
       "       36  \n",
       "0  month1  \n",
       "1     0.0  \n",
       "\n",
       "[2 rows x 37 columns]"
      ]
     },
     "execution_count": 24,
     "metadata": {},
     "output_type": "execute_result"
    }
   ],
   "source": [
    "features = X_train.columns\n",
    "importances = dtr.feature_importances_\n",
    "\n",
    "indices = np.argsort(importances)[::-1]\n",
    "\n",
    "pd.DataFrame([X_train.columns[indices],np.sort(importances)[::-1]])"
   ]
  },
  {
   "cell_type": "code",
   "execution_count": null,
   "metadata": {
    "cell_id": "00026-a646b6a1-c573-45bc-a4e2-8a2f0f877961",
    "deepnote_cell_type": "code",
    "deepnote_to_be_reexecuted": false,
    "execution_millis": 430,
    "execution_start": 1614945728413,
    "source_hash": "33b70edd",
    "tags": []
   },
   "outputs": [
    {
     "data": {
      "image/png": "[encoded data removed]",
      "text/plain": [
       "<Figure size 864x720 with 1 Axes>"
      ]
     },
     "metadata": {
      "needs_background": "light"
     },
     "output_type": "display_data"
    }
   ],
   "source": [
    "plt.figure(figsize = (12,10))\n",
    "plt.title('Feature Importances')\n",
    "plt.barh(range(len(indices)), importances[indices], color='green')\n",
    "plt.yticks(range(len(indices)), [features[i] for i in indices])\n",
    "plt.xlabel('Relative Importance')\n",
    "plt.show()"
   ]
  },
  {
   "cell_type": "code",
   "execution_count": null,
   "metadata": {
    "cell_id": "00027-c8b9df5a-326a-4634-b611-3d6ff8ad9798",
    "deepnote_cell_type": "code",
    "deepnote_to_be_reexecuted": false,
    "execution_millis": 0,
    "execution_start": 1614945728884,
    "source_hash": "33da312a",
    "tags": []
   },
   "outputs": [],
   "source": [
    "import pickle\n",
    "pkl_filename = \"/work/Model_Building/dtr_model_25K.pkl\"\n",
    "with open(pkl_filename, 'wb') as file:\n",
    "    pickle.dump(dtr, file)"
   ]
  },
  {
   "cell_type": "markdown",
   "metadata": {
    "cell_id": "00028-2cc8bee6-1178-48d8-875d-2720951113ee",
    "deepnote_cell_type": "code",
    "deepnote_to_be_reexecuted": false,
    "execution_millis": 0,
    "execution_start": 1614945728884,
    "source_hash": "b623e53d",
    "tags": []
   },
   "source": [
    "### Building RandomForests"
   ]
  },
  {
   "cell_type": "code",
   "execution_count": null,
   "metadata": {
    "cell_id": "00029-b67dd874-eaee-4f8f-a6f3-1fca027e7401",
    "deepnote_cell_type": "code",
    "deepnote_to_be_reexecuted": false,
    "execution_millis": 1153943,
    "execution_start": 1614945728885,
    "source_hash": "d985e4aa",
    "tags": []
   },
   "outputs": [
    {
     "data": {
      "text/plain": [
       "RandomForestRegressor(ccp_alpha=1.5, max_depth=12, n_estimators=8,\n",
       "                      random_state=340)"
      ]
     },
     "execution_count": 27,
     "metadata": {},
     "output_type": "execute_result"
    }
   ],
   "source": [
    "from sklearn.ensemble import RandomForestRegressor\n",
    "\n",
    "rfr = RandomForestRegressor(n_estimators=8, criterion= 'mse', max_depth= 12, ccp_alpha= 1.5,\\\n",
    "                             random_state= 340)\n",
    "\n",
    "rfr.fit(X_train, y_train)"
   ]
  },
  {
   "cell_type": "code",
   "execution_count": null,
   "metadata": {
    "cell_id": "00030-d19754d2-552c-43ff-a105-f2c5342f278b",
    "deepnote_cell_type": "code",
    "deepnote_to_be_reexecuted": false,
    "execution_millis": 13569,
    "execution_start": 1614946882821,
    "source_hash": "155aa865",
    "tags": []
   },
   "outputs": [],
   "source": [
    "train_predicted = rfr.predict(X_train)\n",
    "test_predicted = rfr.predict(X_test)"
   ]
  },
  {
   "cell_type": "code",
   "execution_count": null,
   "metadata": {
    "cell_id": "00031-db1b6a3f-fcfd-4af8-b1f7-375d3d2f60a4",
    "deepnote_cell_type": "code",
    "deepnote_to_be_reexecuted": false,
    "execution_millis": 548,
    "execution_start": 1614946896392,
    "source_hash": "b8320f13",
    "tags": []
   },
   "outputs": [
    {
     "name": "stdout",
     "output_type": "stream",
     "text": [
      "R Square: 0.9005628106323151\n",
      "Train RMSE: 481.359\n",
      "Test RMSE: 491.835\n"
     ]
    },
    {
     "data": {
      "application/vnd.deepnote.dataframe.v2+json": {
       "column_count": 8,
       "columns": [
        {
         "dtype": "object",
         "name": "Model",
         "stats": {
          "categories": [
           {
            "count": 1,
            "name": "LR"
           },
           {
            "count": 1,
            "name": "DTR"
           },
           {
            "count": 1,
            "name": "RFR"
           }
          ],
          "nan_count": 0,
          "unique_count": 3
         }
        },
        {
         "dtype": "float64",
         "name": "R-Square",
         "stats": {
          "histogram": [
           {
            "bin_end": 0.29555977232461805,
            "bin_start": 0.2283372125126517,
            "count": 1
           },
           {
            "bin_end": 0.3627823321365844,
            "bin_start": 0.29555977232461805,
            "count": 0
           },
           {
            "bin_end": 0.43000489194855074,
            "bin_start": 0.3627823321365844,
            "count": 0
           },
           {
            "bin_end": 0.4972274517605171,
            "bin_start": 0.43000489194855074,
            "count": 0
           },
           {
            "bin_end": 0.5644500115724834,
            "bin_start": 0.4972274517605171,
            "count": 0
           },
           {
            "bin_end": 0.6316725713844498,
            "bin_start": 0.5644500115724834,
            "count": 0
           },
           {
            "bin_end": 0.6988951311964161,
            "bin_start": 0.6316725713844498,
            "count": 0
           },
           {
            "bin_end": 0.7661176910083825,
            "bin_start": 0.6988951311964161,
            "count": 0
           },
           {
            "bin_end": 0.8333402508203488,
            "bin_start": 0.7661176910083825,
            "count": 0
           },
           {
            "bin_end": 0.9005628106323151,
            "bin_start": 0.8333402508203488,
            "count": 2
           }
          ],
          "max": 0.9005628106323151,
          "min": 0.2283372125126517,
          "nan_count": 0,
          "unique_count": 3
         }
        },
        {
         "dtype": "float64",
         "name": "Train_MSE",
         "stats": {
          "histogram": [
           {
            "bin_end": 388346.83770000003,
            "bin_start": 231706.325,
            "count": 2
           },
           {
            "bin_end": 544987.3504000001,
            "bin_start": 388346.83770000003,
            "count": 0
           },
           {
            "bin_end": 701627.8631000001,
            "bin_start": 544987.3504000001,
            "count": 0
           },
           {
            "bin_end": 858268.3758,
            "bin_start": 701627.8631000001,
            "count": 0
           },
           {
            "bin_end": 1014908.8885000001,
            "bin_start": 858268.3758,
            "count": 0
           },
           {
            "bin_end": 1171549.4012000002,
            "bin_start": 1014908.8885000001,
            "count": 0
           },
           {
            "bin_end": 1328189.9139,
            "bin_start": 1171549.4012000002,
            "count": 0
           },
           {
            "bin_end": 1484830.4266000001,
            "bin_start": 1328189.9139,
            "count": 0
           },
           {
            "bin_end": 1641470.9393000002,
            "bin_start": 1484830.4266000001,
            "count": 0
           },
           {
            "bin_end": 1798111.452,
            "bin_start": 1641470.9393000002,
            "count": 1
           }
          ],
          "max": 1798111.452,
          "min": 231706.325,
          "nan_count": 0,
          "unique_count": 3
         }
        },
        {
         "dtype": "float64",
         "name": "Test_MSE",
         "stats": {
          "histogram": [
           {
            "bin_end": 398382.37269999995,
            "bin_start": 241901.968,
            "count": 2
           },
           {
            "bin_end": 554862.7774,
            "bin_start": 398382.37269999995,
            "count": 0
           },
           {
            "bin_end": 711343.1821,
            "bin_start": 554862.7774,
            "count": 0
           },
           {
            "bin_end": 867823.5867999999,
            "bin_start": 711343.1821,
            "count": 0
           },
           {
            "bin_end": 1024303.9914999999,
            "bin_start": 867823.5867999999,
            "count": 0
           },
           {
            "bin_end": 1180784.3961999998,
            "bin_start": 1024303.9914999999,
            "count": 0
           },
           {
            "bin_end": 1337264.8008999997,
            "bin_start": 1180784.3961999998,
            "count": 0
           },
           {
            "bin_end": 1493745.2056,
            "bin_start": 1337264.8008999997,
            "count": 0
           },
           {
            "bin_end": 1650225.6102999998,
            "bin_start": 1493745.2056,
            "count": 0
           },
           {
            "bin_end": 1806706.015,
            "bin_start": 1650225.6102999998,
            "count": 1
           }
          ],
          "max": 1806706.015,
          "min": 241901.968,
          "nan_count": 0,
          "unique_count": 3
         }
        },
        {
         "dtype": "float64",
         "name": "Train_RMSE",
         "stats": {
          "histogram": [
           {
            "bin_end": 567.3168,
            "bin_start": 481.359,
            "count": 1
           },
           {
            "bin_end": 653.2746,
            "bin_start": 567.3168,
            "count": 1
           },
           {
            "bin_end": 739.2323999999999,
            "bin_start": 653.2746,
            "count": 0
           },
           {
            "bin_end": 825.1902,
            "bin_start": 739.2323999999999,
            "count": 0
           },
           {
            "bin_end": 911.1479999999999,
            "bin_start": 825.1902,
            "count": 0
           },
           {
            "bin_end": 997.1057999999998,
            "bin_start": 911.1479999999999,
            "count": 0
           },
           {
            "bin_end": 1083.0636,
            "bin_start": 997.1057999999998,
            "count": 0
           },
           {
            "bin_end": 1169.0213999999999,
            "bin_start": 1083.0636,
            "count": 0
           },
           {
            "bin_end": 1254.9792,
            "bin_start": 1169.0213999999999,
            "count": 0
           },
           {
            "bin_end": 1340.937,
            "bin_start": 1254.9792,
            "count": 1
           }
          ],
          "max": 1340.937,
          "min": 481.359,
          "nan_count": 0,
          "unique_count": 3
         }
        },
        {
         "dtype": "float64",
         "name": "Test_RMSE",
         "stats": {
          "histogram": [
           {
            "bin_end": 577.0653,
            "bin_start": 491.835,
            "count": 1
           },
           {
            "bin_end": 662.2955999999999,
            "bin_start": 577.0653,
            "count": 1
           },
           {
            "bin_end": 747.5258999999999,
            "bin_start": 662.2955999999999,
            "count": 0
           },
           {
            "bin_end": 832.7561999999999,
            "bin_start": 747.5258999999999,
            "count": 0
           },
           {
            "bin_end": 917.9865,
            "bin_start": 832.7561999999999,
            "count": 0
           },
           {
            "bin_end": 1003.2167999999999,
            "bin_start": 917.9865,
            "count": 0
           },
           {
            "bin_end": 1088.4470999999999,
            "bin_start": 1003.2167999999999,
            "count": 0
           },
           {
            "bin_end": 1173.6773999999998,
            "bin_start": 1088.4470999999999,
            "count": 0
           },
           {
            "bin_end": 1258.9076999999997,
            "bin_start": 1173.6773999999998,
            "count": 0
           },
           {
            "bin_end": 1344.138,
            "bin_start": 1258.9076999999997,
            "count": 1
           }
          ],
          "max": 1344.138,
          "min": 491.835,
          "nan_count": 0,
          "unique_count": 3
         }
        },
        {
         "dtype": "float64",
         "name": "Train_MAE",
         "stats": {
          "histogram": [
           {
            "bin_end": 177.9708,
            "bin_start": 134.887,
            "count": 2
           },
           {
            "bin_end": 221.0546,
            "bin_start": 177.9708,
            "count": 0
           },
           {
            "bin_end": 264.13840000000005,
            "bin_start": 221.0546,
            "count": 0
           },
           {
            "bin_end": 307.22220000000004,
            "bin_start": 264.13840000000005,
            "count": 0
           },
           {
            "bin_end": 350.30600000000004,
            "bin_start": 307.22220000000004,
            "count": 0
           },
           {
            "bin_end": 393.38980000000004,
            "bin_start": 350.30600000000004,
            "count": 0
           },
           {
            "bin_end": 436.47360000000003,
            "bin_start": 393.38980000000004,
            "count": 0
           },
           {
            "bin_end": 479.55740000000003,
            "bin_start": 436.47360000000003,
            "count": 0
           },
           {
            "bin_end": 522.6412,
            "bin_start": 479.55740000000003,
            "count": 0
           },
           {
            "bin_end": 565.725,
            "bin_start": 522.6412,
            "count": 1
           }
          ],
          "max": 565.725,
          "min": 134.887,
          "nan_count": 0,
          "unique_count": 3
         }
        },
        {
         "dtype": "float64",
         "name": "Test_MAE",
         "stats": {
          "histogram": [
           {
            "bin_end": 178.9516,
            "bin_start": 135.925,
            "count": 2
           },
           {
            "bin_end": 221.97820000000002,
            "bin_start": 178.9516,
            "count": 0
           },
           {
            "bin_end": 265.00480000000005,
            "bin_start": 221.97820000000002,
            "count": 0
           },
           {
            "bin_end": 308.0314,
            "bin_start": 265.00480000000005,
            "count": 0
           },
           {
            "bin_end": 351.058,
            "bin_start": 308.0314,
            "count": 0
           },
           {
            "bin_end": 394.0846,
            "bin_start": 351.058,
            "count": 0
           },
           {
            "bin_end": 437.1112,
            "bin_start": 394.0846,
            "count": 0
           },
           {
            "bin_end": 480.1378,
            "bin_start": 437.1112,
            "count": 0
           },
           {
            "bin_end": 523.1644000000001,
            "bin_start": 480.1378,
            "count": 0
           },
           {
            "bin_end": 566.191,
            "bin_start": 523.1644000000001,
            "count": 1
           }
          ],
          "max": 566.191,
          "min": 135.925,
          "nan_count": 0,
          "unique_count": 3
         }
        },
        {
         "dtype": "int64",
         "name": "_deepnote_index_column"
        }
       ],
       "row_count": 3,
       "rows_bottom": null,
       "rows_top": [
        {
         "Model": "LR",
         "R-Square": 0.2283372125126517,
         "Test_MAE": 566.191,
         "Test_MSE": 1806706.015,
         "Test_RMSE": 1344.138,
         "Train_MAE": 565.725,
         "Train_MSE": 1798111.452,
         "Train_RMSE": 1340.937,
         "_deepnote_index_column": 0
        },
        {
         "Model": "DTR",
         "R-Square": 0.8507869301695145,
         "Test_MAE": 169.385,
         "Test_MSE": 353335.311,
         "Test_RMSE": 594.42,
         "Train_MAE": 168.844,
         "Train_MSE": 347692.974,
         "Train_RMSE": 589.655,
         "_deepnote_index_column": 1
        },
        {
         "Model": "RFR",
         "R-Square": 0.9005628106323151,
         "Test_MAE": 135.925,
         "Test_MSE": 241901.968,
         "Test_RMSE": 491.835,
         "Train_MAE": 134.887,
         "Train_MSE": 231706.325,
         "Train_RMSE": 481.359,
         "_deepnote_index_column": 2
        }
       ]
      },
      "text/html": [
       "<div>\n",
       "<style scoped>\n",
       "    .dataframe tbody tr th:only-of-type {\n",
       "        vertical-align: middle;\n",
       "    }\n",
       "\n",
       "    .dataframe tbody tr th {\n",
       "        vertical-align: top;\n",
       "    }\n",
       "\n",
       "    .dataframe thead th {\n",
       "        text-align: right;\n",
       "    }\n",
       "</style>\n",
       "<table border=\"1\" class=\"dataframe\">\n",
       "  <thead>\n",
       "    <tr style=\"text-align: right;\">\n",
       "      <th></th>\n",
       "      <th>Model</th>\n",
       "      <th>R-Square</th>\n",
       "      <th>Train_MSE</th>\n",
       "      <th>Test_MSE</th>\n",
       "      <th>Train_RMSE</th>\n",
       "      <th>Test_RMSE</th>\n",
       "      <th>Train_MAE</th>\n",
       "      <th>Test_MAE</th>\n",
       "    </tr>\n",
       "  </thead>\n",
       "  <tbody>\n",
       "    <tr>\n",
       "      <th>0</th>\n",
       "      <td>LR</td>\n",
       "      <td>0.228337</td>\n",
       "      <td>1798111.452</td>\n",
       "      <td>1806706.015</td>\n",
       "      <td>1340.937</td>\n",
       "      <td>1344.138</td>\n",
       "      <td>565.725</td>\n",
       "      <td>566.191</td>\n",
       "    </tr>\n",
       "    <tr>\n",
       "      <th>1</th>\n",
       "      <td>DTR</td>\n",
       "      <td>0.850787</td>\n",
       "      <td>347692.974</td>\n",
       "      <td>353335.311</td>\n",
       "      <td>589.655</td>\n",
       "      <td>594.420</td>\n",
       "      <td>168.844</td>\n",
       "      <td>169.385</td>\n",
       "    </tr>\n",
       "    <tr>\n",
       "      <th>2</th>\n",
       "      <td>RFR</td>\n",
       "      <td>0.900563</td>\n",
       "      <td>231706.325</td>\n",
       "      <td>241901.968</td>\n",
       "      <td>481.359</td>\n",
       "      <td>491.835</td>\n",
       "      <td>134.887</td>\n",
       "      <td>135.925</td>\n",
       "    </tr>\n",
       "  </tbody>\n",
       "</table>\n",
       "</div>"
      ],
      "text/plain": [
       "  Model  R-Square    Train_MSE     Test_MSE  Train_RMSE  Test_RMSE  Train_MAE  \\\n",
       "0    LR  0.228337  1798111.452  1806706.015    1340.937   1344.138    565.725   \n",
       "1   DTR  0.850787   347692.974   353335.311     589.655    594.420    168.844   \n",
       "2   RFR  0.900563   231706.325   241901.968     481.359    491.835    134.887   \n",
       "\n",
       "   Test_MAE  \n",
       "0   566.191  \n",
       "1   169.385  \n",
       "2   135.925  "
      ]
     },
     "execution_count": 29,
     "metadata": {},
     "output_type": "execute_result"
    }
   ],
   "source": [
    "scores = get_metrics(train_values, train_predicted, test_values, test_predicted, \"RFR\", scores)\n",
    "scores"
   ]
  },
  {
   "cell_type": "code",
   "execution_count": null,
   "metadata": {
    "cell_id": "00032-7054b70a-daa7-4476-82db-502521863d6e",
    "deepnote_cell_type": "code",
    "deepnote_to_be_reexecuted": false,
    "execution_millis": 13,
    "execution_start": 1614946896901,
    "source_hash": "846c06bc",
    "tags": []
   },
   "outputs": [],
   "source": [
    "import pickle\n",
    "pkl_filename = \"/work/Model_Building/rfr_model_25K.pkl\"\n",
    "with open(pkl_filename, 'wb') as file:\n",
    "    pickle.dump(rfr, file)"
   ]
  },
  {
   "cell_type": "code",
   "execution_count": null,
   "metadata": {
    "cell_id": "00033-b67cb9a8-69e1-4dbb-b141-be25b6f56f76",
    "deepnote_cell_type": "code",
    "deepnote_to_be_reexecuted": false,
    "execution_millis": 37,
    "execution_start": 1614946896915,
    "source_hash": "9a9c1480",
    "tags": []
   },
   "outputs": [
    {
     "data": {
      "text/plain": [
       "{'bootstrap': True,\n",
       " 'ccp_alpha': 1.5,\n",
       " 'criterion': 'mse',\n",
       " 'max_depth': 12,\n",
       " 'max_features': 'auto',\n",
       " 'max_leaf_nodes': None,\n",
       " 'max_samples': None,\n",
       " 'min_impurity_decrease': 0.0,\n",
       " 'min_impurity_split': None,\n",
       " 'min_samples_leaf': 1,\n",
       " 'min_samples_split': 2,\n",
       " 'min_weight_fraction_leaf': 0.0,\n",
       " 'n_estimators': 8,\n",
       " 'n_jobs': None,\n",
       " 'oob_score': False,\n",
       " 'random_state': 340,\n",
       " 'verbose': 0,\n",
       " 'warm_start': False}"
      ]
     },
     "execution_count": 31,
     "metadata": {},
     "output_type": "execute_result"
    }
   ],
   "source": [
    "rfr.get_params()"
   ]
  },
  {
   "cell_type": "code",
   "execution_count": null,
   "metadata": {
    "cell_id": "00034-9d400c38-f69a-47c9-a8aa-3eea5dec9c1a",
    "deepnote_cell_type": "code",
    "deepnote_to_be_reexecuted": false,
    "execution_millis": 80,
    "execution_start": 1614946896923,
    "source_hash": "ac661a01",
    "tags": []
   },
   "outputs": [
    {
     "data": {
      "application/vnd.deepnote.dataframe.v2+json": {
       "column_count": 37,
       "columns": [
        {
         "dtype": "object",
         "name": 0,
         "stats": {
          "categories": [
           {
            "count": 1,
            "name": "ing_y"
           },
           {
            "count": 1,
            "name": "0.1739299388246947"
           }
          ],
          "nan_count": 0,
          "unique_count": 2
         }
        },
        {
         "dtype": "object",
         "name": 1,
         "stats": {
          "categories": [
           {
            "count": 1,
            "name": "fid2"
           },
           {
            "count": 1,
            "name": "0.15203324739228424"
           }
          ],
          "nan_count": 0,
          "unique_count": 2
         }
        },
        {
         "dtype": "object",
         "name": 2,
         "stats": {
          "categories": [
           {
            "count": 1,
            "name": "fid1"
           },
           {
            "count": 1,
            "name": "0.13570976702012105"
           }
          ],
          "nan_count": 0,
          "unique_count": 2
         }
        },
        {
         "dtype": "object",
         "name": 3,
         "stats": {
          "categories": [
           {
            "count": 1,
            "name": "fc1"
           },
           {
            "count": 1,
            "name": "0.11587748857760004"
           }
          ],
          "nan_count": 0,
          "unique_count": 2
         }
        },
        {
         "dtype": "object",
         "name": 4,
         "stats": {
          "categories": [
           {
            "count": 1,
            "name": "fid4"
           },
           {
            "count": 1,
            "name": "0.09444579311984606"
           }
          ],
          "nan_count": 0,
          "unique_count": 2
         }
        },
        {
         "dtype": "object",
         "name": 5,
         "stats": {
          "categories": [
           {
            "count": 1,
            "name": "temp_obs"
           },
           {
            "count": 1,
            "name": "0.08103028663935201"
           }
          ],
          "nan_count": 0,
          "unique_count": 2
         }
        },
        {
         "dtype": "object",
         "name": 6,
         "stats": {
          "categories": [
           {
            "count": 1,
            "name": "Loc1"
           },
           {
            "count": 1,
            "name": "0.06537642238716256"
           }
          ],
          "nan_count": 0,
          "unique_count": 2
         }
        },
        {
         "dtype": "object",
         "name": 7,
         "stats": {
          "categories": [
           {
            "count": 1,
            "name": "ing_w"
           },
           {
            "count": 1,
            "name": "0.039547651070548924"
           }
          ],
          "nan_count": 0,
          "unique_count": 2
         }
        },
        {
         "dtype": "object",
         "name": 8,
         "stats": {
          "categories": [
           {
            "count": 1,
            "name": "fid3"
           },
           {
            "count": 1,
            "name": "0.03415706495722678"
           }
          ],
          "nan_count": 0,
          "unique_count": 2
         }
        },
        {
         "dtype": "object",
         "name": 9,
         "stats": {
          "categories": [
           {
            "count": 1,
            "name": "farm_area"
           },
           {
            "count": 1,
            "name": "0.015902448231261985"
           }
          ],
          "nan_count": 0,
          "unique_count": 2
         }
        },
        {
         "dtype": "object",
         "name": 10,
         "stats": {
          "categories": [
           {
            "count": 1,
            "name": "Loc2"
           },
           {
            "count": 1,
            "name": "0.015761707142357743"
           }
          ],
          "nan_count": 0,
          "unique_count": 2
         }
        },
        {
         "dtype": "object",
         "name": 11,
         "stats": {
          "categories": [
           {
            "count": 1,
            "name": "dew_temp"
           },
           {
            "count": 1,
            "name": "0.014523886255896946"
           }
          ],
          "nan_count": 0,
          "unique_count": 2
         }
        },
        {
         "dtype": "object",
         "name": 12,
         "stats": {
          "categories": [
           {
            "count": 1,
            "name": "ing_x"
           },
           {
            "count": 1,
            "name": "0.009783651442412954"
           }
          ],
          "nan_count": 0,
          "unique_count": 2
         }
        },
        {
         "dtype": "object",
         "name": 13,
         "stats": {
          "categories": [
           {
            "count": 1,
            "name": "hour1"
           },
           {
            "count": 1,
            "name": "0.006544026911129024"
           }
          ],
          "nan_count": 0,
          "unique_count": 2
         }
        },
        {
         "dtype": "object",
         "name": 14,
         "stats": {
          "categories": [
           {
            "count": 1,
            "name": "month9"
           },
           {
            "count": 1,
            "name": "0.006012991623238036"
           }
          ],
          "nan_count": 0,
          "unique_count": 2
         }
        },
        {
         "dtype": "object",
         "name": 15,
         "stats": {
          "categories": [
           {
            "count": 1,
            "name": "month10"
           },
           {
            "count": 1,
            "name": "0.005489102379883113"
           }
          ],
          "nan_count": 0,
          "unique_count": 2
         }
        },
        {
         "dtype": "object",
         "name": 16,
         "stats": {
          "categories": [
           {
            "count": 1,
            "name": "month11"
           },
           {
            "count": 1,
            "name": "0.003949880571278851"
           }
          ],
          "nan_count": 0,
          "unique_count": 2
         }
        },
        {
         "dtype": "object",
         "name": 17,
         "stats": {
          "categories": [
           {
            "count": 1,
            "name": "date1"
           },
           {
            "count": 1,
            "name": "0.0034899151133132205"
           }
          ],
          "nan_count": 0,
          "unique_count": 2
         }
        },
        {
         "dtype": "object",
         "name": 18,
         "stats": {
          "categories": [
           {
            "count": 1,
            "name": "date2"
           },
           {
            "count": 1,
            "name": "0.0033856043278830956"
           }
          ],
          "nan_count": 0,
          "unique_count": 2
         }
        },
        {
         "dtype": "object",
         "name": 19,
         "stats": {
          "categories": [
           {
            "count": 1,
            "name": "month4"
           },
           {
            "count": 1,
            "name": "0.003133647283655791"
           }
          ],
          "nan_count": 0,
          "unique_count": 2
         }
        },
        {
         "dtype": "object",
         "name": 20,
         "stats": {
          "categories": [
           {
            "count": 1,
            "name": "month12"
           },
           {
            "count": 1,
            "name": "0.003009097583216333"
           }
          ],
          "nan_count": 0,
          "unique_count": 2
         }
        },
        {
         "dtype": "object",
         "name": 21,
         "stats": {
          "categories": [
           {
            "count": 1,
            "name": "month5"
           },
           {
            "count": 1,
            "name": "0.002942788280767787"
           }
          ],
          "nan_count": 0,
          "unique_count": 2
         }
        },
        {
         "dtype": "object",
         "name": 22,
         "stats": {
          "categories": [
           {
            "count": 1,
            "name": "ing_z"
           },
           {
            "count": 1,
            "name": "0.0022420835590970236"
           }
          ],
          "nan_count": 0,
          "unique_count": 2
         }
        },
        {
         "dtype": "object",
         "name": 23,
         "stats": {
          "categories": [
           {
            "count": 1,
            "name": "fc2"
           },
           {
            "count": 1,
            "name": "0.0019367159045450052"
           }
          ],
          "nan_count": 0,
          "unique_count": 2
         }
        },
        {
         "dtype": "object",
         "name": 24,
         "stats": {
          "categories": [
           {
            "count": 1,
            "name": "pressure_sea_level"
           },
           {
            "count": 1,
            "name": "0.0015479063176967118"
           }
          ],
          "nan_count": 0,
          "unique_count": 2
         }
        },
        {
         "dtype": "object",
         "name": 25,
         "stats": {
          "categories": [
           {
            "count": 1,
            "name": "month3"
           },
           {
            "count": 1,
            "name": "0.001299714409007899"
           }
          ],
          "nan_count": 0,
          "unique_count": 2
         }
        },
        {
         "dtype": "object",
         "name": 26,
         "stats": {
          "categories": [
           {
            "count": 1,
            "name": "month6"
           },
           {
            "count": 1,
            "name": "0.0012326697337446597"
           }
          ],
          "nan_count": 0,
          "unique_count": 2
         }
        },
        {
         "dtype": "object",
         "name": 27,
         "stats": {
          "categories": [
           {
            "count": 1,
            "name": "month8"
           },
           {
            "count": 1,
            "name": "0.001189594668280269"
           }
          ],
          "nan_count": 0,
          "unique_count": 2
         }
        },
        {
         "dtype": "object",
         "name": 28,
         "stats": {
          "categories": [
           {
            "count": 1,
            "name": "precipitation"
           },
           {
            "count": 1,
            "name": "0.001181893182583506"
           }
          ],
          "nan_count": 0,
          "unique_count": 2
         }
        },
        {
         "dtype": "object",
         "name": 29,
         "stats": {
          "categories": [
           {
            "count": 1,
            "name": "hour2"
           },
           {
            "count": 1,
            "name": "0.001062629962218768"
           }
          ],
          "nan_count": 0,
          "unique_count": 2
         }
        },
        {
         "dtype": "object",
         "name": 30,
         "stats": {
          "categories": [
           {
            "count": 1,
            "name": "wind_direction"
           },
           {
            "count": 1,
            "name": "0.0006356029153836892"
           }
          ],
          "nan_count": 0,
          "unique_count": 2
         }
        },
        {
         "dtype": "object",
         "name": 31,
         "stats": {
          "categories": [
           {
            "count": 1,
            "name": "month1"
           },
           {
            "count": 1,
            "name": "0.0005605677382842862"
           }
          ],
          "nan_count": 0,
          "unique_count": 2
         }
        },
        {
         "dtype": "object",
         "name": 32,
         "stats": {
          "categories": [
           {
            "count": 1,
            "name": "month7"
           },
           {
            "count": 1,
            "name": "0.0004216086096193532"
           }
          ],
          "nan_count": 0,
          "unique_count": 2
         }
        },
        {
         "dtype": "object",
         "name": 33,
         "stats": {
          "categories": [
           {
            "count": 1,
            "name": "wind_speed"
           },
           {
            "count": 1,
            "name": "0.0002522280916345472"
           }
          ],
          "nan_count": 0,
          "unique_count": 2
         }
        },
        {
         "dtype": "object",
         "name": 34,
         "stats": {
          "categories": [
           {
            "count": 1,
            "name": "cloud1"
           },
           {
            "count": 1,
            "name": "0.00018593930705327572"
           }
          ],
          "nan_count": 0,
          "unique_count": 2
         }
        },
        {
         "dtype": "object",
         "name": 35,
         "stats": {
          "categories": [
           {
            "count": 1,
            "name": "month2"
           },
           {
            "count": 1,
            "name": "0.0001228729280275061"
           }
          ],
          "nan_count": 0,
          "unique_count": 2
         }
        },
        {
         "dtype": "object",
         "name": 36,
         "stats": {
          "categories": [
           {
            "count": 1,
            "name": "cloud2"
           },
           {
            "count": 1,
            "name": "9.156553769227893e-05"
           }
          ],
          "nan_count": 0,
          "unique_count": 2
         }
        },
        {
         "dtype": "int64",
         "name": "_deepnote_index_column"
        }
       ],
       "row_count": 2,
       "rows_bottom": null,
       "rows_top": [
        {
         "0": "ing_y",
         "1": "fid2",
         "10": "Loc2",
         "11": "dew_temp",
         "12": "ing_x",
         "13": "hour1",
         "14": "month9",
         "15": "month10",
         "16": "month11",
         "17": "date1",
         "18": "date2",
         "19": "month4",
         "2": "fid1",
         "20": "month12",
         "21": "month5",
         "22": "ing_z",
         "23": "fc2",
         "24": "pressure_sea_level",
         "25": "month3",
         "26": "month6",
         "27": "month8",
         "28": "precipitation",
         "29": "hour2",
         "3": "fc1",
         "30": "wind_direction",
         "31": "month1",
         "32": "month7",
         "33": "wind_speed",
         "34": "cloud1",
         "35": "month2",
         "36": "cloud2",
         "4": "fid4",
         "5": "temp_obs",
         "6": "Loc1",
         "7": "ing_w",
         "8": "fid3",
         "9": "farm_area",
         "_deepnote_index_column": 0
        },
        {
         "0": "0.1739299388246947",
         "1": "0.15203324739228424",
         "10": "0.015761707142357743",
         "11": "0.014523886255896946",
         "12": "0.009783651442412954",
         "13": "0.006544026911129024",
         "14": "0.006012991623238036",
         "15": "0.005489102379883113",
         "16": "0.003949880571278851",
         "17": "0.0034899151133132205",
         "18": "0.0033856043278830956",
         "19": "0.003133647283655791",
         "2": "0.13570976702012105",
         "20": "0.003009097583216333",
         "21": "0.002942788280767787",
         "22": "0.0022420835590970236",
         "23": "0.0019367159045450052",
         "24": "0.0015479063176967118",
         "25": "0.001299714409007899",
         "26": "0.0012326697337446597",
         "27": "0.001189594668280269",
         "28": "0.001181893182583506",
         "29": "0.001062629962218768",
         "3": "0.11587748857760004",
         "30": "0.0006356029153836892",
         "31": "0.0005605677382842862",
         "32": "0.0004216086096193532",
         "33": "0.0002522280916345472",
         "34": "0.00018593930705327572",
         "35": "0.0001228729280275061",
         "36": "9.156553769227893e-05",
         "4": "0.09444579311984606",
         "5": "0.08103028663935201",
         "6": "0.06537642238716256",
         "7": "0.039547651070548924",
         "8": "0.03415706495722678",
         "9": "0.015902448231261985",
         "_deepnote_index_column": 1
        }
       ]
      },
      "text/html": [
       "<div>\n",
       "<style scoped>\n",
       "    .dataframe tbody tr th:only-of-type {\n",
       "        vertical-align: middle;\n",
       "    }\n",
       "\n",
       "    .dataframe tbody tr th {\n",
       "        vertical-align: top;\n",
       "    }\n",
       "\n",
       "    .dataframe thead th {\n",
       "        text-align: right;\n",
       "    }\n",
       "</style>\n",
       "<table border=\"1\" class=\"dataframe\">\n",
       "  <thead>\n",
       "    <tr style=\"text-align: right;\">\n",
       "      <th></th>\n",
       "      <th>0</th>\n",
       "      <th>1</th>\n",
       "      <th>2</th>\n",
       "      <th>3</th>\n",
       "      <th>4</th>\n",
       "      <th>5</th>\n",
       "      <th>6</th>\n",
       "      <th>7</th>\n",
       "      <th>8</th>\n",
       "      <th>9</th>\n",
       "      <th>...</th>\n",
       "      <th>27</th>\n",
       "      <th>28</th>\n",
       "      <th>29</th>\n",
       "      <th>30</th>\n",
       "      <th>31</th>\n",
       "      <th>32</th>\n",
       "      <th>33</th>\n",
       "      <th>34</th>\n",
       "      <th>35</th>\n",
       "      <th>36</th>\n",
       "    </tr>\n",
       "  </thead>\n",
       "  <tbody>\n",
       "    <tr>\n",
       "      <th>0</th>\n",
       "      <td>ing_y</td>\n",
       "      <td>fid2</td>\n",
       "      <td>fid1</td>\n",
       "      <td>fc1</td>\n",
       "      <td>fid4</td>\n",
       "      <td>temp_obs</td>\n",
       "      <td>Loc1</td>\n",
       "      <td>ing_w</td>\n",
       "      <td>fid3</td>\n",
       "      <td>farm_area</td>\n",
       "      <td>...</td>\n",
       "      <td>month8</td>\n",
       "      <td>precipitation</td>\n",
       "      <td>hour2</td>\n",
       "      <td>wind_direction</td>\n",
       "      <td>month1</td>\n",
       "      <td>month7</td>\n",
       "      <td>wind_speed</td>\n",
       "      <td>cloud1</td>\n",
       "      <td>month2</td>\n",
       "      <td>cloud2</td>\n",
       "    </tr>\n",
       "    <tr>\n",
       "      <th>1</th>\n",
       "      <td>0.17393</td>\n",
       "      <td>0.152033</td>\n",
       "      <td>0.13571</td>\n",
       "      <td>0.115877</td>\n",
       "      <td>0.094446</td>\n",
       "      <td>0.08103</td>\n",
       "      <td>0.065376</td>\n",
       "      <td>0.039548</td>\n",
       "      <td>0.034157</td>\n",
       "      <td>0.015902</td>\n",
       "      <td>...</td>\n",
       "      <td>0.00119</td>\n",
       "      <td>0.001182</td>\n",
       "      <td>0.001063</td>\n",
       "      <td>0.000636</td>\n",
       "      <td>0.000561</td>\n",
       "      <td>0.000422</td>\n",
       "      <td>0.000252</td>\n",
       "      <td>0.000186</td>\n",
       "      <td>0.000123</td>\n",
       "      <td>0.000092</td>\n",
       "    </tr>\n",
       "  </tbody>\n",
       "</table>\n",
       "<p>2 rows × 37 columns</p>\n",
       "</div>"
      ],
      "text/plain": [
       "        0         1        2         3         4         5         6   \\\n",
       "0    ing_y      fid2     fid1       fc1      fid4  temp_obs      Loc1   \n",
       "1  0.17393  0.152033  0.13571  0.115877  0.094446   0.08103  0.065376   \n",
       "\n",
       "         7         8          9   ...       27             28        29  \\\n",
       "0     ing_w      fid3  farm_area  ...   month8  precipitation     hour2   \n",
       "1  0.039548  0.034157   0.015902  ...  0.00119       0.001182  0.001063   \n",
       "\n",
       "               30        31        32          33        34        35  \\\n",
       "0  wind_direction    month1    month7  wind_speed    cloud1    month2   \n",
       "1        0.000636  0.000561  0.000422    0.000252  0.000186  0.000123   \n",
       "\n",
       "         36  \n",
       "0    cloud2  \n",
       "1  0.000092  \n",
       "\n",
       "[2 rows x 37 columns]"
      ]
     },
     "execution_count": 32,
     "metadata": {},
     "output_type": "execute_result"
    }
   ],
   "source": [
    "features = X_train.columns\n",
    "importances = rfr.feature_importances_\n",
    "\n",
    "indices = np.argsort(importances)[::-1]\n",
    "\n",
    "pd.DataFrame([X_train.columns[indices],np.sort(importances)[::-1]])"
   ]
  },
  {
   "cell_type": "code",
   "execution_count": null,
   "metadata": {
    "cell_id": "00035-d38568b4-4330-47ec-bae0-181c58bd4619",
    "deepnote_cell_type": "code",
    "deepnote_to_be_reexecuted": false,
    "execution_millis": 423,
    "execution_start": 1614946897006,
    "source_hash": "f112531a",
    "tags": []
   },
   "outputs": [
    {
     "data": {
      "image/png": "[encoded data removed]",
      "text/plain": [
       "<Figure size 864x720 with 1 Axes>"
      ]
     },
     "metadata": {
      "needs_background": "light"
     },
     "output_type": "display_data"
    }
   ],
   "source": [
    "plt.figure(figsize = (12,10))\n",
    "plt.title('Feature Importances')\n",
    "plt.barh(range(len(indices)), importances[indices], color='orange')\n",
    "plt.yticks(range(len(indices)), [features[i] for i in indices])\n",
    "plt.xlabel('Relative Importance')\n",
    "plt.show()"
   ]
  },
  {
   "cell_type": "markdown",
   "metadata": {
    "cell_id": "00036-54cf52ca-c04b-4828-87dc-3d703cd1a28d",
    "deepnote_cell_type": "code",
    "deepnote_to_be_reexecuted": false,
    "execution_millis": 1,
    "execution_start": 1614946897418,
    "source_hash": "b623e53d",
    "tags": []
   },
   "source": [
    "### <font color= 'red'>Here we can observe that <u>fid features</u> (categorical embeddings of farm_ids), one hot vector of <u>ing_y, ing_w, temperature_observations feature, farming_company, deidentified_location</u> are relatively important in predicting the yield.</font>"
   ]
  },
  {
   "cell_type": "code",
   "execution_count": null,
   "metadata": {
    "cell_id": "00037-dc7caedf-efc5-47e1-9ea5-a6245ddf5cf5",
    "deepnote_cell_type": "code",
    "deepnote_to_be_reexecuted": false,
    "execution_millis": 16,
    "execution_start": 1614946897444,
    "source_hash": "5ad5d988",
    "tags": []
   },
   "outputs": [
    {
     "data": {
      "application/vnd.deepnote.dataframe.v2+json": {
       "column_count": 8,
       "columns": [
        {
         "dtype": "object",
         "name": "Model",
         "stats": {
          "categories": [
           {
            "count": 1,
            "name": "LR"
           },
           {
            "count": 1,
            "name": "DTR"
           },
           {
            "count": 1,
            "name": "RFR"
           }
          ],
          "nan_count": 0,
          "unique_count": 3
         }
        },
        {
         "dtype": "float64",
         "name": "R-Square",
         "stats": {
          "histogram": [
           {
            "bin_end": 0.29555977232461805,
            "bin_start": 0.2283372125126517,
            "count": 1
           },
           {
            "bin_end": 0.3627823321365844,
            "bin_start": 0.29555977232461805,
            "count": 0
           },
           {
            "bin_end": 0.43000489194855074,
            "bin_start": 0.3627823321365844,
            "count": 0
           },
           {
            "bin_end": 0.4972274517605171,
            "bin_start": 0.43000489194855074,
            "count": 0
           },
           {
            "bin_end": 0.5644500115724834,
            "bin_start": 0.4972274517605171,
            "count": 0
           },
           {
            "bin_end": 0.6316725713844498,
            "bin_start": 0.5644500115724834,
            "count": 0
           },
           {
            "bin_end": 0.6988951311964161,
            "bin_start": 0.6316725713844498,
            "count": 0
           },
           {
            "bin_end": 0.7661176910083825,
            "bin_start": 0.6988951311964161,
            "count": 0
           },
           {
            "bin_end": 0.8333402508203488,
            "bin_start": 0.7661176910083825,
            "count": 0
           },
           {
            "bin_end": 0.9005628106323151,
            "bin_start": 0.8333402508203488,
            "count": 2
           }
          ],
          "max": 0.9005628106323151,
          "min": 0.2283372125126517,
          "nan_count": 0,
          "unique_count": 3
         }
        },
        {
         "dtype": "float64",
         "name": "Train_MSE",
         "stats": {
          "histogram": [
           {
            "bin_end": 388346.83770000003,
            "bin_start": 231706.325,
            "count": 2
           },
           {
            "bin_end": 544987.3504000001,
            "bin_start": 388346.83770000003,
            "count": 0
           },
           {
            "bin_end": 701627.8631000001,
            "bin_start": 544987.3504000001,
            "count": 0
           },
           {
            "bin_end": 858268.3758,
            "bin_start": 701627.8631000001,
            "count": 0
           },
           {
            "bin_end": 1014908.8885000001,
            "bin_start": 858268.3758,
            "count": 0
           },
           {
            "bin_end": 1171549.4012000002,
            "bin_start": 1014908.8885000001,
            "count": 0
           },
           {
            "bin_end": 1328189.9139,
            "bin_start": 1171549.4012000002,
            "count": 0
           },
           {
            "bin_end": 1484830.4266000001,
            "bin_start": 1328189.9139,
            "count": 0
           },
           {
            "bin_end": 1641470.9393000002,
            "bin_start": 1484830.4266000001,
            "count": 0
           },
           {
            "bin_end": 1798111.452,
            "bin_start": 1641470.9393000002,
            "count": 1
           }
          ],
          "max": 1798111.452,
          "min": 231706.325,
          "nan_count": 0,
          "unique_count": 3
         }
        },
        {
         "dtype": "float64",
         "name": "Test_MSE",
         "stats": {
          "histogram": [
           {
            "bin_end": 398382.37269999995,
            "bin_start": 241901.968,
            "count": 2
           },
           {
            "bin_end": 554862.7774,
            "bin_start": 398382.37269999995,
            "count": 0
           },
           {
            "bin_end": 711343.1821,
            "bin_start": 554862.7774,
            "count": 0
           },
           {
            "bin_end": 867823.5867999999,
            "bin_start": 711343.1821,
            "count": 0
           },
           {
            "bin_end": 1024303.9914999999,
            "bin_start": 867823.5867999999,
            "count": 0
           },
           {
            "bin_end": 1180784.3961999998,
            "bin_start": 1024303.9914999999,
            "count": 0
           },
           {
            "bin_end": 1337264.8008999997,
            "bin_start": 1180784.3961999998,
            "count": 0
           },
           {
            "bin_end": 1493745.2056,
            "bin_start": 1337264.8008999997,
            "count": 0
           },
           {
            "bin_end": 1650225.6102999998,
            "bin_start": 1493745.2056,
            "count": 0
           },
           {
            "bin_end": 1806706.015,
            "bin_start": 1650225.6102999998,
            "count": 1
           }
          ],
          "max": 1806706.015,
          "min": 241901.968,
          "nan_count": 0,
          "unique_count": 3
         }
        },
        {
         "dtype": "float64",
         "name": "Train_RMSE",
         "stats": {
          "histogram": [
           {
            "bin_end": 567.3168,
            "bin_start": 481.359,
            "count": 1
           },
           {
            "bin_end": 653.2746,
            "bin_start": 567.3168,
            "count": 1
           },
           {
            "bin_end": 739.2323999999999,
            "bin_start": 653.2746,
            "count": 0
           },
           {
            "bin_end": 825.1902,
            "bin_start": 739.2323999999999,
            "count": 0
           },
           {
            "bin_end": 911.1479999999999,
            "bin_start": 825.1902,
            "count": 0
           },
           {
            "bin_end": 997.1057999999998,
            "bin_start": 911.1479999999999,
            "count": 0
           },
           {
            "bin_end": 1083.0636,
            "bin_start": 997.1057999999998,
            "count": 0
           },
           {
            "bin_end": 1169.0213999999999,
            "bin_start": 1083.0636,
            "count": 0
           },
           {
            "bin_end": 1254.9792,
            "bin_start": 1169.0213999999999,
            "count": 0
           },
           {
            "bin_end": 1340.937,
            "bin_start": 1254.9792,
            "count": 1
           }
          ],
          "max": 1340.937,
          "min": 481.359,
          "nan_count": 0,
          "unique_count": 3
         }
        },
        {
         "dtype": "float64",
         "name": "Test_RMSE",
         "stats": {
          "histogram": [
           {
            "bin_end": 577.0653,
            "bin_start": 491.835,
            "count": 1
           },
           {
            "bin_end": 662.2955999999999,
            "bin_start": 577.0653,
            "count": 1
           },
           {
            "bin_end": 747.5258999999999,
            "bin_start": 662.2955999999999,
            "count": 0
           },
           {
            "bin_end": 832.7561999999999,
            "bin_start": 747.5258999999999,
            "count": 0
           },
           {
            "bin_end": 917.9865,
            "bin_start": 832.7561999999999,
            "count": 0
           },
           {
            "bin_end": 1003.2167999999999,
            "bin_start": 917.9865,
            "count": 0
           },
           {
            "bin_end": 1088.4470999999999,
            "bin_start": 1003.2167999999999,
            "count": 0
           },
           {
            "bin_end": 1173.6773999999998,
            "bin_start": 1088.4470999999999,
            "count": 0
           },
           {
            "bin_end": 1258.9076999999997,
            "bin_start": 1173.6773999999998,
            "count": 0
           },
           {
            "bin_end": 1344.138,
            "bin_start": 1258.9076999999997,
            "count": 1
           }
          ],
          "max": 1344.138,
          "min": 491.835,
          "nan_count": 0,
          "unique_count": 3
         }
        },
        {
         "dtype": "float64",
         "name": "Train_MAE",
         "stats": {
          "histogram": [
           {
            "bin_end": 177.9708,
            "bin_start": 134.887,
            "count": 2
           },
           {
            "bin_end": 221.0546,
            "bin_start": 177.9708,
            "count": 0
           },
           {
            "bin_end": 264.13840000000005,
            "bin_start": 221.0546,
            "count": 0
           },
           {
            "bin_end": 307.22220000000004,
            "bin_start": 264.13840000000005,
            "count": 0
           },
           {
            "bin_end": 350.30600000000004,
            "bin_start": 307.22220000000004,
            "count": 0
           },
           {
            "bin_end": 393.38980000000004,
            "bin_start": 350.30600000000004,
            "count": 0
           },
           {
            "bin_end": 436.47360000000003,
            "bin_start": 393.38980000000004,
            "count": 0
           },
           {
            "bin_end": 479.55740000000003,
            "bin_start": 436.47360000000003,
            "count": 0
           },
           {
            "bin_end": 522.6412,
            "bin_start": 479.55740000000003,
            "count": 0
           },
           {
            "bin_end": 565.725,
            "bin_start": 522.6412,
            "count": 1
           }
          ],
          "max": 565.725,
          "min": 134.887,
          "nan_count": 0,
          "unique_count": 3
         }
        },
        {
         "dtype": "float64",
         "name": "Test_MAE",
         "stats": {
          "histogram": [
           {
            "bin_end": 178.9516,
            "bin_start": 135.925,
            "count": 2
           },
           {
            "bin_end": 221.97820000000002,
            "bin_start": 178.9516,
            "count": 0
           },
           {
            "bin_end": 265.00480000000005,
            "bin_start": 221.97820000000002,
            "count": 0
           },
           {
            "bin_end": 308.0314,
            "bin_start": 265.00480000000005,
            "count": 0
           },
           {
            "bin_end": 351.058,
            "bin_start": 308.0314,
            "count": 0
           },
           {
            "bin_end": 394.0846,
            "bin_start": 351.058,
            "count": 0
           },
           {
            "bin_end": 437.1112,
            "bin_start": 394.0846,
            "count": 0
           },
           {
            "bin_end": 480.1378,
            "bin_start": 437.1112,
            "count": 0
           },
           {
            "bin_end": 523.1644000000001,
            "bin_start": 480.1378,
            "count": 0
           },
           {
            "bin_end": 566.191,
            "bin_start": 523.1644000000001,
            "count": 1
           }
          ],
          "max": 566.191,
          "min": 135.925,
          "nan_count": 0,
          "unique_count": 3
         }
        },
        {
         "dtype": "int64",
         "name": "_deepnote_index_column"
        }
       ],
       "row_count": 3,
       "rows_bottom": null,
       "rows_top": [
        {
         "Model": "LR",
         "R-Square": 0.2283372125126517,
         "Test_MAE": 566.191,
         "Test_MSE": 1806706.015,
         "Test_RMSE": 1344.138,
         "Train_MAE": 565.725,
         "Train_MSE": 1798111.452,
         "Train_RMSE": 1340.937,
         "_deepnote_index_column": 0
        },
        {
         "Model": "DTR",
         "R-Square": 0.8507869301695145,
         "Test_MAE": 169.385,
         "Test_MSE": 353335.311,
         "Test_RMSE": 594.42,
         "Train_MAE": 168.844,
         "Train_MSE": 347692.974,
         "Train_RMSE": 589.655,
         "_deepnote_index_column": 1
        },
        {
         "Model": "RFR",
         "R-Square": 0.9005628106323151,
         "Test_MAE": 135.925,
         "Test_MSE": 241901.968,
         "Test_RMSE": 491.835,
         "Train_MAE": 134.887,
         "Train_MSE": 231706.325,
         "Train_RMSE": 481.359,
         "_deepnote_index_column": 2
        }
       ]
      },
      "text/html": [
       "<div>\n",
       "<style scoped>\n",
       "    .dataframe tbody tr th:only-of-type {\n",
       "        vertical-align: middle;\n",
       "    }\n",
       "\n",
       "    .dataframe tbody tr th {\n",
       "        vertical-align: top;\n",
       "    }\n",
       "\n",
       "    .dataframe thead th {\n",
       "        text-align: right;\n",
       "    }\n",
       "</style>\n",
       "<table border=\"1\" class=\"dataframe\">\n",
       "  <thead>\n",
       "    <tr style=\"text-align: right;\">\n",
       "      <th></th>\n",
       "      <th>Model</th>\n",
       "      <th>R-Square</th>\n",
       "      <th>Train_MSE</th>\n",
       "      <th>Test_MSE</th>\n",
       "      <th>Train_RMSE</th>\n",
       "      <th>Test_RMSE</th>\n",
       "      <th>Train_MAE</th>\n",
       "      <th>Test_MAE</th>\n",
       "    </tr>\n",
       "  </thead>\n",
       "  <tbody>\n",
       "    <tr>\n",
       "      <th>0</th>\n",
       "      <td>LR</td>\n",
       "      <td>0.228337</td>\n",
       "      <td>1798111.452</td>\n",
       "      <td>1806706.015</td>\n",
       "      <td>1340.937</td>\n",
       "      <td>1344.138</td>\n",
       "      <td>565.725</td>\n",
       "      <td>566.191</td>\n",
       "    </tr>\n",
       "    <tr>\n",
       "      <th>1</th>\n",
       "      <td>DTR</td>\n",
       "      <td>0.850787</td>\n",
       "      <td>347692.974</td>\n",
       "      <td>353335.311</td>\n",
       "      <td>589.655</td>\n",
       "      <td>594.420</td>\n",
       "      <td>168.844</td>\n",
       "      <td>169.385</td>\n",
       "    </tr>\n",
       "    <tr>\n",
       "      <th>2</th>\n",
       "      <td>RFR</td>\n",
       "      <td>0.900563</td>\n",
       "      <td>231706.325</td>\n",
       "      <td>241901.968</td>\n",
       "      <td>481.359</td>\n",
       "      <td>491.835</td>\n",
       "      <td>134.887</td>\n",
       "      <td>135.925</td>\n",
       "    </tr>\n",
       "  </tbody>\n",
       "</table>\n",
       "</div>"
      ],
      "text/plain": [
       "  Model  R-Square    Train_MSE     Test_MSE  Train_RMSE  Test_RMSE  Train_MAE  \\\n",
       "0    LR  0.228337  1798111.452  1806706.015    1340.937   1344.138    565.725   \n",
       "1   DTR  0.850787   347692.974   353335.311     589.655    594.420    168.844   \n",
       "2   RFR  0.900563   231706.325   241901.968     481.359    491.835    134.887   \n",
       "\n",
       "   Test_MAE  \n",
       "0   566.191  \n",
       "1   169.385  \n",
       "2   135.925  "
      ]
     },
     "execution_count": 34,
     "metadata": {},
     "output_type": "execute_result"
    }
   ],
   "source": [
    "scores"
   ]
  },
  {
   "cell_type": "markdown",
   "metadata": {
    "cell_id": "00038-1cd538aa-a77c-43f0-a359-8d16d407e6db",
    "deepnote_cell_type": "code",
    "deepnote_to_be_reexecuted": false,
    "execution_millis": 2,
    "execution_start": 1614946897448,
    "source_hash": "b623e53d",
    "tags": []
   },
   "source": [
    "### Building XGBoost Regressor"
   ]
  },
  {
   "cell_type": "code",
   "execution_count": null,
   "metadata": {
    "cell_id": "00039-955305b3-c982-4aaa-bbf3-c9220b212a04",
    "deepnote_cell_type": "code",
    "deepnote_to_be_reexecuted": false,
    "execution_millis": 380791,
    "execution_start": 1614946897452,
    "source_hash": "3899fb8",
    "tags": []
   },
   "outputs": [
    {
     "data": {
      "text/plain": [
       "XGBRegressor(base_score=0.5, booster='gbtree', colsample_bylevel=1,\n",
       "             colsample_bynode=1, colsample_bytree=1, gamma=1, gpu_id=-1,\n",
       "             importance_type='gain', interaction_constraints='',\n",
       "             learning_rate=0.1, max_delta_step=0, max_depth=6,\n",
       "             min_child_weight=1, missing=nan, monotone_constraints='()',\n",
       "             n_estimators=50, n_jobs=16, num_parallel_tree=1, random_state=0,\n",
       "             reg_alpha=0, reg_lambda=1, scale_pos_weight=1, subsample=0.8,\n",
       "             tree_method='approx', validate_parameters=1, verbosity=None)"
      ]
     },
     "execution_count": 35,
     "metadata": {},
     "output_type": "execute_result"
    }
   ],
   "source": [
    "xgbr = XGBRegressor(n_estimators=50, learning_rate=0.1, gamma=1, subsample=0.8)\n",
    "xgbr.fit(X_train,y_train)"
   ]
  },
  {
   "cell_type": "code",
   "execution_count": null,
   "metadata": {
    "cell_id": "00040-90c5e7d7-4faf-46d6-a5ec-5ebf480c409b",
    "deepnote_cell_type": "code",
    "deepnote_to_be_reexecuted": false,
    "execution_millis": 11132,
    "execution_start": 1614947278238,
    "source_hash": "798c2ded",
    "tags": []
   },
   "outputs": [],
   "source": [
    "train_predicted = xgbr.predict(X_train)\n",
    "test_predicted = xgbr.predict(X_test)"
   ]
  },
  {
   "cell_type": "code",
   "execution_count": null,
   "metadata": {
    "cell_id": "00041-7e943733-d535-489a-b80e-88afcc72d228",
    "deepnote_cell_type": "code",
    "deepnote_to_be_reexecuted": false,
    "execution_millis": 451,
    "execution_start": 1614947289370,
    "source_hash": "156fb007",
    "tags": []
   },
   "outputs": [
    {
     "name": "stdout",
     "output_type": "stream",
     "text": [
      "R Square: 0.8385426101312358\n",
      "Train RMSE: 613.371\n",
      "Test RMSE: 613.095\n"
     ]
    },
    {
     "data": {
      "application/vnd.deepnote.dataframe.v2+json": {
       "column_count": 8,
       "columns": [
        {
         "dtype": "object",
         "name": "Model",
         "stats": {
          "categories": [
           {
            "count": 1,
            "name": "LR"
           },
           {
            "count": 1,
            "name": "DTR"
           },
           {
            "count": 2,
            "name": "2 others"
           }
          ],
          "nan_count": 0,
          "unique_count": 4
         }
        },
        {
         "dtype": "float64",
         "name": "R-Square",
         "stats": {
          "histogram": [
           {
            "bin_end": 0.29555977232461805,
            "bin_start": 0.2283372125126517,
            "count": 1
           },
           {
            "bin_end": 0.3627823321365844,
            "bin_start": 0.29555977232461805,
            "count": 0
           },
           {
            "bin_end": 0.43000489194855074,
            "bin_start": 0.3627823321365844,
            "count": 0
           },
           {
            "bin_end": 0.4972274517605171,
            "bin_start": 0.43000489194855074,
            "count": 0
           },
           {
            "bin_end": 0.5644500115724834,
            "bin_start": 0.4972274517605171,
            "count": 0
           },
           {
            "bin_end": 0.6316725713844498,
            "bin_start": 0.5644500115724834,
            "count": 0
           },
           {
            "bin_end": 0.6988951311964161,
            "bin_start": 0.6316725713844498,
            "count": 0
           },
           {
            "bin_end": 0.7661176910083825,
            "bin_start": 0.6988951311964161,
            "count": 0
           },
           {
            "bin_end": 0.8333402508203488,
            "bin_start": 0.7661176910083825,
            "count": 0
           },
           {
            "bin_end": 0.9005628106323151,
            "bin_start": 0.8333402508203488,
            "count": 3
           }
          ],
          "max": 0.9005628106323151,
          "min": 0.2283372125126517,
          "nan_count": 0,
          "unique_count": 4
         }
        },
        {
         "dtype": "float64",
         "name": "Train_MSE",
         "stats": {
          "histogram": [
           {
            "bin_end": 388346.83770000003,
            "bin_start": 231706.325,
            "count": 3
           },
           {
            "bin_end": 544987.3504000001,
            "bin_start": 388346.83770000003,
            "count": 0
           },
           {
            "bin_end": 701627.8631000001,
            "bin_start": 544987.3504000001,
            "count": 0
           },
           {
            "bin_end": 858268.3758,
            "bin_start": 701627.8631000001,
            "count": 0
           },
           {
            "bin_end": 1014908.8885000001,
            "bin_start": 858268.3758,
            "count": 0
           },
           {
            "bin_end": 1171549.4012000002,
            "bin_start": 1014908.8885000001,
            "count": 0
           },
           {
            "bin_end": 1328189.9139,
            "bin_start": 1171549.4012000002,
            "count": 0
           },
           {
            "bin_end": 1484830.4266000001,
            "bin_start": 1328189.9139,
            "count": 0
           },
           {
            "bin_end": 1641470.9393000002,
            "bin_start": 1484830.4266000001,
            "count": 0
           },
           {
            "bin_end": 1798111.452,
            "bin_start": 1641470.9393000002,
            "count": 1
           }
          ],
          "max": 1798111.452,
          "min": 231706.325,
          "nan_count": 0,
          "unique_count": 4
         }
        },
        {
         "dtype": "float64",
         "name": "Test_MSE",
         "stats": {
          "histogram": [
           {
            "bin_end": 398382.37269999995,
            "bin_start": 241901.968,
            "count": 3
           },
           {
            "bin_end": 554862.7774,
            "bin_start": 398382.37269999995,
            "count": 0
           },
           {
            "bin_end": 711343.1821,
            "bin_start": 554862.7774,
            "count": 0
           },
           {
            "bin_end": 867823.5867999999,
            "bin_start": 711343.1821,
            "count": 0
           },
           {
            "bin_end": 1024303.9914999999,
            "bin_start": 867823.5867999999,
            "count": 0
           },
           {
            "bin_end": 1180784.3961999998,
            "bin_start": 1024303.9914999999,
            "count": 0
           },
           {
            "bin_end": 1337264.8008999997,
            "bin_start": 1180784.3961999998,
            "count": 0
           },
           {
            "bin_end": 1493745.2056,
            "bin_start": 1337264.8008999997,
            "count": 0
           },
           {
            "bin_end": 1650225.6102999998,
            "bin_start": 1493745.2056,
            "count": 0
           },
           {
            "bin_end": 1806706.015,
            "bin_start": 1650225.6102999998,
            "count": 1
           }
          ],
          "max": 1806706.015,
          "min": 241901.968,
          "nan_count": 0,
          "unique_count": 4
         }
        },
        {
         "dtype": "float64",
         "name": "Train_RMSE",
         "stats": {
          "histogram": [
           {
            "bin_end": 567.3168,
            "bin_start": 481.359,
            "count": 1
           },
           {
            "bin_end": 653.2746,
            "bin_start": 567.3168,
            "count": 2
           },
           {
            "bin_end": 739.2323999999999,
            "bin_start": 653.2746,
            "count": 0
           },
           {
            "bin_end": 825.1902,
            "bin_start": 739.2323999999999,
            "count": 0
           },
           {
            "bin_end": 911.1479999999999,
            "bin_start": 825.1902,
            "count": 0
           },
           {
            "bin_end": 997.1057999999998,
            "bin_start": 911.1479999999999,
            "count": 0
           },
           {
            "bin_end": 1083.0636,
            "bin_start": 997.1057999999998,
            "count": 0
           },
           {
            "bin_end": 1169.0213999999999,
            "bin_start": 1083.0636,
            "count": 0
           },
           {
            "bin_end": 1254.9792,
            "bin_start": 1169.0213999999999,
            "count": 0
           },
           {
            "bin_end": 1340.937,
            "bin_start": 1254.9792,
            "count": 1
           }
          ],
          "max": 1340.937,
          "min": 481.359,
          "nan_count": 0,
          "unique_count": 4
         }
        },
        {
         "dtype": "float64",
         "name": "Test_RMSE",
         "stats": {
          "histogram": [
           {
            "bin_end": 577.0653,
            "bin_start": 491.835,
            "count": 1
           },
           {
            "bin_end": 662.2955999999999,
            "bin_start": 577.0653,
            "count": 2
           },
           {
            "bin_end": 747.5258999999999,
            "bin_start": 662.2955999999999,
            "count": 0
           },
           {
            "bin_end": 832.7561999999999,
            "bin_start": 747.5258999999999,
            "count": 0
           },
           {
            "bin_end": 917.9865,
            "bin_start": 832.7561999999999,
            "count": 0
           },
           {
            "bin_end": 1003.2167999999999,
            "bin_start": 917.9865,
            "count": 0
           },
           {
            "bin_end": 1088.4470999999999,
            "bin_start": 1003.2167999999999,
            "count": 0
           },
           {
            "bin_end": 1173.6773999999998,
            "bin_start": 1088.4470999999999,
            "count": 0
           },
           {
            "bin_end": 1258.9076999999997,
            "bin_start": 1173.6773999999998,
            "count": 0
           },
           {
            "bin_end": 1344.138,
            "bin_start": 1258.9076999999997,
            "count": 1
           }
          ],
          "max": 1344.138,
          "min": 491.835,
          "nan_count": 0,
          "unique_count": 4
         }
        },
        {
         "dtype": "float64",
         "name": "Train_MAE",
         "stats": {
          "histogram": [
           {
            "bin_end": 177.9708,
            "bin_start": 134.887,
            "count": 2
           },
           {
            "bin_end": 221.0546,
            "bin_start": 177.9708,
            "count": 1
           },
           {
            "bin_end": 264.13840000000005,
            "bin_start": 221.0546,
            "count": 0
           },
           {
            "bin_end": 307.22220000000004,
            "bin_start": 264.13840000000005,
            "count": 0
           },
           {
            "bin_end": 350.30600000000004,
            "bin_start": 307.22220000000004,
            "count": 0
           },
           {
            "bin_end": 393.38980000000004,
            "bin_start": 350.30600000000004,
            "count": 0
           },
           {
            "bin_end": 436.47360000000003,
            "bin_start": 393.38980000000004,
            "count": 0
           },
           {
            "bin_end": 479.55740000000003,
            "bin_start": 436.47360000000003,
            "count": 0
           },
           {
            "bin_end": 522.6412,
            "bin_start": 479.55740000000003,
            "count": 0
           },
           {
            "bin_end": 565.725,
            "bin_start": 522.6412,
            "count": 1
           }
          ],
          "max": 565.725,
          "min": 134.887,
          "nan_count": 0,
          "unique_count": 4
         }
        },
        {
         "dtype": "float64",
         "name": "Test_MAE",
         "stats": {
          "histogram": [
           {
            "bin_end": 178.9516,
            "bin_start": 135.925,
            "count": 2
           },
           {
            "bin_end": 221.97820000000002,
            "bin_start": 178.9516,
            "count": 1
           },
           {
            "bin_end": 265.00480000000005,
            "bin_start": 221.97820000000002,
            "count": 0
           },
           {
            "bin_end": 308.0314,
            "bin_start": 265.00480000000005,
            "count": 0
           },
           {
            "bin_end": 351.058,
            "bin_start": 308.0314,
            "count": 0
           },
           {
            "bin_end": 394.0846,
            "bin_start": 351.058,
            "count": 0
           },
           {
            "bin_end": 437.1112,
            "bin_start": 394.0846,
            "count": 0
           },
           {
            "bin_end": 480.1378,
            "bin_start": 437.1112,
            "count": 0
           },
           {
            "bin_end": 523.1644000000001,
            "bin_start": 480.1378,
            "count": 0
           },
           {
            "bin_end": 566.191,
            "bin_start": 523.1644000000001,
            "count": 1
           }
          ],
          "max": 566.191,
          "min": 135.925,
          "nan_count": 0,
          "unique_count": 4
         }
        },
        {
         "dtype": "int64",
         "name": "_deepnote_index_column"
        }
       ],
       "row_count": 4,
       "rows_bottom": null,
       "rows_top": [
        {
         "Model": "LR",
         "R-Square": 0.2283372125126517,
         "Test_MAE": 566.191,
         "Test_MSE": 1806706.015,
         "Test_RMSE": 1344.138,
         "Train_MAE": 565.725,
         "Train_MSE": 1798111.452,
         "Train_RMSE": 1340.937,
         "_deepnote_index_column": 0
        },
        {
         "Model": "DTR",
         "R-Square": 0.8507869301695145,
         "Test_MAE": 169.385,
         "Test_MSE": 353335.311,
         "Test_RMSE": 594.42,
         "Train_MAE": 168.844,
         "Train_MSE": 347692.974,
         "Train_RMSE": 589.655,
         "_deepnote_index_column": 1
        },
        {
         "Model": "RFR",
         "R-Square": 0.9005628106323151,
         "Test_MAE": 135.925,
         "Test_MSE": 241901.968,
         "Test_RMSE": 491.835,
         "Train_MAE": 134.887,
         "Train_MSE": 231706.325,
         "Train_RMSE": 481.359,
         "_deepnote_index_column": 2
        },
        {
         "Model": "XGBR",
         "R-Square": 0.8385426101312358,
         "Test_MAE": 181.838,
         "Test_MSE": 375885.813,
         "Test_RMSE": 613.095,
         "Train_MAE": 181.78,
         "Train_MSE": 376224.416,
         "Train_RMSE": 613.371,
         "_deepnote_index_column": 3
        }
       ]
      },
      "text/html": [
       "<div>\n",
       "<style scoped>\n",
       "    .dataframe tbody tr th:only-of-type {\n",
       "        vertical-align: middle;\n",
       "    }\n",
       "\n",
       "    .dataframe tbody tr th {\n",
       "        vertical-align: top;\n",
       "    }\n",
       "\n",
       "    .dataframe thead th {\n",
       "        text-align: right;\n",
       "    }\n",
       "</style>\n",
       "<table border=\"1\" class=\"dataframe\">\n",
       "  <thead>\n",
       "    <tr style=\"text-align: right;\">\n",
       "      <th></th>\n",
       "      <th>Model</th>\n",
       "      <th>R-Square</th>\n",
       "      <th>Train_MSE</th>\n",
       "      <th>Test_MSE</th>\n",
       "      <th>Train_RMSE</th>\n",
       "      <th>Test_RMSE</th>\n",
       "      <th>Train_MAE</th>\n",
       "      <th>Test_MAE</th>\n",
       "    </tr>\n",
       "  </thead>\n",
       "  <tbody>\n",
       "    <tr>\n",
       "      <th>0</th>\n",
       "      <td>LR</td>\n",
       "      <td>0.228337</td>\n",
       "      <td>1798111.452</td>\n",
       "      <td>1806706.015</td>\n",
       "      <td>1340.937</td>\n",
       "      <td>1344.138</td>\n",
       "      <td>565.725</td>\n",
       "      <td>566.191</td>\n",
       "    </tr>\n",
       "    <tr>\n",
       "      <th>1</th>\n",
       "      <td>DTR</td>\n",
       "      <td>0.850787</td>\n",
       "      <td>347692.974</td>\n",
       "      <td>353335.311</td>\n",
       "      <td>589.655</td>\n",
       "      <td>594.420</td>\n",
       "      <td>168.844</td>\n",
       "      <td>169.385</td>\n",
       "    </tr>\n",
       "    <tr>\n",
       "      <th>2</th>\n",
       "      <td>RFR</td>\n",
       "      <td>0.900563</td>\n",
       "      <td>231706.325</td>\n",
       "      <td>241901.968</td>\n",
       "      <td>481.359</td>\n",
       "      <td>491.835</td>\n",
       "      <td>134.887</td>\n",
       "      <td>135.925</td>\n",
       "    </tr>\n",
       "    <tr>\n",
       "      <th>3</th>\n",
       "      <td>XGBR</td>\n",
       "      <td>0.838543</td>\n",
       "      <td>376224.416</td>\n",
       "      <td>375885.813</td>\n",
       "      <td>613.371</td>\n",
       "      <td>613.095</td>\n",
       "      <td>181.780</td>\n",
       "      <td>181.838</td>\n",
       "    </tr>\n",
       "  </tbody>\n",
       "</table>\n",
       "</div>"
      ],
      "text/plain": [
       "  Model  R-Square    Train_MSE     Test_MSE  Train_RMSE  Test_RMSE  Train_MAE  \\\n",
       "0    LR  0.228337  1798111.452  1806706.015    1340.937   1344.138    565.725   \n",
       "1   DTR  0.850787   347692.974   353335.311     589.655    594.420    168.844   \n",
       "2   RFR  0.900563   231706.325   241901.968     481.359    491.835    134.887   \n",
       "3  XGBR  0.838543   376224.416   375885.813     613.371    613.095    181.780   \n",
       "\n",
       "   Test_MAE  \n",
       "0   566.191  \n",
       "1   169.385  \n",
       "2   135.925  \n",
       "3   181.838  "
      ]
     },
     "execution_count": 37,
     "metadata": {},
     "output_type": "execute_result"
    }
   ],
   "source": [
    "scores = get_metrics(train_values, train_predicted, test_values, test_predicted, \"XGBR\", scores)\n",
    "scores"
   ]
  },
  {
   "cell_type": "code",
   "execution_count": null,
   "metadata": {
    "cell_id": "00042-d382a2eb-d119-4d8f-81b4-878d1e6a510a",
    "deepnote_cell_type": "code",
    "deepnote_to_be_reexecuted": false,
    "execution_millis": 25,
    "execution_start": 1614947289826,
    "source_hash": "7f304f58",
    "tags": []
   },
   "outputs": [
    {
     "data": {
      "application/vnd.deepnote.dataframe.v2+json": {
       "column_count": 1,
       "columns": [
        {
         "dtype": "float32",
         "name": "yield",
         "stats": {
          "histogram": [
           {
            "bin_end": 118.71485900878906,
            "bin_start": 115.96023559570312,
            "count": 3
           },
           {
            "bin_end": 121.469482421875,
            "bin_start": 118.71485900878906,
            "count": 0
           },
           {
            "bin_end": 124.2240982055664,
            "bin_start": 121.469482421875,
            "count": 0
           },
           {
            "bin_end": 126.97872161865234,
            "bin_start": 124.2240982055664,
            "count": 1
           },
           {
            "bin_end": 129.73333740234375,
            "bin_start": 126.97872161865234,
            "count": 0
           },
           {
            "bin_end": 132.4879608154297,
            "bin_start": 129.73333740234375,
            "count": 0
           },
           {
            "bin_end": 135.24258422851562,
            "bin_start": 132.4879608154297,
            "count": 0
           },
           {
            "bin_end": 137.99720764160156,
            "bin_start": 135.24258422851562,
            "count": 0
           },
           {
            "bin_end": 140.7518310546875,
            "bin_start": 137.99720764160156,
            "count": 0
           },
           {
            "bin_end": 143.50645446777344,
            "bin_start": 140.7518310546875,
            "count": 1
           }
          ],
          "max": 143.50645446777344,
          "min": 115.96023559570312,
          "nan_count": 0,
          "unique_count": 4
         }
        },
        {
         "dtype": "int64",
         "name": "_deepnote_index_column"
        }
       ],
       "row_count": 5,
       "rows_bottom": null,
       "rows_top": [
        {
         "_deepnote_index_column": 0,
         "yield": 115.96023559570312
        },
        {
         "_deepnote_index_column": 1,
         "yield": 143.50645446777344
        },
        {
         "_deepnote_index_column": 2,
         "yield": 117.59071350097656
        },
        {
         "_deepnote_index_column": 3,
         "yield": 115.96023559570312
        },
        {
         "_deepnote_index_column": 4,
         "yield": 126.81727600097656
        }
       ]
      },
      "text/html": [
       "<div>\n",
       "<style scoped>\n",
       "    .dataframe tbody tr th:only-of-type {\n",
       "        vertical-align: middle;\n",
       "    }\n",
       "\n",
       "    .dataframe tbody tr th {\n",
       "        vertical-align: top;\n",
       "    }\n",
       "\n",
       "    .dataframe thead th {\n",
       "        text-align: right;\n",
       "    }\n",
       "</style>\n",
       "<table border=\"1\" class=\"dataframe\">\n",
       "  <thead>\n",
       "    <tr style=\"text-align: right;\">\n",
       "      <th></th>\n",
       "      <th>yield</th>\n",
       "    </tr>\n",
       "  </thead>\n",
       "  <tbody>\n",
       "    <tr>\n",
       "      <th>0</th>\n",
       "      <td>115.960236</td>\n",
       "    </tr>\n",
       "    <tr>\n",
       "      <th>1</th>\n",
       "      <td>143.506454</td>\n",
       "    </tr>\n",
       "    <tr>\n",
       "      <th>2</th>\n",
       "      <td>117.590714</td>\n",
       "    </tr>\n",
       "    <tr>\n",
       "      <th>3</th>\n",
       "      <td>115.960236</td>\n",
       "    </tr>\n",
       "    <tr>\n",
       "      <th>4</th>\n",
       "      <td>126.817276</td>\n",
       "    </tr>\n",
       "  </tbody>\n",
       "</table>\n",
       "</div>"
      ],
      "text/plain": [
       "        yield\n",
       "0  115.960236\n",
       "1  143.506454\n",
       "2  117.590714\n",
       "3  115.960236\n",
       "4  126.817276"
      ]
     },
     "execution_count": 38,
     "metadata": {},
     "output_type": "execute_result"
    }
   ],
   "source": [
    "train_predicted_xg = pd.DataFrame({'yield': train_predicted})\n",
    "train_predicted_xg.head()"
   ]
  },
  {
   "cell_type": "code",
   "execution_count": null,
   "metadata": {
    "cell_id": "00043-c036681b-416a-418c-81ff-502e8382c7c7",
    "deepnote_cell_type": "code",
    "deepnote_to_be_reexecuted": false,
    "execution_millis": 69,
    "execution_start": 1614947289847,
    "source_hash": "7a5fc56a",
    "tags": []
   },
   "outputs": [
    {
     "data": {
      "text/plain": [
       "(293973, 1)"
      ]
     },
     "execution_count": 39,
     "metadata": {},
     "output_type": "execute_result"
    }
   ],
   "source": [
    "train_predicted_xg[train_predicted_xg['yield'] < 0].shape"
   ]
  },
  {
   "cell_type": "code",
   "execution_count": null,
   "metadata": {
    "cell_id": "00044-18d2b0d2-41a4-4a20-ab7d-ee67e2a0f154",
    "deepnote_cell_type": "code",
    "deepnote_to_be_reexecuted": false,
    "execution_millis": 79,
    "execution_start": 1614947289911,
    "source_hash": "3c74a6a1",
    "tags": []
   },
   "outputs": [
    {
     "data": {
      "application/vnd.deepnote.dataframe.v2+json": {
       "column_count": 1,
       "columns": [
        {
         "dtype": "float32",
         "name": "yield",
         "stats": {
          "histogram": [
           {
            "bin_end": -23.70071792602539,
            "bin_start": -25.82425308227539,
            "count": 1
           },
           {
            "bin_end": -21.57718276977539,
            "bin_start": -23.70071792602539,
            "count": 1
           },
           {
            "bin_end": -19.453649520874023,
            "bin_start": -21.57718276977539,
            "count": 0
           },
           {
            "bin_end": -17.330114364624023,
            "bin_start": -19.453649520874023,
            "count": 0
           },
           {
            "bin_end": -15.206579208374023,
            "bin_start": -17.330114364624023,
            "count": 2
           },
           {
            "bin_end": -13.083044052124023,
            "bin_start": -15.206579208374023,
            "count": 0
           },
           {
            "bin_end": -10.95950984954834,
            "bin_start": -13.083044052124023,
            "count": 0
           },
           {
            "bin_end": -8.83597469329834,
            "bin_start": -10.95950984954834,
            "count": 0
           },
           {
            "bin_end": -6.712440013885498,
            "bin_start": -8.83597469329834,
            "count": 0
           },
           {
            "bin_end": -4.588905334472656,
            "bin_start": -6.712440013885498,
            "count": 1
           }
          ],
          "max": -4.588905334472656,
          "min": -25.82425308227539,
          "nan_count": 0,
          "unique_count": 5
         }
        },
        {
         "dtype": "int64",
         "name": "_deepnote_index_column"
        }
       ],
       "row_count": 5,
       "rows_bottom": null,
       "rows_top": [
        {
         "_deepnote_index_column": 913,
         "yield": -22.39952850341797
        },
        {
         "_deepnote_index_column": 919,
         "yield": -16.156185150146484
        },
        {
         "_deepnote_index_column": 1897,
         "yield": -16.349124908447266
        },
        {
         "_deepnote_index_column": 1925,
         "yield": -25.82425308227539
        },
        {
         "_deepnote_index_column": 1929,
         "yield": -4.588905334472656
        }
       ]
      },
      "text/html": [
       "<div>\n",
       "<style scoped>\n",
       "    .dataframe tbody tr th:only-of-type {\n",
       "        vertical-align: middle;\n",
       "    }\n",
       "\n",
       "    .dataframe tbody tr th {\n",
       "        vertical-align: top;\n",
       "    }\n",
       "\n",
       "    .dataframe thead th {\n",
       "        text-align: right;\n",
       "    }\n",
       "</style>\n",
       "<table border=\"1\" class=\"dataframe\">\n",
       "  <thead>\n",
       "    <tr style=\"text-align: right;\">\n",
       "      <th></th>\n",
       "      <th>yield</th>\n",
       "    </tr>\n",
       "  </thead>\n",
       "  <tbody>\n",
       "    <tr>\n",
       "      <th>913</th>\n",
       "      <td>-22.399529</td>\n",
       "    </tr>\n",
       "    <tr>\n",
       "      <th>919</th>\n",
       "      <td>-16.156185</td>\n",
       "    </tr>\n",
       "    <tr>\n",
       "      <th>1897</th>\n",
       "      <td>-16.349125</td>\n",
       "    </tr>\n",
       "    <tr>\n",
       "      <th>1925</th>\n",
       "      <td>-25.824253</td>\n",
       "    </tr>\n",
       "    <tr>\n",
       "      <th>1929</th>\n",
       "      <td>-4.588905</td>\n",
       "    </tr>\n",
       "  </tbody>\n",
       "</table>\n",
       "</div>"
      ],
      "text/plain": [
       "          yield\n",
       "913  -22.399529\n",
       "919  -16.156185\n",
       "1897 -16.349125\n",
       "1925 -25.824253\n",
       "1929  -4.588905"
      ]
     },
     "execution_count": 40,
     "metadata": {},
     "output_type": "execute_result"
    }
   ],
   "source": [
    "train_predicted_xg[train_predicted_xg['yield'] < 0].head()"
   ]
  },
  {
   "cell_type": "markdown",
   "metadata": {
    "cell_id": "00045-80bf6e53-35e2-4d5f-bc57-3ee0363d0edb",
    "deepnote_cell_type": "code",
    "deepnote_to_be_reexecuted": false,
    "execution_millis": 0,
    "execution_start": 1614947289980,
    "source_hash": "b623e53d",
    "tags": []
   },
   "source": [
    "**Gradient boosting techinques work on residuals, if the observations which are having yield as 0 are in the same leaf as another observation which has an actual yeild of 100, but predicted as 1000, then there will be subtraction of a value even from the observations having yield 0, due to which they get negative value.**"
   ]
  },
  {
   "cell_type": "code",
   "execution_count": null,
   "metadata": {
    "cell_id": "00046-5575e0f9-9542-4b14-82a3-04eebee27044",
    "deepnote_cell_type": "code",
    "tags": []
   },
   "outputs": [],
   "source": []
  }
 ],
 "metadata": {
  "deepnote": {},
  "deepnote_execution_queue": [],
  "deepnote_notebook_id": "c047aab5-f032-4c68-a168-2871fff14c42",
  "kernelspec": {
   "display_name": "Python 3",
   "language": "python",
   "name": "python3"
  },
  "language_info": {
   "codemirror_mode": {
    "name": "ipython",
    "version": 3
   },
   "file_extension": ".py",
   "mimetype": "text/x-python",
   "name": "python",
   "nbconvert_exporter": "python",
   "pygments_lexer": "ipython3",
   "version": "3.8.5"
  }
 },
 "nbformat": 4,
 "nbformat_minor": 2
}
