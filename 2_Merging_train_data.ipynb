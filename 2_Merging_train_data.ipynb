{
 "cells": [
  {
   "cell_type": "markdown",
   "metadata": {},
   "source": [
    "## <font color= 'green'>Data Description:</font>\n",
    "\n",
    "### <font color='#FF4233'>traindata_with_target.csv:</font>\n",
    "**date:** The timestamp at which the yield of the food processing farm was measured.\n",
    "\n",
    "**farm_id:** The farm identifier that recognizes the farm food processing plant.\n",
    "\n",
    "**ingredient_type:** The type of ingredient being produced.\n",
    "\n",
    "**yield:** The yield of the plant in tonnes.\n",
    "\n",
    "### <font color='#FF4233'>farm_data.csv:</font>\n",
    "**farm_id:** The farm identifier that recognizes the farm food processing plant.\n",
    "\n",
    "**founding_year:** The year when the operations commenced on the farm and food processing plant.\n",
    "\n",
    "**num_processing_plants:** The number of processing plants present on the farm.\n",
    "\n",
    "**farm_area:** The area of the farm in square meters.\n",
    "\n",
    "**farming_company:** The company that owns the farms.\n",
    "\n",
    "**deidentified_location:** The location at which the farm is present.\n",
    "\n",
    "### <font color = '#FF4233'>train_weather.csv:</font>\n",
    "**timestamp:** The time at which weather readings were taken.\t\n",
    "\n",
    "**deidentified_location:** The location at which weather readings were taken.\n",
    "\n",
    "**temp_obs:** Temperature measured (units look like Celsius)\t\n",
    "\n",
    "**cloudiness:**  The state of the sky when it is covered by clouds (units <font color='#FF33F5'>Okta which means 8</font>).\n",
    "\n",
    "(To understand what each value means, go to the link https://en.wikipedia.org/wiki/Okta)\n",
    "\n",
    "**wind_direction:** The direction from which the wind originates. Wind direction is usually reported in degrees. Consequently, a wind blowing from the north has a wind direction referred to as 0° (360°); a wind blowing from the east has a wind direction referred to as 90°, etc.\t\n",
    "\n",
    "**dew_temp:** If the temperature of the air is reduced at constant pressure, at some particular temperature, the water vapour in the air starts to condense. This temperature is called dew point temperature. (units looks like Celsius)\n",
    "\n",
    "**pressure_sea_level:** The sea level pressure is the atmospheric pressure at sea level at a given location. It is an indicator of weather. When a low-pressure system moves into an area, it usually leads to cloudiness, wind, and precipitation. High-pressure systems usually lead to fair, calm weather. \t\n",
    "\n",
    "**precipitation:** The amount of rainfall forcasted.(in mm)\n",
    "\n",
    "<u><font color= 'red'>Note:</font></u> When a particular area experiences more atmospheric evaporation than water downpour over a period of time, during that time, <font color='#FF33F5'>precipitation can be negative</font>.\n",
    "\n",
    "\n",
    "**wind_speed:** The rate at which air is moving in a particular area. (can be in mph or kmph)"
   ]
  },
  {
   "cell_type": "code",
   "execution_count": 1,
   "metadata": {},
   "outputs": [],
   "source": [
    "import seaborn as sns\n",
    "import pandas as pd\n",
    "import matplotlib.pyplot as plt\n",
    "import numpy as np\n",
    "\n",
    "import warnings\n",
    "warnings.filterwarnings('ignore')"
   ]
  },
  {
   "cell_type": "code",
   "execution_count": 2,
   "metadata": {},
   "outputs": [],
   "source": [
    "# Reading the csv files\n",
    "\n",
    "train = pd.read_csv('C://Users//akhil//Desktop//INSOFE//Final_Hackathon/Datasets/train_data.csv')\n",
    "farm = pd.read_csv('C://Users//akhil//Desktop//INSOFE//Final_Hackathon/Datasets/farm_data.csv')\n",
    "train_weather = pd.read_csv('C://Users//akhil//Desktop//INSOFE//Final_Hackathon/Datasets/train_weather.csv')"
   ]
  },
  {
   "cell_type": "markdown",
   "metadata": {},
   "source": [
    "### Basic understanding of the data"
   ]
  },
  {
   "cell_type": "code",
   "execution_count": 3,
   "metadata": {},
   "outputs": [
    {
     "name": "stdout",
     "output_type": "stream",
     "text": [
      "Train data shape: (20216100, 4)\n",
      "Farm data shape: (1449, 6)\n",
      "Train weather data shape: (139773, 9)\n"
     ]
    }
   ],
   "source": [
    "print(f'Train data shape: {train.shape}')\n",
    "print(f'Farm data shape: {farm.shape}')\n",
    "print(f'Train weather data shape: {train_weather.shape}')"
   ]
  },
  {
   "cell_type": "code",
   "execution_count": 4,
   "metadata": {},
   "outputs": [
    {
     "data": {
      "text/html": [
       "<div>\n",
       "<style scoped>\n",
       "    .dataframe tbody tr th:only-of-type {\n",
       "        vertical-align: middle;\n",
       "    }\n",
       "\n",
       "    .dataframe tbody tr th {\n",
       "        vertical-align: top;\n",
       "    }\n",
       "\n",
       "    .dataframe thead th {\n",
       "        text-align: right;\n",
       "    }\n",
       "</style>\n",
       "<table border=\"1\" class=\"dataframe\">\n",
       "  <thead>\n",
       "    <tr style=\"text-align: right;\">\n",
       "      <th></th>\n",
       "      <th>date</th>\n",
       "      <th>farm_id</th>\n",
       "      <th>ingredient_type</th>\n",
       "      <th>yield</th>\n",
       "    </tr>\n",
       "  </thead>\n",
       "  <tbody>\n",
       "    <tr>\n",
       "      <th>0</th>\n",
       "      <td>2016-01-01 00:00:00</td>\n",
       "      <td>fid_110884</td>\n",
       "      <td>ing_w</td>\n",
       "      <td>0.0</td>\n",
       "    </tr>\n",
       "    <tr>\n",
       "      <th>1</th>\n",
       "      <td>2016-01-01 00:00:00</td>\n",
       "      <td>fid_90053</td>\n",
       "      <td>ing_w</td>\n",
       "      <td>0.0</td>\n",
       "    </tr>\n",
       "    <tr>\n",
       "      <th>2</th>\n",
       "      <td>2016-01-01 00:00:00</td>\n",
       "      <td>fid_17537</td>\n",
       "      <td>ing_w</td>\n",
       "      <td>0.0</td>\n",
       "    </tr>\n",
       "    <tr>\n",
       "      <th>3</th>\n",
       "      <td>2016-01-01 00:00:00</td>\n",
       "      <td>fid_110392</td>\n",
       "      <td>ing_w</td>\n",
       "      <td>0.0</td>\n",
       "    </tr>\n",
       "    <tr>\n",
       "      <th>4</th>\n",
       "      <td>2016-01-01 00:00:00</td>\n",
       "      <td>fid_62402</td>\n",
       "      <td>ing_w</td>\n",
       "      <td>0.0</td>\n",
       "    </tr>\n",
       "  </tbody>\n",
       "</table>\n",
       "</div>"
      ],
      "text/plain": [
       "                  date     farm_id ingredient_type  yield\n",
       "0  2016-01-01 00:00:00  fid_110884           ing_w    0.0\n",
       "1  2016-01-01 00:00:00   fid_90053           ing_w    0.0\n",
       "2  2016-01-01 00:00:00   fid_17537           ing_w    0.0\n",
       "3  2016-01-01 00:00:00  fid_110392           ing_w    0.0\n",
       "4  2016-01-01 00:00:00   fid_62402           ing_w    0.0"
      ]
     },
     "execution_count": 4,
     "metadata": {},
     "output_type": "execute_result"
    }
   ],
   "source": [
    "train.head()"
   ]
  },
  {
   "cell_type": "code",
   "execution_count": 5,
   "metadata": {},
   "outputs": [
    {
     "data": {
      "text/html": [
       "<div>\n",
       "<style scoped>\n",
       "    .dataframe tbody tr th:only-of-type {\n",
       "        vertical-align: middle;\n",
       "    }\n",
       "\n",
       "    .dataframe tbody tr th {\n",
       "        vertical-align: top;\n",
       "    }\n",
       "\n",
       "    .dataframe thead th {\n",
       "        text-align: right;\n",
       "    }\n",
       "</style>\n",
       "<table border=\"1\" class=\"dataframe\">\n",
       "  <thead>\n",
       "    <tr style=\"text-align: right;\">\n",
       "      <th></th>\n",
       "      <th>farm_id</th>\n",
       "      <th>operations_commencing_year</th>\n",
       "      <th>num_processing_plants</th>\n",
       "      <th>farm_area</th>\n",
       "      <th>farming_company</th>\n",
       "      <th>deidentified_location</th>\n",
       "    </tr>\n",
       "  </thead>\n",
       "  <tbody>\n",
       "    <tr>\n",
       "      <th>0</th>\n",
       "      <td>fid_110884</td>\n",
       "      <td>2008.0</td>\n",
       "      <td>NaN</td>\n",
       "      <td>690.455096</td>\n",
       "      <td>Obery Farms</td>\n",
       "      <td>location 7369</td>\n",
       "    </tr>\n",
       "    <tr>\n",
       "      <th>1</th>\n",
       "      <td>fid_90053</td>\n",
       "      <td>2004.0</td>\n",
       "      <td>NaN</td>\n",
       "      <td>252.696160</td>\n",
       "      <td>Obery Farms</td>\n",
       "      <td>location 7369</td>\n",
       "    </tr>\n",
       "    <tr>\n",
       "      <th>2</th>\n",
       "      <td>fid_17537</td>\n",
       "      <td>1991.0</td>\n",
       "      <td>NaN</td>\n",
       "      <td>499.446528</td>\n",
       "      <td>Obery Farms</td>\n",
       "      <td>location 7369</td>\n",
       "    </tr>\n",
       "    <tr>\n",
       "      <th>3</th>\n",
       "      <td>fid_110392</td>\n",
       "      <td>2002.0</td>\n",
       "      <td>NaN</td>\n",
       "      <td>2200.407555</td>\n",
       "      <td>Obery Farms</td>\n",
       "      <td>location 7369</td>\n",
       "    </tr>\n",
       "    <tr>\n",
       "      <th>4</th>\n",
       "      <td>fid_62402</td>\n",
       "      <td>1975.0</td>\n",
       "      <td>NaN</td>\n",
       "      <td>10833.140120</td>\n",
       "      <td>Obery Farms</td>\n",
       "      <td>location 7369</td>\n",
       "    </tr>\n",
       "  </tbody>\n",
       "</table>\n",
       "</div>"
      ],
      "text/plain": [
       "      farm_id  operations_commencing_year  num_processing_plants  \\\n",
       "0  fid_110884                      2008.0                    NaN   \n",
       "1   fid_90053                      2004.0                    NaN   \n",
       "2   fid_17537                      1991.0                    NaN   \n",
       "3  fid_110392                      2002.0                    NaN   \n",
       "4   fid_62402                      1975.0                    NaN   \n",
       "\n",
       "      farm_area farming_company deidentified_location  \n",
       "0    690.455096     Obery Farms         location 7369  \n",
       "1    252.696160     Obery Farms         location 7369  \n",
       "2    499.446528     Obery Farms         location 7369  \n",
       "3   2200.407555     Obery Farms         location 7369  \n",
       "4  10833.140120     Obery Farms         location 7369  "
      ]
     },
     "execution_count": 5,
     "metadata": {},
     "output_type": "execute_result"
    }
   ],
   "source": [
    "farm.head()"
   ]
  },
  {
   "cell_type": "code",
   "execution_count": 6,
   "metadata": {},
   "outputs": [
    {
     "data": {
      "text/html": [
       "<div>\n",
       "<style scoped>\n",
       "    .dataframe tbody tr th:only-of-type {\n",
       "        vertical-align: middle;\n",
       "    }\n",
       "\n",
       "    .dataframe tbody tr th {\n",
       "        vertical-align: top;\n",
       "    }\n",
       "\n",
       "    .dataframe thead th {\n",
       "        text-align: right;\n",
       "    }\n",
       "</style>\n",
       "<table border=\"1\" class=\"dataframe\">\n",
       "  <thead>\n",
       "    <tr style=\"text-align: right;\">\n",
       "      <th></th>\n",
       "      <th>timestamp</th>\n",
       "      <th>deidentified_location</th>\n",
       "      <th>temp_obs</th>\n",
       "      <th>cloudiness</th>\n",
       "      <th>wind_direction</th>\n",
       "      <th>dew_temp</th>\n",
       "      <th>pressure_sea_level</th>\n",
       "      <th>precipitation</th>\n",
       "      <th>wind_speed</th>\n",
       "    </tr>\n",
       "  </thead>\n",
       "  <tbody>\n",
       "    <tr>\n",
       "      <th>0</th>\n",
       "      <td>2016-01-01 00:00:00</td>\n",
       "      <td>location 7369</td>\n",
       "      <td>25.0</td>\n",
       "      <td>6.0</td>\n",
       "      <td>0.0</td>\n",
       "      <td>20.0</td>\n",
       "      <td>1019.7</td>\n",
       "      <td>NaN</td>\n",
       "      <td>0.0</td>\n",
       "    </tr>\n",
       "    <tr>\n",
       "      <th>1</th>\n",
       "      <td>2016-01-01 01:00:00</td>\n",
       "      <td>location 7369</td>\n",
       "      <td>24.4</td>\n",
       "      <td>NaN</td>\n",
       "      <td>70.0</td>\n",
       "      <td>21.1</td>\n",
       "      <td>1020.2</td>\n",
       "      <td>-1.0</td>\n",
       "      <td>1.5</td>\n",
       "    </tr>\n",
       "    <tr>\n",
       "      <th>2</th>\n",
       "      <td>2016-01-01 02:00:00</td>\n",
       "      <td>location 7369</td>\n",
       "      <td>22.8</td>\n",
       "      <td>2.0</td>\n",
       "      <td>0.0</td>\n",
       "      <td>21.1</td>\n",
       "      <td>1020.2</td>\n",
       "      <td>0.0</td>\n",
       "      <td>0.0</td>\n",
       "    </tr>\n",
       "    <tr>\n",
       "      <th>3</th>\n",
       "      <td>2016-01-01 03:00:00</td>\n",
       "      <td>location 7369</td>\n",
       "      <td>21.1</td>\n",
       "      <td>2.0</td>\n",
       "      <td>0.0</td>\n",
       "      <td>20.6</td>\n",
       "      <td>1020.1</td>\n",
       "      <td>0.0</td>\n",
       "      <td>0.0</td>\n",
       "    </tr>\n",
       "    <tr>\n",
       "      <th>4</th>\n",
       "      <td>2016-01-01 04:00:00</td>\n",
       "      <td>location 7369</td>\n",
       "      <td>20.0</td>\n",
       "      <td>2.0</td>\n",
       "      <td>250.0</td>\n",
       "      <td>20.0</td>\n",
       "      <td>1020.0</td>\n",
       "      <td>-1.0</td>\n",
       "      <td>2.6</td>\n",
       "    </tr>\n",
       "  </tbody>\n",
       "</table>\n",
       "</div>"
      ],
      "text/plain": [
       "             timestamp deidentified_location  temp_obs  cloudiness  \\\n",
       "0  2016-01-01 00:00:00         location 7369      25.0         6.0   \n",
       "1  2016-01-01 01:00:00         location 7369      24.4         NaN   \n",
       "2  2016-01-01 02:00:00         location 7369      22.8         2.0   \n",
       "3  2016-01-01 03:00:00         location 7369      21.1         2.0   \n",
       "4  2016-01-01 04:00:00         location 7369      20.0         2.0   \n",
       "\n",
       "   wind_direction  dew_temp  pressure_sea_level  precipitation  wind_speed  \n",
       "0             0.0      20.0              1019.7            NaN         0.0  \n",
       "1            70.0      21.1              1020.2           -1.0         1.5  \n",
       "2             0.0      21.1              1020.2            0.0         0.0  \n",
       "3             0.0      20.6              1020.1            0.0         0.0  \n",
       "4           250.0      20.0              1020.0           -1.0         2.6  "
      ]
     },
     "execution_count": 6,
     "metadata": {},
     "output_type": "execute_result"
    }
   ],
   "source": [
    "train_weather.head()"
   ]
  },
  {
   "cell_type": "code",
   "execution_count": 7,
   "metadata": {},
   "outputs": [
    {
     "name": "stdout",
     "output_type": "stream",
     "text": [
      "Train data shape: (20216100, 4)\n",
      "Farm data shape: (1449, 6)\n",
      "Train weather data shape: (139773, 9)\n"
     ]
    }
   ],
   "source": [
    "print(f'Train data shape: {train.shape}')\n",
    "print(f'Farm data shape: {farm.shape}')\n",
    "print(f'Train weather data shape: {train_weather.shape}')"
   ]
  },
  {
   "cell_type": "markdown",
   "metadata": {},
   "source": [
    "### Checking and removing duplicates\n",
    "* To save computational power and also to reduce overfit or underfit"
   ]
  },
  {
   "cell_type": "code",
   "execution_count": 8,
   "metadata": {},
   "outputs": [],
   "source": [
    "train.rename(columns= {'date': 'timestamp'}, inplace=True)"
   ]
  },
  {
   "cell_type": "code",
   "execution_count": 9,
   "metadata": {},
   "outputs": [
    {
     "data": {
      "text/html": [
       "<div>\n",
       "<style scoped>\n",
       "    .dataframe tbody tr th:only-of-type {\n",
       "        vertical-align: middle;\n",
       "    }\n",
       "\n",
       "    .dataframe tbody tr th {\n",
       "        vertical-align: top;\n",
       "    }\n",
       "\n",
       "    .dataframe thead th {\n",
       "        text-align: right;\n",
       "    }\n",
       "</style>\n",
       "<table border=\"1\" class=\"dataframe\">\n",
       "  <thead>\n",
       "    <tr style=\"text-align: right;\">\n",
       "      <th></th>\n",
       "      <th>timestamp</th>\n",
       "      <th>farm_id</th>\n",
       "      <th>ingredient_type</th>\n",
       "      <th>yield</th>\n",
       "    </tr>\n",
       "  </thead>\n",
       "  <tbody>\n",
       "    <tr>\n",
       "      <th>1361753</th>\n",
       "      <td>2016-01-25 16:00:00</td>\n",
       "      <td>fid_63700</td>\n",
       "      <td>ing_w</td>\n",
       "      <td>0.0000</td>\n",
       "    </tr>\n",
       "    <tr>\n",
       "      <th>1361754</th>\n",
       "      <td>2016-01-25 16:00:00</td>\n",
       "      <td>fid_63700</td>\n",
       "      <td>ing_x</td>\n",
       "      <td>0.0000</td>\n",
       "    </tr>\n",
       "    <tr>\n",
       "      <th>1543730</th>\n",
       "      <td>2016-01-29 00:00:00</td>\n",
       "      <td>fid_68761</td>\n",
       "      <td>ing_w</td>\n",
       "      <td>21.0600</td>\n",
       "    </tr>\n",
       "    <tr>\n",
       "      <th>7200211</th>\n",
       "      <td>2016-05-14 01:00:00</td>\n",
       "      <td>fid_71910</td>\n",
       "      <td>ing_w</td>\n",
       "      <td>27.8000</td>\n",
       "    </tr>\n",
       "    <tr>\n",
       "      <th>8655017</th>\n",
       "      <td>2016-06-08 22:00:00</td>\n",
       "      <td>fid_68761</td>\n",
       "      <td>ing_x</td>\n",
       "      <td>28.3458</td>\n",
       "    </tr>\n",
       "    <tr>\n",
       "      <th>...</th>\n",
       "      <td>...</td>\n",
       "      <td>...</td>\n",
       "      <td>...</td>\n",
       "      <td>...</td>\n",
       "    </tr>\n",
       "    <tr>\n",
       "      <th>15973752</th>\n",
       "      <td>2016-10-17 06:00:00</td>\n",
       "      <td>fid_63700</td>\n",
       "      <td>ing_w</td>\n",
       "      <td>0.0000</td>\n",
       "    </tr>\n",
       "    <tr>\n",
       "      <th>15973753</th>\n",
       "      <td>2016-10-17 06:00:00</td>\n",
       "      <td>fid_63700</td>\n",
       "      <td>ing_x</td>\n",
       "      <td>0.0000</td>\n",
       "    </tr>\n",
       "    <tr>\n",
       "      <th>17426580</th>\n",
       "      <td>2016-11-12 02:00:00</td>\n",
       "      <td>fid_71910</td>\n",
       "      <td>ing_w</td>\n",
       "      <td>30.3000</td>\n",
       "    </tr>\n",
       "    <tr>\n",
       "      <th>17506726</th>\n",
       "      <td>2016-11-13 13:00:00</td>\n",
       "      <td>fid_71910</td>\n",
       "      <td>ing_w</td>\n",
       "      <td>29.1000</td>\n",
       "    </tr>\n",
       "    <tr>\n",
       "      <th>20110043</th>\n",
       "      <td>2016-12-30 03:00:00</td>\n",
       "      <td>fid_68761</td>\n",
       "      <td>ing_w</td>\n",
       "      <td>43.2800</td>\n",
       "    </tr>\n",
       "  </tbody>\n",
       "</table>\n",
       "<p>117 rows × 4 columns</p>\n",
       "</div>"
      ],
      "text/plain": [
       "                    timestamp    farm_id ingredient_type    yield\n",
       "1361753   2016-01-25 16:00:00  fid_63700           ing_w   0.0000\n",
       "1361754   2016-01-25 16:00:00  fid_63700           ing_x   0.0000\n",
       "1543730   2016-01-29 00:00:00  fid_68761           ing_w  21.0600\n",
       "7200211   2016-05-14 01:00:00  fid_71910           ing_w  27.8000\n",
       "8655017   2016-06-08 22:00:00  fid_68761           ing_x  28.3458\n",
       "...                       ...        ...             ...      ...\n",
       "15973752  2016-10-17 06:00:00  fid_63700           ing_w   0.0000\n",
       "15973753  2016-10-17 06:00:00  fid_63700           ing_x   0.0000\n",
       "17426580  2016-11-12 02:00:00  fid_71910           ing_w  30.3000\n",
       "17506726  2016-11-13 13:00:00  fid_71910           ing_w  29.1000\n",
       "20110043  2016-12-30 03:00:00  fid_68761           ing_w  43.2800\n",
       "\n",
       "[117 rows x 4 columns]"
      ]
     },
     "execution_count": 9,
     "metadata": {},
     "output_type": "execute_result"
    }
   ],
   "source": [
    "train[train.duplicated()]"
   ]
  },
  {
   "cell_type": "code",
   "execution_count": 10,
   "metadata": {},
   "outputs": [],
   "source": [
    "train.drop_duplicates(keep = 'first', inplace=True)"
   ]
  },
  {
   "cell_type": "code",
   "execution_count": 11,
   "metadata": {},
   "outputs": [
    {
     "data": {
      "text/html": [
       "<div>\n",
       "<style scoped>\n",
       "    .dataframe tbody tr th:only-of-type {\n",
       "        vertical-align: middle;\n",
       "    }\n",
       "\n",
       "    .dataframe tbody tr th {\n",
       "        vertical-align: top;\n",
       "    }\n",
       "\n",
       "    .dataframe thead th {\n",
       "        text-align: right;\n",
       "    }\n",
       "</style>\n",
       "<table border=\"1\" class=\"dataframe\">\n",
       "  <thead>\n",
       "    <tr style=\"text-align: right;\">\n",
       "      <th></th>\n",
       "      <th>timestamp</th>\n",
       "      <th>farm_id</th>\n",
       "      <th>ingredient_type</th>\n",
       "      <th>yield</th>\n",
       "    </tr>\n",
       "  </thead>\n",
       "  <tbody>\n",
       "  </tbody>\n",
       "</table>\n",
       "</div>"
      ],
      "text/plain": [
       "Empty DataFrame\n",
       "Columns: [timestamp, farm_id, ingredient_type, yield]\n",
       "Index: []"
      ]
     },
     "execution_count": 11,
     "metadata": {},
     "output_type": "execute_result"
    }
   ],
   "source": [
    "train[train.duplicated()]"
   ]
  },
  {
   "cell_type": "code",
   "execution_count": 12,
   "metadata": {},
   "outputs": [
    {
     "data": {
      "text/html": [
       "<div>\n",
       "<style scoped>\n",
       "    .dataframe tbody tr th:only-of-type {\n",
       "        vertical-align: middle;\n",
       "    }\n",
       "\n",
       "    .dataframe tbody tr th {\n",
       "        vertical-align: top;\n",
       "    }\n",
       "\n",
       "    .dataframe thead th {\n",
       "        text-align: right;\n",
       "    }\n",
       "</style>\n",
       "<table border=\"1\" class=\"dataframe\">\n",
       "  <thead>\n",
       "    <tr style=\"text-align: right;\">\n",
       "      <th></th>\n",
       "      <th>farm_id</th>\n",
       "      <th>operations_commencing_year</th>\n",
       "      <th>num_processing_plants</th>\n",
       "      <th>farm_area</th>\n",
       "      <th>farming_company</th>\n",
       "      <th>deidentified_location</th>\n",
       "    </tr>\n",
       "  </thead>\n",
       "  <tbody>\n",
       "  </tbody>\n",
       "</table>\n",
       "</div>"
      ],
      "text/plain": [
       "Empty DataFrame\n",
       "Columns: [farm_id, operations_commencing_year, num_processing_plants, farm_area, farming_company, deidentified_location]\n",
       "Index: []"
      ]
     },
     "execution_count": 12,
     "metadata": {},
     "output_type": "execute_result"
    }
   ],
   "source": [
    "farm[farm.duplicated()]"
   ]
  },
  {
   "cell_type": "code",
   "execution_count": 13,
   "metadata": {},
   "outputs": [
    {
     "data": {
      "text/html": [
       "<div>\n",
       "<style scoped>\n",
       "    .dataframe tbody tr th:only-of-type {\n",
       "        vertical-align: middle;\n",
       "    }\n",
       "\n",
       "    .dataframe tbody tr th {\n",
       "        vertical-align: top;\n",
       "    }\n",
       "\n",
       "    .dataframe thead th {\n",
       "        text-align: right;\n",
       "    }\n",
       "</style>\n",
       "<table border=\"1\" class=\"dataframe\">\n",
       "  <thead>\n",
       "    <tr style=\"text-align: right;\">\n",
       "      <th></th>\n",
       "      <th>timestamp</th>\n",
       "      <th>deidentified_location</th>\n",
       "      <th>temp_obs</th>\n",
       "      <th>cloudiness</th>\n",
       "      <th>wind_direction</th>\n",
       "      <th>dew_temp</th>\n",
       "      <th>pressure_sea_level</th>\n",
       "      <th>precipitation</th>\n",
       "      <th>wind_speed</th>\n",
       "    </tr>\n",
       "  </thead>\n",
       "  <tbody>\n",
       "  </tbody>\n",
       "</table>\n",
       "</div>"
      ],
      "text/plain": [
       "Empty DataFrame\n",
       "Columns: [timestamp, deidentified_location, temp_obs, cloudiness, wind_direction, dew_temp, pressure_sea_level, precipitation, wind_speed]\n",
       "Index: []"
      ]
     },
     "execution_count": 13,
     "metadata": {},
     "output_type": "execute_result"
    }
   ],
   "source": [
    "train_weather[train_weather.duplicated()]"
   ]
  },
  {
   "cell_type": "markdown",
   "metadata": {},
   "source": [
    "## Merging the datasets\n",
    "* We need to merge the datasets to understand the details of the farm_id, weather and also the actual mappings of the details based on farm_id, timestamp and deidentified_location."
   ]
  },
  {
   "cell_type": "code",
   "execution_count": 14,
   "metadata": {},
   "outputs": [
    {
     "name": "stdout",
     "output_type": "stream",
     "text": [
      "Train data shape: (20215983, 4)\n",
      "Farm data shape: (1449, 6)\n",
      "Train weather data shape: (139773, 9)\n"
     ]
    }
   ],
   "source": [
    "print(f'Train data shape: {train.shape}')\n",
    "print(f'Farm data shape: {farm.shape}')\n",
    "print(f'Train weather data shape: {train_weather.shape}')"
   ]
  },
  {
   "cell_type": "code",
   "execution_count": 15,
   "metadata": {},
   "outputs": [
    {
     "name": "stdout",
     "output_type": "stream",
     "text": [
      "['farm_id']\n"
     ]
    }
   ],
   "source": [
    "common_cols = []\n",
    "for x in train.columns:\n",
    "    if x in farm.columns:\n",
    "        common_cols.append(x)\n",
    "        \n",
    "print(common_cols)"
   ]
  },
  {
   "cell_type": "code",
   "execution_count": 16,
   "metadata": {},
   "outputs": [],
   "source": [
    "new_train_df = pd.merge(train,farm, on= common_cols, how = 'inner')"
   ]
  },
  {
   "cell_type": "code",
   "execution_count": 17,
   "metadata": {},
   "outputs": [
    {
     "data": {
      "text/plain": [
       "(20602665, 9)"
      ]
     },
     "execution_count": 17,
     "metadata": {},
     "output_type": "execute_result"
    }
   ],
   "source": [
    "new_train_df.shape"
   ]
  },
  {
   "cell_type": "code",
   "execution_count": 18,
   "metadata": {},
   "outputs": [
    {
     "data": {
      "text/html": [
       "<div>\n",
       "<style scoped>\n",
       "    .dataframe tbody tr th:only-of-type {\n",
       "        vertical-align: middle;\n",
       "    }\n",
       "\n",
       "    .dataframe tbody tr th {\n",
       "        vertical-align: top;\n",
       "    }\n",
       "\n",
       "    .dataframe thead th {\n",
       "        text-align: right;\n",
       "    }\n",
       "</style>\n",
       "<table border=\"1\" class=\"dataframe\">\n",
       "  <thead>\n",
       "    <tr style=\"text-align: right;\">\n",
       "      <th></th>\n",
       "      <th>timestamp</th>\n",
       "      <th>farm_id</th>\n",
       "      <th>ingredient_type</th>\n",
       "      <th>yield</th>\n",
       "      <th>operations_commencing_year</th>\n",
       "      <th>num_processing_plants</th>\n",
       "      <th>farm_area</th>\n",
       "      <th>farming_company</th>\n",
       "      <th>deidentified_location</th>\n",
       "    </tr>\n",
       "  </thead>\n",
       "  <tbody>\n",
       "    <tr>\n",
       "      <th>0</th>\n",
       "      <td>2016-01-01 00:00:00</td>\n",
       "      <td>fid_110884</td>\n",
       "      <td>ing_w</td>\n",
       "      <td>0.0</td>\n",
       "      <td>2008.0</td>\n",
       "      <td>NaN</td>\n",
       "      <td>690.455096</td>\n",
       "      <td>Obery Farms</td>\n",
       "      <td>location 7369</td>\n",
       "    </tr>\n",
       "    <tr>\n",
       "      <th>1</th>\n",
       "      <td>2016-01-01 01:00:00</td>\n",
       "      <td>fid_110884</td>\n",
       "      <td>ing_w</td>\n",
       "      <td>0.0</td>\n",
       "      <td>2008.0</td>\n",
       "      <td>NaN</td>\n",
       "      <td>690.455096</td>\n",
       "      <td>Obery Farms</td>\n",
       "      <td>location 7369</td>\n",
       "    </tr>\n",
       "    <tr>\n",
       "      <th>2</th>\n",
       "      <td>2016-01-01 02:00:00</td>\n",
       "      <td>fid_110884</td>\n",
       "      <td>ing_w</td>\n",
       "      <td>0.0</td>\n",
       "      <td>2008.0</td>\n",
       "      <td>NaN</td>\n",
       "      <td>690.455096</td>\n",
       "      <td>Obery Farms</td>\n",
       "      <td>location 7369</td>\n",
       "    </tr>\n",
       "    <tr>\n",
       "      <th>3</th>\n",
       "      <td>2016-01-01 03:00:00</td>\n",
       "      <td>fid_110884</td>\n",
       "      <td>ing_w</td>\n",
       "      <td>0.0</td>\n",
       "      <td>2008.0</td>\n",
       "      <td>NaN</td>\n",
       "      <td>690.455096</td>\n",
       "      <td>Obery Farms</td>\n",
       "      <td>location 7369</td>\n",
       "    </tr>\n",
       "    <tr>\n",
       "      <th>4</th>\n",
       "      <td>2016-01-01 04:00:00</td>\n",
       "      <td>fid_110884</td>\n",
       "      <td>ing_w</td>\n",
       "      <td>0.0</td>\n",
       "      <td>2008.0</td>\n",
       "      <td>NaN</td>\n",
       "      <td>690.455096</td>\n",
       "      <td>Obery Farms</td>\n",
       "      <td>location 7369</td>\n",
       "    </tr>\n",
       "  </tbody>\n",
       "</table>\n",
       "</div>"
      ],
      "text/plain": [
       "             timestamp     farm_id ingredient_type  yield  \\\n",
       "0  2016-01-01 00:00:00  fid_110884           ing_w    0.0   \n",
       "1  2016-01-01 01:00:00  fid_110884           ing_w    0.0   \n",
       "2  2016-01-01 02:00:00  fid_110884           ing_w    0.0   \n",
       "3  2016-01-01 03:00:00  fid_110884           ing_w    0.0   \n",
       "4  2016-01-01 04:00:00  fid_110884           ing_w    0.0   \n",
       "\n",
       "   operations_commencing_year  num_processing_plants   farm_area  \\\n",
       "0                      2008.0                    NaN  690.455096   \n",
       "1                      2008.0                    NaN  690.455096   \n",
       "2                      2008.0                    NaN  690.455096   \n",
       "3                      2008.0                    NaN  690.455096   \n",
       "4                      2008.0                    NaN  690.455096   \n",
       "\n",
       "  farming_company deidentified_location  \n",
       "0     Obery Farms         location 7369  \n",
       "1     Obery Farms         location 7369  \n",
       "2     Obery Farms         location 7369  \n",
       "3     Obery Farms         location 7369  \n",
       "4     Obery Farms         location 7369  "
      ]
     },
     "execution_count": 18,
     "metadata": {},
     "output_type": "execute_result"
    }
   ],
   "source": [
    "new_train_df.head()"
   ]
  },
  {
   "cell_type": "code",
   "execution_count": 19,
   "metadata": {},
   "outputs": [
    {
     "data": {
      "text/html": [
       "<div>\n",
       "<style scoped>\n",
       "    .dataframe tbody tr th:only-of-type {\n",
       "        vertical-align: middle;\n",
       "    }\n",
       "\n",
       "    .dataframe tbody tr th {\n",
       "        vertical-align: top;\n",
       "    }\n",
       "\n",
       "    .dataframe thead th {\n",
       "        text-align: right;\n",
       "    }\n",
       "</style>\n",
       "<table border=\"1\" class=\"dataframe\">\n",
       "  <thead>\n",
       "    <tr style=\"text-align: right;\">\n",
       "      <th></th>\n",
       "      <th>timestamp</th>\n",
       "      <th>farm_id</th>\n",
       "      <th>ingredient_type</th>\n",
       "      <th>yield</th>\n",
       "      <th>operations_commencing_year</th>\n",
       "      <th>num_processing_plants</th>\n",
       "      <th>farm_area</th>\n",
       "      <th>farming_company</th>\n",
       "      <th>deidentified_location</th>\n",
       "    </tr>\n",
       "  </thead>\n",
       "  <tbody>\n",
       "  </tbody>\n",
       "</table>\n",
       "</div>"
      ],
      "text/plain": [
       "Empty DataFrame\n",
       "Columns: [timestamp, farm_id, ingredient_type, yield, operations_commencing_year, num_processing_plants, farm_area, farming_company, deidentified_location]\n",
       "Index: []"
      ]
     },
     "execution_count": 19,
     "metadata": {},
     "output_type": "execute_result"
    }
   ],
   "source": [
    "new_train_df[new_train_df.duplicated()]"
   ]
  },
  {
   "cell_type": "code",
   "execution_count": 20,
   "metadata": {},
   "outputs": [
    {
     "name": "stdout",
     "output_type": "stream",
     "text": [
      "['timestamp', 'deidentified_location']\n"
     ]
    }
   ],
   "source": [
    "common_cols = []\n",
    "for x in new_train_df.columns:\n",
    "    if x in train_weather.columns:\n",
    "        common_cols.append(x)\n",
    "        \n",
    "print(common_cols)"
   ]
  },
  {
   "cell_type": "code",
   "execution_count": 21,
   "metadata": {},
   "outputs": [],
   "source": [
    "train_df = pd.merge(new_train_df,train_weather, on=common_cols, how = 'inner')"
   ]
  },
  {
   "cell_type": "code",
   "execution_count": 22,
   "metadata": {},
   "outputs": [
    {
     "data": {
      "text/plain": [
       "(20511298, 16)"
      ]
     },
     "execution_count": 22,
     "metadata": {},
     "output_type": "execute_result"
    }
   ],
   "source": [
    "train_df.shape"
   ]
  },
  {
   "cell_type": "code",
   "execution_count": 23,
   "metadata": {},
   "outputs": [
    {
     "data": {
      "text/plain": [
       "timestamp                      0.000000\n",
       "farm_id                        0.000000\n",
       "ingredient_type                0.000000\n",
       "yield                          0.000000\n",
       "operations_commencing_year    60.142732\n",
       "num_processing_plants         82.467380\n",
       "farm_area                      0.000000\n",
       "farming_company                0.000000\n",
       "deidentified_location          0.000000\n",
       "temp_obs                       0.030432\n",
       "cloudiness                    43.414230\n",
       "wind_direction                 6.709649\n",
       "dew_temp                       0.047598\n",
       "pressure_sea_level             5.786630\n",
       "precipitation                 18.185568\n",
       "wind_speed                     0.261651\n",
       "dtype: float64"
      ]
     },
     "execution_count": 23,
     "metadata": {},
     "output_type": "execute_result"
    }
   ],
   "source": [
    "train_df.isna().mean()*100"
   ]
  },
  {
   "cell_type": "code",
   "execution_count": 24,
   "metadata": {},
   "outputs": [],
   "source": [
    "train_df['timestamp'] = pd.to_datetime(train_df['timestamp'])\n",
    "train_df = train_df.sort_values(['timestamp'])"
   ]
  },
  {
   "cell_type": "code",
   "execution_count": 25,
   "metadata": {},
   "outputs": [],
   "source": [
    "train_df.drop(['operations_commencing_year', 'num_processing_plants'], axis = 1, inplace = True)"
   ]
  },
  {
   "cell_type": "code",
   "execution_count": 26,
   "metadata": {},
   "outputs": [
    {
     "data": {
      "text/plain": [
       "timestamp                 0.000000\n",
       "farm_id                   0.000000\n",
       "ingredient_type           0.000000\n",
       "yield                     0.000000\n",
       "farm_area                 0.000000\n",
       "farming_company           0.000000\n",
       "deidentified_location     0.000000\n",
       "temp_obs                  0.030432\n",
       "cloudiness               43.414230\n",
       "wind_direction            6.709649\n",
       "dew_temp                  0.047598\n",
       "pressure_sea_level        5.786630\n",
       "precipitation            18.185568\n",
       "wind_speed                0.261651\n",
       "dtype: float64"
      ]
     },
     "execution_count": 26,
     "metadata": {},
     "output_type": "execute_result"
    }
   ],
   "source": [
    "train_df.isna().mean()*100"
   ]
  },
  {
   "cell_type": "code",
   "execution_count": 27,
   "metadata": {},
   "outputs": [
    {
     "data": {
      "text/plain": [
       "Index(['timestamp', 'farm_id', 'ingredient_type', 'yield', 'farm_area',\n",
       "       'farming_company', 'deidentified_location', 'temp_obs', 'cloudiness',\n",
       "       'wind_direction', 'dew_temp', 'pressure_sea_level', 'precipitation',\n",
       "       'wind_speed'],\n",
       "      dtype='object')"
      ]
     },
     "execution_count": 27,
     "metadata": {},
     "output_type": "execute_result"
    }
   ],
   "source": [
    "train_df.columns"
   ]
  },
  {
   "cell_type": "code",
   "execution_count": 28,
   "metadata": {},
   "outputs": [
    {
     "data": {
      "text/plain": [
       "timestamp                datetime64[ns]\n",
       "farm_id                          object\n",
       "ingredient_type                  object\n",
       "yield                           float64\n",
       "farm_area                       float64\n",
       "farming_company                  object\n",
       "deidentified_location            object\n",
       "temp_obs                        float64\n",
       "cloudiness                      float64\n",
       "wind_direction                  float64\n",
       "dew_temp                        float64\n",
       "pressure_sea_level              float64\n",
       "precipitation                   float64\n",
       "wind_speed                      float64\n",
       "dtype: object"
      ]
     },
     "execution_count": 28,
     "metadata": {},
     "output_type": "execute_result"
    }
   ],
   "source": [
    "train_df.dtypes"
   ]
  },
  {
   "cell_type": "code",
   "execution_count": 29,
   "metadata": {},
   "outputs": [
    {
     "data": {
      "text/plain": [
       "5.0"
      ]
     },
     "execution_count": 29,
     "metadata": {},
     "output_type": "execute_result"
    }
   ],
   "source": [
    "train_df['cloudiness'].value_counts().idxmin()"
   ]
  },
  {
   "cell_type": "code",
   "execution_count": 30,
   "metadata": {},
   "outputs": [],
   "source": [
    "train_df[['farm_id', 'ingredient_type', 'farming_company', 'deidentified_location']] = train_df[['farm_id', 'ingredient_type', 'farming_company', 'deidentified_location']].astype('category')"
   ]
  },
  {
   "cell_type": "code",
   "execution_count": 31,
   "metadata": {},
   "outputs": [],
   "source": [
    "float_cols = train_df.select_dtypes('float64').columns\n",
    "train_df[float_cols] = train_df[float_cols].astype('float32')"
   ]
  },
  {
   "cell_type": "code",
   "execution_count": 32,
   "metadata": {},
   "outputs": [
    {
     "data": {
      "text/plain": [
       "timestamp                datetime64[ns]\n",
       "farm_id                        category\n",
       "ingredient_type                category\n",
       "yield                           float32\n",
       "farm_area                       float32\n",
       "farming_company                category\n",
       "deidentified_location          category\n",
       "temp_obs                        float32\n",
       "cloudiness                      float32\n",
       "wind_direction                  float32\n",
       "dew_temp                        float32\n",
       "pressure_sea_level              float32\n",
       "precipitation                   float32\n",
       "wind_speed                      float32\n",
       "dtype: object"
      ]
     },
     "execution_count": 32,
     "metadata": {},
     "output_type": "execute_result"
    }
   ],
   "source": [
    "train_df.dtypes"
   ]
  },
  {
   "cell_type": "code",
   "execution_count": 33,
   "metadata": {},
   "outputs": [
    {
     "data": {
      "text/html": [
       "<div>\n",
       "<style scoped>\n",
       "    .dataframe tbody tr th:only-of-type {\n",
       "        vertical-align: middle;\n",
       "    }\n",
       "\n",
       "    .dataframe tbody tr th {\n",
       "        vertical-align: top;\n",
       "    }\n",
       "\n",
       "    .dataframe thead th {\n",
       "        text-align: right;\n",
       "    }\n",
       "</style>\n",
       "<table border=\"1\" class=\"dataframe\">\n",
       "  <thead>\n",
       "    <tr style=\"text-align: right;\">\n",
       "      <th></th>\n",
       "      <th>timestamp</th>\n",
       "      <th>farm_id</th>\n",
       "      <th>ingredient_type</th>\n",
       "      <th>yield</th>\n",
       "      <th>farm_area</th>\n",
       "      <th>farming_company</th>\n",
       "      <th>deidentified_location</th>\n",
       "      <th>temp_obs</th>\n",
       "      <th>cloudiness</th>\n",
       "      <th>wind_direction</th>\n",
       "      <th>dew_temp</th>\n",
       "      <th>pressure_sea_level</th>\n",
       "      <th>precipitation</th>\n",
       "      <th>wind_speed</th>\n",
       "    </tr>\n",
       "  </thead>\n",
       "  <tbody>\n",
       "    <tr>\n",
       "      <th>0</th>\n",
       "      <td>2016-01-01</td>\n",
       "      <td>fid_110884</td>\n",
       "      <td>ing_w</td>\n",
       "      <td>0.000000</td>\n",
       "      <td>690.455078</td>\n",
       "      <td>Obery Farms</td>\n",
       "      <td>location 7369</td>\n",
       "      <td>25.0</td>\n",
       "      <td>6.0</td>\n",
       "      <td>0.0</td>\n",
       "      <td>20.0</td>\n",
       "      <td>1019.700012</td>\n",
       "      <td>NaN</td>\n",
       "      <td>0.0</td>\n",
       "    </tr>\n",
       "    <tr>\n",
       "      <th>7828412</th>\n",
       "      <td>2016-01-01</td>\n",
       "      <td>fid_92885</td>\n",
       "      <td>ing_w</td>\n",
       "      <td>95.639999</td>\n",
       "      <td>9188.106445</td>\n",
       "      <td>Obery Farms</td>\n",
       "      <td>location 5290</td>\n",
       "      <td>10.0</td>\n",
       "      <td>8.0</td>\n",
       "      <td>350.0</td>\n",
       "      <td>2.2</td>\n",
       "      <td>1021.099976</td>\n",
       "      <td>NaN</td>\n",
       "      <td>4.1</td>\n",
       "    </tr>\n",
       "    <tr>\n",
       "      <th>7828411</th>\n",
       "      <td>2016-01-01</td>\n",
       "      <td>fid_97108</td>\n",
       "      <td>ing_w</td>\n",
       "      <td>214.639999</td>\n",
       "      <td>7900.378418</td>\n",
       "      <td>Obery Farms</td>\n",
       "      <td>location 5290</td>\n",
       "      <td>10.0</td>\n",
       "      <td>8.0</td>\n",
       "      <td>350.0</td>\n",
       "      <td>2.2</td>\n",
       "      <td>1021.099976</td>\n",
       "      <td>NaN</td>\n",
       "      <td>4.1</td>\n",
       "    </tr>\n",
       "    <tr>\n",
       "      <th>7828410</th>\n",
       "      <td>2016-01-01</td>\n",
       "      <td>fid_52171</td>\n",
       "      <td>ing_w</td>\n",
       "      <td>57.770000</td>\n",
       "      <td>6466.048828</td>\n",
       "      <td>Obery Farms</td>\n",
       "      <td>location 5290</td>\n",
       "      <td>10.0</td>\n",
       "      <td>8.0</td>\n",
       "      <td>350.0</td>\n",
       "      <td>2.2</td>\n",
       "      <td>1021.099976</td>\n",
       "      <td>NaN</td>\n",
       "      <td>4.1</td>\n",
       "    </tr>\n",
       "    <tr>\n",
       "      <th>7828409</th>\n",
       "      <td>2016-01-01</td>\n",
       "      <td>fid_120541</td>\n",
       "      <td>ing_w</td>\n",
       "      <td>27.840000</td>\n",
       "      <td>6187.339844</td>\n",
       "      <td>Obery Farms</td>\n",
       "      <td>location 5290</td>\n",
       "      <td>10.0</td>\n",
       "      <td>8.0</td>\n",
       "      <td>350.0</td>\n",
       "      <td>2.2</td>\n",
       "      <td>1021.099976</td>\n",
       "      <td>NaN</td>\n",
       "      <td>4.1</td>\n",
       "    </tr>\n",
       "  </tbody>\n",
       "</table>\n",
       "</div>"
      ],
      "text/plain": [
       "         timestamp     farm_id ingredient_type       yield    farm_area  \\\n",
       "0       2016-01-01  fid_110884           ing_w    0.000000   690.455078   \n",
       "7828412 2016-01-01   fid_92885           ing_w   95.639999  9188.106445   \n",
       "7828411 2016-01-01   fid_97108           ing_w  214.639999  7900.378418   \n",
       "7828410 2016-01-01   fid_52171           ing_w   57.770000  6466.048828   \n",
       "7828409 2016-01-01  fid_120541           ing_w   27.840000  6187.339844   \n",
       "\n",
       "        farming_company deidentified_location  temp_obs  cloudiness  \\\n",
       "0           Obery Farms         location 7369      25.0         6.0   \n",
       "7828412     Obery Farms         location 5290      10.0         8.0   \n",
       "7828411     Obery Farms         location 5290      10.0         8.0   \n",
       "7828410     Obery Farms         location 5290      10.0         8.0   \n",
       "7828409     Obery Farms         location 5290      10.0         8.0   \n",
       "\n",
       "         wind_direction  dew_temp  pressure_sea_level  precipitation  \\\n",
       "0                   0.0      20.0         1019.700012            NaN   \n",
       "7828412           350.0       2.2         1021.099976            NaN   \n",
       "7828411           350.0       2.2         1021.099976            NaN   \n",
       "7828410           350.0       2.2         1021.099976            NaN   \n",
       "7828409           350.0       2.2         1021.099976            NaN   \n",
       "\n",
       "         wind_speed  \n",
       "0               0.0  \n",
       "7828412         4.1  \n",
       "7828411         4.1  \n",
       "7828410         4.1  \n",
       "7828409         4.1  "
      ]
     },
     "execution_count": 33,
     "metadata": {},
     "output_type": "execute_result"
    }
   ],
   "source": [
    "train_df.head()"
   ]
  },
  {
   "cell_type": "code",
   "execution_count": 34,
   "metadata": {},
   "outputs": [
    {
     "data": {
      "text/plain": [
       "['temp_obs',\n",
       " 'cloudiness',\n",
       " 'wind_direction',\n",
       " 'dew_temp',\n",
       " 'pressure_sea_level',\n",
       " 'precipitation',\n",
       " 'wind_speed']"
      ]
     },
     "execution_count": 34,
     "metadata": {},
     "output_type": "execute_result"
    }
   ],
   "source": [
    "float_nulls = list(train_df.columns[7:])\n",
    "float_nulls"
   ]
  },
  {
   "cell_type": "markdown",
   "metadata": {},
   "source": [
    "### Imputing the null values based on the location.\n",
    "* Weather changes from one location to the other, either marginally or largely\n",
    "* Imputing them in this way can help us to represent the data in a better fashion"
   ]
  },
  {
   "cell_type": "code",
   "execution_count": 35,
   "metadata": {
    "scrolled": true
   },
   "outputs": [
    {
     "name": "stdout",
     "output_type": "stream",
     "text": [
      "iter: 1\n",
      "iter: 2\n",
      "iter: 3\n",
      "iter: 4\n",
      "iter: 5\n",
      "iter: 6\n",
      "iter: 7\n",
      "iter: 8\n",
      "iter: 9\n",
      "iter: 10\n",
      "iter: 11\n",
      "iter: 12\n",
      "iter: 13\n",
      "iter: 14\n",
      "iter: 15\n",
      "iter: 16\n",
      "iter: 17\n",
      "iter: 18\n",
      "iter: 19\n",
      "iter: 20\n",
      "iter: 21\n",
      "iter: 22\n",
      "iter: 23\n",
      "iter: 24\n",
      "iter: 25\n",
      "iter: 26\n",
      "iter: 27\n",
      "iter: 28\n",
      "iter: 29\n",
      "iter: 30\n",
      "iter: 31\n",
      "iter: 32\n",
      "iter: 33\n",
      "iter: 34\n",
      "iter: 35\n",
      "iter: 36\n",
      "iter: 37\n",
      "iter: 38\n",
      "iter: 39\n",
      "iter: 40\n",
      "iter: 41\n",
      "iter: 42\n",
      "iter: 43\n",
      "iter: 44\n",
      "iter: 45\n",
      "iter: 46\n",
      "iter: 47\n",
      "iter: 48\n",
      "iter: 49\n",
      "iter: 50\n",
      "iter: 51\n",
      "iter: 52\n",
      "iter: 53\n",
      "iter: 54\n",
      "iter: 55\n",
      "iter: 56\n",
      "iter: 57\n",
      "iter: 58\n",
      "iter: 59\n",
      "iter: 60\n",
      "iter: 61\n",
      "iter: 62\n",
      "iter: 63\n",
      "iter: 64\n",
      "iter: 65\n",
      "iter: 66\n",
      "iter: 67\n",
      "iter: 68\n",
      "iter: 69\n",
      "iter: 70\n",
      "iter: 71\n",
      "iter: 72\n",
      "iter: 73\n",
      "iter: 74\n",
      "iter: 75\n",
      "iter: 76\n",
      "iter: 77\n",
      "iter: 78\n",
      "iter: 79\n",
      "iter: 80\n",
      "iter: 81\n",
      "iter: 82\n",
      "iter: 83\n",
      "iter: 84\n",
      "iter: 85\n",
      "iter: 86\n",
      "iter: 87\n",
      "iter: 88\n",
      "iter: 89\n",
      "iter: 90\n",
      "iter: 91\n",
      "iter: 92\n",
      "iter: 93\n",
      "iter: 94\n",
      "iter: 95\n",
      "iter: 96\n",
      "iter: 97\n",
      "iter: 98\n",
      "iter: 99\n",
      "iter: 100\n",
      "iter: 101\n",
      "iter: 102\n",
      "iter: 103\n",
      "iter: 104\n",
      "iter: 105\n",
      "iter: 106\n",
      "iter: 107\n",
      "iter: 108\n",
      "iter: 109\n",
      "iter: 110\n",
      "iter: 111\n",
      "iter: 112\n",
      "Wall time: 1min 11s\n"
     ]
    }
   ],
   "source": [
    "%%time\n",
    "\n",
    "imputed_values = pd.DataFrame(columns= ['deidentified_location', 'imputed_column', 'imputed_value'])\n",
    "\n",
    "# Atotal of 16*7 = 112 iterations will run in this loop\n",
    "count = 1\n",
    "for x in train_df['deidentified_location'].unique():\n",
    "    for z in float_nulls:\n",
    "            re = train_df[(train_df['deidentified_location'] == x)][z].mean()\n",
    "            \n",
    "            train_df.loc[((train_df['deidentified_location'] == x)), z]=\\\n",
    "            train_df.loc[((train_df['deidentified_location'] == x)), z].fillna(re)\n",
    "            \n",
    "            imputed_values = imputed_values.append(pd.Series([x, z, re],index= imputed_values.columns), ignore_index=True)\n",
    "            print(f'iter: {count}')\n",
    "            count += 1"
   ]
  },
  {
   "cell_type": "code",
   "execution_count": 36,
   "metadata": {},
   "outputs": [
    {
     "data": {
      "text/html": [
       "<div>\n",
       "<style scoped>\n",
       "    .dataframe tbody tr th:only-of-type {\n",
       "        vertical-align: middle;\n",
       "    }\n",
       "\n",
       "    .dataframe tbody tr th {\n",
       "        vertical-align: top;\n",
       "    }\n",
       "\n",
       "    .dataframe thead th {\n",
       "        text-align: right;\n",
       "    }\n",
       "</style>\n",
       "<table border=\"1\" class=\"dataframe\">\n",
       "  <thead>\n",
       "    <tr style=\"text-align: right;\">\n",
       "      <th></th>\n",
       "      <th>deidentified_location</th>\n",
       "      <th>imputed_column</th>\n",
       "      <th>imputed_value</th>\n",
       "    </tr>\n",
       "  </thead>\n",
       "  <tbody>\n",
       "    <tr>\n",
       "      <th>0</th>\n",
       "      <td>location 7369</td>\n",
       "      <td>temp_obs</td>\n",
       "      <td>23.054689</td>\n",
       "    </tr>\n",
       "    <tr>\n",
       "      <th>1</th>\n",
       "      <td>location 7369</td>\n",
       "      <td>cloudiness</td>\n",
       "      <td>3.048423</td>\n",
       "    </tr>\n",
       "    <tr>\n",
       "      <th>2</th>\n",
       "      <td>location 7369</td>\n",
       "      <td>wind_direction</td>\n",
       "      <td>155.227356</td>\n",
       "    </tr>\n",
       "    <tr>\n",
       "      <th>3</th>\n",
       "      <td>location 7369</td>\n",
       "      <td>dew_temp</td>\n",
       "      <td>17.055305</td>\n",
       "    </tr>\n",
       "    <tr>\n",
       "      <th>4</th>\n",
       "      <td>location 7369</td>\n",
       "      <td>pressure_sea_level</td>\n",
       "      <td>1022.635681</td>\n",
       "    </tr>\n",
       "    <tr>\n",
       "      <th>...</th>\n",
       "      <td>...</td>\n",
       "      <td>...</td>\n",
       "      <td>...</td>\n",
       "    </tr>\n",
       "    <tr>\n",
       "      <th>107</th>\n",
       "      <td>location 5150</td>\n",
       "      <td>wind_direction</td>\n",
       "      <td>182.995102</td>\n",
       "    </tr>\n",
       "    <tr>\n",
       "      <th>108</th>\n",
       "      <td>location 5150</td>\n",
       "      <td>dew_temp</td>\n",
       "      <td>5.496694</td>\n",
       "    </tr>\n",
       "    <tr>\n",
       "      <th>109</th>\n",
       "      <td>location 5150</td>\n",
       "      <td>pressure_sea_level</td>\n",
       "      <td>1021.985046</td>\n",
       "    </tr>\n",
       "    <tr>\n",
       "      <th>110</th>\n",
       "      <td>location 5150</td>\n",
       "      <td>precipitation</td>\n",
       "      <td>3.762756</td>\n",
       "    </tr>\n",
       "    <tr>\n",
       "      <th>111</th>\n",
       "      <td>location 5150</td>\n",
       "      <td>wind_speed</td>\n",
       "      <td>3.476883</td>\n",
       "    </tr>\n",
       "  </tbody>\n",
       "</table>\n",
       "<p>112 rows × 3 columns</p>\n",
       "</div>"
      ],
      "text/plain": [
       "    deidentified_location      imputed_column  imputed_value\n",
       "0           location 7369            temp_obs      23.054689\n",
       "1           location 7369          cloudiness       3.048423\n",
       "2           location 7369      wind_direction     155.227356\n",
       "3           location 7369            dew_temp      17.055305\n",
       "4           location 7369  pressure_sea_level    1022.635681\n",
       "..                    ...                 ...            ...\n",
       "107         location 5150      wind_direction     182.995102\n",
       "108         location 5150            dew_temp       5.496694\n",
       "109         location 5150  pressure_sea_level    1021.985046\n",
       "110         location 5150       precipitation       3.762756\n",
       "111         location 5150          wind_speed       3.476883\n",
       "\n",
       "[112 rows x 3 columns]"
      ]
     },
     "execution_count": 36,
     "metadata": {},
     "output_type": "execute_result"
    }
   ],
   "source": [
    "imputed_values"
   ]
  },
  {
   "cell_type": "code",
   "execution_count": 37,
   "metadata": {},
   "outputs": [
    {
     "data": {
      "text/plain": [
       "20394039   NaN\n",
       "20394040   NaN\n",
       "20394042   NaN\n",
       "20394049   NaN\n",
       "20394048   NaN\n",
       "            ..\n",
       "20511192   NaN\n",
       "20511191   NaN\n",
       "20511190   NaN\n",
       "20511189   NaN\n",
       "20511188   NaN\n",
       "Name: cloudiness, Length: 117259, dtype: float32"
      ]
     },
     "execution_count": 37,
     "metadata": {},
     "output_type": "execute_result"
    }
   ],
   "source": [
    "train_df[(train_df['deidentified_location'] == 'location 868')]['cloudiness']"
   ]
  },
  {
   "cell_type": "code",
   "execution_count": 38,
   "metadata": {
    "scrolled": true
   },
   "outputs": [
    {
     "name": "stdout",
     "output_type": "stream",
     "text": [
      "location 4525    359642\n",
      "location 868     117259\n",
      "location 959          0\n",
      "location 8421         0\n",
      "location 7369         0\n",
      "location 7048         0\n",
      "location 6364         0\n",
      "location 5833         0\n",
      "location 5677         0\n",
      "location 565          0\n",
      "location 5489         0\n",
      "location 5410         0\n",
      "location 5290         0\n",
      "location 5150         0\n",
      "location 2532         0\n",
      "location 1784         0\n",
      "Name: deidentified_location, dtype: int64\n",
      "\n",
      "\n",
      "location 6364    819731\n",
      "location 959          0\n",
      "location 868          0\n",
      "location 8421         0\n",
      "location 7369         0\n",
      "location 7048         0\n",
      "location 5833         0\n",
      "location 5677         0\n",
      "location 565          0\n",
      "location 5489         0\n",
      "location 5410         0\n",
      "location 5290         0\n",
      "location 5150         0\n",
      "location 4525         0\n",
      "location 2532         0\n",
      "location 1784         0\n",
      "Name: deidentified_location, dtype: int64\n",
      "\n",
      "\n",
      "location 6364    819731\n",
      "location 959     552034\n",
      "location 7048    323623\n",
      "location 868          0\n",
      "location 8421         0\n",
      "location 7369         0\n",
      "location 5833         0\n",
      "location 5677         0\n",
      "location 565          0\n",
      "location 5489         0\n",
      "location 5410         0\n",
      "location 5290         0\n",
      "location 5150         0\n",
      "location 4525         0\n",
      "location 2532         0\n",
      "location 1784         0\n",
      "Name: deidentified_location, dtype: int64\n",
      "\n",
      "\n"
     ]
    }
   ],
   "source": [
    "print(train_df[train_df['cloudiness'].isna()]['deidentified_location'].value_counts())\n",
    "print('\\n')\n",
    "print(train_df[train_df['pressure_sea_level'].isna()]['deidentified_location'].value_counts())\n",
    "print('\\n')\n",
    "print(train_df[train_df['precipitation'].isna()]['deidentified_location'].value_counts())\n",
    "print('\\n')"
   ]
  },
  {
   "cell_type": "code",
   "execution_count": 39,
   "metadata": {
    "scrolled": true
   },
   "outputs": [
    {
     "name": "stdout",
     "output_type": "stream",
     "text": [
      "3.996% of the total observations are in location 'location 6364' \n",
      "\n",
      "Percentage of null values of all the observations at location 'location 6364'\n",
      "cloudiness              0.0\n",
      "pressure_sea_level    100.0\n",
      "precipitation         100.0\n",
      "dtype: float64\n",
      "*********************************\n",
      "\n",
      "1.753% of the total observations are in location 'location 4525' \n",
      "\n",
      "Percentage of null values of all the observations at location 'location 4525'\n",
      "cloudiness            100.0\n",
      "pressure_sea_level      0.0\n",
      "precipitation           0.0\n",
      "dtype: float64\n",
      "*********************************\n",
      "\n",
      "0.572% of the total observations are in location 'location 868' \n",
      "\n",
      "Percentage of null values of all the observations at location 'location 868'\n",
      "cloudiness            100.0\n",
      "pressure_sea_level      0.0\n",
      "precipitation           0.0\n",
      "dtype: float64\n",
      "*********************************\n",
      "\n",
      "2.691% of the total observations are in location 'location 959' \n",
      "\n",
      "Percentage of null values of all the observations at location 'location 959'\n",
      "cloudiness              0.0\n",
      "pressure_sea_level      0.0\n",
      "precipitation         100.0\n",
      "dtype: float64\n",
      "*********************************\n",
      "\n",
      "1.578% of the total observations are in location 'location 7048' \n",
      "\n",
      "Percentage of null values of all the observations at location 'location 7048'\n",
      "cloudiness              0.0\n",
      "pressure_sea_level      0.0\n",
      "precipitation         100.0\n",
      "dtype: float64\n",
      "*********************************\n",
      "\n"
     ]
    }
   ],
   "source": [
    "null_locs = ['location 6364', 'location 4525', 'location 868', 'location 959', 'location 7048']\n",
    "\n",
    "for x in null_locs:\n",
    "    print(f\"{round(len(train_df[train_df['deidentified_location'] == x])/len(train_df) *100,3)}% of the total observations are in location '{x}' \\n\")\n",
    "    print(f\"Percentage of null values of all the observations at location '{x}'\")    \n",
    "    print(train_df[train_df['deidentified_location'] == x][['cloudiness', 'pressure_sea_level', 'precipitation']].isna().mean()*100)\n",
    "    print('*********************************\\n')\n",
    "    "
   ]
  },
  {
   "cell_type": "markdown",
   "metadata": {},
   "source": [
    "**At a few locations, some of the features have all values as null, for those values, in each feature, I have considered the mean of all the observations.**"
   ]
  },
  {
   "cell_type": "code",
   "execution_count": 40,
   "metadata": {},
   "outputs": [
    {
     "name": "stdout",
     "output_type": "stream",
     "text": [
      "iter: 1\n",
      "iter: 2\n",
      "iter: 3\n",
      "iter: 4\n",
      "iter: 5\n",
      "iter: 6\n",
      "Wall time: 4.35 s\n"
     ]
    }
   ],
   "source": [
    "%%time\n",
    "\n",
    "# I am using only ['cloudiness', 'pressure_sea_level', 'precipitation'] because there are no null values at other locations\n",
    "count = 1\n",
    "for x in null_locs:\n",
    "    for y in ['cloudiness', 'pressure_sea_level', 'precipitation']:\n",
    "            \n",
    "            if sum(train_df.loc[(train_df['deidentified_location'] == x), y].isna()) > 0:\n",
    "            \n",
    "                re = train_df[y].mean()\n",
    "            \n",
    "                train_df.loc[(train_df['deidentified_location'] == x), y] = train_df.loc[(train_df['deidentified_location'] == x), y].fillna(re)\n",
    "            \n",
    "                imputed_values = imputed_values.append(pd.Series([x, y, re],index= imputed_values.columns), ignore_index=True)\n",
    "            \n",
    "                     \n",
    "                print(f'iter: {count}')\n",
    "                count += 1"
   ]
  },
  {
   "cell_type": "code",
   "execution_count": 41,
   "metadata": {},
   "outputs": [
    {
     "data": {
      "text/plain": [
       "timestamp                0.0\n",
       "farm_id                  0.0\n",
       "ingredient_type          0.0\n",
       "yield                    0.0\n",
       "farm_area                0.0\n",
       "farming_company          0.0\n",
       "deidentified_location    0.0\n",
       "temp_obs                 0.0\n",
       "cloudiness               0.0\n",
       "wind_direction           0.0\n",
       "dew_temp                 0.0\n",
       "pressure_sea_level       0.0\n",
       "precipitation            0.0\n",
       "wind_speed               0.0\n",
       "dtype: float64"
      ]
     },
     "execution_count": 41,
     "metadata": {},
     "output_type": "execute_result"
    }
   ],
   "source": [
    "train_df.isna().mean()*100"
   ]
  },
  {
   "cell_type": "code",
   "execution_count": 42,
   "metadata": {},
   "outputs": [
    {
     "data": {
      "text/plain": [
       "timestamp                datetime64[ns]\n",
       "farm_id                        category\n",
       "ingredient_type                category\n",
       "yield                           float32\n",
       "farm_area                       float32\n",
       "farming_company                category\n",
       "deidentified_location          category\n",
       "temp_obs                        float32\n",
       "cloudiness                      float32\n",
       "wind_direction                  float32\n",
       "dew_temp                        float32\n",
       "pressure_sea_level              float32\n",
       "precipitation                   float32\n",
       "wind_speed                      float32\n",
       "dtype: object"
      ]
     },
     "execution_count": 42,
     "metadata": {},
     "output_type": "execute_result"
    }
   ],
   "source": [
    "train_df.dtypes"
   ]
  },
  {
   "cell_type": "markdown",
   "metadata": {},
   "source": [
    "**While imputing with means, a few of the locations which have complete nulls are imputed with nulls and those are saved in the dataframe, removing those nulls**"
   ]
  },
  {
   "cell_type": "code",
   "execution_count": 43,
   "metadata": {},
   "outputs": [
    {
     "data": {
      "text/html": [
       "<div>\n",
       "<style scoped>\n",
       "    .dataframe tbody tr th:only-of-type {\n",
       "        vertical-align: middle;\n",
       "    }\n",
       "\n",
       "    .dataframe tbody tr th {\n",
       "        vertical-align: top;\n",
       "    }\n",
       "\n",
       "    .dataframe thead th {\n",
       "        text-align: right;\n",
       "    }\n",
       "</style>\n",
       "<table border=\"1\" class=\"dataframe\">\n",
       "  <thead>\n",
       "    <tr style=\"text-align: right;\">\n",
       "      <th></th>\n",
       "      <th>deidentified_location</th>\n",
       "      <th>imputed_column</th>\n",
       "      <th>imputed_value</th>\n",
       "    </tr>\n",
       "  </thead>\n",
       "  <tbody>\n",
       "    <tr>\n",
       "      <th>29</th>\n",
       "      <td>location 868</td>\n",
       "      <td>cloudiness</td>\n",
       "      <td>NaN</td>\n",
       "    </tr>\n",
       "    <tr>\n",
       "      <th>36</th>\n",
       "      <td>location 4525</td>\n",
       "      <td>cloudiness</td>\n",
       "      <td>NaN</td>\n",
       "    </tr>\n",
       "    <tr>\n",
       "      <th>47</th>\n",
       "      <td>location 959</td>\n",
       "      <td>precipitation</td>\n",
       "      <td>NaN</td>\n",
       "    </tr>\n",
       "    <tr>\n",
       "      <th>61</th>\n",
       "      <td>location 7048</td>\n",
       "      <td>precipitation</td>\n",
       "      <td>NaN</td>\n",
       "    </tr>\n",
       "    <tr>\n",
       "      <th>81</th>\n",
       "      <td>location 6364</td>\n",
       "      <td>pressure_sea_level</td>\n",
       "      <td>NaN</td>\n",
       "    </tr>\n",
       "    <tr>\n",
       "      <th>82</th>\n",
       "      <td>location 6364</td>\n",
       "      <td>precipitation</td>\n",
       "      <td>NaN</td>\n",
       "    </tr>\n",
       "  </tbody>\n",
       "</table>\n",
       "</div>"
      ],
      "text/plain": [
       "   deidentified_location      imputed_column  imputed_value\n",
       "29          location 868          cloudiness            NaN\n",
       "36         location 4525          cloudiness            NaN\n",
       "47          location 959       precipitation            NaN\n",
       "61         location 7048       precipitation            NaN\n",
       "81         location 6364  pressure_sea_level            NaN\n",
       "82         location 6364       precipitation            NaN"
      ]
     },
     "execution_count": 43,
     "metadata": {},
     "output_type": "execute_result"
    }
   ],
   "source": [
    "null_rows_bool = pd.isnull(imputed_values['imputed_value'])\n",
    "imputed_values[null_rows_bool]"
   ]
  },
  {
   "cell_type": "code",
   "execution_count": 44,
   "metadata": {},
   "outputs": [
    {
     "data": {
      "text/plain": [
       "Int64Index([29, 36, 47, 61, 81, 82], dtype='int64')"
      ]
     },
     "execution_count": 44,
     "metadata": {},
     "output_type": "execute_result"
    }
   ],
   "source": [
    "null_rows = imputed_values[null_rows_bool].index\n",
    "null_rows"
   ]
  },
  {
   "cell_type": "code",
   "execution_count": 45,
   "metadata": {},
   "outputs": [
    {
     "data": {
      "text/html": [
       "<div>\n",
       "<style scoped>\n",
       "    .dataframe tbody tr th:only-of-type {\n",
       "        vertical-align: middle;\n",
       "    }\n",
       "\n",
       "    .dataframe tbody tr th {\n",
       "        vertical-align: top;\n",
       "    }\n",
       "\n",
       "    .dataframe thead th {\n",
       "        text-align: right;\n",
       "    }\n",
       "</style>\n",
       "<table border=\"1\" class=\"dataframe\">\n",
       "  <thead>\n",
       "    <tr style=\"text-align: right;\">\n",
       "      <th></th>\n",
       "      <th>deidentified_location</th>\n",
       "      <th>imputed_column</th>\n",
       "      <th>imputed_value</th>\n",
       "    </tr>\n",
       "  </thead>\n",
       "  <tbody>\n",
       "    <tr>\n",
       "      <th>0</th>\n",
       "      <td>location 7369</td>\n",
       "      <td>temp_obs</td>\n",
       "      <td>23.054689</td>\n",
       "    </tr>\n",
       "    <tr>\n",
       "      <th>1</th>\n",
       "      <td>location 7369</td>\n",
       "      <td>cloudiness</td>\n",
       "      <td>3.048423</td>\n",
       "    </tr>\n",
       "    <tr>\n",
       "      <th>2</th>\n",
       "      <td>location 7369</td>\n",
       "      <td>wind_direction</td>\n",
       "      <td>155.227356</td>\n",
       "    </tr>\n",
       "    <tr>\n",
       "      <th>3</th>\n",
       "      <td>location 7369</td>\n",
       "      <td>dew_temp</td>\n",
       "      <td>17.055305</td>\n",
       "    </tr>\n",
       "    <tr>\n",
       "      <th>4</th>\n",
       "      <td>location 7369</td>\n",
       "      <td>pressure_sea_level</td>\n",
       "      <td>1022.635681</td>\n",
       "    </tr>\n",
       "    <tr>\n",
       "      <th>...</th>\n",
       "      <td>...</td>\n",
       "      <td>...</td>\n",
       "      <td>...</td>\n",
       "    </tr>\n",
       "    <tr>\n",
       "      <th>107</th>\n",
       "      <td>location 6364</td>\n",
       "      <td>precipitation</td>\n",
       "      <td>1.301377</td>\n",
       "    </tr>\n",
       "    <tr>\n",
       "      <th>108</th>\n",
       "      <td>location 4525</td>\n",
       "      <td>cloudiness</td>\n",
       "      <td>1.806017</td>\n",
       "    </tr>\n",
       "    <tr>\n",
       "      <th>109</th>\n",
       "      <td>location 868</td>\n",
       "      <td>cloudiness</td>\n",
       "      <td>1.799751</td>\n",
       "    </tr>\n",
       "    <tr>\n",
       "      <th>110</th>\n",
       "      <td>location 959</td>\n",
       "      <td>precipitation</td>\n",
       "      <td>1.310004</td>\n",
       "    </tr>\n",
       "    <tr>\n",
       "      <th>111</th>\n",
       "      <td>location 7048</td>\n",
       "      <td>precipitation</td>\n",
       "      <td>1.316029</td>\n",
       "    </tr>\n",
       "  </tbody>\n",
       "</table>\n",
       "<p>112 rows × 3 columns</p>\n",
       "</div>"
      ],
      "text/plain": [
       "    deidentified_location      imputed_column  imputed_value\n",
       "0           location 7369            temp_obs      23.054689\n",
       "1           location 7369          cloudiness       3.048423\n",
       "2           location 7369      wind_direction     155.227356\n",
       "3           location 7369            dew_temp      17.055305\n",
       "4           location 7369  pressure_sea_level    1022.635681\n",
       "..                    ...                 ...            ...\n",
       "107         location 6364       precipitation       1.301377\n",
       "108         location 4525          cloudiness       1.806017\n",
       "109          location 868          cloudiness       1.799751\n",
       "110          location 959       precipitation       1.310004\n",
       "111         location 7048       precipitation       1.316029\n",
       "\n",
       "[112 rows x 3 columns]"
      ]
     },
     "execution_count": 45,
     "metadata": {},
     "output_type": "execute_result"
    }
   ],
   "source": [
    "imputed_values.drop(null_rows, axis = 0, inplace = True)\n",
    "imputed_values.reset_index(drop = True, inplace = True)\n",
    "imputed_values"
   ]
  },
  {
   "cell_type": "code",
   "execution_count": 46,
   "metadata": {},
   "outputs": [
    {
     "data": {
      "text/html": [
       "<div>\n",
       "<style scoped>\n",
       "    .dataframe tbody tr th:only-of-type {\n",
       "        vertical-align: middle;\n",
       "    }\n",
       "\n",
       "    .dataframe tbody tr th {\n",
       "        vertical-align: top;\n",
       "    }\n",
       "\n",
       "    .dataframe thead th {\n",
       "        text-align: right;\n",
       "    }\n",
       "</style>\n",
       "<table border=\"1\" class=\"dataframe\">\n",
       "  <thead>\n",
       "    <tr style=\"text-align: right;\">\n",
       "      <th></th>\n",
       "      <th>timestamp</th>\n",
       "      <th>farm_id</th>\n",
       "      <th>ingredient_type</th>\n",
       "      <th>yield</th>\n",
       "      <th>farm_area</th>\n",
       "      <th>farming_company</th>\n",
       "      <th>deidentified_location</th>\n",
       "      <th>temp_obs</th>\n",
       "      <th>cloudiness</th>\n",
       "      <th>wind_direction</th>\n",
       "      <th>dew_temp</th>\n",
       "      <th>pressure_sea_level</th>\n",
       "      <th>precipitation</th>\n",
       "      <th>wind_speed</th>\n",
       "    </tr>\n",
       "  </thead>\n",
       "  <tbody>\n",
       "    <tr>\n",
       "      <th>10261720</th>\n",
       "      <td>2016-12-31 23:00:00</td>\n",
       "      <td>fid_70492</td>\n",
       "      <td>ing_w</td>\n",
       "      <td>30.270000</td>\n",
       "      <td>1047.388428</td>\n",
       "      <td>Sanderson Farms</td>\n",
       "      <td>location 5290</td>\n",
       "      <td>8.9</td>\n",
       "      <td>3.878274</td>\n",
       "      <td>200.000000</td>\n",
       "      <td>-5.6</td>\n",
       "      <td>1015.500000</td>\n",
       "      <td>0.0</td>\n",
       "      <td>6.2</td>\n",
       "    </tr>\n",
       "    <tr>\n",
       "      <th>10261719</th>\n",
       "      <td>2016-12-31 23:00:00</td>\n",
       "      <td>fid_35085</td>\n",
       "      <td>ing_w</td>\n",
       "      <td>85.779999</td>\n",
       "      <td>25204.583984</td>\n",
       "      <td>Obery Farms</td>\n",
       "      <td>location 5290</td>\n",
       "      <td>8.9</td>\n",
       "      <td>3.878274</td>\n",
       "      <td>200.000000</td>\n",
       "      <td>-5.6</td>\n",
       "      <td>1015.500000</td>\n",
       "      <td>0.0</td>\n",
       "      <td>6.2</td>\n",
       "    </tr>\n",
       "    <tr>\n",
       "      <th>10261718</th>\n",
       "      <td>2016-12-31 23:00:00</td>\n",
       "      <td>fid_109740</td>\n",
       "      <td>ing_w</td>\n",
       "      <td>113.500000</td>\n",
       "      <td>8000.806152</td>\n",
       "      <td>Sanderson Farms</td>\n",
       "      <td>location 5290</td>\n",
       "      <td>8.9</td>\n",
       "      <td>3.878274</td>\n",
       "      <td>200.000000</td>\n",
       "      <td>-5.6</td>\n",
       "      <td>1015.500000</td>\n",
       "      <td>0.0</td>\n",
       "      <td>6.2</td>\n",
       "    </tr>\n",
       "    <tr>\n",
       "      <th>10261727</th>\n",
       "      <td>2016-12-31 23:00:00</td>\n",
       "      <td>fid_99209</td>\n",
       "      <td>ing_w</td>\n",
       "      <td>13.850000</td>\n",
       "      <td>129.692581</td>\n",
       "      <td>Sanderson Farms</td>\n",
       "      <td>location 5290</td>\n",
       "      <td>8.9</td>\n",
       "      <td>3.878274</td>\n",
       "      <td>200.000000</td>\n",
       "      <td>-5.6</td>\n",
       "      <td>1015.500000</td>\n",
       "      <td>0.0</td>\n",
       "      <td>6.2</td>\n",
       "    </tr>\n",
       "    <tr>\n",
       "      <th>17455590</th>\n",
       "      <td>2016-12-31 23:00:00</td>\n",
       "      <td>fid_39141</td>\n",
       "      <td>ing_x</td>\n",
       "      <td>67.453201</td>\n",
       "      <td>3546.386230</td>\n",
       "      <td>Wayne Farms</td>\n",
       "      <td>location 8421</td>\n",
       "      <td>24.4</td>\n",
       "      <td>0.000000</td>\n",
       "      <td>116.513313</td>\n",
       "      <td>16.1</td>\n",
       "      <td>1007.900024</td>\n",
       "      <td>0.0</td>\n",
       "      <td>1.5</td>\n",
       "    </tr>\n",
       "  </tbody>\n",
       "</table>\n",
       "</div>"
      ],
      "text/plain": [
       "                   timestamp     farm_id ingredient_type       yield  \\\n",
       "10261720 2016-12-31 23:00:00   fid_70492           ing_w   30.270000   \n",
       "10261719 2016-12-31 23:00:00   fid_35085           ing_w   85.779999   \n",
       "10261718 2016-12-31 23:00:00  fid_109740           ing_w  113.500000   \n",
       "10261727 2016-12-31 23:00:00   fid_99209           ing_w   13.850000   \n",
       "17455590 2016-12-31 23:00:00   fid_39141           ing_x   67.453201   \n",
       "\n",
       "             farm_area  farming_company deidentified_location  temp_obs  \\\n",
       "10261720   1047.388428  Sanderson Farms         location 5290       8.9   \n",
       "10261719  25204.583984      Obery Farms         location 5290       8.9   \n",
       "10261718   8000.806152  Sanderson Farms         location 5290       8.9   \n",
       "10261727    129.692581  Sanderson Farms         location 5290       8.9   \n",
       "17455590   3546.386230      Wayne Farms         location 8421      24.4   \n",
       "\n",
       "          cloudiness  wind_direction  dew_temp  pressure_sea_level  \\\n",
       "10261720    3.878274      200.000000      -5.6         1015.500000   \n",
       "10261719    3.878274      200.000000      -5.6         1015.500000   \n",
       "10261718    3.878274      200.000000      -5.6         1015.500000   \n",
       "10261727    3.878274      200.000000      -5.6         1015.500000   \n",
       "17455590    0.000000      116.513313      16.1         1007.900024   \n",
       "\n",
       "          precipitation  wind_speed  \n",
       "10261720            0.0         6.2  \n",
       "10261719            0.0         6.2  \n",
       "10261718            0.0         6.2  \n",
       "10261727            0.0         6.2  \n",
       "17455590            0.0         1.5  "
      ]
     },
     "execution_count": 46,
     "metadata": {},
     "output_type": "execute_result"
    }
   ],
   "source": [
    "train_df.tail()"
   ]
  },
  {
   "cell_type": "markdown",
   "metadata": {},
   "source": [
    "**Doing some rounding of, to compat with the units of those features.**\n",
    "* Cloudiness should always be in integer form between 0 and 9 (both inclusive).\n",
    "* In the given data, wind_direction is in integer form, so rounding it to the nearest integer."
   ]
  },
  {
   "cell_type": "code",
   "execution_count": 48,
   "metadata": {},
   "outputs": [],
   "source": [
    "for col in ['cloudiness', 'wind_direction']:\n",
    "    train_df[col] = train_df[col].apply(lambda x: round(x,0))"
   ]
  },
  {
   "cell_type": "code",
   "execution_count": 49,
   "metadata": {},
   "outputs": [],
   "source": [
    "for x in ['temp_obs', 'dew_temp', 'pressure_sea_level', 'wind_speed', 'precipitation']:\n",
    "    train_df[x] = train_df[x].apply(lambda x: round(x,1))"
   ]
  },
  {
   "cell_type": "code",
   "execution_count": 50,
   "metadata": {},
   "outputs": [
    {
     "data": {
      "text/html": [
       "<div>\n",
       "<style scoped>\n",
       "    .dataframe tbody tr th:only-of-type {\n",
       "        vertical-align: middle;\n",
       "    }\n",
       "\n",
       "    .dataframe tbody tr th {\n",
       "        vertical-align: top;\n",
       "    }\n",
       "\n",
       "    .dataframe thead th {\n",
       "        text-align: right;\n",
       "    }\n",
       "</style>\n",
       "<table border=\"1\" class=\"dataframe\">\n",
       "  <thead>\n",
       "    <tr style=\"text-align: right;\">\n",
       "      <th></th>\n",
       "      <th>timestamp</th>\n",
       "      <th>farm_id</th>\n",
       "      <th>ingredient_type</th>\n",
       "      <th>yield</th>\n",
       "      <th>farm_area</th>\n",
       "      <th>farming_company</th>\n",
       "      <th>deidentified_location</th>\n",
       "      <th>temp_obs</th>\n",
       "      <th>cloudiness</th>\n",
       "      <th>wind_direction</th>\n",
       "      <th>dew_temp</th>\n",
       "      <th>pressure_sea_level</th>\n",
       "      <th>precipitation</th>\n",
       "      <th>wind_speed</th>\n",
       "    </tr>\n",
       "  </thead>\n",
       "  <tbody>\n",
       "    <tr>\n",
       "      <th>10261720</th>\n",
       "      <td>2016-12-31 23:00:00</td>\n",
       "      <td>fid_70492</td>\n",
       "      <td>ing_w</td>\n",
       "      <td>30.270000</td>\n",
       "      <td>1047.388428</td>\n",
       "      <td>Sanderson Farms</td>\n",
       "      <td>location 5290</td>\n",
       "      <td>8.9</td>\n",
       "      <td>4.0</td>\n",
       "      <td>200.0</td>\n",
       "      <td>-5.6</td>\n",
       "      <td>1015.5</td>\n",
       "      <td>0.0</td>\n",
       "      <td>6.2</td>\n",
       "    </tr>\n",
       "    <tr>\n",
       "      <th>10261719</th>\n",
       "      <td>2016-12-31 23:00:00</td>\n",
       "      <td>fid_35085</td>\n",
       "      <td>ing_w</td>\n",
       "      <td>85.779999</td>\n",
       "      <td>25204.583984</td>\n",
       "      <td>Obery Farms</td>\n",
       "      <td>location 5290</td>\n",
       "      <td>8.9</td>\n",
       "      <td>4.0</td>\n",
       "      <td>200.0</td>\n",
       "      <td>-5.6</td>\n",
       "      <td>1015.5</td>\n",
       "      <td>0.0</td>\n",
       "      <td>6.2</td>\n",
       "    </tr>\n",
       "    <tr>\n",
       "      <th>10261718</th>\n",
       "      <td>2016-12-31 23:00:00</td>\n",
       "      <td>fid_109740</td>\n",
       "      <td>ing_w</td>\n",
       "      <td>113.500000</td>\n",
       "      <td>8000.806152</td>\n",
       "      <td>Sanderson Farms</td>\n",
       "      <td>location 5290</td>\n",
       "      <td>8.9</td>\n",
       "      <td>4.0</td>\n",
       "      <td>200.0</td>\n",
       "      <td>-5.6</td>\n",
       "      <td>1015.5</td>\n",
       "      <td>0.0</td>\n",
       "      <td>6.2</td>\n",
       "    </tr>\n",
       "    <tr>\n",
       "      <th>10261727</th>\n",
       "      <td>2016-12-31 23:00:00</td>\n",
       "      <td>fid_99209</td>\n",
       "      <td>ing_w</td>\n",
       "      <td>13.850000</td>\n",
       "      <td>129.692581</td>\n",
       "      <td>Sanderson Farms</td>\n",
       "      <td>location 5290</td>\n",
       "      <td>8.9</td>\n",
       "      <td>4.0</td>\n",
       "      <td>200.0</td>\n",
       "      <td>-5.6</td>\n",
       "      <td>1015.5</td>\n",
       "      <td>0.0</td>\n",
       "      <td>6.2</td>\n",
       "    </tr>\n",
       "    <tr>\n",
       "      <th>17455590</th>\n",
       "      <td>2016-12-31 23:00:00</td>\n",
       "      <td>fid_39141</td>\n",
       "      <td>ing_x</td>\n",
       "      <td>67.453201</td>\n",
       "      <td>3546.386230</td>\n",
       "      <td>Wayne Farms</td>\n",
       "      <td>location 8421</td>\n",
       "      <td>24.4</td>\n",
       "      <td>0.0</td>\n",
       "      <td>117.0</td>\n",
       "      <td>16.1</td>\n",
       "      <td>1007.9</td>\n",
       "      <td>0.0</td>\n",
       "      <td>1.5</td>\n",
       "    </tr>\n",
       "  </tbody>\n",
       "</table>\n",
       "</div>"
      ],
      "text/plain": [
       "                   timestamp     farm_id ingredient_type       yield  \\\n",
       "10261720 2016-12-31 23:00:00   fid_70492           ing_w   30.270000   \n",
       "10261719 2016-12-31 23:00:00   fid_35085           ing_w   85.779999   \n",
       "10261718 2016-12-31 23:00:00  fid_109740           ing_w  113.500000   \n",
       "10261727 2016-12-31 23:00:00   fid_99209           ing_w   13.850000   \n",
       "17455590 2016-12-31 23:00:00   fid_39141           ing_x   67.453201   \n",
       "\n",
       "             farm_area  farming_company deidentified_location  temp_obs  \\\n",
       "10261720   1047.388428  Sanderson Farms         location 5290       8.9   \n",
       "10261719  25204.583984      Obery Farms         location 5290       8.9   \n",
       "10261718   8000.806152  Sanderson Farms         location 5290       8.9   \n",
       "10261727    129.692581  Sanderson Farms         location 5290       8.9   \n",
       "17455590   3546.386230      Wayne Farms         location 8421      24.4   \n",
       "\n",
       "          cloudiness  wind_direction  dew_temp  pressure_sea_level  \\\n",
       "10261720         4.0           200.0      -5.6              1015.5   \n",
       "10261719         4.0           200.0      -5.6              1015.5   \n",
       "10261718         4.0           200.0      -5.6              1015.5   \n",
       "10261727         4.0           200.0      -5.6              1015.5   \n",
       "17455590         0.0           117.0      16.1              1007.9   \n",
       "\n",
       "          precipitation  wind_speed  \n",
       "10261720            0.0         6.2  \n",
       "10261719            0.0         6.2  \n",
       "10261718            0.0         6.2  \n",
       "10261727            0.0         6.2  \n",
       "17455590            0.0         1.5  "
      ]
     },
     "execution_count": 50,
     "metadata": {},
     "output_type": "execute_result"
    }
   ],
   "source": [
    "train_df.tail()"
   ]
  },
  {
   "cell_type": "markdown",
   "metadata": {},
   "source": [
    "**As we can't directly use the timestamp in building the model, splitting the timestamp into year, month, date and hour, so the caracteristics at a partcular moment are saved.**"
   ]
  },
  {
   "cell_type": "code",
   "execution_count": 51,
   "metadata": {},
   "outputs": [
    {
     "name": "stdout",
     "output_type": "stream",
     "text": [
      "Wall time: 6.46 s\n"
     ]
    }
   ],
   "source": [
    "%%time\n",
    "\n",
    "\n",
    "train_df['year'] = train_df['timestamp'].dt.year\n",
    "\n",
    "train_df['month']=train_df['timestamp'].dt.month\n",
    "\n",
    "train_df['date'] = train_df['timestamp'].dt.day\n",
    "\n",
    "train_df['hour'] = train_df['timestamp'].dt.hour"
   ]
  },
  {
   "cell_type": "code",
   "execution_count": 52,
   "metadata": {},
   "outputs": [
    {
     "name": "stdout",
     "output_type": "stream",
     "text": [
      "[2016]\n",
      "\n",
      "\n",
      "[ 1  2  3  4  5  6  7  8  9 10 11 12]\n",
      "\n",
      "\n",
      "[ 1  2  3  4  5  6  7  8  9 10 11 12 13 14 15 16 17 18 19 20 21 22 23 24\n",
      " 25 26 27 28 29 30 31]\n",
      "\n",
      "\n",
      "[ 0  1  2  3  4  5  6  7  8  9 10 11 12 13 14 15 16 17 18 19 20 21 22 23]\n"
     ]
    }
   ],
   "source": [
    "print(train_df.year.unique())\n",
    "print('\\n')\n",
    "print(train_df.month.unique())\n",
    "print('\\n')\n",
    "print(train_df.date.unique())\n",
    "print('\\n')\n",
    "print(train_df.hour.unique())"
   ]
  },
  {
   "cell_type": "code",
   "execution_count": 53,
   "metadata": {},
   "outputs": [],
   "source": [
    "# The year column doesn't have any variation, so removing it.\n",
    "train_df.drop('year', axis = 1, inplace = True)"
   ]
  },
  {
   "cell_type": "code",
   "execution_count": 54,
   "metadata": {},
   "outputs": [
    {
     "data": {
      "text/plain": [
       "timestamp                0\n",
       "farm_id                  0\n",
       "ingredient_type          0\n",
       "yield                    0\n",
       "farm_area                0\n",
       "farming_company          0\n",
       "deidentified_location    0\n",
       "temp_obs                 0\n",
       "cloudiness               0\n",
       "wind_direction           0\n",
       "dew_temp                 0\n",
       "pressure_sea_level       0\n",
       "precipitation            0\n",
       "wind_speed               0\n",
       "month                    0\n",
       "date                     0\n",
       "hour                     0\n",
       "dtype: int64"
      ]
     },
     "execution_count": 54,
     "metadata": {},
     "output_type": "execute_result"
    }
   ],
   "source": [
    "train_df.isna().sum()"
   ]
  },
  {
   "cell_type": "code",
   "execution_count": 55,
   "metadata": {},
   "outputs": [
    {
     "data": {
      "text/plain": [
       "timestamp                datetime64[ns]\n",
       "farm_id                        category\n",
       "ingredient_type                category\n",
       "yield                           float32\n",
       "farm_area                       float32\n",
       "farming_company                category\n",
       "deidentified_location          category\n",
       "temp_obs                        float64\n",
       "cloudiness                      float64\n",
       "wind_direction                  float64\n",
       "dew_temp                        float64\n",
       "pressure_sea_level              float64\n",
       "precipitation                   float64\n",
       "wind_speed                      float64\n",
       "month                             int64\n",
       "date                              int64\n",
       "hour                              int64\n",
       "dtype: object"
      ]
     },
     "execution_count": 55,
     "metadata": {},
     "output_type": "execute_result"
    }
   ],
   "source": [
    "train_df.dtypes"
   ]
  },
  {
   "cell_type": "markdown",
   "metadata": {},
   "source": [
    "**Reducing the bit size to 32 to decrease the file size.**"
   ]
  },
  {
   "cell_type": "code",
   "execution_count": 56,
   "metadata": {},
   "outputs": [],
   "source": [
    "int_cols = train_df.select_dtypes('int64').columns\n",
    "train_df[int_cols] = train_df[int_cols].astype('int32')"
   ]
  },
  {
   "cell_type": "code",
   "execution_count": 57,
   "metadata": {},
   "outputs": [],
   "source": [
    "float_cols = train_df.select_dtypes('float64').columns\n",
    "train_df[float_cols] = train_df[float_cols].astype('float32')"
   ]
  },
  {
   "cell_type": "code",
   "execution_count": 58,
   "metadata": {},
   "outputs": [
    {
     "data": {
      "text/plain": [
       "timestamp                datetime64[ns]\n",
       "farm_id                        category\n",
       "ingredient_type                category\n",
       "yield                           float32\n",
       "farm_area                       float32\n",
       "farming_company                category\n",
       "deidentified_location          category\n",
       "temp_obs                        float32\n",
       "cloudiness                      float32\n",
       "wind_direction                  float32\n",
       "dew_temp                        float32\n",
       "pressure_sea_level              float32\n",
       "precipitation                   float32\n",
       "wind_speed                      float32\n",
       "month                             int32\n",
       "date                              int32\n",
       "hour                              int32\n",
       "dtype: object"
      ]
     },
     "execution_count": 58,
     "metadata": {},
     "output_type": "execute_result"
    }
   ],
   "source": [
    "train_df.dtypes"
   ]
  },
  {
   "cell_type": "code",
   "execution_count": 59,
   "metadata": {},
   "outputs": [],
   "source": [
    "train_df.drop('timestamp', axis = 1,inplace = True)"
   ]
  },
  {
   "cell_type": "code",
   "execution_count": 60,
   "metadata": {},
   "outputs": [
    {
     "data": {
      "text/plain": [
       "farm_id                  category\n",
       "ingredient_type          category\n",
       "yield                     float32\n",
       "farm_area                 float32\n",
       "farming_company          category\n",
       "deidentified_location    category\n",
       "temp_obs                  float32\n",
       "cloudiness                float32\n",
       "wind_direction            float32\n",
       "dew_temp                  float32\n",
       "pressure_sea_level        float32\n",
       "precipitation             float32\n",
       "wind_speed                float32\n",
       "month                       int32\n",
       "date                        int32\n",
       "hour                        int32\n",
       "dtype: object"
      ]
     },
     "execution_count": 60,
     "metadata": {},
     "output_type": "execute_result"
    }
   ],
   "source": [
    "train_df.dtypes"
   ]
  },
  {
   "cell_type": "markdown",
   "metadata": {},
   "source": [
    "### Saving the dataframes after this preprocessing, so that no need to run this entire code again and again."
   ]
  },
  {
   "cell_type": "code",
   "execution_count": 67,
   "metadata": {},
   "outputs": [
    {
     "name": "stdout",
     "output_type": "stream",
     "text": [
      "Wall time: 4min 2s\n"
     ]
    }
   ],
   "source": [
    "%%time\n",
    "#train_df.to_csv('final_train_data_32bit.csv', index = False)"
   ]
  },
  {
   "cell_type": "code",
   "execution_count": 68,
   "metadata": {},
   "outputs": [],
   "source": [
    "#imputed_values.to_csv('train_imputed_values.csv', index = False)"
   ]
  },
  {
   "cell_type": "code",
   "execution_count": null,
   "metadata": {},
   "outputs": [],
   "source": []
  }
 ],
 "metadata": {
  "kernelspec": {
   "display_name": "Python 3",
   "language": "python",
   "name": "python3"
  },
  "language_info": {
   "codemirror_mode": {
    "name": "ipython",
    "version": 3
   },
   "file_extension": ".py",
   "mimetype": "text/x-python",
   "name": "python",
   "nbconvert_exporter": "python",
   "pygments_lexer": "ipython3",
   "version": "3.8.5"
  }
 },
 "nbformat": 4,
 "nbformat_minor": 4
}
